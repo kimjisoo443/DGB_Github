{
 "cells": [
  {
   "cell_type": "markdown",
   "metadata": {},
   "source": [
    "# 미션풀이\n",
    "\n",
    "- 데이터가 병합된 Merge_Data.csv 를 df2로 선언해 사용\n",
    "- 시각화는 seaborn를 사용하여 시각화\n",
    "\n",
    "- 소매점 판매 데이터의 고객에 대한 분석을 수행하고자 한다."
   ]
  },
  {
   "cell_type": "code",
   "execution_count": 28,
   "metadata": {},
   "outputs": [],
   "source": [
    "import pandas as pd"
   ]
  },
  {
   "cell_type": "code",
   "execution_count": 29,
   "metadata": {},
   "outputs": [],
   "source": [
    "import matplotlib as mpl # 그래프 옵션(글꼴)\n",
    "import matplotlib.pyplot as plt # 그래프 옵션(그래프 축 / 범례 / 제목 / 사이즈)\n",
    "import seaborn as sns # 시각화"
   ]
  },
  {
   "cell_type": "code",
   "execution_count": 30,
   "metadata": {},
   "outputs": [],
   "source": [
    "import plotly.express as px"
   ]
  },
  {
   "cell_type": "code",
   "execution_count": 31,
   "metadata": {},
   "outputs": [
    {
     "data": {
      "text/html": [
       "<div>\n",
       "<style scoped>\n",
       "    .dataframe tbody tr th:only-of-type {\n",
       "        vertical-align: middle;\n",
       "    }\n",
       "\n",
       "    .dataframe tbody tr th {\n",
       "        vertical-align: top;\n",
       "    }\n",
       "\n",
       "    .dataframe thead th {\n",
       "        text-align: right;\n",
       "    }\n",
       "</style>\n",
       "<table border=\"1\" class=\"dataframe\">\n",
       "  <thead>\n",
       "    <tr style=\"text-align: right;\">\n",
       "      <th></th>\n",
       "      <th>Unnamed: 0</th>\n",
       "      <th>회원번호</th>\n",
       "      <th>회원상태</th>\n",
       "      <th>성별</th>\n",
       "      <th>결혼유무</th>\n",
       "      <th>주소</th>\n",
       "      <th>생년</th>\n",
       "      <th>연령</th>\n",
       "      <th>총구매금액</th>\n",
       "      <th>총구매수량</th>\n",
       "      <th>등급2</th>\n",
       "      <th>label</th>\n",
       "      <th>총방문횟수</th>\n",
       "    </tr>\n",
       "  </thead>\n",
       "  <tbody>\n",
       "    <tr>\n",
       "      <th>0</th>\n",
       "      <td>0</td>\n",
       "      <td>2101</td>\n",
       "      <td>정상회원</td>\n",
       "      <td>여</td>\n",
       "      <td>기혼</td>\n",
       "      <td>서울 강북구 미아동 134-</td>\n",
       "      <td>1967</td>\n",
       "      <td>51</td>\n",
       "      <td>1991230.00</td>\n",
       "      <td>382.00</td>\n",
       "      <td>VIP</td>\n",
       "      <td>1</td>\n",
       "      <td>86</td>\n",
       "    </tr>\n",
       "    <tr>\n",
       "      <th>1</th>\n",
       "      <td>1</td>\n",
       "      <td>2102</td>\n",
       "      <td>정상회원</td>\n",
       "      <td>여</td>\n",
       "      <td>NaN</td>\n",
       "      <td>경기 용인시 수지구 동천동</td>\n",
       "      <td>1947</td>\n",
       "      <td>71</td>\n",
       "      <td>2095860.00</td>\n",
       "      <td>472.50</td>\n",
       "      <td>VIP</td>\n",
       "      <td>1</td>\n",
       "      <td>79</td>\n",
       "    </tr>\n",
       "    <tr>\n",
       "      <th>2</th>\n",
       "      <td>2</td>\n",
       "      <td>2103</td>\n",
       "      <td>정상회원</td>\n",
       "      <td>여</td>\n",
       "      <td>기혼</td>\n",
       "      <td>경기 용인시 수지구 동천동</td>\n",
       "      <td>1972</td>\n",
       "      <td>46</td>\n",
       "      <td>8273550.00</td>\n",
       "      <td>1675.40</td>\n",
       "      <td>VIP</td>\n",
       "      <td>1</td>\n",
       "      <td>126</td>\n",
       "    </tr>\n",
       "    <tr>\n",
       "      <th>3</th>\n",
       "      <td>3</td>\n",
       "      <td>2104</td>\n",
       "      <td>정상회원</td>\n",
       "      <td>여</td>\n",
       "      <td>NaN</td>\n",
       "      <td>경기 용인시 수지구 성복동</td>\n",
       "      <td>1969</td>\n",
       "      <td>49</td>\n",
       "      <td>6289495.00</td>\n",
       "      <td>1401.80</td>\n",
       "      <td>VIP</td>\n",
       "      <td>1</td>\n",
       "      <td>125</td>\n",
       "    </tr>\n",
       "    <tr>\n",
       "      <th>4</th>\n",
       "      <td>4</td>\n",
       "      <td>2105</td>\n",
       "      <td>정상회원</td>\n",
       "      <td>여</td>\n",
       "      <td>기혼</td>\n",
       "      <td>경기 용인시 수지구 동천동</td>\n",
       "      <td>1948</td>\n",
       "      <td>70</td>\n",
       "      <td>3067930.00</td>\n",
       "      <td>602.00</td>\n",
       "      <td>VIP</td>\n",
       "      <td>1</td>\n",
       "      <td>57</td>\n",
       "    </tr>\n",
       "    <tr>\n",
       "      <th>...</th>\n",
       "      <td>...</td>\n",
       "      <td>...</td>\n",
       "      <td>...</td>\n",
       "      <td>...</td>\n",
       "      <td>...</td>\n",
       "      <td>...</td>\n",
       "      <td>...</td>\n",
       "      <td>...</td>\n",
       "      <td>...</td>\n",
       "      <td>...</td>\n",
       "      <td>...</td>\n",
       "      <td>...</td>\n",
       "      <td>...</td>\n",
       "    </tr>\n",
       "    <tr>\n",
       "      <th>4280</th>\n",
       "      <td>4280</td>\n",
       "      <td>6492</td>\n",
       "      <td>정상회원</td>\n",
       "      <td>여</td>\n",
       "      <td>미혼</td>\n",
       "      <td>경기 성남시 분당구 판교동</td>\n",
       "      <td>1963</td>\n",
       "      <td>55</td>\n",
       "      <td>51550.00</td>\n",
       "      <td>10.00</td>\n",
       "      <td>일반</td>\n",
       "      <td>1</td>\n",
       "      <td>1</td>\n",
       "    </tr>\n",
       "    <tr>\n",
       "      <th>4281</th>\n",
       "      <td>4281</td>\n",
       "      <td>6493</td>\n",
       "      <td>정상회원</td>\n",
       "      <td>여</td>\n",
       "      <td>기혼</td>\n",
       "      <td>서울 관악구 행운동 1681</td>\n",
       "      <td>1982</td>\n",
       "      <td>36</td>\n",
       "      <td>22500.00</td>\n",
       "      <td>3.00</td>\n",
       "      <td>일반</td>\n",
       "      <td>1</td>\n",
       "      <td>1</td>\n",
       "    </tr>\n",
       "    <tr>\n",
       "      <th>4282</th>\n",
       "      <td>4282</td>\n",
       "      <td>6494</td>\n",
       "      <td>정상회원</td>\n",
       "      <td>남</td>\n",
       "      <td>기혼</td>\n",
       "      <td>경기 성남시 분당구 백현동</td>\n",
       "      <td>1975</td>\n",
       "      <td>43</td>\n",
       "      <td>18500.00</td>\n",
       "      <td>3.00</td>\n",
       "      <td>일반</td>\n",
       "      <td>1</td>\n",
       "      <td>1</td>\n",
       "    </tr>\n",
       "    <tr>\n",
       "      <th>4283</th>\n",
       "      <td>4283</td>\n",
       "      <td>6495</td>\n",
       "      <td>정상회원</td>\n",
       "      <td>여</td>\n",
       "      <td>기혼</td>\n",
       "      <td>서울 용산구 한남동 737-</td>\n",
       "      <td>1961</td>\n",
       "      <td>57</td>\n",
       "      <td>5300.00</td>\n",
       "      <td>1.00</td>\n",
       "      <td>일반</td>\n",
       "      <td>1</td>\n",
       "      <td>1</td>\n",
       "    </tr>\n",
       "    <tr>\n",
       "      <th>4284</th>\n",
       "      <td>4284</td>\n",
       "      <td>6496</td>\n",
       "      <td>정상회원</td>\n",
       "      <td>여</td>\n",
       "      <td>미혼</td>\n",
       "      <td>경기 수원시 영통구 이의동</td>\n",
       "      <td>1971</td>\n",
       "      <td>47</td>\n",
       "      <td>69220.00</td>\n",
       "      <td>8.00</td>\n",
       "      <td>일반</td>\n",
       "      <td>1</td>\n",
       "      <td>1</td>\n",
       "    </tr>\n",
       "  </tbody>\n",
       "</table>\n",
       "<p>4285 rows × 13 columns</p>\n",
       "</div>"
      ],
      "text/plain": [
       "      Unnamed: 0  회원번호  회원상태 성별 결혼유무               주소    생년  연령      총구매금액  \\\n",
       "0              0  2101  정상회원  여   기혼  서울 강북구 미아동 134-  1967  51 1991230.00   \n",
       "1              1  2102  정상회원  여  NaN   경기 용인시 수지구 동천동  1947  71 2095860.00   \n",
       "2              2  2103  정상회원  여   기혼   경기 용인시 수지구 동천동  1972  46 8273550.00   \n",
       "3              3  2104  정상회원  여  NaN   경기 용인시 수지구 성복동  1969  49 6289495.00   \n",
       "4              4  2105  정상회원  여   기혼   경기 용인시 수지구 동천동  1948  70 3067930.00   \n",
       "...          ...   ...   ... ..  ...              ...   ...  ..        ...   \n",
       "4280        4280  6492  정상회원  여   미혼   경기 성남시 분당구 판교동  1963  55   51550.00   \n",
       "4281        4281  6493  정상회원  여   기혼  서울 관악구 행운동 1681  1982  36   22500.00   \n",
       "4282        4282  6494  정상회원  남   기혼   경기 성남시 분당구 백현동  1975  43   18500.00   \n",
       "4283        4283  6495  정상회원  여   기혼  서울 용산구 한남동 737-  1961  57    5300.00   \n",
       "4284        4284  6496  정상회원  여   미혼   경기 수원시 영통구 이의동  1971  47   69220.00   \n",
       "\n",
       "       총구매수량  등급2  label  총방문횟수  \n",
       "0     382.00  VIP      1     86  \n",
       "1     472.50  VIP      1     79  \n",
       "2    1675.40  VIP      1    126  \n",
       "3    1401.80  VIP      1    125  \n",
       "4     602.00  VIP      1     57  \n",
       "...      ...  ...    ...    ...  \n",
       "4280   10.00   일반      1      1  \n",
       "4281    3.00   일반      1      1  \n",
       "4282    3.00   일반      1      1  \n",
       "4283    1.00   일반      1      1  \n",
       "4284    8.00   일반      1      1  \n",
       "\n",
       "[4285 rows x 13 columns]"
      ]
     },
     "execution_count": 31,
     "metadata": {},
     "output_type": "execute_result"
    }
   ],
   "source": [
    "df2 = pd.read_csv('Merge_Data.csv')\n",
    "df2"
   ]
  },
  {
   "cell_type": "markdown",
   "metadata": {},
   "source": [
    "## 1. 앞서 병합한 df2 데이터를 이용해, '총구매금액'이 높은 상위 100명의 고객 명단을 추출하여, result_member_vip.xlsx로 저장 하시오. "
   ]
  },
  {
   "cell_type": "code",
   "execution_count": 32,
   "metadata": {},
   "outputs": [
    {
     "name": "stderr",
     "output_type": "stream",
     "text": [
      "<ipython-input-32-bf7741b36d73>:2: UserWarning:\n",
      "\n",
      "Pandas requires version '1.4.3' or newer of 'xlsxwriter' (version '1.2.9' currently installed).\n",
      "\n"
     ]
    }
   ],
   "source": [
    "vip = df2.sort_values(by='총구매금액', ascending=False).head(100)\n",
    "vip.to_excel(\"result_member_vip.xlsx\")"
   ]
  },
  {
   "cell_type": "markdown",
   "metadata": {},
   "source": [
    "## 2. 회원 '성별'에 따른 '총구매금액'의 합을 비교하고자 한다. '성별' 별 '총구매금액'의 합을 Table로 계산하시오."
   ]
  },
  {
   "cell_type": "code",
   "execution_count": 33,
   "metadata": {},
   "outputs": [
    {
     "data": {
      "text/html": [
       "<div>\n",
       "<style scoped>\n",
       "    .dataframe tbody tr th:only-of-type {\n",
       "        vertical-align: middle;\n",
       "    }\n",
       "\n",
       "    .dataframe tbody tr th {\n",
       "        vertical-align: top;\n",
       "    }\n",
       "\n",
       "    .dataframe thead th {\n",
       "        text-align: right;\n",
       "    }\n",
       "</style>\n",
       "<table border=\"1\" class=\"dataframe\">\n",
       "  <thead>\n",
       "    <tr style=\"text-align: right;\">\n",
       "      <th></th>\n",
       "      <th>총구매금액</th>\n",
       "    </tr>\n",
       "    <tr>\n",
       "      <th>성별</th>\n",
       "      <th></th>\n",
       "    </tr>\n",
       "  </thead>\n",
       "  <tbody>\n",
       "    <tr>\n",
       "      <th>남</th>\n",
       "      <td>250926387.00</td>\n",
       "    </tr>\n",
       "    <tr>\n",
       "      <th>여</th>\n",
       "      <td>3925957601.00</td>\n",
       "    </tr>\n",
       "  </tbody>\n",
       "</table>\n",
       "</div>"
      ],
      "text/plain": [
       "           총구매금액\n",
       "성별              \n",
       "남   250926387.00\n",
       "여  3925957601.00"
      ]
     },
     "execution_count": 33,
     "metadata": {},
     "output_type": "execute_result"
    }
   ],
   "source": [
    "p1 = df2.pivot_table(index = '성별',\n",
    "               values = '총구매금액',\n",
    "               aggfunc='sum')\n",
    "pd.options.display.float_format = '{:.2f}'.format\n",
    "p1"
   ]
  },
  {
   "cell_type": "markdown",
   "metadata": {},
   "source": [
    "## 3. '결혼유무'에서 '기혼'에 해당하는 고객들 중 '총방문횟수'가 높은 상위 30명의 고객명단을 확인 하시오."
   ]
  },
  {
   "cell_type": "code",
   "execution_count": 34,
   "metadata": {},
   "outputs": [
    {
     "data": {
      "text/html": [
       "<div>\n",
       "<style scoped>\n",
       "    .dataframe tbody tr th:only-of-type {\n",
       "        vertical-align: middle;\n",
       "    }\n",
       "\n",
       "    .dataframe tbody tr th {\n",
       "        vertical-align: top;\n",
       "    }\n",
       "\n",
       "    .dataframe thead th {\n",
       "        text-align: right;\n",
       "    }\n",
       "</style>\n",
       "<table border=\"1\" class=\"dataframe\">\n",
       "  <thead>\n",
       "    <tr style=\"text-align: right;\">\n",
       "      <th></th>\n",
       "      <th>Unnamed: 0</th>\n",
       "      <th>회원번호</th>\n",
       "      <th>회원상태</th>\n",
       "      <th>성별</th>\n",
       "      <th>결혼유무</th>\n",
       "      <th>주소</th>\n",
       "      <th>생년</th>\n",
       "      <th>연령</th>\n",
       "      <th>총구매금액</th>\n",
       "      <th>총구매수량</th>\n",
       "      <th>등급2</th>\n",
       "      <th>label</th>\n",
       "      <th>총방문횟수</th>\n",
       "    </tr>\n",
       "  </thead>\n",
       "  <tbody>\n",
       "    <tr>\n",
       "      <th>39</th>\n",
       "      <td>39</td>\n",
       "      <td>2141</td>\n",
       "      <td>정상회원</td>\n",
       "      <td>여</td>\n",
       "      <td>기혼</td>\n",
       "      <td>경기 용인시 수지구 풍덕천2</td>\n",
       "      <td>1968</td>\n",
       "      <td>50</td>\n",
       "      <td>15302800.00</td>\n",
       "      <td>2896.70</td>\n",
       "      <td>VIP</td>\n",
       "      <td>1</td>\n",
       "      <td>173</td>\n",
       "    </tr>\n",
       "    <tr>\n",
       "      <th>3645</th>\n",
       "      <td>3645</td>\n",
       "      <td>5856</td>\n",
       "      <td>탈퇴</td>\n",
       "      <td>여</td>\n",
       "      <td>기혼</td>\n",
       "      <td>경기 용인시 수지구 신봉동</td>\n",
       "      <td>1972</td>\n",
       "      <td>46</td>\n",
       "      <td>21217470.00</td>\n",
       "      <td>4006.96</td>\n",
       "      <td>VIP</td>\n",
       "      <td>1</td>\n",
       "      <td>172</td>\n",
       "    </tr>\n",
       "    <tr>\n",
       "      <th>2441</th>\n",
       "      <td>2441</td>\n",
       "      <td>4649</td>\n",
       "      <td>탈퇴</td>\n",
       "      <td>여</td>\n",
       "      <td>기혼</td>\n",
       "      <td>경기 용인시 수지구 풍덕천2</td>\n",
       "      <td>1972</td>\n",
       "      <td>46</td>\n",
       "      <td>16471290.00</td>\n",
       "      <td>3447.20</td>\n",
       "      <td>VIP</td>\n",
       "      <td>1</td>\n",
       "      <td>171</td>\n",
       "    </tr>\n",
       "    <tr>\n",
       "      <th>2857</th>\n",
       "      <td>2857</td>\n",
       "      <td>5068</td>\n",
       "      <td>탈퇴</td>\n",
       "      <td>여</td>\n",
       "      <td>기혼</td>\n",
       "      <td>경기 용인시 수지구 동천동</td>\n",
       "      <td>1971</td>\n",
       "      <td>47</td>\n",
       "      <td>21285710.00</td>\n",
       "      <td>4180.50</td>\n",
       "      <td>VIP</td>\n",
       "      <td>1</td>\n",
       "      <td>170</td>\n",
       "    </tr>\n",
       "    <tr>\n",
       "      <th>1928</th>\n",
       "      <td>1928</td>\n",
       "      <td>4135</td>\n",
       "      <td>탈퇴</td>\n",
       "      <td>여</td>\n",
       "      <td>기혼</td>\n",
       "      <td>경기 용인시 수지구 신봉동</td>\n",
       "      <td>1969</td>\n",
       "      <td>49</td>\n",
       "      <td>18381620.00</td>\n",
       "      <td>3219.43</td>\n",
       "      <td>VIP</td>\n",
       "      <td>1</td>\n",
       "      <td>170</td>\n",
       "    </tr>\n",
       "    <tr>\n",
       "      <th>156</th>\n",
       "      <td>156</td>\n",
       "      <td>2277</td>\n",
       "      <td>정상회원</td>\n",
       "      <td>여</td>\n",
       "      <td>기혼</td>\n",
       "      <td>경기 용인시 수지구 풍덕천2</td>\n",
       "      <td>1971</td>\n",
       "      <td>47</td>\n",
       "      <td>21950630.00</td>\n",
       "      <td>4425.70</td>\n",
       "      <td>VIP</td>\n",
       "      <td>1</td>\n",
       "      <td>170</td>\n",
       "    </tr>\n",
       "    <tr>\n",
       "      <th>142</th>\n",
       "      <td>142</td>\n",
       "      <td>2260</td>\n",
       "      <td>정상회원</td>\n",
       "      <td>여</td>\n",
       "      <td>기혼</td>\n",
       "      <td>경기 용인시 수지구 풍덕천동</td>\n",
       "      <td>1977</td>\n",
       "      <td>41</td>\n",
       "      <td>18681595.00</td>\n",
       "      <td>3870.15</td>\n",
       "      <td>VIP</td>\n",
       "      <td>1</td>\n",
       "      <td>169</td>\n",
       "    </tr>\n",
       "    <tr>\n",
       "      <th>166</th>\n",
       "      <td>166</td>\n",
       "      <td>2288</td>\n",
       "      <td>정상회원</td>\n",
       "      <td>여</td>\n",
       "      <td>기혼</td>\n",
       "      <td>경기 용인시 수지구 풍덕천동</td>\n",
       "      <td>1968</td>\n",
       "      <td>50</td>\n",
       "      <td>17170370.00</td>\n",
       "      <td>2921.50</td>\n",
       "      <td>VIP</td>\n",
       "      <td>1</td>\n",
       "      <td>166</td>\n",
       "    </tr>\n",
       "    <tr>\n",
       "      <th>103</th>\n",
       "      <td>103</td>\n",
       "      <td>2214</td>\n",
       "      <td>정상회원</td>\n",
       "      <td>여</td>\n",
       "      <td>기혼</td>\n",
       "      <td>경기 용인시 수지구 풍덕천2</td>\n",
       "      <td>1976</td>\n",
       "      <td>42</td>\n",
       "      <td>14895300.00</td>\n",
       "      <td>2986.40</td>\n",
       "      <td>VIP</td>\n",
       "      <td>1</td>\n",
       "      <td>162</td>\n",
       "    </tr>\n",
       "    <tr>\n",
       "      <th>372</th>\n",
       "      <td>372</td>\n",
       "      <td>2521</td>\n",
       "      <td>정상회원</td>\n",
       "      <td>여</td>\n",
       "      <td>기혼</td>\n",
       "      <td>경기 용인시 수지구 신봉동</td>\n",
       "      <td>1974</td>\n",
       "      <td>44</td>\n",
       "      <td>13609730.00</td>\n",
       "      <td>2985.55</td>\n",
       "      <td>VIP</td>\n",
       "      <td>1</td>\n",
       "      <td>161</td>\n",
       "    </tr>\n",
       "    <tr>\n",
       "      <th>202</th>\n",
       "      <td>202</td>\n",
       "      <td>2329</td>\n",
       "      <td>정상회원</td>\n",
       "      <td>여</td>\n",
       "      <td>기혼</td>\n",
       "      <td>경기 용인시 수지구 풍덕천2</td>\n",
       "      <td>1962</td>\n",
       "      <td>56</td>\n",
       "      <td>5575655.00</td>\n",
       "      <td>1280.60</td>\n",
       "      <td>VIP</td>\n",
       "      <td>1</td>\n",
       "      <td>160</td>\n",
       "    </tr>\n",
       "    <tr>\n",
       "      <th>113</th>\n",
       "      <td>113</td>\n",
       "      <td>2229</td>\n",
       "      <td>정상회원</td>\n",
       "      <td>여</td>\n",
       "      <td>기혼</td>\n",
       "      <td>경기 용인시 수지구 풍덕천동</td>\n",
       "      <td>1976</td>\n",
       "      <td>42</td>\n",
       "      <td>13395720.00</td>\n",
       "      <td>2647.50</td>\n",
       "      <td>VIP</td>\n",
       "      <td>1</td>\n",
       "      <td>159</td>\n",
       "    </tr>\n",
       "    <tr>\n",
       "      <th>233</th>\n",
       "      <td>233</td>\n",
       "      <td>2363</td>\n",
       "      <td>정상회원</td>\n",
       "      <td>여</td>\n",
       "      <td>기혼</td>\n",
       "      <td>경기 용인시 수지구 풍덕천동</td>\n",
       "      <td>1971</td>\n",
       "      <td>47</td>\n",
       "      <td>10033855.00</td>\n",
       "      <td>2088.85</td>\n",
       "      <td>VIP</td>\n",
       "      <td>1</td>\n",
       "      <td>158</td>\n",
       "    </tr>\n",
       "    <tr>\n",
       "      <th>479</th>\n",
       "      <td>479</td>\n",
       "      <td>2637</td>\n",
       "      <td>탈퇴</td>\n",
       "      <td>남</td>\n",
       "      <td>기혼</td>\n",
       "      <td>서울 중구 장충동1가 31-</td>\n",
       "      <td>1983</td>\n",
       "      <td>35</td>\n",
       "      <td>19646542.00</td>\n",
       "      <td>3566.35</td>\n",
       "      <td>VIP</td>\n",
       "      <td>1</td>\n",
       "      <td>156</td>\n",
       "    </tr>\n",
       "    <tr>\n",
       "      <th>1012</th>\n",
       "      <td>1012</td>\n",
       "      <td>3203</td>\n",
       "      <td>탈퇴</td>\n",
       "      <td>여</td>\n",
       "      <td>기혼</td>\n",
       "      <td>경기 용인시 수지구 동천동</td>\n",
       "      <td>1970</td>\n",
       "      <td>48</td>\n",
       "      <td>13786410.00</td>\n",
       "      <td>2785.40</td>\n",
       "      <td>VIP</td>\n",
       "      <td>1</td>\n",
       "      <td>155</td>\n",
       "    </tr>\n",
       "    <tr>\n",
       "      <th>307</th>\n",
       "      <td>307</td>\n",
       "      <td>2449</td>\n",
       "      <td>정상회원</td>\n",
       "      <td>여</td>\n",
       "      <td>기혼</td>\n",
       "      <td>경기 용인시 수지구 풍덕천2</td>\n",
       "      <td>1973</td>\n",
       "      <td>45</td>\n",
       "      <td>8853580.00</td>\n",
       "      <td>2048.35</td>\n",
       "      <td>VIP</td>\n",
       "      <td>1</td>\n",
       "      <td>153</td>\n",
       "    </tr>\n",
       "    <tr>\n",
       "      <th>144</th>\n",
       "      <td>144</td>\n",
       "      <td>2263</td>\n",
       "      <td>정상회원</td>\n",
       "      <td>여</td>\n",
       "      <td>기혼</td>\n",
       "      <td>경기 용인시 수지구 풍덕천2</td>\n",
       "      <td>1967</td>\n",
       "      <td>51</td>\n",
       "      <td>11917750.00</td>\n",
       "      <td>2279.30</td>\n",
       "      <td>VIP</td>\n",
       "      <td>1</td>\n",
       "      <td>152</td>\n",
       "    </tr>\n",
       "    <tr>\n",
       "      <th>692</th>\n",
       "      <td>692</td>\n",
       "      <td>2871</td>\n",
       "      <td>정상회원</td>\n",
       "      <td>여</td>\n",
       "      <td>기혼</td>\n",
       "      <td>경기 용인시 수지구 성복동</td>\n",
       "      <td>1970</td>\n",
       "      <td>48</td>\n",
       "      <td>15670140.00</td>\n",
       "      <td>2834.65</td>\n",
       "      <td>VIP</td>\n",
       "      <td>1</td>\n",
       "      <td>152</td>\n",
       "    </tr>\n",
       "    <tr>\n",
       "      <th>262</th>\n",
       "      <td>262</td>\n",
       "      <td>2397</td>\n",
       "      <td>정상회원</td>\n",
       "      <td>여</td>\n",
       "      <td>기혼</td>\n",
       "      <td>경기 용인시 수지구 풍덕천2</td>\n",
       "      <td>1969</td>\n",
       "      <td>49</td>\n",
       "      <td>9319260.00</td>\n",
       "      <td>1687.80</td>\n",
       "      <td>VIP</td>\n",
       "      <td>1</td>\n",
       "      <td>152</td>\n",
       "    </tr>\n",
       "    <tr>\n",
       "      <th>186</th>\n",
       "      <td>186</td>\n",
       "      <td>2310</td>\n",
       "      <td>정상회원</td>\n",
       "      <td>여</td>\n",
       "      <td>기혼</td>\n",
       "      <td>경기 용인시 수지구 풍덕천2</td>\n",
       "      <td>1975</td>\n",
       "      <td>43</td>\n",
       "      <td>8750730.00</td>\n",
       "      <td>1686.00</td>\n",
       "      <td>VIP</td>\n",
       "      <td>1</td>\n",
       "      <td>151</td>\n",
       "    </tr>\n",
       "    <tr>\n",
       "      <th>806</th>\n",
       "      <td>806</td>\n",
       "      <td>2992</td>\n",
       "      <td>정상회원</td>\n",
       "      <td>여</td>\n",
       "      <td>기혼</td>\n",
       "      <td>경기 용인시 수지구 풍덕천동</td>\n",
       "      <td>1969</td>\n",
       "      <td>49</td>\n",
       "      <td>9183600.00</td>\n",
       "      <td>1900.20</td>\n",
       "      <td>VIP</td>\n",
       "      <td>1</td>\n",
       "      <td>149</td>\n",
       "    </tr>\n",
       "    <tr>\n",
       "      <th>2698</th>\n",
       "      <td>2698</td>\n",
       "      <td>4909</td>\n",
       "      <td>탈퇴</td>\n",
       "      <td>여</td>\n",
       "      <td>기혼</td>\n",
       "      <td>경기 용인시 수지구 풍덕천2</td>\n",
       "      <td>1979</td>\n",
       "      <td>39</td>\n",
       "      <td>5655670.00</td>\n",
       "      <td>1426.30</td>\n",
       "      <td>VIP</td>\n",
       "      <td>1</td>\n",
       "      <td>147</td>\n",
       "    </tr>\n",
       "    <tr>\n",
       "      <th>3487</th>\n",
       "      <td>3487</td>\n",
       "      <td>5698</td>\n",
       "      <td>탈퇴</td>\n",
       "      <td>여</td>\n",
       "      <td>기혼</td>\n",
       "      <td>경기 용인시 수지구 신봉동</td>\n",
       "      <td>1973</td>\n",
       "      <td>45</td>\n",
       "      <td>9511415.00</td>\n",
       "      <td>2024.37</td>\n",
       "      <td>VIP</td>\n",
       "      <td>1</td>\n",
       "      <td>146</td>\n",
       "    </tr>\n",
       "    <tr>\n",
       "      <th>9</th>\n",
       "      <td>9</td>\n",
       "      <td>2110</td>\n",
       "      <td>정상회원</td>\n",
       "      <td>여</td>\n",
       "      <td>기혼</td>\n",
       "      <td>경기 용인시 수지구 신봉동</td>\n",
       "      <td>1965</td>\n",
       "      <td>53</td>\n",
       "      <td>5549725.00</td>\n",
       "      <td>1204.10</td>\n",
       "      <td>VIP</td>\n",
       "      <td>1</td>\n",
       "      <td>145</td>\n",
       "    </tr>\n",
       "    <tr>\n",
       "      <th>6</th>\n",
       "      <td>6</td>\n",
       "      <td>2107</td>\n",
       "      <td>정상회원</td>\n",
       "      <td>여</td>\n",
       "      <td>기혼</td>\n",
       "      <td>경기 용인시 수지구 신봉동</td>\n",
       "      <td>1941</td>\n",
       "      <td>77</td>\n",
       "      <td>7161860.00</td>\n",
       "      <td>1419.75</td>\n",
       "      <td>VIP</td>\n",
       "      <td>1</td>\n",
       "      <td>143</td>\n",
       "    </tr>\n",
       "    <tr>\n",
       "      <th>297</th>\n",
       "      <td>297</td>\n",
       "      <td>2437</td>\n",
       "      <td>정상회원</td>\n",
       "      <td>여</td>\n",
       "      <td>기혼</td>\n",
       "      <td>경기 용인시 수지구 풍덕천1</td>\n",
       "      <td>1973</td>\n",
       "      <td>45</td>\n",
       "      <td>5653580.00</td>\n",
       "      <td>1135.10</td>\n",
       "      <td>VIP</td>\n",
       "      <td>1</td>\n",
       "      <td>139</td>\n",
       "    </tr>\n",
       "    <tr>\n",
       "      <th>2199</th>\n",
       "      <td>2199</td>\n",
       "      <td>4406</td>\n",
       "      <td>탈퇴</td>\n",
       "      <td>여</td>\n",
       "      <td>기혼</td>\n",
       "      <td>경기 용인시 수지구 신봉동</td>\n",
       "      <td>1977</td>\n",
       "      <td>41</td>\n",
       "      <td>12824280.00</td>\n",
       "      <td>2831.30</td>\n",
       "      <td>VIP</td>\n",
       "      <td>1</td>\n",
       "      <td>139</td>\n",
       "    </tr>\n",
       "    <tr>\n",
       "      <th>1421</th>\n",
       "      <td>1421</td>\n",
       "      <td>3626</td>\n",
       "      <td>탈퇴</td>\n",
       "      <td>여</td>\n",
       "      <td>기혼</td>\n",
       "      <td>경기 용인시 수지구 신봉동</td>\n",
       "      <td>1971</td>\n",
       "      <td>47</td>\n",
       "      <td>9143295.00</td>\n",
       "      <td>1775.23</td>\n",
       "      <td>VIP</td>\n",
       "      <td>1</td>\n",
       "      <td>138</td>\n",
       "    </tr>\n",
       "    <tr>\n",
       "      <th>707</th>\n",
       "      <td>707</td>\n",
       "      <td>2887</td>\n",
       "      <td>정상회원</td>\n",
       "      <td>여</td>\n",
       "      <td>기혼</td>\n",
       "      <td>경기 용인시 수지구 풍덕천동</td>\n",
       "      <td>1980</td>\n",
       "      <td>38</td>\n",
       "      <td>4713990.00</td>\n",
       "      <td>1144.10</td>\n",
       "      <td>VIP</td>\n",
       "      <td>1</td>\n",
       "      <td>137</td>\n",
       "    </tr>\n",
       "    <tr>\n",
       "      <th>130</th>\n",
       "      <td>130</td>\n",
       "      <td>2246</td>\n",
       "      <td>정상회원</td>\n",
       "      <td>여</td>\n",
       "      <td>기혼</td>\n",
       "      <td>경기 용인시 수지구 풍덕천동</td>\n",
       "      <td>1978</td>\n",
       "      <td>40</td>\n",
       "      <td>7963710.00</td>\n",
       "      <td>1684.00</td>\n",
       "      <td>VIP</td>\n",
       "      <td>1</td>\n",
       "      <td>136</td>\n",
       "    </tr>\n",
       "  </tbody>\n",
       "</table>\n",
       "</div>"
      ],
      "text/plain": [
       "      Unnamed: 0  회원번호  회원상태 성별 결혼유무               주소    생년  연령       총구매금액  \\\n",
       "39            39  2141  정상회원  여   기혼  경기 용인시 수지구 풍덕천2  1968  50 15302800.00   \n",
       "3645        3645  5856    탈퇴  여   기혼   경기 용인시 수지구 신봉동  1972  46 21217470.00   \n",
       "2441        2441  4649    탈퇴  여   기혼  경기 용인시 수지구 풍덕천2  1972  46 16471290.00   \n",
       "2857        2857  5068    탈퇴  여   기혼   경기 용인시 수지구 동천동  1971  47 21285710.00   \n",
       "1928        1928  4135    탈퇴  여   기혼   경기 용인시 수지구 신봉동  1969  49 18381620.00   \n",
       "156          156  2277  정상회원  여   기혼  경기 용인시 수지구 풍덕천2  1971  47 21950630.00   \n",
       "142          142  2260  정상회원  여   기혼  경기 용인시 수지구 풍덕천동  1977  41 18681595.00   \n",
       "166          166  2288  정상회원  여   기혼  경기 용인시 수지구 풍덕천동  1968  50 17170370.00   \n",
       "103          103  2214  정상회원  여   기혼  경기 용인시 수지구 풍덕천2  1976  42 14895300.00   \n",
       "372          372  2521  정상회원  여   기혼   경기 용인시 수지구 신봉동  1974  44 13609730.00   \n",
       "202          202  2329  정상회원  여   기혼  경기 용인시 수지구 풍덕천2  1962  56  5575655.00   \n",
       "113          113  2229  정상회원  여   기혼  경기 용인시 수지구 풍덕천동  1976  42 13395720.00   \n",
       "233          233  2363  정상회원  여   기혼  경기 용인시 수지구 풍덕천동  1971  47 10033855.00   \n",
       "479          479  2637    탈퇴  남   기혼  서울 중구 장충동1가 31-  1983  35 19646542.00   \n",
       "1012        1012  3203    탈퇴  여   기혼   경기 용인시 수지구 동천동  1970  48 13786410.00   \n",
       "307          307  2449  정상회원  여   기혼  경기 용인시 수지구 풍덕천2  1973  45  8853580.00   \n",
       "144          144  2263  정상회원  여   기혼  경기 용인시 수지구 풍덕천2  1967  51 11917750.00   \n",
       "692          692  2871  정상회원  여   기혼   경기 용인시 수지구 성복동  1970  48 15670140.00   \n",
       "262          262  2397  정상회원  여   기혼  경기 용인시 수지구 풍덕천2  1969  49  9319260.00   \n",
       "186          186  2310  정상회원  여   기혼  경기 용인시 수지구 풍덕천2  1975  43  8750730.00   \n",
       "806          806  2992  정상회원  여   기혼  경기 용인시 수지구 풍덕천동  1969  49  9183600.00   \n",
       "2698        2698  4909    탈퇴  여   기혼  경기 용인시 수지구 풍덕천2  1979  39  5655670.00   \n",
       "3487        3487  5698    탈퇴  여   기혼   경기 용인시 수지구 신봉동  1973  45  9511415.00   \n",
       "9              9  2110  정상회원  여   기혼   경기 용인시 수지구 신봉동  1965  53  5549725.00   \n",
       "6              6  2107  정상회원  여   기혼   경기 용인시 수지구 신봉동  1941  77  7161860.00   \n",
       "297          297  2437  정상회원  여   기혼  경기 용인시 수지구 풍덕천1  1973  45  5653580.00   \n",
       "2199        2199  4406    탈퇴  여   기혼   경기 용인시 수지구 신봉동  1977  41 12824280.00   \n",
       "1421        1421  3626    탈퇴  여   기혼   경기 용인시 수지구 신봉동  1971  47  9143295.00   \n",
       "707          707  2887  정상회원  여   기혼  경기 용인시 수지구 풍덕천동  1980  38  4713990.00   \n",
       "130          130  2246  정상회원  여   기혼  경기 용인시 수지구 풍덕천동  1978  40  7963710.00   \n",
       "\n",
       "       총구매수량  등급2  label  총방문횟수  \n",
       "39   2896.70  VIP      1    173  \n",
       "3645 4006.96  VIP      1    172  \n",
       "2441 3447.20  VIP      1    171  \n",
       "2857 4180.50  VIP      1    170  \n",
       "1928 3219.43  VIP      1    170  \n",
       "156  4425.70  VIP      1    170  \n",
       "142  3870.15  VIP      1    169  \n",
       "166  2921.50  VIP      1    166  \n",
       "103  2986.40  VIP      1    162  \n",
       "372  2985.55  VIP      1    161  \n",
       "202  1280.60  VIP      1    160  \n",
       "113  2647.50  VIP      1    159  \n",
       "233  2088.85  VIP      1    158  \n",
       "479  3566.35  VIP      1    156  \n",
       "1012 2785.40  VIP      1    155  \n",
       "307  2048.35  VIP      1    153  \n",
       "144  2279.30  VIP      1    152  \n",
       "692  2834.65  VIP      1    152  \n",
       "262  1687.80  VIP      1    152  \n",
       "186  1686.00  VIP      1    151  \n",
       "806  1900.20  VIP      1    149  \n",
       "2698 1426.30  VIP      1    147  \n",
       "3487 2024.37  VIP      1    146  \n",
       "9    1204.10  VIP      1    145  \n",
       "6    1419.75  VIP      1    143  \n",
       "297  1135.10  VIP      1    139  \n",
       "2199 2831.30  VIP      1    139  \n",
       "1421 1775.23  VIP      1    138  \n",
       "707  1144.10  VIP      1    137  \n",
       "130  1684.00  VIP      1    136  "
      ]
     },
     "execution_count": 34,
     "metadata": {},
     "output_type": "execute_result"
    }
   ],
   "source": [
    "cond1 = (df2['결혼유무']=='기혼')\n",
    "df3 = df2.loc[cond1]\n",
    "# df3['결혼유무'].unique()\n",
    "top30 = df3.sort_values(by='총방문횟수', ascending=False).head(30)\n",
    "top30\n",
    "# top30.shape"
   ]
  },
  {
   "cell_type": "markdown",
   "metadata": {},
   "source": [
    "## 4. '연령'을 이용해, 고객 '연령대'를 계산하고, '총구매금액'의 합이 가장 높은 2개의 '연령대'를 확인하여, 두 연령대 간의 '총구매금액'의 평균의 차이를 계산 하시오."
   ]
  },
  {
   "cell_type": "code",
   "execution_count": 35,
   "metadata": {},
   "outputs": [
    {
     "data": {
      "text/plain": [
       "195511.71931750863"
      ]
     },
     "execution_count": 35,
     "metadata": {},
     "output_type": "execute_result"
    }
   ],
   "source": [
    "# df2['연령'].unique()\n",
    "\n",
    "def get_agegroup(x):\n",
    "    if x>= 100:\n",
    "        return '100세 이상'\n",
    "    else:\n",
    "        return str(x)[0]+'0대'\n",
    "    \n",
    "\n",
    "df2['연령대'] = df2['연령'].apply(get_agegroup)\n",
    "# df2.columns\n",
    "\n",
    "p2 = df2.pivot_table(index = '연령대',\n",
    "               values = '총구매금액',\n",
    "               aggfunc='sum')\n",
    "\n",
    "top2 = p2.sort_values(by='총구매금액', ascending=False).index[0:2]\n",
    "\n",
    "cond1 = (df2['연령대']==top2[0])\n",
    "cond2 = (df2['연령대']==top2[1])\n",
    "\n",
    "t1=df2.loc[cond1]\n",
    "t2=df2.loc[cond2]\n",
    "\n",
    "abs(t1['총구매금액'].mean() - t2['총구매금액'].mean())"
   ]
  },
  {
   "cell_type": "markdown",
   "metadata": {},
   "source": [
    "## 5. '회원상태'에 따른 '총구매금액'의 평균을 시각화 하시오."
   ]
  },
  {
   "cell_type": "code",
   "execution_count": 36,
   "metadata": {},
   "outputs": [
    {
     "data": {
      "application/vnd.plotly.v1+json": {
       "config": {
        "plotlyServerURL": "https://plot.ly"
       },
       "data": [
        {
         "alignmentgroup": "True",
         "hovertemplate": "회원상태=%{x}<br>총구매금액=%{y}<extra></extra>",
         "legendgroup": "",
         "marker": {
          "color": "#636efa",
          "pattern": {
           "shape": ""
          }
         },
         "name": "",
         "offsetgroup": "",
         "orientation": "v",
         "showlegend": false,
         "textposition": "auto",
         "type": "bar",
         "x": [
          "이관처리중",
          "정상회원",
          "탈퇴",
          "탈퇴처리중"
         ],
         "xaxis": "x",
         "y": [
          43050,
          872618.8758454106,
          3869320.865248227,
          6208183.333333333
         ],
         "yaxis": "y"
        }
       ],
       "layout": {
        "barmode": "relative",
        "legend": {
         "tracegroupgap": 0
        },
        "margin": {
         "t": 60
        },
        "template": {
         "data": {
          "bar": [
           {
            "error_x": {
             "color": "#2a3f5f"
            },
            "error_y": {
             "color": "#2a3f5f"
            },
            "marker": {
             "line": {
              "color": "#E5ECF6",
              "width": 0.5
             },
             "pattern": {
              "fillmode": "overlay",
              "size": 10,
              "solidity": 0.2
             }
            },
            "type": "bar"
           }
          ],
          "barpolar": [
           {
            "marker": {
             "line": {
              "color": "#E5ECF6",
              "width": 0.5
             },
             "pattern": {
              "fillmode": "overlay",
              "size": 10,
              "solidity": 0.2
             }
            },
            "type": "barpolar"
           }
          ],
          "carpet": [
           {
            "aaxis": {
             "endlinecolor": "#2a3f5f",
             "gridcolor": "white",
             "linecolor": "white",
             "minorgridcolor": "white",
             "startlinecolor": "#2a3f5f"
            },
            "baxis": {
             "endlinecolor": "#2a3f5f",
             "gridcolor": "white",
             "linecolor": "white",
             "minorgridcolor": "white",
             "startlinecolor": "#2a3f5f"
            },
            "type": "carpet"
           }
          ],
          "choropleth": [
           {
            "colorbar": {
             "outlinewidth": 0,
             "ticks": ""
            },
            "type": "choropleth"
           }
          ],
          "contour": [
           {
            "colorbar": {
             "outlinewidth": 0,
             "ticks": ""
            },
            "colorscale": [
             [
              0,
              "#0d0887"
             ],
             [
              0.1111111111111111,
              "#46039f"
             ],
             [
              0.2222222222222222,
              "#7201a8"
             ],
             [
              0.3333333333333333,
              "#9c179e"
             ],
             [
              0.4444444444444444,
              "#bd3786"
             ],
             [
              0.5555555555555556,
              "#d8576b"
             ],
             [
              0.6666666666666666,
              "#ed7953"
             ],
             [
              0.7777777777777778,
              "#fb9f3a"
             ],
             [
              0.8888888888888888,
              "#fdca26"
             ],
             [
              1,
              "#f0f921"
             ]
            ],
            "type": "contour"
           }
          ],
          "contourcarpet": [
           {
            "colorbar": {
             "outlinewidth": 0,
             "ticks": ""
            },
            "type": "contourcarpet"
           }
          ],
          "heatmap": [
           {
            "colorbar": {
             "outlinewidth": 0,
             "ticks": ""
            },
            "colorscale": [
             [
              0,
              "#0d0887"
             ],
             [
              0.1111111111111111,
              "#46039f"
             ],
             [
              0.2222222222222222,
              "#7201a8"
             ],
             [
              0.3333333333333333,
              "#9c179e"
             ],
             [
              0.4444444444444444,
              "#bd3786"
             ],
             [
              0.5555555555555556,
              "#d8576b"
             ],
             [
              0.6666666666666666,
              "#ed7953"
             ],
             [
              0.7777777777777778,
              "#fb9f3a"
             ],
             [
              0.8888888888888888,
              "#fdca26"
             ],
             [
              1,
              "#f0f921"
             ]
            ],
            "type": "heatmap"
           }
          ],
          "heatmapgl": [
           {
            "colorbar": {
             "outlinewidth": 0,
             "ticks": ""
            },
            "colorscale": [
             [
              0,
              "#0d0887"
             ],
             [
              0.1111111111111111,
              "#46039f"
             ],
             [
              0.2222222222222222,
              "#7201a8"
             ],
             [
              0.3333333333333333,
              "#9c179e"
             ],
             [
              0.4444444444444444,
              "#bd3786"
             ],
             [
              0.5555555555555556,
              "#d8576b"
             ],
             [
              0.6666666666666666,
              "#ed7953"
             ],
             [
              0.7777777777777778,
              "#fb9f3a"
             ],
             [
              0.8888888888888888,
              "#fdca26"
             ],
             [
              1,
              "#f0f921"
             ]
            ],
            "type": "heatmapgl"
           }
          ],
          "histogram": [
           {
            "marker": {
             "pattern": {
              "fillmode": "overlay",
              "size": 10,
              "solidity": 0.2
             }
            },
            "type": "histogram"
           }
          ],
          "histogram2d": [
           {
            "colorbar": {
             "outlinewidth": 0,
             "ticks": ""
            },
            "colorscale": [
             [
              0,
              "#0d0887"
             ],
             [
              0.1111111111111111,
              "#46039f"
             ],
             [
              0.2222222222222222,
              "#7201a8"
             ],
             [
              0.3333333333333333,
              "#9c179e"
             ],
             [
              0.4444444444444444,
              "#bd3786"
             ],
             [
              0.5555555555555556,
              "#d8576b"
             ],
             [
              0.6666666666666666,
              "#ed7953"
             ],
             [
              0.7777777777777778,
              "#fb9f3a"
             ],
             [
              0.8888888888888888,
              "#fdca26"
             ],
             [
              1,
              "#f0f921"
             ]
            ],
            "type": "histogram2d"
           }
          ],
          "histogram2dcontour": [
           {
            "colorbar": {
             "outlinewidth": 0,
             "ticks": ""
            },
            "colorscale": [
             [
              0,
              "#0d0887"
             ],
             [
              0.1111111111111111,
              "#46039f"
             ],
             [
              0.2222222222222222,
              "#7201a8"
             ],
             [
              0.3333333333333333,
              "#9c179e"
             ],
             [
              0.4444444444444444,
              "#bd3786"
             ],
             [
              0.5555555555555556,
              "#d8576b"
             ],
             [
              0.6666666666666666,
              "#ed7953"
             ],
             [
              0.7777777777777778,
              "#fb9f3a"
             ],
             [
              0.8888888888888888,
              "#fdca26"
             ],
             [
              1,
              "#f0f921"
             ]
            ],
            "type": "histogram2dcontour"
           }
          ],
          "mesh3d": [
           {
            "colorbar": {
             "outlinewidth": 0,
             "ticks": ""
            },
            "type": "mesh3d"
           }
          ],
          "parcoords": [
           {
            "line": {
             "colorbar": {
              "outlinewidth": 0,
              "ticks": ""
             }
            },
            "type": "parcoords"
           }
          ],
          "pie": [
           {
            "automargin": true,
            "type": "pie"
           }
          ],
          "scatter": [
           {
            "fillpattern": {
             "fillmode": "overlay",
             "size": 10,
             "solidity": 0.2
            },
            "type": "scatter"
           }
          ],
          "scatter3d": [
           {
            "line": {
             "colorbar": {
              "outlinewidth": 0,
              "ticks": ""
             }
            },
            "marker": {
             "colorbar": {
              "outlinewidth": 0,
              "ticks": ""
             }
            },
            "type": "scatter3d"
           }
          ],
          "scattercarpet": [
           {
            "marker": {
             "colorbar": {
              "outlinewidth": 0,
              "ticks": ""
             }
            },
            "type": "scattercarpet"
           }
          ],
          "scattergeo": [
           {
            "marker": {
             "colorbar": {
              "outlinewidth": 0,
              "ticks": ""
             }
            },
            "type": "scattergeo"
           }
          ],
          "scattergl": [
           {
            "marker": {
             "colorbar": {
              "outlinewidth": 0,
              "ticks": ""
             }
            },
            "type": "scattergl"
           }
          ],
          "scattermapbox": [
           {
            "marker": {
             "colorbar": {
              "outlinewidth": 0,
              "ticks": ""
             }
            },
            "type": "scattermapbox"
           }
          ],
          "scatterpolar": [
           {
            "marker": {
             "colorbar": {
              "outlinewidth": 0,
              "ticks": ""
             }
            },
            "type": "scatterpolar"
           }
          ],
          "scatterpolargl": [
           {
            "marker": {
             "colorbar": {
              "outlinewidth": 0,
              "ticks": ""
             }
            },
            "type": "scatterpolargl"
           }
          ],
          "scatterternary": [
           {
            "marker": {
             "colorbar": {
              "outlinewidth": 0,
              "ticks": ""
             }
            },
            "type": "scatterternary"
           }
          ],
          "surface": [
           {
            "colorbar": {
             "outlinewidth": 0,
             "ticks": ""
            },
            "colorscale": [
             [
              0,
              "#0d0887"
             ],
             [
              0.1111111111111111,
              "#46039f"
             ],
             [
              0.2222222222222222,
              "#7201a8"
             ],
             [
              0.3333333333333333,
              "#9c179e"
             ],
             [
              0.4444444444444444,
              "#bd3786"
             ],
             [
              0.5555555555555556,
              "#d8576b"
             ],
             [
              0.6666666666666666,
              "#ed7953"
             ],
             [
              0.7777777777777778,
              "#fb9f3a"
             ],
             [
              0.8888888888888888,
              "#fdca26"
             ],
             [
              1,
              "#f0f921"
             ]
            ],
            "type": "surface"
           }
          ],
          "table": [
           {
            "cells": {
             "fill": {
              "color": "#EBF0F8"
             },
             "line": {
              "color": "white"
             }
            },
            "header": {
             "fill": {
              "color": "#C8D4E3"
             },
             "line": {
              "color": "white"
             }
            },
            "type": "table"
           }
          ]
         },
         "layout": {
          "annotationdefaults": {
           "arrowcolor": "#2a3f5f",
           "arrowhead": 0,
           "arrowwidth": 1
          },
          "autotypenumbers": "strict",
          "coloraxis": {
           "colorbar": {
            "outlinewidth": 0,
            "ticks": ""
           }
          },
          "colorscale": {
           "diverging": [
            [
             0,
             "#8e0152"
            ],
            [
             0.1,
             "#c51b7d"
            ],
            [
             0.2,
             "#de77ae"
            ],
            [
             0.3,
             "#f1b6da"
            ],
            [
             0.4,
             "#fde0ef"
            ],
            [
             0.5,
             "#f7f7f7"
            ],
            [
             0.6,
             "#e6f5d0"
            ],
            [
             0.7,
             "#b8e186"
            ],
            [
             0.8,
             "#7fbc41"
            ],
            [
             0.9,
             "#4d9221"
            ],
            [
             1,
             "#276419"
            ]
           ],
           "sequential": [
            [
             0,
             "#0d0887"
            ],
            [
             0.1111111111111111,
             "#46039f"
            ],
            [
             0.2222222222222222,
             "#7201a8"
            ],
            [
             0.3333333333333333,
             "#9c179e"
            ],
            [
             0.4444444444444444,
             "#bd3786"
            ],
            [
             0.5555555555555556,
             "#d8576b"
            ],
            [
             0.6666666666666666,
             "#ed7953"
            ],
            [
             0.7777777777777778,
             "#fb9f3a"
            ],
            [
             0.8888888888888888,
             "#fdca26"
            ],
            [
             1,
             "#f0f921"
            ]
           ],
           "sequentialminus": [
            [
             0,
             "#0d0887"
            ],
            [
             0.1111111111111111,
             "#46039f"
            ],
            [
             0.2222222222222222,
             "#7201a8"
            ],
            [
             0.3333333333333333,
             "#9c179e"
            ],
            [
             0.4444444444444444,
             "#bd3786"
            ],
            [
             0.5555555555555556,
             "#d8576b"
            ],
            [
             0.6666666666666666,
             "#ed7953"
            ],
            [
             0.7777777777777778,
             "#fb9f3a"
            ],
            [
             0.8888888888888888,
             "#fdca26"
            ],
            [
             1,
             "#f0f921"
            ]
           ]
          },
          "colorway": [
           "#636efa",
           "#EF553B",
           "#00cc96",
           "#ab63fa",
           "#FFA15A",
           "#19d3f3",
           "#FF6692",
           "#B6E880",
           "#FF97FF",
           "#FECB52"
          ],
          "font": {
           "color": "#2a3f5f"
          },
          "geo": {
           "bgcolor": "white",
           "lakecolor": "white",
           "landcolor": "#E5ECF6",
           "showlakes": true,
           "showland": true,
           "subunitcolor": "white"
          },
          "hoverlabel": {
           "align": "left"
          },
          "hovermode": "closest",
          "mapbox": {
           "style": "light"
          },
          "paper_bgcolor": "white",
          "plot_bgcolor": "#E5ECF6",
          "polar": {
           "angularaxis": {
            "gridcolor": "white",
            "linecolor": "white",
            "ticks": ""
           },
           "bgcolor": "#E5ECF6",
           "radialaxis": {
            "gridcolor": "white",
            "linecolor": "white",
            "ticks": ""
           }
          },
          "scene": {
           "xaxis": {
            "backgroundcolor": "#E5ECF6",
            "gridcolor": "white",
            "gridwidth": 2,
            "linecolor": "white",
            "showbackground": true,
            "ticks": "",
            "zerolinecolor": "white"
           },
           "yaxis": {
            "backgroundcolor": "#E5ECF6",
            "gridcolor": "white",
            "gridwidth": 2,
            "linecolor": "white",
            "showbackground": true,
            "ticks": "",
            "zerolinecolor": "white"
           },
           "zaxis": {
            "backgroundcolor": "#E5ECF6",
            "gridcolor": "white",
            "gridwidth": 2,
            "linecolor": "white",
            "showbackground": true,
            "ticks": "",
            "zerolinecolor": "white"
           }
          },
          "shapedefaults": {
           "line": {
            "color": "#2a3f5f"
           }
          },
          "ternary": {
           "aaxis": {
            "gridcolor": "white",
            "linecolor": "white",
            "ticks": ""
           },
           "baxis": {
            "gridcolor": "white",
            "linecolor": "white",
            "ticks": ""
           },
           "bgcolor": "#E5ECF6",
           "caxis": {
            "gridcolor": "white",
            "linecolor": "white",
            "ticks": ""
           }
          },
          "title": {
           "x": 0.05
          },
          "xaxis": {
           "automargin": true,
           "gridcolor": "white",
           "linecolor": "white",
           "ticks": "",
           "title": {
            "standoff": 15
           },
           "zerolinecolor": "white",
           "zerolinewidth": 2
          },
          "yaxis": {
           "automargin": true,
           "gridcolor": "white",
           "linecolor": "white",
           "ticks": "",
           "title": {
            "standoff": 15
           },
           "zerolinecolor": "white",
           "zerolinewidth": 2
          }
         }
        },
        "xaxis": {
         "anchor": "y",
         "domain": [
          0,
          1
         ],
         "title": {
          "text": "회원상태"
         }
        },
        "yaxis": {
         "anchor": "x",
         "domain": [
          0,
          1
         ],
         "title": {
          "text": "총구매금액"
         }
        }
       }
      },
      "text/html": [
       "<div>                            <div id=\"25c91efa-4093-4473-a3d3-f61b63862fb2\" class=\"plotly-graph-div\" style=\"height:525px; width:100%;\"></div>            <script type=\"text/javascript\">                require([\"plotly\"], function(Plotly) {                    window.PLOTLYENV=window.PLOTLYENV || {};                                    if (document.getElementById(\"25c91efa-4093-4473-a3d3-f61b63862fb2\")) {                    Plotly.newPlot(                        \"25c91efa-4093-4473-a3d3-f61b63862fb2\",                        [{\"alignmentgroup\":\"True\",\"hovertemplate\":\"\\ud68c\\uc6d0\\uc0c1\\ud0dc=%{x}<br>\\ucd1d\\uad6c\\ub9e4\\uae08\\uc561=%{y}<extra></extra>\",\"legendgroup\":\"\",\"marker\":{\"color\":\"#636efa\",\"pattern\":{\"shape\":\"\"}},\"name\":\"\",\"offsetgroup\":\"\",\"orientation\":\"v\",\"showlegend\":false,\"textposition\":\"auto\",\"x\":[\"\\uc774\\uad00\\ucc98\\ub9ac\\uc911\",\"\\uc815\\uc0c1\\ud68c\\uc6d0\",\"\\ud0c8\\ud1f4\",\"\\ud0c8\\ud1f4\\ucc98\\ub9ac\\uc911\"],\"xaxis\":\"x\",\"y\":[43050.0,872618.8758454106,3869320.865248227,6208183.333333333],\"yaxis\":\"y\",\"type\":\"bar\"}],                        {\"template\":{\"data\":{\"histogram2dcontour\":[{\"type\":\"histogram2dcontour\",\"colorbar\":{\"outlinewidth\":0,\"ticks\":\"\"},\"colorscale\":[[0.0,\"#0d0887\"],[0.1111111111111111,\"#46039f\"],[0.2222222222222222,\"#7201a8\"],[0.3333333333333333,\"#9c179e\"],[0.4444444444444444,\"#bd3786\"],[0.5555555555555556,\"#d8576b\"],[0.6666666666666666,\"#ed7953\"],[0.7777777777777778,\"#fb9f3a\"],[0.8888888888888888,\"#fdca26\"],[1.0,\"#f0f921\"]]}],\"choropleth\":[{\"type\":\"choropleth\",\"colorbar\":{\"outlinewidth\":0,\"ticks\":\"\"}}],\"histogram2d\":[{\"type\":\"histogram2d\",\"colorbar\":{\"outlinewidth\":0,\"ticks\":\"\"},\"colorscale\":[[0.0,\"#0d0887\"],[0.1111111111111111,\"#46039f\"],[0.2222222222222222,\"#7201a8\"],[0.3333333333333333,\"#9c179e\"],[0.4444444444444444,\"#bd3786\"],[0.5555555555555556,\"#d8576b\"],[0.6666666666666666,\"#ed7953\"],[0.7777777777777778,\"#fb9f3a\"],[0.8888888888888888,\"#fdca26\"],[1.0,\"#f0f921\"]]}],\"heatmap\":[{\"type\":\"heatmap\",\"colorbar\":{\"outlinewidth\":0,\"ticks\":\"\"},\"colorscale\":[[0.0,\"#0d0887\"],[0.1111111111111111,\"#46039f\"],[0.2222222222222222,\"#7201a8\"],[0.3333333333333333,\"#9c179e\"],[0.4444444444444444,\"#bd3786\"],[0.5555555555555556,\"#d8576b\"],[0.6666666666666666,\"#ed7953\"],[0.7777777777777778,\"#fb9f3a\"],[0.8888888888888888,\"#fdca26\"],[1.0,\"#f0f921\"]]}],\"heatmapgl\":[{\"type\":\"heatmapgl\",\"colorbar\":{\"outlinewidth\":0,\"ticks\":\"\"},\"colorscale\":[[0.0,\"#0d0887\"],[0.1111111111111111,\"#46039f\"],[0.2222222222222222,\"#7201a8\"],[0.3333333333333333,\"#9c179e\"],[0.4444444444444444,\"#bd3786\"],[0.5555555555555556,\"#d8576b\"],[0.6666666666666666,\"#ed7953\"],[0.7777777777777778,\"#fb9f3a\"],[0.8888888888888888,\"#fdca26\"],[1.0,\"#f0f921\"]]}],\"contourcarpet\":[{\"type\":\"contourcarpet\",\"colorbar\":{\"outlinewidth\":0,\"ticks\":\"\"}}],\"contour\":[{\"type\":\"contour\",\"colorbar\":{\"outlinewidth\":0,\"ticks\":\"\"},\"colorscale\":[[0.0,\"#0d0887\"],[0.1111111111111111,\"#46039f\"],[0.2222222222222222,\"#7201a8\"],[0.3333333333333333,\"#9c179e\"],[0.4444444444444444,\"#bd3786\"],[0.5555555555555556,\"#d8576b\"],[0.6666666666666666,\"#ed7953\"],[0.7777777777777778,\"#fb9f3a\"],[0.8888888888888888,\"#fdca26\"],[1.0,\"#f0f921\"]]}],\"surface\":[{\"type\":\"surface\",\"colorbar\":{\"outlinewidth\":0,\"ticks\":\"\"},\"colorscale\":[[0.0,\"#0d0887\"],[0.1111111111111111,\"#46039f\"],[0.2222222222222222,\"#7201a8\"],[0.3333333333333333,\"#9c179e\"],[0.4444444444444444,\"#bd3786\"],[0.5555555555555556,\"#d8576b\"],[0.6666666666666666,\"#ed7953\"],[0.7777777777777778,\"#fb9f3a\"],[0.8888888888888888,\"#fdca26\"],[1.0,\"#f0f921\"]]}],\"mesh3d\":[{\"type\":\"mesh3d\",\"colorbar\":{\"outlinewidth\":0,\"ticks\":\"\"}}],\"scatter\":[{\"fillpattern\":{\"fillmode\":\"overlay\",\"size\":10,\"solidity\":0.2},\"type\":\"scatter\"}],\"parcoords\":[{\"type\":\"parcoords\",\"line\":{\"colorbar\":{\"outlinewidth\":0,\"ticks\":\"\"}}}],\"scatterpolargl\":[{\"type\":\"scatterpolargl\",\"marker\":{\"colorbar\":{\"outlinewidth\":0,\"ticks\":\"\"}}}],\"bar\":[{\"error_x\":{\"color\":\"#2a3f5f\"},\"error_y\":{\"color\":\"#2a3f5f\"},\"marker\":{\"line\":{\"color\":\"#E5ECF6\",\"width\":0.5},\"pattern\":{\"fillmode\":\"overlay\",\"size\":10,\"solidity\":0.2}},\"type\":\"bar\"}],\"scattergeo\":[{\"type\":\"scattergeo\",\"marker\":{\"colorbar\":{\"outlinewidth\":0,\"ticks\":\"\"}}}],\"scatterpolar\":[{\"type\":\"scatterpolar\",\"marker\":{\"colorbar\":{\"outlinewidth\":0,\"ticks\":\"\"}}}],\"histogram\":[{\"marker\":{\"pattern\":{\"fillmode\":\"overlay\",\"size\":10,\"solidity\":0.2}},\"type\":\"histogram\"}],\"scattergl\":[{\"type\":\"scattergl\",\"marker\":{\"colorbar\":{\"outlinewidth\":0,\"ticks\":\"\"}}}],\"scatter3d\":[{\"type\":\"scatter3d\",\"line\":{\"colorbar\":{\"outlinewidth\":0,\"ticks\":\"\"}},\"marker\":{\"colorbar\":{\"outlinewidth\":0,\"ticks\":\"\"}}}],\"scattermapbox\":[{\"type\":\"scattermapbox\",\"marker\":{\"colorbar\":{\"outlinewidth\":0,\"ticks\":\"\"}}}],\"scatterternary\":[{\"type\":\"scatterternary\",\"marker\":{\"colorbar\":{\"outlinewidth\":0,\"ticks\":\"\"}}}],\"scattercarpet\":[{\"type\":\"scattercarpet\",\"marker\":{\"colorbar\":{\"outlinewidth\":0,\"ticks\":\"\"}}}],\"carpet\":[{\"aaxis\":{\"endlinecolor\":\"#2a3f5f\",\"gridcolor\":\"white\",\"linecolor\":\"white\",\"minorgridcolor\":\"white\",\"startlinecolor\":\"#2a3f5f\"},\"baxis\":{\"endlinecolor\":\"#2a3f5f\",\"gridcolor\":\"white\",\"linecolor\":\"white\",\"minorgridcolor\":\"white\",\"startlinecolor\":\"#2a3f5f\"},\"type\":\"carpet\"}],\"table\":[{\"cells\":{\"fill\":{\"color\":\"#EBF0F8\"},\"line\":{\"color\":\"white\"}},\"header\":{\"fill\":{\"color\":\"#C8D4E3\"},\"line\":{\"color\":\"white\"}},\"type\":\"table\"}],\"barpolar\":[{\"marker\":{\"line\":{\"color\":\"#E5ECF6\",\"width\":0.5},\"pattern\":{\"fillmode\":\"overlay\",\"size\":10,\"solidity\":0.2}},\"type\":\"barpolar\"}],\"pie\":[{\"automargin\":true,\"type\":\"pie\"}]},\"layout\":{\"autotypenumbers\":\"strict\",\"colorway\":[\"#636efa\",\"#EF553B\",\"#00cc96\",\"#ab63fa\",\"#FFA15A\",\"#19d3f3\",\"#FF6692\",\"#B6E880\",\"#FF97FF\",\"#FECB52\"],\"font\":{\"color\":\"#2a3f5f\"},\"hovermode\":\"closest\",\"hoverlabel\":{\"align\":\"left\"},\"paper_bgcolor\":\"white\",\"plot_bgcolor\":\"#E5ECF6\",\"polar\":{\"bgcolor\":\"#E5ECF6\",\"angularaxis\":{\"gridcolor\":\"white\",\"linecolor\":\"white\",\"ticks\":\"\"},\"radialaxis\":{\"gridcolor\":\"white\",\"linecolor\":\"white\",\"ticks\":\"\"}},\"ternary\":{\"bgcolor\":\"#E5ECF6\",\"aaxis\":{\"gridcolor\":\"white\",\"linecolor\":\"white\",\"ticks\":\"\"},\"baxis\":{\"gridcolor\":\"white\",\"linecolor\":\"white\",\"ticks\":\"\"},\"caxis\":{\"gridcolor\":\"white\",\"linecolor\":\"white\",\"ticks\":\"\"}},\"coloraxis\":{\"colorbar\":{\"outlinewidth\":0,\"ticks\":\"\"}},\"colorscale\":{\"sequential\":[[0.0,\"#0d0887\"],[0.1111111111111111,\"#46039f\"],[0.2222222222222222,\"#7201a8\"],[0.3333333333333333,\"#9c179e\"],[0.4444444444444444,\"#bd3786\"],[0.5555555555555556,\"#d8576b\"],[0.6666666666666666,\"#ed7953\"],[0.7777777777777778,\"#fb9f3a\"],[0.8888888888888888,\"#fdca26\"],[1.0,\"#f0f921\"]],\"sequentialminus\":[[0.0,\"#0d0887\"],[0.1111111111111111,\"#46039f\"],[0.2222222222222222,\"#7201a8\"],[0.3333333333333333,\"#9c179e\"],[0.4444444444444444,\"#bd3786\"],[0.5555555555555556,\"#d8576b\"],[0.6666666666666666,\"#ed7953\"],[0.7777777777777778,\"#fb9f3a\"],[0.8888888888888888,\"#fdca26\"],[1.0,\"#f0f921\"]],\"diverging\":[[0,\"#8e0152\"],[0.1,\"#c51b7d\"],[0.2,\"#de77ae\"],[0.3,\"#f1b6da\"],[0.4,\"#fde0ef\"],[0.5,\"#f7f7f7\"],[0.6,\"#e6f5d0\"],[0.7,\"#b8e186\"],[0.8,\"#7fbc41\"],[0.9,\"#4d9221\"],[1,\"#276419\"]]},\"xaxis\":{\"gridcolor\":\"white\",\"linecolor\":\"white\",\"ticks\":\"\",\"title\":{\"standoff\":15},\"zerolinecolor\":\"white\",\"automargin\":true,\"zerolinewidth\":2},\"yaxis\":{\"gridcolor\":\"white\",\"linecolor\":\"white\",\"ticks\":\"\",\"title\":{\"standoff\":15},\"zerolinecolor\":\"white\",\"automargin\":true,\"zerolinewidth\":2},\"scene\":{\"xaxis\":{\"backgroundcolor\":\"#E5ECF6\",\"gridcolor\":\"white\",\"linecolor\":\"white\",\"showbackground\":true,\"ticks\":\"\",\"zerolinecolor\":\"white\",\"gridwidth\":2},\"yaxis\":{\"backgroundcolor\":\"#E5ECF6\",\"gridcolor\":\"white\",\"linecolor\":\"white\",\"showbackground\":true,\"ticks\":\"\",\"zerolinecolor\":\"white\",\"gridwidth\":2},\"zaxis\":{\"backgroundcolor\":\"#E5ECF6\",\"gridcolor\":\"white\",\"linecolor\":\"white\",\"showbackground\":true,\"ticks\":\"\",\"zerolinecolor\":\"white\",\"gridwidth\":2}},\"shapedefaults\":{\"line\":{\"color\":\"#2a3f5f\"}},\"annotationdefaults\":{\"arrowcolor\":\"#2a3f5f\",\"arrowhead\":0,\"arrowwidth\":1},\"geo\":{\"bgcolor\":\"white\",\"landcolor\":\"#E5ECF6\",\"subunitcolor\":\"white\",\"showland\":true,\"showlakes\":true,\"lakecolor\":\"white\"},\"title\":{\"x\":0.05},\"mapbox\":{\"style\":\"light\"}}},\"xaxis\":{\"anchor\":\"y\",\"domain\":[0.0,1.0],\"title\":{\"text\":\"\\ud68c\\uc6d0\\uc0c1\\ud0dc\"}},\"yaxis\":{\"anchor\":\"x\",\"domain\":[0.0,1.0],\"title\":{\"text\":\"\\ucd1d\\uad6c\\ub9e4\\uae08\\uc561\"}},\"legend\":{\"tracegroupgap\":0},\"margin\":{\"t\":60},\"barmode\":\"relative\"},                        {\"responsive\": true}                    ).then(function(){\n",
       "                            \n",
       "var gd = document.getElementById('25c91efa-4093-4473-a3d3-f61b63862fb2');\n",
       "var x = new MutationObserver(function (mutations, observer) {{\n",
       "        var display = window.getComputedStyle(gd).display;\n",
       "        if (!display || display === 'none') {{\n",
       "            console.log([gd, 'removed!']);\n",
       "            Plotly.purge(gd);\n",
       "            observer.disconnect();\n",
       "        }}\n",
       "}});\n",
       "\n",
       "// Listen for the removal of the full notebook cells\n",
       "var notebookContainer = gd.closest('#notebook-container');\n",
       "if (notebookContainer) {{\n",
       "    x.observe(notebookContainer, {childList: true});\n",
       "}}\n",
       "\n",
       "// Listen for the clearing of the current output cell\n",
       "var outputEl = gd.closest('.output');\n",
       "if (outputEl) {{\n",
       "    x.observe(outputEl, {childList: true});\n",
       "}}\n",
       "\n",
       "                        })                };                });            </script>        </div>"
      ]
     },
     "metadata": {},
     "output_type": "display_data"
    }
   ],
   "source": [
    "p3 = df2.pivot_table(index='회원상태', values = '총구매금액',\n",
    "              aggfunc = 'mean').reset_index()\n",
    "# p3\n",
    "px.bar(p3,x='회원상태',y='총구매금액')"
   ]
  },
  {
   "cell_type": "markdown",
   "metadata": {},
   "source": [
    "## 6. '총구매금액'을 '총방문횟수'로 나누어, '1회방문구매평균'을 계산하고, 생성된 파생변수를 바탕으로 아래와 같이 고객등급을 분류하시오.\n",
    "- '1회방문구매평균'이 10만원 이상 고객은 A / 5만원 이상은 B / 2만원 이상 C / 나머지는 D 등급으로 분류\n",
    "- 분류된 고객 등급은 '고객등급'이라는 새로운 파생변수로 생성 "
   ]
  },
  {
   "cell_type": "code",
   "execution_count": 37,
   "metadata": {},
   "outputs": [
    {
     "data": {
      "text/html": [
       "<div>\n",
       "<style scoped>\n",
       "    .dataframe tbody tr th:only-of-type {\n",
       "        vertical-align: middle;\n",
       "    }\n",
       "\n",
       "    .dataframe tbody tr th {\n",
       "        vertical-align: top;\n",
       "    }\n",
       "\n",
       "    .dataframe thead th {\n",
       "        text-align: right;\n",
       "    }\n",
       "</style>\n",
       "<table border=\"1\" class=\"dataframe\">\n",
       "  <thead>\n",
       "    <tr style=\"text-align: right;\">\n",
       "      <th></th>\n",
       "      <th>Unnamed: 0</th>\n",
       "      <th>회원번호</th>\n",
       "      <th>회원상태</th>\n",
       "      <th>성별</th>\n",
       "      <th>결혼유무</th>\n",
       "      <th>주소</th>\n",
       "      <th>생년</th>\n",
       "      <th>연령</th>\n",
       "      <th>총구매금액</th>\n",
       "      <th>총구매수량</th>\n",
       "      <th>등급2</th>\n",
       "      <th>label</th>\n",
       "      <th>총방문횟수</th>\n",
       "      <th>연령대</th>\n",
       "      <th>1회방문구매평균</th>\n",
       "      <th>고객등급</th>\n",
       "    </tr>\n",
       "  </thead>\n",
       "  <tbody>\n",
       "    <tr>\n",
       "      <th>0</th>\n",
       "      <td>0</td>\n",
       "      <td>2101</td>\n",
       "      <td>정상회원</td>\n",
       "      <td>여</td>\n",
       "      <td>기혼</td>\n",
       "      <td>서울 강북구 미아동 134-</td>\n",
       "      <td>1967</td>\n",
       "      <td>51</td>\n",
       "      <td>1991230.00</td>\n",
       "      <td>382.00</td>\n",
       "      <td>VIP</td>\n",
       "      <td>1</td>\n",
       "      <td>86</td>\n",
       "      <td>50대</td>\n",
       "      <td>23153.84</td>\n",
       "      <td>C</td>\n",
       "    </tr>\n",
       "    <tr>\n",
       "      <th>1</th>\n",
       "      <td>1</td>\n",
       "      <td>2102</td>\n",
       "      <td>정상회원</td>\n",
       "      <td>여</td>\n",
       "      <td>NaN</td>\n",
       "      <td>경기 용인시 수지구 동천동</td>\n",
       "      <td>1947</td>\n",
       "      <td>71</td>\n",
       "      <td>2095860.00</td>\n",
       "      <td>472.50</td>\n",
       "      <td>VIP</td>\n",
       "      <td>1</td>\n",
       "      <td>79</td>\n",
       "      <td>70대</td>\n",
       "      <td>26529.87</td>\n",
       "      <td>C</td>\n",
       "    </tr>\n",
       "    <tr>\n",
       "      <th>2</th>\n",
       "      <td>2</td>\n",
       "      <td>2103</td>\n",
       "      <td>정상회원</td>\n",
       "      <td>여</td>\n",
       "      <td>기혼</td>\n",
       "      <td>경기 용인시 수지구 동천동</td>\n",
       "      <td>1972</td>\n",
       "      <td>46</td>\n",
       "      <td>8273550.00</td>\n",
       "      <td>1675.40</td>\n",
       "      <td>VIP</td>\n",
       "      <td>1</td>\n",
       "      <td>126</td>\n",
       "      <td>40대</td>\n",
       "      <td>65663.10</td>\n",
       "      <td>B</td>\n",
       "    </tr>\n",
       "    <tr>\n",
       "      <th>3</th>\n",
       "      <td>3</td>\n",
       "      <td>2104</td>\n",
       "      <td>정상회원</td>\n",
       "      <td>여</td>\n",
       "      <td>NaN</td>\n",
       "      <td>경기 용인시 수지구 성복동</td>\n",
       "      <td>1969</td>\n",
       "      <td>49</td>\n",
       "      <td>6289495.00</td>\n",
       "      <td>1401.80</td>\n",
       "      <td>VIP</td>\n",
       "      <td>1</td>\n",
       "      <td>125</td>\n",
       "      <td>40대</td>\n",
       "      <td>50315.96</td>\n",
       "      <td>B</td>\n",
       "    </tr>\n",
       "    <tr>\n",
       "      <th>4</th>\n",
       "      <td>4</td>\n",
       "      <td>2105</td>\n",
       "      <td>정상회원</td>\n",
       "      <td>여</td>\n",
       "      <td>기혼</td>\n",
       "      <td>경기 용인시 수지구 동천동</td>\n",
       "      <td>1948</td>\n",
       "      <td>70</td>\n",
       "      <td>3067930.00</td>\n",
       "      <td>602.00</td>\n",
       "      <td>VIP</td>\n",
       "      <td>1</td>\n",
       "      <td>57</td>\n",
       "      <td>70대</td>\n",
       "      <td>53823.33</td>\n",
       "      <td>B</td>\n",
       "    </tr>\n",
       "    <tr>\n",
       "      <th>...</th>\n",
       "      <td>...</td>\n",
       "      <td>...</td>\n",
       "      <td>...</td>\n",
       "      <td>...</td>\n",
       "      <td>...</td>\n",
       "      <td>...</td>\n",
       "      <td>...</td>\n",
       "      <td>...</td>\n",
       "      <td>...</td>\n",
       "      <td>...</td>\n",
       "      <td>...</td>\n",
       "      <td>...</td>\n",
       "      <td>...</td>\n",
       "      <td>...</td>\n",
       "      <td>...</td>\n",
       "      <td>...</td>\n",
       "    </tr>\n",
       "    <tr>\n",
       "      <th>4280</th>\n",
       "      <td>4280</td>\n",
       "      <td>6492</td>\n",
       "      <td>정상회원</td>\n",
       "      <td>여</td>\n",
       "      <td>미혼</td>\n",
       "      <td>경기 성남시 분당구 판교동</td>\n",
       "      <td>1963</td>\n",
       "      <td>55</td>\n",
       "      <td>51550.00</td>\n",
       "      <td>10.00</td>\n",
       "      <td>일반</td>\n",
       "      <td>1</td>\n",
       "      <td>1</td>\n",
       "      <td>50대</td>\n",
       "      <td>51550.00</td>\n",
       "      <td>B</td>\n",
       "    </tr>\n",
       "    <tr>\n",
       "      <th>4281</th>\n",
       "      <td>4281</td>\n",
       "      <td>6493</td>\n",
       "      <td>정상회원</td>\n",
       "      <td>여</td>\n",
       "      <td>기혼</td>\n",
       "      <td>서울 관악구 행운동 1681</td>\n",
       "      <td>1982</td>\n",
       "      <td>36</td>\n",
       "      <td>22500.00</td>\n",
       "      <td>3.00</td>\n",
       "      <td>일반</td>\n",
       "      <td>1</td>\n",
       "      <td>1</td>\n",
       "      <td>30대</td>\n",
       "      <td>22500.00</td>\n",
       "      <td>C</td>\n",
       "    </tr>\n",
       "    <tr>\n",
       "      <th>4282</th>\n",
       "      <td>4282</td>\n",
       "      <td>6494</td>\n",
       "      <td>정상회원</td>\n",
       "      <td>남</td>\n",
       "      <td>기혼</td>\n",
       "      <td>경기 성남시 분당구 백현동</td>\n",
       "      <td>1975</td>\n",
       "      <td>43</td>\n",
       "      <td>18500.00</td>\n",
       "      <td>3.00</td>\n",
       "      <td>일반</td>\n",
       "      <td>1</td>\n",
       "      <td>1</td>\n",
       "      <td>40대</td>\n",
       "      <td>18500.00</td>\n",
       "      <td>D</td>\n",
       "    </tr>\n",
       "    <tr>\n",
       "      <th>4283</th>\n",
       "      <td>4283</td>\n",
       "      <td>6495</td>\n",
       "      <td>정상회원</td>\n",
       "      <td>여</td>\n",
       "      <td>기혼</td>\n",
       "      <td>서울 용산구 한남동 737-</td>\n",
       "      <td>1961</td>\n",
       "      <td>57</td>\n",
       "      <td>5300.00</td>\n",
       "      <td>1.00</td>\n",
       "      <td>일반</td>\n",
       "      <td>1</td>\n",
       "      <td>1</td>\n",
       "      <td>50대</td>\n",
       "      <td>5300.00</td>\n",
       "      <td>D</td>\n",
       "    </tr>\n",
       "    <tr>\n",
       "      <th>4284</th>\n",
       "      <td>4284</td>\n",
       "      <td>6496</td>\n",
       "      <td>정상회원</td>\n",
       "      <td>여</td>\n",
       "      <td>미혼</td>\n",
       "      <td>경기 수원시 영통구 이의동</td>\n",
       "      <td>1971</td>\n",
       "      <td>47</td>\n",
       "      <td>69220.00</td>\n",
       "      <td>8.00</td>\n",
       "      <td>일반</td>\n",
       "      <td>1</td>\n",
       "      <td>1</td>\n",
       "      <td>40대</td>\n",
       "      <td>69220.00</td>\n",
       "      <td>B</td>\n",
       "    </tr>\n",
       "  </tbody>\n",
       "</table>\n",
       "<p>4285 rows × 16 columns</p>\n",
       "</div>"
      ],
      "text/plain": [
       "      Unnamed: 0  회원번호  회원상태 성별 결혼유무               주소    생년  연령      총구매금액  \\\n",
       "0              0  2101  정상회원  여   기혼  서울 강북구 미아동 134-  1967  51 1991230.00   \n",
       "1              1  2102  정상회원  여  NaN   경기 용인시 수지구 동천동  1947  71 2095860.00   \n",
       "2              2  2103  정상회원  여   기혼   경기 용인시 수지구 동천동  1972  46 8273550.00   \n",
       "3              3  2104  정상회원  여  NaN   경기 용인시 수지구 성복동  1969  49 6289495.00   \n",
       "4              4  2105  정상회원  여   기혼   경기 용인시 수지구 동천동  1948  70 3067930.00   \n",
       "...          ...   ...   ... ..  ...              ...   ...  ..        ...   \n",
       "4280        4280  6492  정상회원  여   미혼   경기 성남시 분당구 판교동  1963  55   51550.00   \n",
       "4281        4281  6493  정상회원  여   기혼  서울 관악구 행운동 1681  1982  36   22500.00   \n",
       "4282        4282  6494  정상회원  남   기혼   경기 성남시 분당구 백현동  1975  43   18500.00   \n",
       "4283        4283  6495  정상회원  여   기혼  서울 용산구 한남동 737-  1961  57    5300.00   \n",
       "4284        4284  6496  정상회원  여   미혼   경기 수원시 영통구 이의동  1971  47   69220.00   \n",
       "\n",
       "       총구매수량  등급2  label  총방문횟수  연령대  1회방문구매평균 고객등급  \n",
       "0     382.00  VIP      1     86  50대  23153.84    C  \n",
       "1     472.50  VIP      1     79  70대  26529.87    C  \n",
       "2    1675.40  VIP      1    126  40대  65663.10    B  \n",
       "3    1401.80  VIP      1    125  40대  50315.96    B  \n",
       "4     602.00  VIP      1     57  70대  53823.33    B  \n",
       "...      ...  ...    ...    ...  ...       ...  ...  \n",
       "4280   10.00   일반      1      1  50대  51550.00    B  \n",
       "4281    3.00   일반      1      1  30대  22500.00    C  \n",
       "4282    3.00   일반      1      1  40대  18500.00    D  \n",
       "4283    1.00   일반      1      1  50대   5300.00    D  \n",
       "4284    8.00   일반      1      1  40대  69220.00    B  \n",
       "\n",
       "[4285 rows x 16 columns]"
      ]
     },
     "execution_count": 37,
     "metadata": {},
     "output_type": "execute_result"
    }
   ],
   "source": [
    "def get_lev(x):\n",
    "    if x >= 100000:\n",
    "        return 'A'\n",
    "    elif x>= 50000:\n",
    "        return 'B'\n",
    "    elif x>= 20000:\n",
    "        return 'C'\n",
    "    else:\n",
    "        return 'D'\n",
    "\n",
    "df2['1회방문구매평균'] = df2['총구매금액']/df2['총방문횟수']\n",
    "df2['고객등급']=df2['1회방문구매평균'].apply(get_lev)\n",
    "df2"
   ]
  },
  {
   "cell_type": "markdown",
   "metadata": {},
   "source": [
    "## 7. 새로 생성된 파생변수 '고객등급'에서 '기혼'자가 가장 많은 그룹은 어디 그룹인지 확인하시오."
   ]
  },
  {
   "cell_type": "code",
   "execution_count": 38,
   "metadata": {},
   "outputs": [
    {
     "data": {
      "text/plain": [
       "'C'"
      ]
     },
     "execution_count": 38,
     "metadata": {},
     "output_type": "execute_result"
    }
   ],
   "source": [
    "p4 = df2.pivot_table(index = '고객등급',\n",
    "                values= '결혼유무',\n",
    "                aggfunc = 'count')\n",
    "# p4\n",
    "p4.sort_values(by='결혼유무', ascending=False).index[0]"
   ]
  },
  {
   "cell_type": "markdown",
   "metadata": {},
   "source": [
    "## 8. df2 데이터에서 '주소'데이터를 바탕으로, \"시\" 별 '지역(시)'이라는 이름의 새로운 파생변수를 생성 하시오.\n",
    "- 서울시 / 용인시 / 성남시 /수원시 /광주시 / 나머지 지역은 기타로 분류 "
   ]
  },
  {
   "cell_type": "code",
   "execution_count": 39,
   "metadata": {},
   "outputs": [
    {
     "data": {
      "text/plain": [
       "Index(['Unnamed: 0', '회원번호', '회원상태', '성별', '결혼유무', '주소', '생년', '연령', '총구매금액',\n",
       "       '총구매수량', '등급2', 'label', '총방문횟수', '연령대', '1회방문구매평균', '고객등급',\n",
       "       '\"시\" 별 \"지역(시)\"'],\n",
       "      dtype='object')"
      ]
     },
     "execution_count": 39,
     "metadata": {},
     "output_type": "execute_result"
    }
   ],
   "source": [
    "def get_ad(x):\n",
    "    ad = x.split()\n",
    "    ad2 = ad[0:1]\n",
    "    if '서울' in ad2:\n",
    "        return '서울시'\n",
    "    elif '용인' in ad2:\n",
    "        return '용인시'\n",
    "    elif '성남' in ad2:\n",
    "        return '성남시'\n",
    "    elif '수원' in ad2:\n",
    "        return '수원시'\n",
    "    elif '광주' in ad2:\n",
    "        return '광주시'\n",
    "    else: \n",
    "        return '기타'\n",
    "    \n",
    "df2['\"시\" 별 \"지역(시)\"'] = df2['주소'].apply(get_ad)\n",
    "df2.columns\n",
    "# df2['주소'].unique()[0:30]"
   ]
  },
  {
   "cell_type": "markdown",
   "metadata": {},
   "source": [
    "## 9. '고객등급'을 입력했을 때, 해당 고객등급에서 '성별'에 따른 '총구매금액' 기술통계량을 계산하여 'result9_등급명.xlsx'저장하는 프로그램을 구성 하시오."
   ]
  },
  {
   "cell_type": "code",
   "execution_count": 40,
   "metadata": {},
   "outputs": [
    {
     "name": "stdout",
     "output_type": "stream",
     "text": [
      "고객등급을 입력하시오 : A\n"
     ]
    },
    {
     "name": "stderr",
     "output_type": "stream",
     "text": [
      "<ipython-input-40-4b106b5344a6>:8: UserWarning:\n",
      "\n",
      "Pandas requires version '1.4.3' or newer of 'xlsxwriter' (version '1.2.9' currently installed).\n",
      "\n"
     ]
    }
   ],
   "source": [
    "lev = input('고객등급을 입력하시오 : ')\n",
    "cond1 = (df2['고객등급'] == lev)\n",
    "df3 = df2.loc[cond1]\n",
    "p5 = df3.pivot_table(index = '성별',\n",
    "               values = '총구매금액',\n",
    "               aggfunc = 'describe').T\n",
    "\n",
    "p5.to_excel(f'result9_{lev}.xlsx')"
   ]
  },
  {
   "cell_type": "markdown",
   "metadata": {},
   "source": [
    "## - 판매 품목에 대한 분석을 수행하고자 한다."
   ]
  },
  {
   "cell_type": "markdown",
   "metadata": {},
   "source": [
    "## 10. df_product데이터의 구조와 타입을 확인 하시오."
   ]
  },
  {
   "cell_type": "code",
   "execution_count": 41,
   "metadata": {},
   "outputs": [
    {
     "data": {
      "text/html": [
       "<div>\n",
       "<style scoped>\n",
       "    .dataframe tbody tr th:only-of-type {\n",
       "        vertical-align: middle;\n",
       "    }\n",
       "\n",
       "    .dataframe tbody tr th {\n",
       "        vertical-align: top;\n",
       "    }\n",
       "\n",
       "    .dataframe thead th {\n",
       "        text-align: right;\n",
       "    }\n",
       "</style>\n",
       "<table border=\"1\" class=\"dataframe\">\n",
       "  <thead>\n",
       "    <tr style=\"text-align: right;\">\n",
       "      <th></th>\n",
       "      <th>공급일자</th>\n",
       "      <th>물품코드</th>\n",
       "      <th>물품대분류</th>\n",
       "      <th>물품중분류</th>\n",
       "      <th>물품소분류</th>\n",
       "      <th>물품명</th>\n",
       "      <th>구매수량</th>\n",
       "      <th>구매금액</th>\n",
       "      <th>구매매장</th>\n",
       "      <th>반품_원거래일자</th>\n",
       "      <th>회원번호</th>\n",
       "    </tr>\n",
       "  </thead>\n",
       "  <tbody>\n",
       "    <tr>\n",
       "      <th>0</th>\n",
       "      <td>20170201</td>\n",
       "      <td>50142001</td>\n",
       "      <td>채소</td>\n",
       "      <td>잎/줄기채소</td>\n",
       "      <td>시금치</td>\n",
       "      <td>시금치(300g)</td>\n",
       "      <td>1.00</td>\n",
       "      <td>2000</td>\n",
       "      <td>매장3</td>\n",
       "      <td>NaN</td>\n",
       "      <td>2101.00</td>\n",
       "    </tr>\n",
       "    <tr>\n",
       "      <th>1</th>\n",
       "      <td>20170201</td>\n",
       "      <td>60302012</td>\n",
       "      <td>축산물</td>\n",
       "      <td>육가공</td>\n",
       "      <td>돈가스/분쇄가공</td>\n",
       "      <td>튀김옷돈가스(400g)</td>\n",
       "      <td>1.00</td>\n",
       "      <td>6300</td>\n",
       "      <td>매장3</td>\n",
       "      <td>NaN</td>\n",
       "      <td>2101.00</td>\n",
       "    </tr>\n",
       "    <tr>\n",
       "      <th>2</th>\n",
       "      <td>20170201</td>\n",
       "      <td>80301002</td>\n",
       "      <td>간식</td>\n",
       "      <td>밀가공</td>\n",
       "      <td>라면</td>\n",
       "      <td>감자라면(110g:1봉)</td>\n",
       "      <td>2.00</td>\n",
       "      <td>2600</td>\n",
       "      <td>매장3</td>\n",
       "      <td>NaN</td>\n",
       "      <td>2101.00</td>\n",
       "    </tr>\n",
       "    <tr>\n",
       "      <th>3</th>\n",
       "      <td>20170201</td>\n",
       "      <td>80301010</td>\n",
       "      <td>간식</td>\n",
       "      <td>밀가공</td>\n",
       "      <td>라면</td>\n",
       "      <td>사리면(100g)</td>\n",
       "      <td>1.00</td>\n",
       "      <td>900</td>\n",
       "      <td>매장3</td>\n",
       "      <td>NaN</td>\n",
       "      <td>2101.00</td>\n",
       "    </tr>\n",
       "    <tr>\n",
       "      <th>4</th>\n",
       "      <td>20170201</td>\n",
       "      <td>80305003</td>\n",
       "      <td>간식</td>\n",
       "      <td>밀가공</td>\n",
       "      <td>만두</td>\n",
       "      <td>고기만두(500g)</td>\n",
       "      <td>1.00</td>\n",
       "      <td>5400</td>\n",
       "      <td>매장3</td>\n",
       "      <td>NaN</td>\n",
       "      <td>2101.00</td>\n",
       "    </tr>\n",
       "    <tr>\n",
       "      <th>...</th>\n",
       "      <td>...</td>\n",
       "      <td>...</td>\n",
       "      <td>...</td>\n",
       "      <td>...</td>\n",
       "      <td>...</td>\n",
       "      <td>...</td>\n",
       "      <td>...</td>\n",
       "      <td>...</td>\n",
       "      <td>...</td>\n",
       "      <td>...</td>\n",
       "      <td>...</td>\n",
       "    </tr>\n",
       "    <tr>\n",
       "      <th>735778</th>\n",
       "      <td>20170630</td>\n",
       "      <td>100201003</td>\n",
       "      <td>반찬</td>\n",
       "      <td>두부/유부</td>\n",
       "      <td>두부</td>\n",
       "      <td>두부(1모:420g)</td>\n",
       "      <td>1.00</td>\n",
       "      <td>2200</td>\n",
       "      <td>매장3</td>\n",
       "      <td>NaN</td>\n",
       "      <td>2637.00</td>\n",
       "    </tr>\n",
       "    <tr>\n",
       "      <th>735779</th>\n",
       "      <td>20170630</td>\n",
       "      <td>100306006</td>\n",
       "      <td>반찬</td>\n",
       "      <td>즉석조리</td>\n",
       "      <td>간편요리</td>\n",
       "      <td>현미쌀가스(320g)</td>\n",
       "      <td>1.00</td>\n",
       "      <td>5830</td>\n",
       "      <td>매장3</td>\n",
       "      <td>NaN</td>\n",
       "      <td>2637.00</td>\n",
       "    </tr>\n",
       "    <tr>\n",
       "      <th>735780</th>\n",
       "      <td>20170630</td>\n",
       "      <td>130214027</td>\n",
       "      <td>생활용품</td>\n",
       "      <td>생활용품</td>\n",
       "      <td>기타생활용품</td>\n",
       "      <td>모기기피제(로즈마리향)</td>\n",
       "      <td>1.00</td>\n",
       "      <td>8470</td>\n",
       "      <td>매장3</td>\n",
       "      <td>NaN</td>\n",
       "      <td>2637.00</td>\n",
       "    </tr>\n",
       "    <tr>\n",
       "      <th>735781</th>\n",
       "      <td>20170630</td>\n",
       "      <td>130501098</td>\n",
       "      <td>생활용품</td>\n",
       "      <td>화장품</td>\n",
       "      <td>기초화장품</td>\n",
       "      <td>수피아 알로에베라잎즙 수딩젤</td>\n",
       "      <td>1.00</td>\n",
       "      <td>7370</td>\n",
       "      <td>매장3</td>\n",
       "      <td>NaN</td>\n",
       "      <td>2637.00</td>\n",
       "    </tr>\n",
       "    <tr>\n",
       "      <th>735782</th>\n",
       "      <td>20170630</td>\n",
       "      <td>110102066</td>\n",
       "      <td>음료</td>\n",
       "      <td>음료</td>\n",
       "      <td>과즙</td>\n",
       "      <td>감귤즙(유기/150ml*10봉)</td>\n",
       "      <td>1.00</td>\n",
       "      <td>10450</td>\n",
       "      <td>매장4</td>\n",
       "      <td>NaN</td>\n",
       "      <td>2637.00</td>\n",
       "    </tr>\n",
       "  </tbody>\n",
       "</table>\n",
       "<p>735783 rows × 11 columns</p>\n",
       "</div>"
      ],
      "text/plain": [
       "            공급일자       물품코드 물품대분류   물품중분류     물품소분류                물품명  구매수량  \\\n",
       "0       20170201   50142001    채소  잎/줄기채소       시금치          시금치(300g)  1.00   \n",
       "1       20170201   60302012   축산물     육가공  돈가스/분쇄가공       튀김옷돈가스(400g)  1.00   \n",
       "2       20170201   80301002    간식     밀가공        라면      감자라면(110g:1봉)  2.00   \n",
       "3       20170201   80301010    간식     밀가공        라면          사리면(100g)  1.00   \n",
       "4       20170201   80305003    간식     밀가공        만두         고기만두(500g)  1.00   \n",
       "...          ...        ...   ...     ...       ...                ...   ...   \n",
       "735778  20170630  100201003    반찬   두부/유부        두부        두부(1모:420g)  1.00   \n",
       "735779  20170630  100306006    반찬    즉석조리      간편요리        현미쌀가스(320g)  1.00   \n",
       "735780  20170630  130214027  생활용품    생활용품    기타생활용품       모기기피제(로즈마리향)  1.00   \n",
       "735781  20170630  130501098  생활용품     화장품     기초화장품    수피아 알로에베라잎즙 수딩젤  1.00   \n",
       "735782  20170630  110102066    음료      음료        과즙  감귤즙(유기/150ml*10봉)  1.00   \n",
       "\n",
       "         구매금액 구매매장  반품_원거래일자    회원번호  \n",
       "0        2000  매장3       NaN 2101.00  \n",
       "1        6300  매장3       NaN 2101.00  \n",
       "2        2600  매장3       NaN 2101.00  \n",
       "3         900  매장3       NaN 2101.00  \n",
       "4        5400  매장3       NaN 2101.00  \n",
       "...       ...  ...       ...     ...  \n",
       "735778   2200  매장3       NaN 2637.00  \n",
       "735779   5830  매장3       NaN 2637.00  \n",
       "735780   8470  매장3       NaN 2637.00  \n",
       "735781   7370  매장3       NaN 2637.00  \n",
       "735782  10450  매장4       NaN 2637.00  \n",
       "\n",
       "[735783 rows x 11 columns]"
      ]
     },
     "execution_count": 41,
     "metadata": {},
     "output_type": "execute_result"
    }
   ],
   "source": [
    "df3 = pd.read_csv('06_store_product.csv')\n",
    "df3"
   ]
  },
  {
   "cell_type": "code",
   "execution_count": 42,
   "metadata": {},
   "outputs": [
    {
     "name": "stdout",
     "output_type": "stream",
     "text": [
      "<class 'pandas.core.frame.DataFrame'>\n",
      "RangeIndex: 735783 entries, 0 to 735782\n",
      "Data columns (total 11 columns):\n",
      " #   Column    Non-Null Count   Dtype  \n",
      "---  ------    --------------   -----  \n",
      " 0   공급일자      735783 non-null  int64  \n",
      " 1   물품코드      735783 non-null  int64  \n",
      " 2   물품대분류     735783 non-null  object \n",
      " 3   물품중분류     735783 non-null  object \n",
      " 4   물품소분류     735783 non-null  object \n",
      " 5   물품명       735783 non-null  object \n",
      " 6   구매수량      735783 non-null  float64\n",
      " 7   구매금액      735783 non-null  int64  \n",
      " 8   구매매장      735783 non-null  object \n",
      " 9   반품_원거래일자  10337 non-null   float64\n",
      " 10  회원번호      735761 non-null  float64\n",
      "dtypes: float64(3), int64(3), object(5)\n",
      "memory usage: 61.7+ MB\n"
     ]
    }
   ],
   "source": [
    "df3.info()"
   ]
  },
  {
   "cell_type": "markdown",
   "metadata": {},
   "source": [
    "## 11. df_product데이터의'물품대분류' 중 가장 많이 판매되는(수량)3가지 항목을 추출하여, df_product_top이라는 변수로 선언하고, df_product_top에서 '구매매장'별 '구매금액'의 합과 평균을 계산 하시오."
   ]
  },
  {
   "cell_type": "code",
   "execution_count": 43,
   "metadata": {},
   "outputs": [
    {
     "data": {
      "text/html": [
       "<div>\n",
       "<style scoped>\n",
       "    .dataframe tbody tr th:only-of-type {\n",
       "        vertical-align: middle;\n",
       "    }\n",
       "\n",
       "    .dataframe tbody tr th {\n",
       "        vertical-align: top;\n",
       "    }\n",
       "\n",
       "    .dataframe thead tr th {\n",
       "        text-align: left;\n",
       "    }\n",
       "\n",
       "    .dataframe thead tr:last-of-type th {\n",
       "        text-align: right;\n",
       "    }\n",
       "</style>\n",
       "<table border=\"1\" class=\"dataframe\">\n",
       "  <thead>\n",
       "    <tr>\n",
       "      <th></th>\n",
       "      <th>sum</th>\n",
       "      <th>mean</th>\n",
       "    </tr>\n",
       "    <tr>\n",
       "      <th></th>\n",
       "      <th>구매금액</th>\n",
       "      <th>구매금액</th>\n",
       "    </tr>\n",
       "    <tr>\n",
       "      <th>구매매장</th>\n",
       "      <th></th>\n",
       "      <th></th>\n",
       "    </tr>\n",
       "  </thead>\n",
       "  <tbody>\n",
       "    <tr>\n",
       "      <th>매장1</th>\n",
       "      <td>363985400</td>\n",
       "      <td>4770.64</td>\n",
       "    </tr>\n",
       "    <tr>\n",
       "      <th>매장2</th>\n",
       "      <td>461745602</td>\n",
       "      <td>4908.27</td>\n",
       "    </tr>\n",
       "    <tr>\n",
       "      <th>매장3</th>\n",
       "      <td>916748142</td>\n",
       "      <td>4949.91</td>\n",
       "    </tr>\n",
       "    <tr>\n",
       "      <th>매장4</th>\n",
       "      <td>419048570</td>\n",
       "      <td>5019.15</td>\n",
       "    </tr>\n",
       "  </tbody>\n",
       "</table>\n",
       "</div>"
      ],
      "text/plain": [
       "            sum    mean\n",
       "           구매금액    구매금액\n",
       "구매매장                   \n",
       "매장1   363985400 4770.64\n",
       "매장2   461745602 4908.27\n",
       "매장3   916748142 4949.91\n",
       "매장4   419048570 5019.15"
      ]
     },
     "execution_count": 43,
     "metadata": {},
     "output_type": "execute_result"
    }
   ],
   "source": [
    "df_product_top = df3['물품대분류'].value_counts().index[0:3]\n",
    "df_product_top\n",
    "\n",
    "cond1 = df3['물품대분류'].isin(df_product_top)\n",
    "a = df3.loc[cond1]\n",
    "# a['물품대분류'].unique()\n",
    "p6 = a.pivot_table(index = '구매매장',\n",
    "             values = '구매금액',\n",
    "             aggfunc = ['sum','mean'])\n",
    "p6"
   ]
  },
  {
   "cell_type": "markdown",
   "metadata": {},
   "source": [
    "## 12. 공급일자'데이터를 날짜형식으로 변환하여, '연도' / '월' / '요일' 항목을 새로운 파생변수로 생성하시오."
   ]
  },
  {
   "cell_type": "code",
   "execution_count": 44,
   "metadata": {},
   "outputs": [
    {
     "data": {
      "text/html": [
       "<div>\n",
       "<style scoped>\n",
       "    .dataframe tbody tr th:only-of-type {\n",
       "        vertical-align: middle;\n",
       "    }\n",
       "\n",
       "    .dataframe tbody tr th {\n",
       "        vertical-align: top;\n",
       "    }\n",
       "\n",
       "    .dataframe thead th {\n",
       "        text-align: right;\n",
       "    }\n",
       "</style>\n",
       "<table border=\"1\" class=\"dataframe\">\n",
       "  <thead>\n",
       "    <tr style=\"text-align: right;\">\n",
       "      <th></th>\n",
       "      <th>공급일자</th>\n",
       "      <th>물품코드</th>\n",
       "      <th>물품대분류</th>\n",
       "      <th>물품중분류</th>\n",
       "      <th>물품소분류</th>\n",
       "      <th>물품명</th>\n",
       "      <th>구매수량</th>\n",
       "      <th>구매금액</th>\n",
       "      <th>구매매장</th>\n",
       "      <th>반품_원거래일자</th>\n",
       "      <th>회원번호</th>\n",
       "      <th>공급일자_dt</th>\n",
       "      <th>연도</th>\n",
       "      <th>월</th>\n",
       "      <th>요일</th>\n",
       "    </tr>\n",
       "  </thead>\n",
       "  <tbody>\n",
       "    <tr>\n",
       "      <th>0</th>\n",
       "      <td>20170201</td>\n",
       "      <td>50142001</td>\n",
       "      <td>채소</td>\n",
       "      <td>잎/줄기채소</td>\n",
       "      <td>시금치</td>\n",
       "      <td>시금치(300g)</td>\n",
       "      <td>1.00</td>\n",
       "      <td>2000</td>\n",
       "      <td>매장3</td>\n",
       "      <td>NaN</td>\n",
       "      <td>2101.00</td>\n",
       "      <td>2017-02-01</td>\n",
       "      <td>2017</td>\n",
       "      <td>2</td>\n",
       "      <td>Wednesday</td>\n",
       "    </tr>\n",
       "    <tr>\n",
       "      <th>1</th>\n",
       "      <td>20170201</td>\n",
       "      <td>60302012</td>\n",
       "      <td>축산물</td>\n",
       "      <td>육가공</td>\n",
       "      <td>돈가스/분쇄가공</td>\n",
       "      <td>튀김옷돈가스(400g)</td>\n",
       "      <td>1.00</td>\n",
       "      <td>6300</td>\n",
       "      <td>매장3</td>\n",
       "      <td>NaN</td>\n",
       "      <td>2101.00</td>\n",
       "      <td>2017-02-01</td>\n",
       "      <td>2017</td>\n",
       "      <td>2</td>\n",
       "      <td>Wednesday</td>\n",
       "    </tr>\n",
       "    <tr>\n",
       "      <th>2</th>\n",
       "      <td>20170201</td>\n",
       "      <td>80301002</td>\n",
       "      <td>간식</td>\n",
       "      <td>밀가공</td>\n",
       "      <td>라면</td>\n",
       "      <td>감자라면(110g:1봉)</td>\n",
       "      <td>2.00</td>\n",
       "      <td>2600</td>\n",
       "      <td>매장3</td>\n",
       "      <td>NaN</td>\n",
       "      <td>2101.00</td>\n",
       "      <td>2017-02-01</td>\n",
       "      <td>2017</td>\n",
       "      <td>2</td>\n",
       "      <td>Wednesday</td>\n",
       "    </tr>\n",
       "    <tr>\n",
       "      <th>3</th>\n",
       "      <td>20170201</td>\n",
       "      <td>80301010</td>\n",
       "      <td>간식</td>\n",
       "      <td>밀가공</td>\n",
       "      <td>라면</td>\n",
       "      <td>사리면(100g)</td>\n",
       "      <td>1.00</td>\n",
       "      <td>900</td>\n",
       "      <td>매장3</td>\n",
       "      <td>NaN</td>\n",
       "      <td>2101.00</td>\n",
       "      <td>2017-02-01</td>\n",
       "      <td>2017</td>\n",
       "      <td>2</td>\n",
       "      <td>Wednesday</td>\n",
       "    </tr>\n",
       "    <tr>\n",
       "      <th>4</th>\n",
       "      <td>20170201</td>\n",
       "      <td>80305003</td>\n",
       "      <td>간식</td>\n",
       "      <td>밀가공</td>\n",
       "      <td>만두</td>\n",
       "      <td>고기만두(500g)</td>\n",
       "      <td>1.00</td>\n",
       "      <td>5400</td>\n",
       "      <td>매장3</td>\n",
       "      <td>NaN</td>\n",
       "      <td>2101.00</td>\n",
       "      <td>2017-02-01</td>\n",
       "      <td>2017</td>\n",
       "      <td>2</td>\n",
       "      <td>Wednesday</td>\n",
       "    </tr>\n",
       "    <tr>\n",
       "      <th>...</th>\n",
       "      <td>...</td>\n",
       "      <td>...</td>\n",
       "      <td>...</td>\n",
       "      <td>...</td>\n",
       "      <td>...</td>\n",
       "      <td>...</td>\n",
       "      <td>...</td>\n",
       "      <td>...</td>\n",
       "      <td>...</td>\n",
       "      <td>...</td>\n",
       "      <td>...</td>\n",
       "      <td>...</td>\n",
       "      <td>...</td>\n",
       "      <td>...</td>\n",
       "      <td>...</td>\n",
       "    </tr>\n",
       "    <tr>\n",
       "      <th>735778</th>\n",
       "      <td>20170630</td>\n",
       "      <td>100201003</td>\n",
       "      <td>반찬</td>\n",
       "      <td>두부/유부</td>\n",
       "      <td>두부</td>\n",
       "      <td>두부(1모:420g)</td>\n",
       "      <td>1.00</td>\n",
       "      <td>2200</td>\n",
       "      <td>매장3</td>\n",
       "      <td>NaN</td>\n",
       "      <td>2637.00</td>\n",
       "      <td>2017-06-30</td>\n",
       "      <td>2017</td>\n",
       "      <td>6</td>\n",
       "      <td>Friday</td>\n",
       "    </tr>\n",
       "    <tr>\n",
       "      <th>735779</th>\n",
       "      <td>20170630</td>\n",
       "      <td>100306006</td>\n",
       "      <td>반찬</td>\n",
       "      <td>즉석조리</td>\n",
       "      <td>간편요리</td>\n",
       "      <td>현미쌀가스(320g)</td>\n",
       "      <td>1.00</td>\n",
       "      <td>5830</td>\n",
       "      <td>매장3</td>\n",
       "      <td>NaN</td>\n",
       "      <td>2637.00</td>\n",
       "      <td>2017-06-30</td>\n",
       "      <td>2017</td>\n",
       "      <td>6</td>\n",
       "      <td>Friday</td>\n",
       "    </tr>\n",
       "    <tr>\n",
       "      <th>735780</th>\n",
       "      <td>20170630</td>\n",
       "      <td>130214027</td>\n",
       "      <td>생활용품</td>\n",
       "      <td>생활용품</td>\n",
       "      <td>기타생활용품</td>\n",
       "      <td>모기기피제(로즈마리향)</td>\n",
       "      <td>1.00</td>\n",
       "      <td>8470</td>\n",
       "      <td>매장3</td>\n",
       "      <td>NaN</td>\n",
       "      <td>2637.00</td>\n",
       "      <td>2017-06-30</td>\n",
       "      <td>2017</td>\n",
       "      <td>6</td>\n",
       "      <td>Friday</td>\n",
       "    </tr>\n",
       "    <tr>\n",
       "      <th>735781</th>\n",
       "      <td>20170630</td>\n",
       "      <td>130501098</td>\n",
       "      <td>생활용품</td>\n",
       "      <td>화장품</td>\n",
       "      <td>기초화장품</td>\n",
       "      <td>수피아 알로에베라잎즙 수딩젤</td>\n",
       "      <td>1.00</td>\n",
       "      <td>7370</td>\n",
       "      <td>매장3</td>\n",
       "      <td>NaN</td>\n",
       "      <td>2637.00</td>\n",
       "      <td>2017-06-30</td>\n",
       "      <td>2017</td>\n",
       "      <td>6</td>\n",
       "      <td>Friday</td>\n",
       "    </tr>\n",
       "    <tr>\n",
       "      <th>735782</th>\n",
       "      <td>20170630</td>\n",
       "      <td>110102066</td>\n",
       "      <td>음료</td>\n",
       "      <td>음료</td>\n",
       "      <td>과즙</td>\n",
       "      <td>감귤즙(유기/150ml*10봉)</td>\n",
       "      <td>1.00</td>\n",
       "      <td>10450</td>\n",
       "      <td>매장4</td>\n",
       "      <td>NaN</td>\n",
       "      <td>2637.00</td>\n",
       "      <td>2017-06-30</td>\n",
       "      <td>2017</td>\n",
       "      <td>6</td>\n",
       "      <td>Friday</td>\n",
       "    </tr>\n",
       "  </tbody>\n",
       "</table>\n",
       "<p>735783 rows × 15 columns</p>\n",
       "</div>"
      ],
      "text/plain": [
       "            공급일자       물품코드 물품대분류   물품중분류     물품소분류                물품명  구매수량  \\\n",
       "0       20170201   50142001    채소  잎/줄기채소       시금치          시금치(300g)  1.00   \n",
       "1       20170201   60302012   축산물     육가공  돈가스/분쇄가공       튀김옷돈가스(400g)  1.00   \n",
       "2       20170201   80301002    간식     밀가공        라면      감자라면(110g:1봉)  2.00   \n",
       "3       20170201   80301010    간식     밀가공        라면          사리면(100g)  1.00   \n",
       "4       20170201   80305003    간식     밀가공        만두         고기만두(500g)  1.00   \n",
       "...          ...        ...   ...     ...       ...                ...   ...   \n",
       "735778  20170630  100201003    반찬   두부/유부        두부        두부(1모:420g)  1.00   \n",
       "735779  20170630  100306006    반찬    즉석조리      간편요리        현미쌀가스(320g)  1.00   \n",
       "735780  20170630  130214027  생활용품    생활용품    기타생활용품       모기기피제(로즈마리향)  1.00   \n",
       "735781  20170630  130501098  생활용품     화장품     기초화장품    수피아 알로에베라잎즙 수딩젤  1.00   \n",
       "735782  20170630  110102066    음료      음료        과즙  감귤즙(유기/150ml*10봉)  1.00   \n",
       "\n",
       "         구매금액 구매매장  반품_원거래일자    회원번호    공급일자_dt    연도  월         요일  \n",
       "0        2000  매장3       NaN 2101.00 2017-02-01  2017  2  Wednesday  \n",
       "1        6300  매장3       NaN 2101.00 2017-02-01  2017  2  Wednesday  \n",
       "2        2600  매장3       NaN 2101.00 2017-02-01  2017  2  Wednesday  \n",
       "3         900  매장3       NaN 2101.00 2017-02-01  2017  2  Wednesday  \n",
       "4        5400  매장3       NaN 2101.00 2017-02-01  2017  2  Wednesday  \n",
       "...       ...  ...       ...     ...        ...   ... ..        ...  \n",
       "735778   2200  매장3       NaN 2637.00 2017-06-30  2017  6     Friday  \n",
       "735779   5830  매장3       NaN 2637.00 2017-06-30  2017  6     Friday  \n",
       "735780   8470  매장3       NaN 2637.00 2017-06-30  2017  6     Friday  \n",
       "735781   7370  매장3       NaN 2637.00 2017-06-30  2017  6     Friday  \n",
       "735782  10450  매장4       NaN 2637.00 2017-06-30  2017  6     Friday  \n",
       "\n",
       "[735783 rows x 15 columns]"
      ]
     },
     "execution_count": 44,
     "metadata": {},
     "output_type": "execute_result"
    }
   ],
   "source": [
    "df3['공급일자_dt'] = pd.to_datetime(df3['공급일자'], format = '%Y%m%d')\n",
    "\n",
    "# df3.info()\n",
    "df3['연도'] = df3['공급일자_dt'].dt.year\n",
    "df3['월'] = df3['공급일자_dt'].dt.month\n",
    "df3['요일'] = df3['공급일자_dt'].dt.day_name()\n",
    "\n",
    "\n",
    "df3.columns\n",
    "df3"
   ]
  },
  {
   "cell_type": "markdown",
   "metadata": {},
   "source": [
    "## 13. '월'에 따른'물품대분류'별 '구매금액'의 합을 게산하여 result8.xlsx저장 하시오."
   ]
  },
  {
   "cell_type": "code",
   "execution_count": 45,
   "metadata": {},
   "outputs": [
    {
     "name": "stderr",
     "output_type": "stream",
     "text": [
      "<ipython-input-45-151ff5ebade4>:1: UserWarning:\n",
      "\n",
      "Pandas requires version '1.4.3' or newer of 'xlsxwriter' (version '1.2.9' currently installed).\n",
      "\n"
     ]
    }
   ],
   "source": [
    "df3.pivot_table(index = ['월','물품대분류'],\n",
    "               values = '구매금액',\n",
    "               aggfunc='sum').to_excel('result8.xlsx')\n",
    "# df3['월'].unique()"
   ]
  },
  {
   "cell_type": "markdown",
   "metadata": {},
   "source": [
    "## 14. '요일'에서 '주말'과'주중'을 구분하여, '주중'과 '주말'의 구매수량의 합을 확인하시오."
   ]
  },
  {
   "cell_type": "code",
   "execution_count": 48,
   "metadata": {},
   "outputs": [
    {
     "data": {
      "text/html": [
       "<div>\n",
       "<style scoped>\n",
       "    .dataframe tbody tr th:only-of-type {\n",
       "        vertical-align: middle;\n",
       "    }\n",
       "\n",
       "    .dataframe tbody tr th {\n",
       "        vertical-align: top;\n",
       "    }\n",
       "\n",
       "    .dataframe thead th {\n",
       "        text-align: right;\n",
       "    }\n",
       "</style>\n",
       "<table border=\"1\" class=\"dataframe\">\n",
       "  <thead>\n",
       "    <tr style=\"text-align: right;\">\n",
       "      <th></th>\n",
       "      <th>구매수량</th>\n",
       "    </tr>\n",
       "    <tr>\n",
       "      <th>요일판단</th>\n",
       "      <th></th>\n",
       "    </tr>\n",
       "  </thead>\n",
       "  <tbody>\n",
       "    <tr>\n",
       "      <th>주말</th>\n",
       "      <td>177127.76</td>\n",
       "    </tr>\n",
       "    <tr>\n",
       "      <th>주중</th>\n",
       "      <td>671957.44</td>\n",
       "    </tr>\n",
       "  </tbody>\n",
       "</table>\n",
       "</div>"
      ],
      "text/plain": [
       "          구매수량\n",
       "요일판단          \n",
       "주말   177127.76\n",
       "주중   671957.44"
      ]
     },
     "execution_count": 48,
     "metadata": {},
     "output_type": "execute_result"
    }
   ],
   "source": [
    "def get_w(x):\n",
    "    if x == 'Sunday' or x =='Saturday':\n",
    "        return '주말'\n",
    "    else:\n",
    "        return '주중'\n",
    "    \n",
    "df3['요일판단'] = df3['요일'].apply(get_w)\n",
    "df3.pivot_table(index = '요일판단',\n",
    "               values = '구매수량',\n",
    "               aggfunc='sum')"
   ]
  },
  {
   "cell_type": "code",
   "execution_count": 49,
   "metadata": {},
   "outputs": [
    {
     "data": {
      "text/plain": [
       "array(['Wednesday', 'Thursday', 'Friday', 'Saturday', 'Sunday', 'Monday',\n",
       "       'Tuesday'], dtype=object)"
      ]
     },
     "execution_count": 49,
     "metadata": {},
     "output_type": "execute_result"
    }
   ],
   "source": [
    "df3['요일'].unique()"
   ]
  },
  {
   "cell_type": "code",
   "execution_count": null,
   "metadata": {},
   "outputs": [],
   "source": []
  },
  {
   "cell_type": "code",
   "execution_count": null,
   "metadata": {},
   "outputs": [],
   "source": []
  }
 ],
 "metadata": {
  "kernelspec": {
   "display_name": "Python 3",
   "language": "python",
   "name": "python3"
  },
  "language_info": {
   "codemirror_mode": {
    "name": "ipython",
    "version": 3
   },
   "file_extension": ".py",
   "mimetype": "text/x-python",
   "name": "python",
   "nbconvert_exporter": "python",
   "pygments_lexer": "ipython3",
   "version": "3.8.3"
  }
 },
 "nbformat": 4,
 "nbformat_minor": 5
}
