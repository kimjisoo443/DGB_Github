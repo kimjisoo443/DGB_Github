{
 "cells": [
  {
   "cell_type": "markdown",
   "id": "158b6ef4-9b24-4da3-9281-1e4b4007c25e",
   "metadata": {},
   "source": [
    "# 미션 1\n",
    "- 아래의 미션을 Jupyter Notebook으로 푼 후 [File] - [Download as] - [HTML] 저장 제출\n",
    "- birdland1903@gmail.com\n",
    "- 제출양식 : Day1_Mission_반복문_홍길동\n",
    "- 처음 풀이 시, 30분 정도 구글링이나 Chat GPT 없이 풀이"
   ]
  },
  {
   "cell_type": "markdown",
   "id": "4ce98671-e8dc-46a0-88ad-3cdefe4407f3",
   "metadata": {},
   "source": [
    "## 1. for 반복문으로 특정 리스트 내의 모든 숫자 합을 계산하는 함수를 구성하시오\n",
    "\n",
    "- 숙련자 : input 함수를 이용하고, 함수로 구성"
   ]
  },
  {
   "cell_type": "code",
   "execution_count": 18,
   "id": "c49330a0-deb3-409d-88d0-d23bcbca23ae",
   "metadata": {},
   "outputs": [],
   "source": [
    "def sum_lst(lst):\n",
    "    sum = 0\n",
    "    for i in range(len(lst)):\n",
    "        sum += lst[i]\n",
    "    return sum"
   ]
  },
  {
   "cell_type": "code",
   "execution_count": 19,
   "id": "87fee2d2-1942-4865-aacc-54330a533de0",
   "metadata": {},
   "outputs": [
    {
     "name": "stdin",
     "output_type": "stream",
     "text": [
      " 1 2 3 4 5 6 7 8 9 10\n"
     ]
    },
    {
     "data": {
      "text/plain": [
       "55"
      ]
     },
     "execution_count": 19,
     "metadata": {},
     "output_type": "execute_result"
    }
   ],
   "source": [
    "lst_input = list(map(int, input().split()))\n",
    "sum_lst(lst_input)"
   ]
  },
  {
   "cell_type": "markdown",
   "id": "9aaa1701-c700-4ebe-b404-bbfadaf3c887",
   "metadata": {},
   "source": [
    "## 2. for 반복문으로 특정 리스트 안에 있는 모든 숫자의 평균을 계산하는 함수를 구성하시오\n",
    "- 숙련자 : input 함수를 이용하고 함수로 구성"
   ]
  },
  {
   "cell_type": "code",
   "execution_count": 1,
   "id": "63185585-fce9-4073-8c1c-d3c7d71e5f43",
   "metadata": {},
   "outputs": [],
   "source": [
    "def mean_lst(lst):\n",
    "    sum = 0\n",
    "    for i in range(len(lst)):\n",
    "        sum += lst[i]\n",
    "    return sum/len(lst)"
   ]
  },
  {
   "cell_type": "code",
   "execution_count": 2,
   "id": "24b93085-aa3c-445f-b270-9ce61b15bec2",
   "metadata": {},
   "outputs": [
    {
     "name": "stdin",
     "output_type": "stream",
     "text": [
      " 1 4 7\n"
     ]
    },
    {
     "data": {
      "text/plain": [
       "4.0"
      ]
     },
     "execution_count": 2,
     "metadata": {},
     "output_type": "execute_result"
    }
   ],
   "source": [
    "lst_input = list(map(int, input().split()))\n",
    "mean_lst(lst_input)"
   ]
  },
  {
   "cell_type": "markdown",
   "id": "999676c0-45fa-4e09-be49-9a3c07e26348",
   "metadata": {},
   "source": [
    "## 3. 성적처리 함수를 만들고자 한다.\n",
    "- 학생이 입력한 값의 평균을 계산해서 90점 이상이면 A / 80점 이상이면 B / 70점 이상이면 C / 나머지는 D 를 출력하는 함수를 구성\n",
    "    - 입력값 (input) / 5개의 숫자 값을 입력 / 띄어쓰기로 구분하여 입력\n",
    "    - 입력값에 학생이름도 포함\n",
    "        - ex) 홍길동 100 90 54 90 34\n",
    "    - 출력 : 홍길동 학생의 평균은 00 입니다. 학점은 00입니다."
   ]
  },
  {
   "cell_type": "code",
   "execution_count": 7,
   "id": "5dca6de3-bcb8-4abc-b7f3-b26df56e39c3",
   "metadata": {},
   "outputs": [],
   "source": [
    "def mean_lst(lst):\n",
    "    sum = 0\n",
    "    for i in range(len(lst)):\n",
    "        sum += lst[i]\n",
    "    \n",
    "    score_mean = sum/len(lst)\n",
    "\n",
    "    if score_mean>=90:\n",
    "        score = \"A\"\n",
    "    elif score_mean>=80:\n",
    "        score = \"B\"\n",
    "    elif score_mean>=70:\n",
    "        score = \"C\"\n",
    "    else:\n",
    "        score = \"D\"\n",
    "    \n",
    "    return score_mean,score"
   ]
  },
  {
   "cell_type": "code",
   "execution_count": 8,
   "id": "ebeb9558-5d95-4e02-9bf5-cba4b5be3a6c",
   "metadata": {},
   "outputs": [
    {
     "name": "stdin",
     "output_type": "stream",
     "text": [
      "이름을 입력하세요 홍길동\n",
      "점수를 입력하세요 10 10 10 10 30\n"
     ]
    },
    {
     "name": "stdout",
     "output_type": "stream",
     "text": [
      "홍길동학생의 평균은 14.0 입니다. 학점은 D입니다.\n"
     ]
    }
   ],
   "source": [
    "name = input('이름을 입력하세요')\n",
    "lst_input = list(map(int, input('점수를 입력하세요').split()))\n",
    "score_mean,score = mean_lst(lst_input)\n",
    "print(f\"{name}학생의 평균은 {score_mean} 입니다. 학점은 {score}입니다.\")"
   ]
  },
  {
   "cell_type": "markdown",
   "id": "ac884336-6fb9-4f7b-9fd2-d1972b5a0806",
   "metadata": {},
   "source": [
    "## 4. 윤년 / 평년을 판별하는 함수를 구성\n",
    "- 윤년 : 4의 배수에 해당하는 연도 / 100으로 나눠지지 않는 연도 / 400으로 나눠지는 연도\n",
    "- 평년 : 위 조건에 해당하지 않는 경우\n",
    "\n",
    "- 숙련자 : if문 없이 생성 : Dictionary로 구성"
   ]
  },
  {
   "cell_type": "code",
   "execution_count": 11,
   "id": "a696b74d-524f-4c04-8ec4-d1e0bea01568",
   "metadata": {},
   "outputs": [],
   "source": [
    "def determine_year(x):\n",
    "    # 딕셔너리로 if문 대신할 수 있음\n",
    "    if (x%4==0 and x%100!=0) or x%400==0:\n",
    "        return '윤년'\n",
    "    else:\n",
    "        return '평년'"
   ]
  },
  {
   "cell_type": "code",
   "execution_count": 22,
   "id": "f4d9d49d-ba8e-4041-b30d-0d849693355a",
   "metadata": {},
   "outputs": [],
   "source": [
    "# 1. 판별 딕셔너리 하나 만들어서 윤년여부랑, 참거짓 여부 넣음\n",
    "# 2. 변수하나 만들어서 참,거짓 값 저장하기\n",
    "# 3. 저정된 참 거짓 값으로 벨류 가져오기 -> 평년, 윤달 판별됨\n",
    "\n",
    "def determine_year2(x):\n",
    "    # 딕셔너리로 if문 대신할 수 있음\n",
    "    now_year = {True : '윤년', False : '평년'} # 딕셔너리 제시\n",
    "    is_year = (x%4==0 and x%100!=0) or x%400==0\n",
    "    return now_year[is_year] # 키값으로 벨류 가져오기"
   ]
  },
  {
   "cell_type": "code",
   "execution_count": 25,
   "id": "6663d192-51a7-493d-8663-2ff13ade2265",
   "metadata": {},
   "outputs": [
    {
     "name": "stdout",
     "output_type": "stream",
     "text": [
      "{2009: '평년'}\n",
      "{2011: '평년'}\n",
      "{2020: '윤년'}\n",
      "{2022: '평년'}\n"
     ]
    }
   ],
   "source": [
    "years = [2009, 2011, 2020, 2022]\n",
    "\n",
    "for y in years:\n",
    "    results = {y: determine_year2(y)}\n",
    "    print(results)"
   ]
  },
  {
   "cell_type": "code",
   "execution_count": 23,
   "id": "babcef0f-19b9-4928-ae3c-57ac3a282d32",
   "metadata": {},
   "outputs": [
    {
     "name": "stdin",
     "output_type": "stream",
     "text": [
      " 2030\n"
     ]
    },
    {
     "name": "stdout",
     "output_type": "stream",
     "text": [
      "{2030: '평년'}\n"
     ]
    }
   ],
   "source": [
    "years = []\n",
    "result = []\n",
    "\n",
    "year = int(input())\n",
    "r=determine_year2(year)\n",
    "\n",
    "years.append(year)\n",
    "result.append(r)\n",
    "\n",
    "# print(years)\n",
    "# print(result)\n",
    "\n",
    "yy=dict(zip(years,result))\n",
    "print(yy)"
   ]
  },
  {
   "cell_type": "code",
   "execution_count": null,
   "id": "22677d22-2206-4c8e-8154-b42adf6c83b2",
   "metadata": {},
   "outputs": [],
   "source": []
  },
  {
   "cell_type": "code",
   "execution_count": null,
   "id": "f36dac46-90ab-4587-a871-22a1eb28351e",
   "metadata": {},
   "outputs": [],
   "source": []
  }
 ],
 "metadata": {
  "kernelspec": {
   "display_name": "Python 3 (ipykernel)",
   "language": "python",
   "name": "python3"
  },
  "language_info": {
   "codemirror_mode": {
    "name": "ipython",
    "version": 3
   },
   "file_extension": ".py",
   "mimetype": "text/x-python",
   "name": "python",
   "nbconvert_exporter": "python",
   "pygments_lexer": "ipython3",
   "version": "3.11.7"
  }
 },
 "nbformat": 4,
 "nbformat_minor": 5
}
