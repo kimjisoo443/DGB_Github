{
 "cells": [
  {
   "cell_type": "markdown",
   "id": "9900db02-b311-4fe3-b70b-b5e57465939c",
   "metadata": {
    "jp-MarkdownHeadingCollapsed": true
   },
   "source": [
    "# 미션 (오전)\n",
    "- 자료구조"
   ]
  },
  {
   "cell_type": "code",
   "execution_count": null,
   "id": "dcc67477-8193-4bf7-a3e4-d8567d40e7ae",
   "metadata": {},
   "outputs": [],
   "source": [
    "#1"
   ]
  },
  {
   "cell_type": "code",
   "execution_count": 141,
   "id": "37a59be0-6849-4286-bf11-2cd5a4fd0e8c",
   "metadata": {},
   "outputs": [
    {
     "data": {
      "text/plain": [
       "{'과목': 'python', '이름': '홍길동', '일자': '20240701'}"
      ]
     },
     "execution_count": 141,
     "metadata": {},
     "output_type": "execute_result"
    }
   ],
   "source": [
    "dict1 = {'과목':'python','이름':'홍길동','일자':'20240701'}\n",
    "k = dict1.keys()\n",
    "v = dict1.values()\n",
    "dict(zip(k,v))"
   ]
  },
  {
   "cell_type": "code",
   "execution_count": null,
   "id": "bd24b025-695f-40ab-b65f-bcca1fb19de9",
   "metadata": {},
   "outputs": [],
   "source": [
    "#2"
   ]
  },
  {
   "cell_type": "code",
   "execution_count": 3,
   "id": "25458f19-1b91-4e26-9973-6aeb74021d94",
   "metadata": {},
   "outputs": [],
   "source": [
    "lst = []"
   ]
  },
  {
   "cell_type": "code",
   "execution_count": 7,
   "id": "149abdbb-25d4-48ba-9166-c0eacc533c22",
   "metadata": {},
   "outputs": [
    {
     "name": "stdin",
     "output_type": "stream",
     "text": [
      " 1.56\n",
      " 43\n"
     ]
    },
    {
     "name": "stdout",
     "output_type": "stream",
     "text": [
      "[21.604938271604937, 22.058051188683873, 17.67]\n"
     ]
    }
   ],
   "source": [
    "tall = float(input())\n",
    "weight = float(input())\n",
    "\n",
    "bmi = weight/tall**2\n",
    "\n",
    "lst.append(round(bmi,2))\n",
    "print(lst)"
   ]
  },
  {
   "cell_type": "code",
   "execution_count": null,
   "id": "849c99a8-b035-44f1-95e5-186a088b3f66",
   "metadata": {},
   "outputs": [],
   "source": [
    "#3"
   ]
  },
  {
   "cell_type": "code",
   "execution_count": 120,
   "id": "c83ae9bd-1c8f-4d11-9287-5970f8b05011",
   "metadata": {},
   "outputs": [
    {
     "data": {
      "text/plain": [
       "['Music', 'Is', 'My', 'Life']"
      ]
     },
     "execution_count": 120,
     "metadata": {},
     "output_type": "execute_result"
    }
   ],
   "source": [
    "str = 'Music is my life'\n",
    "list_str = list(str.split())\n",
    "list_str[1] = list_str[1].capitalize()\n",
    "list_str[2] = list_str[2].capitalize()\n",
    "list_str[3] = list_str[3].capitalize()\n",
    "list_str"
   ]
  },
  {
   "cell_type": "code",
   "execution_count": null,
   "id": "590bf7a6-a76c-4289-a153-4258e36df319",
   "metadata": {},
   "outputs": [],
   "source": [
    "#4"
   ]
  },
  {
   "cell_type": "code",
   "execution_count": 9,
   "id": "d1118035-3d66-4f2d-8e35-a0265bc54e02",
   "metadata": {},
   "outputs": [
    {
     "data": {
      "text/plain": [
       "(13, 234, 53, 22, 35, 80)"
      ]
     },
     "execution_count": 9,
     "metadata": {},
     "output_type": "execute_result"
    }
   ],
   "source": [
    "t1=(13,234,53,22,35)\n",
    "t1_lst=list(t1)\n",
    "t1_lst.append(80)\n",
    "t1_1 = tuple(t1_lst)\n",
    "t1_1"
   ]
  },
  {
   "cell_type": "code",
   "execution_count": 128,
   "id": "a36f9ca8-9287-492c-82b8-dbb9e342a30a",
   "metadata": {},
   "outputs": [],
   "source": [
    "#5"
   ]
  },
  {
   "cell_type": "code",
   "execution_count": 132,
   "id": "a4cd0494-fc1a-4449-975a-994fbbb1bb88",
   "metadata": {},
   "outputs": [
    {
     "data": {
      "text/plain": [
       "['C', 123, 'B', 'D', 'F']"
      ]
     },
     "execution_count": 132,
     "metadata": {},
     "output_type": "execute_result"
    }
   ],
   "source": [
    "list1=['A',123,'B','D','F']\n",
    "list1[list1.index('A')] = 'C'\n",
    "list1"
   ]
  },
  {
   "cell_type": "code",
   "execution_count": null,
   "id": "2dd8f3e9-82b4-4ff2-9e3d-ed9441869c94",
   "metadata": {},
   "outputs": [],
   "source": [
    "#6"
   ]
  },
  {
   "cell_type": "code",
   "execution_count": 136,
   "id": "efa736f8-64af-4c60-933b-12fd0322b13c",
   "metadata": {},
   "outputs": [
    {
     "data": {
      "text/plain": [
       "[1, 3, 5]"
      ]
     },
     "execution_count": 136,
     "metadata": {},
     "output_type": "execute_result"
    }
   ],
   "source": [
    "list1 = [1,2,3,4,5,6,7,8,9]\n",
    "list2 = [2,4,6,7,8,9]\n",
    "result = []\n",
    "lst1 = set(list1)\n",
    "lst2 = set(list2)\n",
    "list(lst1 - lst2)"
   ]
  },
  {
   "cell_type": "markdown",
   "id": "956230f1-e54f-483d-9de8-353c512ffd00",
   "metadata": {},
   "source": [
    "# 미션 (오후)\n",
    "- 파이썬 구문 (조건/반복문)\n",
    "- 예외처리\n",
    "- 함수\n",
    "- 라이브러리\n",
    "- 클래스"
   ]
  },
  {
   "cell_type": "code",
   "execution_count": null,
   "id": "3757e0dd-94cc-4f34-b9c5-fe67a1c7ed0f",
   "metadata": {},
   "outputs": [],
   "source": [
    "#1 "
   ]
  },
  {
   "cell_type": "code",
   "execution_count": null,
   "id": "7dc19474-2046-48c2-8452-a767de2192c6",
   "metadata": {},
   "outputs": [],
   "source": []
  },
  {
   "cell_type": "code",
   "execution_count": null,
   "id": "e69c5300-1a4b-47b3-a557-775584e0db2a",
   "metadata": {},
   "outputs": [],
   "source": []
  },
  {
   "cell_type": "code",
   "execution_count": null,
   "id": "b5f4b281-7b2e-4461-8fda-61e9569790dc",
   "metadata": {},
   "outputs": [],
   "source": []
  },
  {
   "cell_type": "code",
   "execution_count": null,
   "id": "da5a9155-9513-42fa-9802-83316f438d80",
   "metadata": {},
   "outputs": [],
   "source": []
  },
  {
   "cell_type": "code",
   "execution_count": null,
   "id": "e1f4f028-c410-4d46-aa7b-6e5ce58c6b0d",
   "metadata": {},
   "outputs": [],
   "source": []
  },
  {
   "cell_type": "code",
   "execution_count": null,
   "id": "0011c2d1-93fd-42dc-ae72-97d64c010c64",
   "metadata": {},
   "outputs": [],
   "source": []
  },
  {
   "cell_type": "code",
   "execution_count": null,
   "id": "cb0673c0-af9d-44fd-a522-857c6f86662a",
   "metadata": {},
   "outputs": [],
   "source": []
  },
  {
   "cell_type": "code",
   "execution_count": null,
   "id": "8080f5db-7f6d-4738-bbc2-de12c4fce710",
   "metadata": {},
   "outputs": [],
   "source": []
  },
  {
   "cell_type": "code",
   "execution_count": null,
   "id": "4c245cd7-a0b9-4975-967e-6441005ef7b7",
   "metadata": {},
   "outputs": [],
   "source": []
  },
  {
   "cell_type": "code",
   "execution_count": null,
   "id": "81d26328-5bfa-42ec-84ab-67e8339d20de",
   "metadata": {},
   "outputs": [],
   "source": []
  },
  {
   "cell_type": "code",
   "execution_count": null,
   "id": "4a1afc2e-7e15-49e3-84a7-56a7afd8e410",
   "metadata": {},
   "outputs": [],
   "source": []
  },
  {
   "cell_type": "code",
   "execution_count": null,
   "id": "b0a55fb6-8289-4963-b5b9-f472e23718f7",
   "metadata": {},
   "outputs": [],
   "source": []
  },
  {
   "cell_type": "markdown",
   "id": "14612158-78f5-4069-a63e-7fc533ee4326",
   "metadata": {},
   "source": [
    "# Jupyter Notebook 사용법\n",
    "- cell : 코드나 마크다운을 작성하는 하나의 상자\n",
    "- markdown mode : 마크다운이란마크업 언어의 일종이다\n",
    "- [Shift] + [Enter] : 셀 실행\n",
    "- [Alt] + [Enter] : 하단에 셀을 추가하면서 셀 실행\n",
    "- [ESC] + [M] : 마크다운모드로 변경\n",
    "- [ESC] + [Y] : 코드모드로 변경\n",
    "- [ESC] + [R] : Raw 모드로 변경 (텍스트 작성)"
   ]
  },
  {
   "cell_type": "markdown",
   "id": "97da3277-e098-4e39-8683-0d452baf9dcf",
   "metadata": {
    "jp-MarkdownHeadingCollapsed": true
   },
   "source": [
    "## 단축키\n",
    "- [ESC] : command mode\n",
    "- [A] : above 상단에 셀 추가\n",
    "- [B] : below 하단에 셀 추가\n",
    "- [X ] : 잘라내기\n",
    "- [V] :붙여넣기\n",
    "- [DD] :삭제\n",
    "- [Z] :실행취소\n",
    "- [Ctrl] + [S] : 저장\n",
    "- [Ctrl] + [Z] : 주석모드\n"
   ]
  },
  {
   "cell_type": "markdown",
   "id": "758142cf-03d1-499a-aaf8-928524c059ff",
   "metadata": {},
   "source": [
    "파이썬 기초 문법"
   ]
  },
  {
   "cell_type": "code",
   "execution_count": 2,
   "id": "db8a5a31-5998-460c-b533-354732862f6c",
   "metadata": {},
   "outputs": [],
   "source": [
    "data = 300"
   ]
  },
  {
   "cell_type": "code",
   "execution_count": 3,
   "id": "a9ff54fa-6869-431e-858e-b5ac07f3bb1f",
   "metadata": {},
   "outputs": [
    {
     "data": {
      "text/plain": [
       "300"
      ]
     },
     "execution_count": 3,
     "metadata": {},
     "output_type": "execute_result"
    }
   ],
   "source": [
    "data"
   ]
  },
  {
   "cell_type": "code",
   "execution_count": 4,
   "id": "940fc579-767c-491a-a80c-2c1158bf97aa",
   "metadata": {},
   "outputs": [],
   "source": [
    "text1 = '안녕하세요 오늘은 날씨가 좋습니다'"
   ]
  },
  {
   "cell_type": "code",
   "execution_count": 5,
   "id": "060d80db-9576-43a0-9cb5-b864a777640e",
   "metadata": {},
   "outputs": [
    {
     "data": {
      "text/plain": [
       "'안녕하세요 오늘은 날씨가 좋습니다'"
      ]
     },
     "execution_count": 5,
     "metadata": {},
     "output_type": "execute_result"
    }
   ],
   "source": [
    "text1"
   ]
  },
  {
   "cell_type": "code",
   "execution_count": 7,
   "id": "7f673755-abda-4598-a488-0fd70016403a",
   "metadata": {},
   "outputs": [
    {
     "data": {
      "text/plain": [
       "100"
      ]
     },
     "execution_count": 7,
     "metadata": {},
     "output_type": "execute_result"
    }
   ],
   "source": [
    "data1 = 300\n",
    "data2 = -200\n",
    "data1 + data2"
   ]
  },
  {
   "cell_type": "code",
   "execution_count": 8,
   "id": "05c57431-a44a-4a64-961b-fa731bfe9cde",
   "metadata": {},
   "outputs": [
    {
     "ename": "TypeError",
     "evalue": "can only concatenate str (not \"int\") to str",
     "output_type": "error",
     "traceback": [
      "\u001b[1;31m---------------------------------------------------------------------------\u001b[0m",
      "\u001b[1;31mTypeError\u001b[0m                                 Traceback (most recent call last)",
      "Cell \u001b[1;32mIn[8], line 1\u001b[0m\n\u001b[1;32m----> 1\u001b[0m text1 \u001b[38;5;241m+\u001b[39m data1\n",
      "\u001b[1;31mTypeError\u001b[0m: can only concatenate str (not \"int\") to str"
     ]
    }
   ],
   "source": [
    "text1 + data1"
   ]
  },
  {
   "cell_type": "markdown",
   "id": "9cd6423c-2f0c-49a5-8edc-aff9cf608bee",
   "metadata": {
    "jp-MarkdownHeadingCollapsed": true
   },
   "source": [
    "# 데이터 타입 (3가지)\n",
    "- 데이터 타입에 따라서 분석하는 방법이 달라짐\n",
    "- 숫자형 : int(정수형) / float(실수형)\n",
    "- 문자형 : str(문자열) / object(범주형)\n",
    "- 논리형 : bool True / False "
   ]
  },
  {
   "cell_type": "code",
   "execution_count": 13,
   "id": "fcab1995-d9ae-4ec0-a715-15ccbf3b9e58",
   "metadata": {},
   "outputs": [
    {
     "data": {
      "text/plain": [
       "3"
      ]
     },
     "execution_count": 13,
     "metadata": {},
     "output_type": "execute_result"
    }
   ],
   "source": [
    "int(3.1)"
   ]
  },
  {
   "cell_type": "code",
   "execution_count": 14,
   "id": "38e8e36a-fc0f-4310-b5df-90adcb8efe48",
   "metadata": {},
   "outputs": [],
   "source": [
    "int1 = 1"
   ]
  },
  {
   "cell_type": "code",
   "execution_count": 15,
   "id": "1e182cff-d557-4a91-8956-3a692aeeb090",
   "metadata": {},
   "outputs": [
    {
     "data": {
      "text/plain": [
       "int"
      ]
     },
     "execution_count": 15,
     "metadata": {},
     "output_type": "execute_result"
    }
   ],
   "source": [
    "type(int1) #데이터 타입을 확인할 수 있는 함수"
   ]
  },
  {
   "cell_type": "code",
   "execution_count": 16,
   "id": "7fe8fd49-18fb-4fc5-9274-dc1949e32600",
   "metadata": {},
   "outputs": [
    {
     "data": {
      "text/plain": [
       "float"
      ]
     },
     "execution_count": 16,
     "metadata": {},
     "output_type": "execute_result"
    }
   ],
   "source": [
    "float1 = 3.14\n",
    "type(float1)"
   ]
  },
  {
   "cell_type": "code",
   "execution_count": 19,
   "id": "78a6b68e-741c-489b-94a1-91e83c49fb7f",
   "metadata": {},
   "outputs": [],
   "source": [
    "bool1 = True"
   ]
  },
  {
   "cell_type": "code",
   "execution_count": 20,
   "id": "a5a899b1-3494-4aef-b048-e4159aa47308",
   "metadata": {},
   "outputs": [
    {
     "data": {
      "text/plain": [
       "bool"
      ]
     },
     "execution_count": 20,
     "metadata": {},
     "output_type": "execute_result"
    }
   ],
   "source": [
    "type(bool1)"
   ]
  },
  {
   "cell_type": "markdown",
   "id": "176be90b-b623-4c1d-92b5-455debb5d05a",
   "metadata": {
    "jp-MarkdownHeadingCollapsed": true
   },
   "source": [
    "# 연산\n",
    "- 데이터타입에 따라 연산 방법이 달라짐"
   ]
  },
  {
   "cell_type": "code",
   "execution_count": 21,
   "id": "b40abc58-ef32-4437-ada6-6a684a6c6d52",
   "metadata": {},
   "outputs": [
    {
     "data": {
      "text/plain": [
       "50"
      ]
     },
     "execution_count": 21,
     "metadata": {},
     "output_type": "execute_result"
    }
   ],
   "source": [
    "data1 = 12\n",
    "data2 = 38\n",
    "data1 + data2"
   ]
  },
  {
   "cell_type": "code",
   "execution_count": 22,
   "id": "e5b46f44-a793-40d7-a3f4-3ef26cc080c2",
   "metadata": {},
   "outputs": [
    {
     "data": {
      "text/plain": [
       "456"
      ]
     },
     "execution_count": 22,
     "metadata": {},
     "output_type": "execute_result"
    }
   ],
   "source": [
    "data1 * data2"
   ]
  },
  {
   "cell_type": "code",
   "execution_count": 23,
   "id": "2e2ae174-42e0-4e6b-b7db-1f848ec6fbff",
   "metadata": {},
   "outputs": [
    {
     "data": {
      "text/plain": [
       "0.3157894736842105"
      ]
     },
     "execution_count": 23,
     "metadata": {},
     "output_type": "execute_result"
    }
   ],
   "source": [
    "data1 / data2"
   ]
  },
  {
   "cell_type": "code",
   "execution_count": 24,
   "id": "b336262f-ab5e-4909-9fff-3f694142cd17",
   "metadata": {},
   "outputs": [
    {
     "data": {
      "text/plain": [
       "90000"
      ]
     },
     "execution_count": 24,
     "metadata": {},
     "output_type": "execute_result"
    }
   ],
   "source": [
    "data ** 2"
   ]
  },
  {
   "cell_type": "code",
   "execution_count": 25,
   "id": "56629c3f-f393-4045-b7d7-bf49f61e21d1",
   "metadata": {},
   "outputs": [
    {
     "data": {
      "text/plain": [
       "0"
      ]
     },
     "execution_count": 25,
     "metadata": {},
     "output_type": "execute_result"
    }
   ],
   "source": [
    "data1 % 2 #나머지"
   ]
  },
  {
   "cell_type": "code",
   "execution_count": 26,
   "id": "ba989ae7-09ce-4c34-8ad1-063019c25bee",
   "metadata": {},
   "outputs": [
    {
     "data": {
      "text/plain": [
       "6"
      ]
     },
     "execution_count": 26,
     "metadata": {},
     "output_type": "execute_result"
    }
   ],
   "source": [
    "data1 // 2 #몫"
   ]
  },
  {
   "cell_type": "code",
   "execution_count": 27,
   "id": "cd707663-f770-4c68-abbe-15a9d861233e",
   "metadata": {},
   "outputs": [
    {
     "data": {
      "text/plain": [
       "25.0"
      ]
     },
     "execution_count": 27,
     "metadata": {},
     "output_type": "execute_result"
    }
   ],
   "source": [
    "((data1+data2)) / 2"
   ]
  },
  {
   "cell_type": "code",
   "execution_count": 28,
   "id": "11c61026-9a5b-4069-9e81-6156f5685ca7",
   "metadata": {},
   "outputs": [
    {
     "data": {
      "text/plain": [
       "'pythondata'"
      ]
     },
     "execution_count": 28,
     "metadata": {},
     "output_type": "execute_result"
    }
   ],
   "source": [
    "# 문자 데이터 연산\n",
    "data3 = 'python'\n",
    "data4 = 'data'\n",
    "data3 + data4"
   ]
  },
  {
   "cell_type": "code",
   "execution_count": 29,
   "id": "8c01ca8e-3450-4b54-8615-a716f331be60",
   "metadata": {},
   "outputs": [
    {
     "data": {
      "text/plain": [
       "'python data'"
      ]
     },
     "execution_count": 29,
     "metadata": {},
     "output_type": "execute_result"
    }
   ],
   "source": [
    "data3+' '+data4"
   ]
  },
  {
   "cell_type": "code",
   "execution_count": 30,
   "id": "389acd1f-cefa-43ed-a0da-c6940db10db0",
   "metadata": {},
   "outputs": [
    {
     "data": {
      "text/plain": [
       "'pythonpythonpython'"
      ]
     },
     "execution_count": 30,
     "metadata": {},
     "output_type": "execute_result"
    }
   ],
   "source": [
    "data3*3"
   ]
  },
  {
   "cell_type": "code",
   "execution_count": 31,
   "id": "57bba931-8f7d-4890-bfe4-b12ca3843601",
   "metadata": {},
   "outputs": [
    {
     "data": {
      "text/plain": [
       "True"
      ]
     },
     "execution_count": 31,
     "metadata": {},
     "output_type": "execute_result"
    }
   ],
   "source": [
    "data3 > data4 #알파벳 순서상 뒤에 위치한 값이 더 큼"
   ]
  },
  {
   "cell_type": "code",
   "execution_count": 32,
   "id": "0971f161-ad6b-4356-9cec-cbe28963d36d",
   "metadata": {},
   "outputs": [
    {
     "name": "stdout",
     "output_type": "stream",
     "text": [
      "33\n"
     ]
    }
   ],
   "source": [
    "print(33)"
   ]
  },
  {
   "cell_type": "code",
   "execution_count": 33,
   "id": "646c7742-f5c0-4f5e-9ead-9bfd3de568a0",
   "metadata": {},
   "outputs": [
    {
     "data": {
      "text/plain": [
       "'가나다양산'"
      ]
     },
     "execution_count": 33,
     "metadata": {},
     "output_type": "execute_result"
    }
   ],
   "source": [
    "data4 = '가나다'\n",
    "data5 = '양산'\n",
    "data4+data5"
   ]
  },
  {
   "cell_type": "markdown",
   "id": "797b721e-704c-46bc-b324-35190333df53",
   "metadata": {},
   "source": [
    "논리연산"
   ]
  },
  {
   "cell_type": "code",
   "execution_count": 35,
   "id": "409d52bc-e61d-4137-8a14-73600e9d9775",
   "metadata": {},
   "outputs": [
    {
     "data": {
      "text/plain": [
       "False"
      ]
     },
     "execution_count": 35,
     "metadata": {},
     "output_type": "execute_result"
    }
   ],
   "source": [
    "3 == 4"
   ]
  },
  {
   "cell_type": "code",
   "execution_count": 36,
   "id": "f2f40e85-b4b1-4999-993a-fa529126d9f2",
   "metadata": {},
   "outputs": [
    {
     "data": {
      "text/plain": [
       "True"
      ]
     },
     "execution_count": 36,
     "metadata": {},
     "output_type": "execute_result"
    }
   ],
   "source": [
    "3 != 4"
   ]
  },
  {
   "cell_type": "code",
   "execution_count": 40,
   "id": "d4a7187e-d816-4de2-b623-ce4943d128f6",
   "metadata": {},
   "outputs": [],
   "source": [
    "data7 = 13\n",
    "data6 = 14"
   ]
  },
  {
   "cell_type": "code",
   "execution_count": 43,
   "id": "39e9fdf6-7d60-46a7-9b09-36cb06793b4a",
   "metadata": {},
   "outputs": [
    {
     "data": {
      "text/plain": [
       "True"
      ]
     },
     "execution_count": 43,
     "metadata": {},
     "output_type": "execute_result"
    }
   ],
   "source": [
    "data6 > data7"
   ]
  },
  {
   "cell_type": "markdown",
   "id": "30074c3d-7e88-40ac-8bf8-09a3551413a3",
   "metadata": {
    "jp-MarkdownHeadingCollapsed": true
   },
   "source": [
    "# 자료구조\n",
    "- 데이터를 담는 폴더의 형식\n",
    "- list[]\n",
    "- tuple()\n",
    "- set{}\n",
    "- dictionary {'key1':'val1','key2':'val2'}"
   ]
  },
  {
   "cell_type": "markdown",
   "id": "a1559573-c51e-47ef-aed4-54f70946c67f",
   "metadata": {
    "jp-MarkdownHeadingCollapsed": true
   },
   "source": [
    "# 리스트\n",
    "- [대괄호]로 구성\n",
    "- 데이터의 순서가 존재\n",
    "- 중복값 허용\n",
    "- 데이터의 수정 가능"
   ]
  },
  {
   "cell_type": "code",
   "execution_count": 44,
   "id": "b2deb990-5efa-464f-80fb-2751adf15fb3",
   "metadata": {},
   "outputs": [
    {
     "data": {
      "text/plain": [
       "[1, 2, 3, 4, 5]"
      ]
     },
     "execution_count": 44,
     "metadata": {},
     "output_type": "execute_result"
    }
   ],
   "source": [
    "list1 = [1,2,3,4,5]\n",
    "list1"
   ]
  },
  {
   "cell_type": "code",
   "execution_count": 45,
   "id": "171123fd-5428-488c-bd2a-c1511bf4bb48",
   "metadata": {},
   "outputs": [
    {
     "data": {
      "text/plain": [
       "list"
      ]
     },
     "execution_count": 45,
     "metadata": {},
     "output_type": "execute_result"
    }
   ],
   "source": [
    "type(list1)"
   ]
  },
  {
   "cell_type": "code",
   "execution_count": 46,
   "id": "ce51caab-189e-4043-bfc0-b4bdc8e7f21d",
   "metadata": {},
   "outputs": [
    {
     "data": {
      "text/plain": [
       "[1, 4, 2, 5]"
      ]
     },
     "execution_count": 46,
     "metadata": {},
     "output_type": "execute_result"
    }
   ],
   "source": [
    "list2 = [1,4,2,5]\n",
    "list2"
   ]
  },
  {
   "cell_type": "code",
   "execution_count": 47,
   "id": "4353271e-a6ec-4526-8bf0-37eb9fc37af8",
   "metadata": {},
   "outputs": [],
   "source": [
    "list3 = ['a','b','c']"
   ]
  },
  {
   "cell_type": "code",
   "execution_count": 48,
   "id": "34c96d52-3416-4862-be48-79589bfc8e87",
   "metadata": {},
   "outputs": [
    {
     "data": {
      "text/plain": [
       "'a'"
      ]
     },
     "execution_count": 48,
     "metadata": {},
     "output_type": "execute_result"
    }
   ],
   "source": [
    "list3[0]"
   ]
  },
  {
   "cell_type": "code",
   "execution_count": 50,
   "id": "c60a78e5-98a4-4e0c-b035-03959f8f3c57",
   "metadata": {},
   "outputs": [],
   "source": [
    "list3[2] = 'z'"
   ]
  },
  {
   "cell_type": "code",
   "execution_count": 52,
   "id": "0c332958-8c34-4d1b-ace0-66392d9206d5",
   "metadata": {},
   "outputs": [
    {
     "data": {
      "text/plain": [
       "['a', 'b', 'z']"
      ]
     },
     "execution_count": 52,
     "metadata": {},
     "output_type": "execute_result"
    }
   ],
   "source": [
    "list3"
   ]
  },
  {
   "cell_type": "markdown",
   "id": "c4215696-31a8-44d9-974f-1c2c602563f8",
   "metadata": {
    "jp-MarkdownHeadingCollapsed": true
   },
   "source": [
    "# 슬라이싱\n",
    "-c[n,m] : n부터 m-1까지 호출\n"
   ]
  },
  {
   "cell_type": "code",
   "execution_count": 53,
   "id": "940f8daf-0646-40d9-af64-417c01c105fe",
   "metadata": {},
   "outputs": [
    {
     "data": {
      "text/plain": [
       "['a', 'b']"
      ]
     },
     "execution_count": 53,
     "metadata": {},
     "output_type": "execute_result"
    }
   ],
   "source": [
    "list3[0:2]"
   ]
  },
  {
   "cell_type": "markdown",
   "id": "9238baef-195c-4a58-9990-557489deaf33",
   "metadata": {
    "jp-MarkdownHeadingCollapsed": true
   },
   "source": [
    "# 데이터 추가/ 삭제/ 변경"
   ]
  },
  {
   "cell_type": "code",
   "execution_count": 55,
   "id": "bcc9738a-46ff-42d6-87da-1a23927a5674",
   "metadata": {},
   "outputs": [],
   "source": [
    "list5 = ['국어','수학','영어']"
   ]
  },
  {
   "cell_type": "code",
   "execution_count": 56,
   "id": "25298197-a9ea-48e7-a6d6-400eee576ba5",
   "metadata": {},
   "outputs": [
    {
     "ename": "TypeError",
     "evalue": "descriptor 'insert' for 'list' objects doesn't apply to a 'int' object",
     "output_type": "error",
     "traceback": [
      "\u001b[1;31m---------------------------------------------------------------------------\u001b[0m",
      "\u001b[1;31mTypeError\u001b[0m                                 Traceback (most recent call last)",
      "Cell \u001b[1;32mIn[56], line 1\u001b[0m\n\u001b[1;32m----> 1\u001b[0m \u001b[38;5;28mlist\u001b[39m\u001b[38;5;241m.\u001b[39minsert(\u001b[38;5;241m0\u001b[39m,\u001b[38;5;124m'\u001b[39m\u001b[38;5;124m과학\u001b[39m\u001b[38;5;124m'\u001b[39m)\n\u001b[0;32m      2\u001b[0m list5\n",
      "\u001b[1;31mTypeError\u001b[0m: descriptor 'insert' for 'list' objects doesn't apply to a 'int' object"
     ]
    }
   ],
   "source": [
    "list.insert(0,'과학')\n",
    "list5"
   ]
  },
  {
   "cell_type": "markdown",
   "id": "3d6b6722-0f2c-47d7-9da1-3efccdc5208f",
   "metadata": {
    "jp-MarkdownHeadingCollapsed": true
   },
   "source": [
    "# tuple\n",
    "- 수정 안되서 안전성 때문데 개발시에 한번씩 사용\n",
    "- 데이터에선 많이 사용 X"
   ]
  },
  {
   "cell_type": "code",
   "execution_count": 57,
   "id": "f0e91acb-85f7-4b43-9937-5c2faefaf8dd",
   "metadata": {},
   "outputs": [],
   "source": [
    "tuple1= (1,2,3)"
   ]
  },
  {
   "cell_type": "code",
   "execution_count": 58,
   "id": "110b91b7-ca13-453d-ad4d-f55187aa4395",
   "metadata": {},
   "outputs": [
    {
     "data": {
      "text/plain": [
       "[1, 2, 3]"
      ]
     },
     "execution_count": 58,
     "metadata": {},
     "output_type": "execute_result"
    }
   ],
   "source": [
    "list(tuple1)"
   ]
  },
  {
   "cell_type": "code",
   "execution_count": 59,
   "id": "ff624d78-c7db-4156-854a-32782fff5ffc",
   "metadata": {},
   "outputs": [
    {
     "data": {
      "text/plain": [
       "[1, 2, 3]"
      ]
     },
     "execution_count": 59,
     "metadata": {},
     "output_type": "execute_result"
    }
   ],
   "source": [
    "list2 =list(tuple1)\n",
    "list2"
   ]
  },
  {
   "cell_type": "code",
   "execution_count": 60,
   "id": "20e6dcaa-7c64-4815-849b-a1095d341ff4",
   "metadata": {},
   "outputs": [
    {
     "data": {
      "text/plain": [
       "[0, 2, 3]"
      ]
     },
     "execution_count": 60,
     "metadata": {},
     "output_type": "execute_result"
    }
   ],
   "source": [
    "list2[0] = 0\n",
    "list2"
   ]
  },
  {
   "cell_type": "code",
   "execution_count": 62,
   "id": "4f650bb4-bc35-462b-910d-5a6f09eb5f9e",
   "metadata": {},
   "outputs": [],
   "source": [
    "tuple2 = tuple(list2)"
   ]
  },
  {
   "cell_type": "markdown",
   "id": "e9186c3b-d950-48a4-b529-b207551cc09e",
   "metadata": {
    "jp-MarkdownHeadingCollapsed": true
   },
   "source": [
    "# Set 세트\n",
    "- {} 중괄호\n",
    "- 중복 허용 x\n",
    "- 데이터 수정 가능\n",
    "- 집합연산이 가능"
   ]
  },
  {
   "cell_type": "code",
   "execution_count": 63,
   "id": "c551de57-cb14-4b61-a88d-f5ec316cbcfa",
   "metadata": {},
   "outputs": [
    {
     "data": {
      "text/plain": [
       "{1, 2, 3, 4, 5, 6, 7}"
      ]
     },
     "execution_count": 63,
     "metadata": {},
     "output_type": "execute_result"
    }
   ],
   "source": [
    "set1 = {1,2,3,4,5,6,7}\n",
    "set1"
   ]
  },
  {
   "cell_type": "code",
   "execution_count": 64,
   "id": "93b5059c-c20e-4694-acdb-bbfb992e85bc",
   "metadata": {},
   "outputs": [],
   "source": [
    "set2 = {2,3,4,5,6}\n",
    "set3 = {1,2,3}"
   ]
  },
  {
   "cell_type": "code",
   "execution_count": 65,
   "id": "2c9fdc97-b8c8-4a3f-8808-e89e828ef62f",
   "metadata": {},
   "outputs": [
    {
     "data": {
      "text/plain": [
       "{1, 2, 3, 4, 5, 6}"
      ]
     },
     "execution_count": 65,
     "metadata": {},
     "output_type": "execute_result"
    }
   ],
   "source": [
    "set2 | set3 #합칩합"
   ]
  },
  {
   "cell_type": "code",
   "execution_count": 66,
   "id": "d4a1b47a-1ebb-48af-856d-d65ba72e36b4",
   "metadata": {},
   "outputs": [
    {
     "data": {
      "text/plain": [
       "{4, 5, 6}"
      ]
     },
     "execution_count": 66,
     "metadata": {},
     "output_type": "execute_result"
    }
   ],
   "source": [
    "set2 - set3 # 차집함"
   ]
  },
  {
   "cell_type": "code",
   "execution_count": 67,
   "id": "a8028161-7f72-4380-86d1-428fb1303adb",
   "metadata": {},
   "outputs": [
    {
     "data": {
      "text/plain": [
       "{1, 4, 5, 6}"
      ]
     },
     "execution_count": 67,
     "metadata": {},
     "output_type": "execute_result"
    }
   ],
   "source": [
    "set2^set3 # 대상차집함"
   ]
  },
  {
   "cell_type": "markdown",
   "id": "0ef0dbbe-8a5f-4284-807e-7ae46726a661",
   "metadata": {
    "jp-MarkdownHeadingCollapsed": true
   },
   "source": [
    "# Dictionary 딕셔너리\n",
    "- key val 쌍으로 구성\n",
    "- {'키':'val', '키':'val', '키':'val'}\n",
    "- 순서는 키 기준으로 정렬\n",
    "- 정형데이터의 기본 구성 요소"
   ]
  },
  {
   "cell_type": "code",
   "execution_count": 68,
   "id": "718ada17-4a8c-4d16-8cb4-b517936789ab",
   "metadata": {},
   "outputs": [
    {
     "data": {
      "text/plain": [
       "{'이름': '홍길동', '나이': 23}"
      ]
     },
     "execution_count": 68,
     "metadata": {},
     "output_type": "execute_result"
    }
   ],
   "source": [
    "dict1 = {'이름':'홍길동', '나이':23}\n",
    "dict1"
   ]
  },
  {
   "cell_type": "code",
   "execution_count": 69,
   "id": "5a2e1e3a-0d98-4c9d-9001-904ad1983913",
   "metadata": {},
   "outputs": [
    {
     "data": {
      "text/plain": [
       "'홍길동'"
      ]
     },
     "execution_count": 69,
     "metadata": {},
     "output_type": "execute_result"
    }
   ],
   "source": [
    "dict1['이름']"
   ]
  },
  {
   "cell_type": "code",
   "execution_count": 70,
   "id": "e4373012-ce55-4c84-96c7-c131f4d58cb1",
   "metadata": {},
   "outputs": [
    {
     "data": {
      "text/plain": [
       "23"
      ]
     },
     "execution_count": 70,
     "metadata": {},
     "output_type": "execute_result"
    }
   ],
   "source": [
    "dict1['나이']"
   ]
  },
  {
   "cell_type": "code",
   "execution_count": 71,
   "id": "f7b2e455-656d-4f60-b748-cd1e6e5442b2",
   "metadata": {},
   "outputs": [
    {
     "data": {
      "text/plain": [
       "dict_keys(['이름', '나이'])"
      ]
     },
     "execution_count": 71,
     "metadata": {},
     "output_type": "execute_result"
    }
   ],
   "source": [
    "# 어떤 키 있는지 키만 보겠다\n",
    "dict1.keys()"
   ]
  },
  {
   "cell_type": "code",
   "execution_count": 72,
   "id": "dde68e97-377c-4ecb-b3ec-d1287e90b34f",
   "metadata": {},
   "outputs": [
    {
     "data": {
      "text/plain": [
       "dict_values(['홍길동', 23])"
      ]
     },
     "execution_count": 72,
     "metadata": {},
     "output_type": "execute_result"
    }
   ],
   "source": [
    "dict1.values()"
   ]
  },
  {
   "cell_type": "code",
   "execution_count": 73,
   "id": "9d0ac5c5-6c5b-4121-94f5-dd8327ab9118",
   "metadata": {},
   "outputs": [
    {
     "data": {
      "text/plain": [
       "{'이름': '홍길동', '나이': 23, '지역': '서울'}"
      ]
     },
     "execution_count": 73,
     "metadata": {},
     "output_type": "execute_result"
    }
   ],
   "source": [
    "# 새로운 데이터 추가\n",
    "dict1['지역'] = '서울'\n",
    "dict1"
   ]
  },
  {
   "cell_type": "code",
   "execution_count": 75,
   "id": "688f1552-a244-4ff2-92b0-5b8824403bef",
   "metadata": {},
   "outputs": [
    {
     "data": {
      "text/plain": [
       "{'이름': '이기철', '나이': 18, '지역': '검정고무신'}"
      ]
     },
     "execution_count": 75,
     "metadata": {},
     "output_type": "execute_result"
    }
   ],
   "source": [
    "list1 = ['이름', '나이', '지역']\n",
    "list2 = ['이기철', 18, '검정고무신']\n",
    "\n",
    "dict(zip(list1,list2))"
   ]
  },
  {
   "cell_type": "code",
   "execution_count": 76,
   "id": "f741543d-f51c-45be-b547-3372d21efa6f",
   "metadata": {},
   "outputs": [],
   "source": [
    "# 문자데이터는 따옴표 / 쌍파옴표 / 따옴표3개를 이용해서 표현"
   ]
  },
  {
   "cell_type": "code",
   "execution_count": 77,
   "id": "ce7857e5-6cf1-414d-b077-312b6efd55c2",
   "metadata": {},
   "outputs": [
    {
     "data": {
      "text/plain": [
       "'파이썬 데이터 분석'"
      ]
     },
     "execution_count": 77,
     "metadata": {},
     "output_type": "execute_result"
    }
   ],
   "source": [
    "'파이썬 데이터 분석'"
   ]
  },
  {
   "cell_type": "code",
   "execution_count": 78,
   "id": "cf81de10-d58e-4849-8898-909ee3bd5fb1",
   "metadata": {},
   "outputs": [
    {
     "data": {
      "text/plain": [
       "'\\n\\n중간에 있는 텍스트도 모두 출력 \\n\\n'"
      ]
     },
     "execution_count": 78,
     "metadata": {},
     "output_type": "execute_result"
    }
   ],
   "source": [
    "'''\n",
    "\n",
    "중간에 있는 텍스트도 모두 출력 \n",
    "\n",
    "'''"
   ]
  },
  {
   "cell_type": "code",
   "execution_count": 79,
   "id": "cd873d4f-a281-4745-b3ac-585728368d38",
   "metadata": {},
   "outputs": [
    {
     "name": "stdout",
     "output_type": "stream",
     "text": [
      "\n",
      "\n",
      "중간에 있는 텍스트도 모두 출력 \n",
      "\n",
      "\n"
     ]
    }
   ],
   "source": [
    "print('''\n",
    "\n",
    "중간에 있는 텍스트도 모두 출력 \n",
    "\n",
    "''')"
   ]
  },
  {
   "cell_type": "code",
   "execution_count": 80,
   "id": "7937fe0a-92d4-4753-ab0d-885af106aa53",
   "metadata": {},
   "outputs": [
    {
     "data": {
      "text/plain": [
       "'\"안녕하세요\" 하고 속으로 생각했다'"
      ]
     },
     "execution_count": 80,
     "metadata": {},
     "output_type": "execute_result"
    }
   ],
   "source": [
    "'\"안녕하세요\" 하고 속으로 생각했다'"
   ]
  },
  {
   "cell_type": "code",
   "execution_count": 81,
   "id": "6d175607-cfcd-43d9-b48b-fcd021fa196a",
   "metadata": {},
   "outputs": [
    {
     "data": {
      "text/plain": [
       "8"
      ]
     },
     "execution_count": 81,
     "metadata": {},
     "output_type": "execute_result"
    }
   ],
   "source": [
    "str1= '오늘 날씨 좋다'\n",
    "len(str1)"
   ]
  },
  {
   "cell_type": "code",
   "execution_count": 82,
   "id": "d784c558-3185-4a14-8a27-50ec3a5bf13c",
   "metadata": {},
   "outputs": [
    {
     "data": {
      "text/plain": [
       "'오'"
      ]
     },
     "execution_count": 82,
     "metadata": {},
     "output_type": "execute_result"
    }
   ],
   "source": [
    "str1[0]"
   ]
  },
  {
   "cell_type": "code",
   "execution_count": 84,
   "id": "89d400df-874a-45b9-ba08-0df5a143117f",
   "metadata": {},
   "outputs": [
    {
     "data": {
      "text/plain": [
       "'오늘 '"
      ]
     },
     "execution_count": 84,
     "metadata": {},
     "output_type": "execute_result"
    }
   ],
   "source": [
    "str1[0:3]"
   ]
  },
  {
   "cell_type": "code",
   "execution_count": 85,
   "id": "49d56dbc-8dc9-40f4-94de-bc4eb81dfb42",
   "metadata": {},
   "outputs": [
    {
     "data": {
      "text/plain": [
       "'씨 좋'"
      ]
     },
     "execution_count": 85,
     "metadata": {},
     "output_type": "execute_result"
    }
   ],
   "source": [
    "str1[-4:-1]"
   ]
  },
  {
   "cell_type": "code",
   "execution_count": 86,
   "id": "e96fe169-3cc7-4b72-b73b-b97a24ae6155",
   "metadata": {},
   "outputs": [
    {
     "data": {
      "text/plain": [
       "'다'"
      ]
     },
     "execution_count": 86,
     "metadata": {},
     "output_type": "execute_result"
    }
   ],
   "source": [
    "str1[-1]"
   ]
  },
  {
   "cell_type": "code",
   "execution_count": 87,
   "id": "d20bb805-8697-4bf8-8f87-b4f80d712617",
   "metadata": {},
   "outputs": [
    {
     "data": {
      "text/plain": [
       "' 안녕하세요 제 mbti는 intj입니다'"
      ]
     },
     "execution_count": 87,
     "metadata": {},
     "output_type": "execute_result"
    }
   ],
   "source": [
    "#포맷팅\n",
    "mbti= 'intj'\n",
    "blood_type='rh+b'\n",
    "\n",
    "f' 안녕하세요 제 mbti는 {mbti}입니다' "
   ]
  },
  {
   "cell_type": "code",
   "execution_count": 88,
   "id": "1f950b3c-b935-47fb-89c0-5f4915915e1f",
   "metadata": {},
   "outputs": [
    {
     "data": {
      "text/plain": [
       "3"
      ]
     },
     "execution_count": 88,
     "metadata": {},
     "output_type": "execute_result"
    }
   ],
   "source": [
    "# 문자개수 세기\n",
    "str3 = 'hello python data analysis'\n",
    "str3.count('l')"
   ]
  },
  {
   "cell_type": "code",
   "execution_count": 89,
   "id": "54fc3405-2951-4e21-948f-3d5b5434dce5",
   "metadata": {},
   "outputs": [
    {
     "data": {
      "text/plain": [
       "1"
      ]
     },
     "execution_count": 89,
     "metadata": {},
     "output_type": "execute_result"
    }
   ],
   "source": [
    "str3.count('data')"
   ]
  },
  {
   "cell_type": "code",
   "execution_count": 90,
   "id": "d98fa8fa-bd35-4e2e-be20-66cd3e92853d",
   "metadata": {},
   "outputs": [
    {
     "data": {
      "text/plain": [
       "2"
      ]
     },
     "execution_count": 90,
     "metadata": {},
     "output_type": "execute_result"
    }
   ],
   "source": [
    "str3.find('l')"
   ]
  },
  {
   "cell_type": "code",
   "execution_count": 91,
   "id": "38faa503-012d-4e30-b367-fcb57393e143",
   "metadata": {},
   "outputs": [
    {
     "data": {
      "text/plain": [
       "'HELLO PYTHON DATA ANALYSIS'"
      ]
     },
     "execution_count": 91,
     "metadata": {},
     "output_type": "execute_result"
    }
   ],
   "source": [
    "str3.upper()"
   ]
  },
  {
   "cell_type": "code",
   "execution_count": 94,
   "id": "c4c5f950-8b37-47d0-9721-64251ba4b733",
   "metadata": {},
   "outputs": [
    {
     "data": {
      "text/plain": [
       "'hello python data analysis'"
      ]
     },
     "execution_count": 94,
     "metadata": {},
     "output_type": "execute_result"
    }
   ],
   "source": [
    "str3.lower()"
   ]
  },
  {
   "cell_type": "code",
   "execution_count": 92,
   "id": "ee3930b5-d7d1-4b8c-82ac-83d2856cf178",
   "metadata": {},
   "outputs": [
    {
     "name": "stdin",
     "output_type": "stream",
     "text": [
      " d\n"
     ]
    },
    {
     "data": {
      "text/plain": [
       "'d'"
      ]
     },
     "execution_count": 92,
     "metadata": {},
     "output_type": "execute_result"
    }
   ],
   "source": [
    "input()"
   ]
  },
  {
   "cell_type": "code",
   "execution_count": 95,
   "id": "505913a5-0e45-4da5-9383-390490fb185a",
   "metadata": {},
   "outputs": [
    {
     "name": "stdin",
     "output_type": "stream",
     "text": [
      " ㅂ\n"
     ]
    },
    {
     "data": {
      "text/plain": [
       "'ㅂ'"
      ]
     },
     "execution_count": 95,
     "metadata": {},
     "output_type": "execute_result"
    }
   ],
   "source": [
    "# 기본적으로 스트링으로 데이터 받아옴\n",
    "input1 = input()\n",
    "input1"
   ]
  },
  {
   "cell_type": "code",
   "execution_count": 96,
   "id": "b3293972-3493-4812-90e4-018eca227b6a",
   "metadata": {},
   "outputs": [
    {
     "name": "stdin",
     "output_type": "stream",
     "text": [
      " 3\n"
     ]
    }
   ],
   "source": [
    "input3 = int(input())"
   ]
  },
  {
   "cell_type": "code",
   "execution_count": 97,
   "id": "bc3a57aa-2d60-43a8-8686-1b24d02f5bb4",
   "metadata": {},
   "outputs": [
    {
     "data": {
      "text/plain": [
       "int"
      ]
     },
     "execution_count": 97,
     "metadata": {},
     "output_type": "execute_result"
    }
   ],
   "source": [
    "type(input3)"
   ]
  },
  {
   "cell_type": "code",
   "execution_count": 99,
   "id": "5a154ab3-47b0-4042-ab3b-0bb0f8af4c46",
   "metadata": {},
   "outputs": [
    {
     "name": "stdin",
     "output_type": "stream",
     "text": [
      " 김지수\n",
      " str\n"
     ]
    }
   ],
   "source": [
    "name1 = input()\n",
    "type1 = input()\n",
    "input_dict = {name1:type1}"
   ]
  },
  {
   "cell_type": "markdown",
   "id": "f011ea43-759e-40a7-8315-c6c46b71a1ec",
   "metadata": {},
   "source": [
    "# 파이썬 구문\n",
    "- 조건문 / 반목문\n",
    "- 예외처리"
   ]
  },
  {
   "cell_type": "markdown",
   "id": "76d5aac3-09d9-4863-8638-ab4f80b0bd51",
   "metadata": {
    "jp-MarkdownHeadingCollapsed": true
   },
   "source": [
    "# 조건문 \n",
    "- if / elif / else\n",
    "- in / not in\n",
    "- pass"
   ]
  },
  {
   "cell_type": "code",
   "execution_count": 11,
   "id": "7eac7969-d548-4ec2-a8da-725fa13dbd6a",
   "metadata": {},
   "outputs": [
    {
     "name": "stdout",
     "output_type": "stream",
     "text": [
      "30보다 작다\n"
     ]
    }
   ],
   "source": [
    "data1 = 25\n",
    "if data1 > 30:\n",
    "    print('30보다 크다')\n",
    "elif data1 == 50: # if에 해당하지 않는 경우\n",
    "    print('50입니다')\n",
    "else:\n",
    "    print('30보다 작다')"
   ]
  },
  {
   "cell_type": "code",
   "execution_count": 12,
   "id": "6951c3f1-d6b4-45d5-abb0-5030636c103c",
   "metadata": {},
   "outputs": [
    {
     "name": "stdout",
     "output_type": "stream",
     "text": [
      "B\n"
     ]
    }
   ],
   "source": [
    "data2 = 80\n",
    "\n",
    "if data2 >= 90:\n",
    "    print('A')\n",
    "elif data2>=80: # 만족하는 조건 만나면 이후 코드 실행 x\n",
    "    print('B')\n",
    "elif data2>=70:\n",
    "    print('C')\n",
    "else:\n",
    "    print('D')"
   ]
  },
  {
   "cell_type": "code",
   "execution_count": 13,
   "id": "809b6aa0-903c-42df-97ad-b236a323c763",
   "metadata": {},
   "outputs": [
    {
     "name": "stdout",
     "output_type": "stream",
     "text": [
      "python\n"
     ]
    }
   ],
   "source": [
    "# 문자열이 들어간 조건문\n",
    "# in : 문자열 조건문에 주로 사용된다\n",
    "data3 = 'python 데이터 분석'\n",
    "\n",
    "if 'java' in data3: # 문자열 안에 ''문자가 있는지 여부 조건\n",
    "    print('java')\n",
    "elif 'python' in data3:\n",
    "    print('python')\n",
    "else:\n",
    "    print('R')"
   ]
  },
  {
   "cell_type": "code",
   "execution_count": 14,
   "id": "76872ba9-a926-463c-9a53-f25d3f382986",
   "metadata": {},
   "outputs": [
    {
     "name": "stdout",
     "output_type": "stream",
     "text": [
      "java\n"
     ]
    }
   ],
   "source": [
    "data3 = 'python 데이터 분석'\n",
    "\n",
    "if 'java' not in data3: # if문 명령만 실행되고 뒤에 코드 실행 x\n",
    "    print('java')\n",
    "elif 'python' in data3: #해당하는 조건이지만 실행 x\n",
    "    print('python')\n",
    "else:\n",
    "    print('R')"
   ]
  },
  {
   "cell_type": "code",
   "execution_count": 18,
   "id": "3fdd64c7-2af8-4e14-bd47-eb68156ec01b",
   "metadata": {},
   "outputs": [
    {
     "name": "stdout",
     "output_type": "stream",
     "text": [
      "java\n",
      "python\n"
     ]
    }
   ],
   "source": [
    "data3 = 'python 데이터 분석'\n",
    "\n",
    "if 'java' not in data3: # 둘다 출력됨\n",
    "    print('java')\n",
    "if 'python' in data3:\n",
    "    print('python')\n",
    "else:\n",
    "    print('R')"
   ]
  },
  {
   "cell_type": "code",
   "execution_count": 19,
   "id": "40d2a39e-a02f-4845-9f01-c33a7837a13e",
   "metadata": {},
   "outputs": [
    {
     "name": "stdout",
     "output_type": "stream",
     "text": [
      "[1, 2, 4, 7]\n",
      "[1, 2, 4, 7, 8]\n"
     ]
    }
   ],
   "source": [
    "data4 = [1,2,3,4,7]\n",
    "\n",
    "if 3 in data4:\n",
    "    data4.remove(3)\n",
    "    print(data4)\n",
    "\n",
    "if 7 in data4:\n",
    "    data4.append(8)\n",
    "    print(data4)"
   ]
  },
  {
   "cell_type": "code",
   "execution_count": 30,
   "id": "6db55ce5-ff55-4897-822a-a29a7f9bee91",
   "metadata": {},
   "outputs": [
    {
     "name": "stdout",
     "output_type": "stream",
     "text": [
      "2\n"
     ]
    }
   ],
   "source": [
    "# pass : 실행할 코드가 없다면 패스\n",
    "\n",
    "data5 = [1, 2, 3]\n",
    "\n",
    "if 1 in data5:\n",
    "    pass\n",
    "if 2 in data5:\n",
    "    print('2')"
   ]
  },
  {
   "cell_type": "code",
   "execution_count": 24,
   "id": "cc746e5a-e72c-4208-96a3-eef970b18df1",
   "metadata": {},
   "outputs": [
    {
     "data": {
      "text/plain": [
       "'B'"
      ]
     },
     "execution_count": 24,
     "metadata": {},
     "output_type": "execute_result"
    }
   ],
   "source": [
    "data7 = 25\n",
    "data6 = 'A' if data7 > 30 else 'B'\n",
    "data6"
   ]
  },
  {
   "cell_type": "markdown",
   "id": "da0bb162-8bb6-45e9-9f3b-d90c5e0fe82c",
   "metadata": {
    "jp-MarkdownHeadingCollapsed": true
   },
   "source": [
    "# 반복문 \n",
    "- while\n",
    "- for"
   ]
  },
  {
   "cell_type": "code",
   "execution_count": 29,
   "id": "7233a9b7-86db-4304-92af-f2eac5712fa2",
   "metadata": {},
   "outputs": [
    {
     "name": "stdout",
     "output_type": "stream",
     "text": [
      "go\n"
     ]
    }
   ],
   "source": [
    "data6 = 200\n",
    "while data6>50:\n",
    "    print('go')\n",
    "    break # while 조건문 중에 break를 만나면 반복 중지"
   ]
  },
  {
   "cell_type": "code",
   "execution_count": 31,
   "id": "14345c58-781a-404e-9d12-43a3527ca5aa",
   "metadata": {
    "scrolled": true
   },
   "outputs": [
    {
     "name": "stdout",
     "output_type": "stream",
     "text": [
      "1\n",
      "2\n",
      "3\n",
      "4\n",
      "5\n",
      "6\n",
      "7\n",
      "8\n",
      "9\n",
      "10\n"
     ]
    }
   ],
   "source": [
    "data7 = 0\n",
    "while data7 < 10:\n",
    "    data7 = data7+1\n",
    "    print(data7)"
   ]
  },
  {
   "cell_type": "code",
   "execution_count": 32,
   "id": "1c39c15d-f68d-4898-9d6c-7f58b074adf2",
   "metadata": {},
   "outputs": [
    {
     "name": "stdout",
     "output_type": "stream",
     "text": [
      "1\n",
      "2\n",
      "3\n",
      "4\n",
      "5\n",
      "6\n",
      "7\n",
      "8\n",
      "9\n",
      "10\n"
     ]
    }
   ],
   "source": [
    "data7 = 0\n",
    "while data7 < 10:\n",
    "    data7 += 1\n",
    "    print(data7)"
   ]
  },
  {
   "cell_type": "code",
   "execution_count": 34,
   "id": "26391403-f36c-486e-a7eb-3f3d7efc8ea4",
   "metadata": {},
   "outputs": [
    {
     "name": "stdout",
     "output_type": "stream",
     "text": [
      "1\n",
      "2\n",
      "3\n",
      "5\n"
     ]
    }
   ],
   "source": [
    "# continue\n",
    "# 조건 초기화 : 해당 조건을 만나면 이후의 코드를 실행 X, 처음으로 돌아감\n",
    "\n",
    "data8 = 0\n",
    "while data8<5:\n",
    "    data8+=1\n",
    "    if data8==4:\n",
    "        continue # 4인경우에는 뒤에 프린트 하는 코드 출력하지 않음, 앞으로 다시 돌아감\n",
    "    print(data8)"
   ]
  },
  {
   "cell_type": "markdown",
   "id": "d2a437bb-9e12-4ced-beba-6bdcee041360",
   "metadata": {
    "jp-MarkdownHeadingCollapsed": true
   },
   "source": [
    "# for문"
   ]
  },
  {
   "cell_type": "code",
   "execution_count": 35,
   "id": "2f2727ff-b1f7-4542-bab9-c25f4e022b10",
   "metadata": {},
   "outputs": [
    {
     "name": "stdout",
     "output_type": "stream",
     "text": [
      "alien\n",
      "buzz\n",
      "woody\n",
      "alien\n"
     ]
    }
   ],
   "source": [
    "toystory = ['alien','buzz','woody','alien']\n",
    "\n",
    "for claw in toystory:\n",
    "    print(claw)"
   ]
  },
  {
   "cell_type": "code",
   "execution_count": 37,
   "id": "91e3a322-4439-4f18-bc34-62c229cb9501",
   "metadata": {},
   "outputs": [
    {
     "name": "stdout",
     "output_type": "stream",
     "text": [
      "woooooo\n",
      "to infinity\n",
      "snake in my boots\n",
      "woooooo\n"
     ]
    }
   ],
   "source": [
    "toystory = ['alien','buzz','woody','alien']\n",
    "\n",
    "for claw in toystory:\n",
    "    if claw == 'buzz':\n",
    "        print('to infinity')\n",
    "    elif claw == 'woody':\n",
    "        print('snake in my boots')\n",
    "    elif claw == 'alien':\n",
    "        print('woooooo')"
   ]
  },
  {
   "cell_type": "code",
   "execution_count": 41,
   "id": "a407d039-eeb8-45c0-8a3b-0db26655c22c",
   "metadata": {},
   "outputs": [
    {
     "name": "stdout",
     "output_type": "stream",
     "text": [
      "0\n",
      "1\n",
      "2\n",
      "3\n",
      "4\n"
     ]
    }
   ],
   "source": [
    "# range(n,m) n에서 m-1까지\n",
    "for i in range(0,5): #0부터 4까지\n",
    "    print(i)"
   ]
  },
  {
   "cell_type": "code",
   "execution_count": 42,
   "id": "2cffc9b6-795e-4c74-9305-b56d202a7c82",
   "metadata": {},
   "outputs": [
    {
     "name": "stdout",
     "output_type": "stream",
     "text": [
      "a\n",
      "b\n",
      "c\n",
      "1\n",
      "2\n",
      "3\n"
     ]
    }
   ],
   "source": [
    "list1 = ['a','b','c',1,2,3]\n",
    "for i in range(len(list1)):\n",
    "    print(list1[i])"
   ]
  },
  {
   "cell_type": "code",
   "execution_count": 43,
   "id": "ca95bb1a-6921-4b1d-9ac7-331570348a9f",
   "metadata": {},
   "outputs": [
    {
     "name": "stdout",
     "output_type": "stream",
     "text": [
      "3\n",
      "6\n",
      "9\n"
     ]
    }
   ],
   "source": [
    "for i in [1,2,3]:\n",
    "    print(i*3)"
   ]
  },
  {
   "cell_type": "code",
   "execution_count": 44,
   "id": "a0f506e8-91b4-46f1-8aaf-552b16230665",
   "metadata": {},
   "outputs": [
    {
     "name": "stdout",
     "output_type": "stream",
     "text": [
      "1 2\n",
      "3\n",
      "3 4\n",
      "7\n",
      "5 6\n",
      "11\n"
     ]
    }
   ],
   "source": [
    "data9 = [ (1,2), (3,4), (5,6) ]\n",
    "for i, j in data9: # (1,2)가 들어와서 각각 i,j가 됨\n",
    "    print(i,j)\n",
    "    print(i+j)"
   ]
  },
  {
   "cell_type": "code",
   "execution_count": 45,
   "id": "4fa49322-05c7-4849-a37a-7bb6e664fcd6",
   "metadata": {},
   "outputs": [],
   "source": [
    "data10 = []"
   ]
  },
  {
   "cell_type": "code",
   "execution_count": 46,
   "id": "2743c9a3-302a-4f47-8f9d-8dd78e8a95ee",
   "metadata": {},
   "outputs": [
    {
     "data": {
      "text/plain": [
       "[0, 1, 2, 3, 4, 5]"
      ]
     },
     "execution_count": 46,
     "metadata": {},
     "output_type": "execute_result"
    }
   ],
   "source": [
    "for i in range(0,6):\n",
    "    data10.append(i)\n",
    "data10"
   ]
  },
  {
   "cell_type": "code",
   "execution_count": 47,
   "id": "6cb4f368-559b-49bf-b0f5-d0cea6fe5888",
   "metadata": {},
   "outputs": [
    {
     "name": "stdout",
     "output_type": "stream",
     "text": [
      "3\n",
      "5\n",
      "6\n",
      "5\n",
      "3\n"
     ]
    }
   ],
   "source": [
    "list1 = [1,2,3,3,2,1]\n",
    "for i in range(len(list1) - 1):\n",
    "    print(list1[i] + list1[i+1])"
   ]
  },
  {
   "cell_type": "code",
   "execution_count": 48,
   "id": "d6f3f810-44ce-4eba-a85c-b8fca7f42386",
   "metadata": {},
   "outputs": [
    {
     "data": {
      "text/plain": [
       "[0, 1, 2, 3, 4, 5]"
      ]
     },
     "execution_count": 48,
     "metadata": {},
     "output_type": "execute_result"
    }
   ],
   "source": [
    "# 리스트 컴프리헨션 : 리스트 안에 for문 \n",
    "# 리스트 생성 시에 조건문으로 변수를 생성할 수 있다\n",
    "data11 = [x for x in range(0,6)]\n",
    "data11"
   ]
  },
  {
   "cell_type": "code",
   "execution_count": 49,
   "id": "c8f2fa1a-a5d9-4aa8-bcaa-bf44b7475fcb",
   "metadata": {},
   "outputs": [
    {
     "data": {
      "text/plain": [
       "[0, 2, 4, 6, 8, 10]"
      ]
     },
     "execution_count": 49,
     "metadata": {},
     "output_type": "execute_result"
    }
   ],
   "source": [
    "[x for x in range(0,11) if x % 2 == 0]\n",
    "# 1~11까지 짝수인 값만 리스트로 생성"
   ]
  },
  {
   "cell_type": "code",
   "execution_count": 52,
   "id": "20ff77b3-7c24-4a6a-a533-2ab6438e77c4",
   "metadata": {},
   "outputs": [
    {
     "data": {
      "text/plain": [
       "[(1, 2), (1, 3), (1, 4), (2, 2), (2, 3), (2, 4), (3, 2), (3, 3), (3, 4)]"
      ]
     },
     "execution_count": 52,
     "metadata": {},
     "output_type": "execute_result"
    }
   ],
   "source": [
    "[(x,y) for x in [1,2,3] for y in [2,3,4]]"
   ]
  },
  {
   "cell_type": "code",
   "execution_count": 51,
   "id": "581eac01-7f6c-42ee-8e83-f8456e4d3c2f",
   "metadata": {},
   "outputs": [
    {
     "name": "stdout",
     "output_type": "stream",
     "text": [
      "1\n",
      "11\n",
      "111\n",
      "1111\n"
     ]
    }
   ],
   "source": [
    "data12 = [1,10,100,1000]\n",
    "result1 =0\n",
    "for i in data12:\n",
    "    result1 += i\n",
    "    print(result1)"
   ]
  },
  {
   "cell_type": "markdown",
   "id": "f79130d8-99a4-403f-8ba4-b9759ec7f490",
   "metadata": {
    "jp-MarkdownHeadingCollapsed": true
   },
   "source": [
    "# 예외처리\n",
    "- try : 시도하려는 코드\n",
    "- except : try 에러 시 실행할 코드\n",
    "- finally : 에러의 유무 관계없이 최종적으로 실행하게 되는 코드"
   ]
  },
  {
   "cell_type": "code",
   "execution_count": 55,
   "id": "d08d505f-1de2-4291-b54c-3d3016e86aa6",
   "metadata": {},
   "outputs": [
    {
     "name": "stdout",
     "output_type": "stream",
     "text": [
      "no error\n",
      "[1, 2, 3, 4, 5]\n",
      "done\n"
     ]
    }
   ],
   "source": [
    "try:\n",
    "    data13 = []\n",
    "    for i in range(1,6):\n",
    "        data13.append(i)\n",
    "    print('no error')\n",
    "\n",
    "except:\n",
    "    print('error')\n",
    "finally:\n",
    "    print(data13)\n",
    "    print(\"done\")"
   ]
  },
  {
   "cell_type": "code",
   "execution_count": 58,
   "id": "c42c8cba-7a3b-4019-8160-50fb20a282a0",
   "metadata": {},
   "outputs": [
    {
     "name": "stdout",
     "output_type": "stream",
     "text": [
      "error\n",
      "[]\n",
      "done\n"
     ]
    }
   ],
   "source": [
    "try:\n",
    "    data13 = []\n",
    "    for i in range(1,6):\n",
    "        data13.remove(1) # 빈 리스트에 리무브 명령 못 함 -> 에러\n",
    "        data13.append(i)\n",
    "    print('no error')\n",
    "\n",
    "except:\n",
    "    print('error')\n",
    "\n",
    "finally:\n",
    "    print(data13)\n",
    "    print(\"done\")"
   ]
  },
  {
   "cell_type": "code",
   "execution_count": 60,
   "id": "a43164cc-11d0-4807-b321-6fc8c5fb3c38",
   "metadata": {},
   "outputs": [
    {
     "name": "stdout",
     "output_type": "stream",
     "text": [
      "error list.remove(x): x not in list\n",
      "[]\n",
      "done\n"
     ]
    }
   ],
   "source": [
    "try:\n",
    "    data13 = []\n",
    "    for i in range(1,6):\n",
    "        data13.remove(1)\n",
    "        data13.append(i)\n",
    "    print('no error')\n",
    "\n",
    "except Exception as e: # 어떤 에러가 나고 있는지 출력해줘\n",
    "    print('error',e)\n",
    "\n",
    "finally:\n",
    "    print(data13)\n",
    "    print('done')\n"
   ]
  },
  {
   "cell_type": "markdown",
   "id": "8f760a22-4f24-4704-952c-f0673999417e",
   "metadata": {
    "jp-MarkdownHeadingCollapsed": true
   },
   "source": [
    "# 함수\n",
    "\n"
   ]
  },
  {
   "cell_type": "code",
   "execution_count": 61,
   "id": "e28d226c-92b4-48a9-8064-080ef48ebeb2",
   "metadata": {},
   "outputs": [],
   "source": [
    "def func1():\n",
    "    print('hello')"
   ]
  },
  {
   "cell_type": "code",
   "execution_count": 63,
   "id": "c673734a-02cc-48a1-bae8-b99c9dc2802b",
   "metadata": {},
   "outputs": [
    {
     "name": "stdout",
     "output_type": "stream",
     "text": [
      "hello\n"
     ]
    }
   ],
   "source": [
    "func1()"
   ]
  },
  {
   "cell_type": "code",
   "execution_count": 65,
   "id": "687e6d9c-19ed-406a-8c35-b952ecaa6cd1",
   "metadata": {},
   "outputs": [],
   "source": [
    "def func2(x):\n",
    "    return x + 200"
   ]
  },
  {
   "cell_type": "code",
   "execution_count": 66,
   "id": "7c621936-dca5-4141-b042-c4a93020a4ab",
   "metadata": {},
   "outputs": [
    {
     "data": {
      "text/plain": [
       "220"
      ]
     },
     "execution_count": 66,
     "metadata": {},
     "output_type": "execute_result"
    }
   ],
   "source": [
    "func2(20)"
   ]
  },
  {
   "cell_type": "code",
   "execution_count": 67,
   "id": "9fc75e80-216b-49fc-85dd-a78b096bb7d3",
   "metadata": {},
   "outputs": [],
   "source": [
    "# 성적에 따라 등금을 내려주는 함수\n",
    "def func3(x):\n",
    "    if x>= 90:\n",
    "        return 'A'\n",
    "    elif x>=80:\n",
    "        return 'B'\n",
    "    elif x>=70:\n",
    "        return 'C'\n",
    "    else:\n",
    "        return 'F'"
   ]
  },
  {
   "cell_type": "code",
   "execution_count": 68,
   "id": "776a9b68-90ab-4a52-b67c-2b2bacc73f1b",
   "metadata": {},
   "outputs": [
    {
     "data": {
      "text/plain": [
       "'B'"
      ]
     },
     "execution_count": 68,
     "metadata": {},
     "output_type": "execute_result"
    }
   ],
   "source": [
    "func3(87)"
   ]
  },
  {
   "cell_type": "code",
   "execution_count": 70,
   "id": "27897a55-8651-48b5-9f5a-afc55c37e4a4",
   "metadata": {},
   "outputs": [],
   "source": [
    "# 이름과 성적 입력 받음\n",
    "def func3(name,x):\n",
    "    if x >=90:\n",
    "        return f'{name}의 점수는 {x}이고, 성적은 \"A\"입니다.'\n",
    "    elif x>=80:\n",
    "        return f'{name}의 점수는 {x}이고, 성적은 \"B\"입니다.'    "
   ]
  },
  {
   "cell_type": "code",
   "execution_count": 71,
   "id": "04568e8b-5b25-40c1-bb3a-1fb8a98efe9e",
   "metadata": {},
   "outputs": [
    {
     "data": {
      "text/plain": [
       "'김지수의 점수는 100이고, 성적은 \"A\"입니다.'"
      ]
     },
     "execution_count": 71,
     "metadata": {},
     "output_type": "execute_result"
    }
   ],
   "source": [
    "func3('김지수',100)"
   ]
  },
  {
   "cell_type": "code",
   "execution_count": 72,
   "id": "4465aa4e-c53c-44b0-a003-b626a6beac82",
   "metadata": {},
   "outputs": [
    {
     "data": {
      "text/plain": [
       "25"
      ]
     },
     "execution_count": 72,
     "metadata": {},
     "output_type": "execute_result"
    }
   ],
   "source": [
    "# 몇개의 인자를 입력받을지 모르는 경우\n",
    "# *args\n",
    "\n",
    "def func4(*args):\n",
    "    return (sum(args))\n",
    "\n",
    "func4(1,3,5,7,9)"
   ]
  },
  {
   "cell_type": "code",
   "execution_count": 74,
   "id": "0bd8d2a9-71ae-4d8b-9e79-2fe7f050456c",
   "metadata": {},
   "outputs": [
    {
     "data": {
      "text/plain": [
       "1.0"
      ]
     },
     "execution_count": 74,
     "metadata": {},
     "output_type": "execute_result"
    }
   ],
   "source": [
    "# 함수의 초기값을 설정\n",
    "def func5(x1,x2,x3=3):\n",
    "    return(x1+x2) / x3\n",
    "\n",
    "func5(1,2)"
   ]
  },
  {
   "cell_type": "code",
   "execution_count": 75,
   "id": "686ee089-a303-4968-935d-5a89f25949cb",
   "metadata": {},
   "outputs": [
    {
     "data": {
      "text/plain": [
       "0.6"
      ]
     },
     "execution_count": 75,
     "metadata": {},
     "output_type": "execute_result"
    }
   ],
   "source": [
    "func5(1,2,5)"
   ]
  },
  {
   "cell_type": "code",
   "execution_count": 76,
   "id": "5814caf9-f9e8-4829-9607-c537b16560d9",
   "metadata": {},
   "outputs": [],
   "source": [
    "# 재귀함수 \n",
    "def recurse1(x):\n",
    "    if x>20:\n",
    "        print('end')\n",
    "    else:\n",
    "        print(x)\n",
    "        recurse1(x+3)"
   ]
  },
  {
   "cell_type": "code",
   "execution_count": 77,
   "id": "36829885-f18e-4f4d-a914-08781b8f1612",
   "metadata": {},
   "outputs": [
    {
     "name": "stdout",
     "output_type": "stream",
     "text": [
      "3\n",
      "6\n",
      "9\n",
      "12\n",
      "15\n",
      "18\n",
      "end\n"
     ]
    }
   ],
   "source": [
    "recurse1(3)"
   ]
  },
  {
   "cell_type": "code",
   "execution_count": 82,
   "id": "3f7935bc-0b37-41a4-9db9-28824c56a9c7",
   "metadata": {},
   "outputs": [],
   "source": [
    "# 기저조건 : 재귀함수 생성시 기저조건을 설정하여 언제 멈출지 지정한다. \n",
    "def fibo(i):\n",
    "    if i ==1 or i ==2:\n",
    "        return 1\n",
    "    else:\n",
    "        return fibo(i-1) + fibo(i-2)\n",
    "        "
   ]
  },
  {
   "cell_type": "code",
   "execution_count": 83,
   "id": "2069ed38-d980-479a-99db-318670e6b7cb",
   "metadata": {},
   "outputs": [
    {
     "data": {
      "text/plain": [
       "832040"
      ]
     },
     "execution_count": 83,
     "metadata": {},
     "output_type": "execute_result"
    }
   ],
   "source": [
    "fibo(30)"
   ]
  },
  {
   "cell_type": "code",
   "execution_count": 84,
   "id": "86ddf062-3658-42ab-9133-d47834df7a69",
   "metadata": {},
   "outputs": [
    {
     "data": {
      "text/plain": [
       "832040"
      ]
     },
     "execution_count": 84,
     "metadata": {},
     "output_type": "execute_result"
    }
   ],
   "source": [
    "fibo(30)"
   ]
  },
  {
   "cell_type": "markdown",
   "id": "e856a140-5952-40bd-bffa-55fa4550db93",
   "metadata": {
    "jp-MarkdownHeadingCollapsed": true
   },
   "source": [
    "# 파이썬 내장함수 및 라이브러리\n",
    "- 내장함수 : 파이썬 제공\n",
    "- 외부 라이브러리 : 인터넷을 통해 다운 받아야 함"
   ]
  },
  {
   "cell_type": "code",
   "execution_count": 85,
   "id": "2b8b7245-c902-4f40-bd3e-56a0926c1fdc",
   "metadata": {},
   "outputs": [
    {
     "data": {
      "text/plain": [
       "[-1, 1, 4, 5, 7]"
      ]
     },
     "execution_count": 85,
     "metadata": {},
     "output_type": "execute_result"
    }
   ],
   "source": [
    "list1 = [1,5,-1,7,4]\n",
    "sorted(list1)"
   ]
  },
  {
   "cell_type": "code",
   "execution_count": 88,
   "id": "41feb555-4859-4436-a3d3-542ef20bbaaa",
   "metadata": {},
   "outputs": [
    {
     "data": {
      "text/plain": [
       "[7, 5, 4, 1, -1]"
      ]
     },
     "execution_count": 88,
     "metadata": {},
     "output_type": "execute_result"
    }
   ],
   "source": [
    "sorted(list1,reverse = 1)"
   ]
  },
  {
   "cell_type": "code",
   "execution_count": 89,
   "id": "c2fc4131-b7d1-4dcf-81cf-847204760dae",
   "metadata": {},
   "outputs": [
    {
     "name": "stdout",
     "output_type": "stream",
     "text": [
      "Help on built-in function sorted in module builtins:\n",
      "\n",
      "sorted(iterable, /, *, key=None, reverse=False)\n",
      "    Return a new list containing all items from the iterable in ascending order.\n",
      "    \n",
      "    A custom key function can be supplied to customize the sort order, and the\n",
      "    reverse flag can be set to request the result in descending order.\n",
      "\n"
     ]
    }
   ],
   "source": [
    "help(sorted)"
   ]
  },
  {
   "cell_type": "code",
   "execution_count": 90,
   "id": "7159aa91-4f8a-46d1-bfd7-fd6de39146fa",
   "metadata": {},
   "outputs": [
    {
     "name": "stdout",
     "output_type": "stream",
     "text": [
      "[0, 1, 2]\n",
      "['a', 'b', 'c']\n"
     ]
    }
   ],
   "source": [
    "# enumerate : 인덱스 생성해주는 함수\n",
    "\n",
    "index_list = []\n",
    "val_list = []\n",
    "\n",
    "for i, j in enumerate(['a','b','c']): # i는 인덱스, j는 내용물\n",
    "    index_list.append(i) # 0 1 2\n",
    "    val_list.append(j) # a b c\n",
    "\n",
    "print(index_list)\n",
    "print(val_list)"
   ]
  },
  {
   "cell_type": "code",
   "execution_count": 91,
   "id": "6645b14c-fc0f-4082-8903-f8ab3ab2eb0e",
   "metadata": {},
   "outputs": [
    {
     "data": {
      "text/plain": [
       "{0: 'a', 1: 'b', 2: 'c'}"
      ]
     },
     "execution_count": 91,
     "metadata": {},
     "output_type": "execute_result"
    }
   ],
   "source": [
    "dict(zip(index_list, val_list))"
   ]
  },
  {
   "cell_type": "code",
   "execution_count": 92,
   "id": "a2c49dbe-c6df-4d10-88c8-bb8b6791079a",
   "metadata": {},
   "outputs": [
    {
     "data": {
      "text/plain": [
       "3"
      ]
     },
     "execution_count": 92,
     "metadata": {},
     "output_type": "execute_result"
    }
   ],
   "source": [
    "sum(index_list)"
   ]
  },
  {
   "cell_type": "code",
   "execution_count": 94,
   "id": "2611a23b-4caa-4735-99f0-c648a4c8dfd5",
   "metadata": {},
   "outputs": [],
   "source": [
    "import random \n",
    "# import : 파이썬의 내장라이브러리이나, 항상 들고 있으면 자원 많이 드니까\n",
    "# 필요할 때만 불러 오는 함수\n",
    "# sum()은 import 하지 않아도 실행됨"
   ]
  },
  {
   "cell_type": "code",
   "execution_count": 124,
   "id": "e4db5cb0-416a-4258-b511-693a0997bee5",
   "metadata": {},
   "outputs": [
    {
     "data": {
      "text/plain": [
       "2"
      ]
     },
     "execution_count": 124,
     "metadata": {},
     "output_type": "execute_result"
    }
   ],
   "source": [
    "random.randint(0,3) # int"
   ]
  },
  {
   "cell_type": "code",
   "execution_count": 110,
   "id": "b2ff866e-a6e5-45ed-a871-081b468597c6",
   "metadata": {},
   "outputs": [
    {
     "data": {
      "text/plain": [
       "[2, 5, 5, 3, 3]"
      ]
     },
     "execution_count": 110,
     "metadata": {},
     "output_type": "execute_result"
    }
   ],
   "source": [
    "[random.randint(0,5) for _ in range(5)] # 5번 반복해라"
   ]
  },
  {
   "cell_type": "markdown",
   "id": "b53cc070-166c-4ed3-9638-0f65277f8bcc",
   "metadata": {
    "jp-MarkdownHeadingCollapsed": true
   },
   "source": [
    "# 패키지와 모듈\n",
    "- 패키지(라이브러리) : 모듈의 집합\n",
    "- 모듈 : 함수/클래스 집합\n",
    "- 함수 : 특정 기능을 수행하기 위한 코드의 집합\n",
    "- 클래스 : 함수를 찍어내는 "
   ]
  },
  {
   "cell_type": "code",
   "execution_count": 106,
   "id": "b14921cb-3ba1-448b-8e3b-83fcab05617c",
   "metadata": {},
   "outputs": [],
   "source": [
    "import module1"
   ]
  },
  {
   "cell_type": "code",
   "execution_count": 113,
   "id": "cd475ba2-8ec7-47f3-b50b-39b7257d227f",
   "metadata": {},
   "outputs": [
    {
     "data": {
      "text/plain": [
       "2.0"
      ]
     },
     "execution_count": 113,
     "metadata": {},
     "output_type": "execute_result"
    }
   ],
   "source": [
    "module1.mean_func([1,2,3])"
   ]
  },
  {
   "cell_type": "code",
   "execution_count": 114,
   "id": "340240b2-1040-44fc-9fca-f470be2a5949",
   "metadata": {},
   "outputs": [
    {
     "data": {
      "text/plain": [
       "6"
      ]
     },
     "execution_count": 114,
     "metadata": {},
     "output_type": "execute_result"
    }
   ],
   "source": [
    "module1.sum_func([1,2,3])"
   ]
  },
  {
   "cell_type": "code",
   "execution_count": 115,
   "id": "fcf99879-79eb-4a79-bb8e-7479555f4415",
   "metadata": {},
   "outputs": [],
   "source": [
    "# module. 쓰기 귀찮을 때 \n",
    "from module1 import *"
   ]
  },
  {
   "cell_type": "code",
   "execution_count": 116,
   "id": "f6511dab-73ea-4ffb-ace5-d2e8693fbb5c",
   "metadata": {},
   "outputs": [
    {
     "data": {
      "text/plain": [
       "56"
      ]
     },
     "execution_count": 116,
     "metadata": {},
     "output_type": "execute_result"
    }
   ],
   "source": [
    "sum_func([5,6,4,7,8,9,12,3,2])"
   ]
  },
  {
   "cell_type": "code",
   "execution_count": 1,
   "id": "2ca836ba-9ddc-4202-bc94-63d32786a580",
   "metadata": {},
   "outputs": [],
   "source": [
    "# 패키지\n",
    "\n",
    "import package1 # 잘 작동하면 패키지 잘 만든 것"
   ]
  },
  {
   "cell_type": "code",
   "execution_count": 118,
   "id": "85612068-6550-4d10-9163-50058012a970",
   "metadata": {},
   "outputs": [
    {
     "data": {
      "text/plain": [
       "1.0"
      ]
     },
     "execution_count": 118,
     "metadata": {},
     "output_type": "execute_result"
    }
   ],
   "source": [
    "package1.VERSION"
   ]
  },
  {
   "cell_type": "code",
   "execution_count": 119,
   "id": "d73c3f3a-2631-4017-b308-c5c310c0a3d4",
   "metadata": {},
   "outputs": [
    {
     "data": {
      "text/plain": [
       "1.0"
      ]
     },
     "execution_count": 119,
     "metadata": {},
     "output_type": "execute_result"
    }
   ],
   "source": [
    "package1.package_version()"
   ]
  },
  {
   "cell_type": "code",
   "execution_count": 6,
   "id": "326cfdc4-d455-4fe7-9bec-53665c2de3f0",
   "metadata": {},
   "outputs": [],
   "source": [
    "from package1 import *"
   ]
  },
  {
   "cell_type": "code",
   "execution_count": 7,
   "id": "c16cee72-81e4-4c66-922f-fcd99040872e",
   "metadata": {},
   "outputs": [
    {
     "name": "stdout",
     "output_type": "stream",
     "text": [
      "hello\n"
     ]
    }
   ],
   "source": [
    "module2.hellofunc()"
   ]
  },
  {
   "cell_type": "code",
   "execution_count": 8,
   "id": "4f611ad0-8dc4-4ccd-9384-29098a519b7a",
   "metadata": {},
   "outputs": [
    {
     "data": {
      "text/plain": [
       "4"
      ]
     },
     "execution_count": 8,
     "metadata": {},
     "output_type": "execute_result"
    }
   ],
   "source": [
    "module1_1.sum_func([1,3])"
   ]
  },
  {
   "cell_type": "markdown",
   "id": "576cbc66-4094-4c66-bedd-2cde7d2b1434",
   "metadata": {},
   "source": [
    "# 클래스 \n",
    "- 특정함수를 반복하거나 함수의 결과값 계속 유지하고자 할 때\n",
    "- 똑같은 기능하는 함수 찍어내기"
   ]
  },
  {
   "cell_type": "code",
   "execution_count": 17,
   "id": "15c5d880-60a2-483f-9c39-d66f98eaca3f",
   "metadata": {},
   "outputs": [
    {
     "name": "stdout",
     "output_type": "stream",
     "text": [
      "은행원\n",
      "남편\n",
      "은행원\n"
     ]
    }
   ],
   "source": [
    "# 전역변수 : global -> 함수 바깥에서도 호출 할 수 있다\n",
    "# 지역변수 : local -> 함수 내에서만 존재하는 일시적인 변수 \n",
    "\n",
    "role1 = '은행원'\n",
    "\n",
    "def go_home():\n",
    "    role1 = '남편' # 함수 안에서만 역할을 함\n",
    "    return role1\n",
    "    \n",
    "print(role1)\n",
    "\n",
    "go_home()\n",
    "print(go_home())\n",
    "\n",
    "print(role1)"
   ]
  },
  {
   "cell_type": "code",
   "execution_count": 21,
   "id": "6da90c15-6ee0-43f7-9152-4eb234972219",
   "metadata": {},
   "outputs": [
    {
     "name": "stdout",
     "output_type": "stream",
     "text": [
      "소방관\n",
      "아버지\n",
      "아버지\n"
     ]
    }
   ],
   "source": [
    "role2 = '소방관'\n",
    "\n",
    "def go_home2():\n",
    "    global role2 # 전역변수이기 때문에 기존의 변수를 덮어 쓸 수 있다\n",
    "    role2 = '아버지'\n",
    "    return role2\n",
    "\n",
    "print(role2)\n",
    "\n",
    "go_home2()\n",
    "print(go_home2())\n",
    "\n",
    "print(role2)"
   ]
  },
  {
   "cell_type": "code",
   "execution_count": 24,
   "id": "a8d0c763-a6ce-42ee-8ad8-48510ad15cc3",
   "metadata": {},
   "outputs": [],
   "source": [
    "result1 = 0\n",
    "\n",
    "def func1(x):\n",
    "    global result1\n",
    "    result1 += x\n",
    "    return result1"
   ]
  },
  {
   "cell_type": "code",
   "execution_count": 25,
   "id": "9a21f4e1-d396-47b9-a399-dee1c601c781",
   "metadata": {},
   "outputs": [
    {
     "data": {
      "text/plain": [
       "0"
      ]
     },
     "execution_count": 25,
     "metadata": {},
     "output_type": "execute_result"
    }
   ],
   "source": [
    "result1 "
   ]
  },
  {
   "cell_type": "code",
   "execution_count": 26,
   "id": "45934a0f-d9d7-4499-96ab-e0baac695165",
   "metadata": {},
   "outputs": [
    {
     "data": {
      "text/plain": [
       "30"
      ]
     },
     "execution_count": 26,
     "metadata": {},
     "output_type": "execute_result"
    }
   ],
   "source": [
    "func1(30)"
   ]
  },
  {
   "cell_type": "code",
   "execution_count": 27,
   "id": "20003981-d9bb-48af-b73b-16f92eae001d",
   "metadata": {},
   "outputs": [
    {
     "data": {
      "text/plain": [
       "30"
      ]
     },
     "execution_count": 27,
     "metadata": {},
     "output_type": "execute_result"
    }
   ],
   "source": [
    "result1"
   ]
  },
  {
   "cell_type": "code",
   "execution_count": 31,
   "id": "20f150f8-813f-40c5-817a-e5f18833e2e4",
   "metadata": {},
   "outputs": [],
   "source": [
    "ice_sell = 0\n",
    "\n",
    "def icecream1(name, sell):\n",
    "    global ice_sell\n",
    "    ice_sell += sell\n",
    "    return ice_sell\n",
    "\n",
    "# 아이스크림 몇 개 팔았는지 기록하는 함수"
   ]
  },
  {
   "cell_type": "code",
   "execution_count": 33,
   "id": "d94d29fa-9768-4e24-8339-ba47ca060f03",
   "metadata": {},
   "outputs": [
    {
     "name": "stdout",
     "output_type": "stream",
     "text": [
      "60\n",
      "90\n",
      "120\n"
     ]
    }
   ],
   "source": [
    "jaws = icecream1('jaws',30)\n",
    "print(jaws)\n",
    "\n",
    "jaws = icecream1('jaws',30)\n",
    "print(jaws)\n",
    "\n",
    "jaws = icecream1('jaws',30)\n",
    "print(jaws)"
   ]
  },
  {
   "cell_type": "code",
   "execution_count": 34,
   "id": "596cf2ab-c4a7-42fa-b60b-2b187b522371",
   "metadata": {},
   "outputs": [
    {
     "data": {
      "text/plain": [
       "150"
      ]
     },
     "execution_count": 34,
     "metadata": {},
     "output_type": "execute_result"
    }
   ],
   "source": [
    "babamba = icecream1('babamba',30)\n",
    "babamba"
   ]
  },
  {
   "cell_type": "code",
   "execution_count": null,
   "id": "6f3db27b-9bb0-4a40-9d05-568edb6c6a61",
   "metadata": {},
   "outputs": [],
   "source": [
    "# 바밤바 새로운 종류로 개수 세고 싶은데 전역변수라서 이전 조스바에 더해진다\n",
    "# 클래스를 사용하면 각각 함수를 만들 수 있어서 좋을 것 이다"
   ]
  },
  {
   "cell_type": "code",
   "execution_count": 36,
   "id": "b904194e-e3c0-4723-84c3-61c612eb5c3c",
   "metadata": {},
   "outputs": [],
   "source": [
    "class new_icecream():\n",
    "\n",
    "    def __init__(self,name): # 초기화, self = 아이스크림 이름 함수명\n",
    "        self.name = name # 변수 생성\n",
    "        self.total_sell = 0\n",
    "\n",
    "    def record_sell(self,sell): # 팔린 아이스크림 개수 기록\n",
    "        self.total_sell += sell\n",
    "        return self.total_sell\n",
    "\n"
   ]
  },
  {
   "cell_type": "code",
   "execution_count": 38,
   "id": "49e40bc0-8ec0-4057-9e17-cb775dbb9cdf",
   "metadata": {},
   "outputs": [
    {
     "data": {
      "text/plain": [
       "110"
      ]
     },
     "execution_count": 38,
     "metadata": {},
     "output_type": "execute_result"
    }
   ],
   "source": [
    "jaws = new_icecream('jaws')\n",
    "jaws.record_sell(30)\n",
    "jaws.record_sell(80)"
   ]
  },
  {
   "cell_type": "code",
   "execution_count": 39,
   "id": "87524dc6-523b-441a-9ab7-20a2ebb68e3a",
   "metadata": {},
   "outputs": [
    {
     "data": {
      "text/plain": [
       "180"
      ]
     },
     "execution_count": 39,
     "metadata": {},
     "output_type": "execute_result"
    }
   ],
   "source": [
    "bbb = new_icecream('bbb')\n",
    "bbb.record_sell(50)\n",
    "bbb.record_sell(30)\n",
    "bbb.record_sell(100)"
   ]
  },
  {
   "cell_type": "code",
   "execution_count": 55,
   "id": "8b3e4313-8a2d-43cb-9250-91a56fc08607",
   "metadata": {},
   "outputs": [],
   "source": [
    "class new_ice2():\n",
    "    def __init__(self):\n",
    "        self.total_sell = 0 # 초기화\n",
    "    def record_sell(self,sell):\n",
    "        self.total_sell += sell\n",
    "        return self.total_sell\n",
    "    "
   ]
  },
  {
   "cell_type": "code",
   "execution_count": 56,
   "id": "3b0a9ee5-fb0e-463c-8015-47ff2f471c69",
   "metadata": {},
   "outputs": [],
   "source": [
    "screwbar = new_ice2()"
   ]
  },
  {
   "cell_type": "code",
   "execution_count": 57,
   "id": "752b4c2d-a571-472b-9db5-9836c5418664",
   "metadata": {},
   "outputs": [
    {
     "data": {
      "text/plain": [
       "300"
      ]
     },
     "execution_count": 57,
     "metadata": {},
     "output_type": "execute_result"
    }
   ],
   "source": [
    "screwbar.record_sell(100)\n",
    "screwbar.record_sell(200)"
   ]
  },
  {
   "cell_type": "code",
   "execution_count": null,
   "id": "0c02f8bb-6820-487d-8a7f-26be98864f11",
   "metadata": {},
   "outputs": [],
   "source": []
  }
 ],
 "metadata": {
  "kernelspec": {
   "display_name": "Python 3 (ipykernel)",
   "language": "python",
   "name": "python3"
  },
  "language_info": {
   "codemirror_mode": {
    "name": "ipython",
    "version": 3
   },
   "file_extension": ".py",
   "mimetype": "text/x-python",
   "name": "python",
   "nbconvert_exporter": "python",
   "pygments_lexer": "ipython3",
   "version": "3.11.7"
  }
 },
 "nbformat": 4,
 "nbformat_minor": 5
}
