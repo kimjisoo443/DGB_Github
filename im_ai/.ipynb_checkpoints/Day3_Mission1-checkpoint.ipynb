{
 "cells": [
  {
   "cell_type": "code",
   "execution_count": 2,
   "id": "87ce7ad7-d745-4415-adf0-0babaad17bea",
   "metadata": {},
   "outputs": [],
   "source": [
    "import pandas as pd\n",
    "import numpy as np"
   ]
  },
  {
   "cell_type": "code",
   "execution_count": 3,
   "id": "83db85ea-b21b-4e4f-8ba9-c0d7e2c409e5",
   "metadata": {},
   "outputs": [],
   "source": [
    "df9 = pd.read_csv('09_Data.csv', encoding = 'cp949')"
   ]
  },
  {
   "cell_type": "markdown",
   "id": "c13669b5-23e3-4f4a-92d2-ca067d9f2c4c",
   "metadata": {},
   "source": [
    "## 1. Unnamed:0와 카드사 컬럼을 제외하여 df10으로 선언한 후, df10의 컬럼명을 확인하시오"
   ]
  },
  {
   "cell_type": "code",
   "execution_count": 7,
   "id": "9207d7c3-d9c6-44ab-b1a4-92c46a34c9da",
   "metadata": {},
   "outputs": [
    {
     "data": {
      "text/plain": [
       "Index(['결제수단', '교환구분', '배송번호', '배송시작일', '배송완료일', '사용한 적립금액', '상품구매금액', '상품명',\n",
       "       '상품번호', '상품별 추가할인금액', '수량', '주문 시 회원등급', '주문경로', '주문번호', '주문일시',\n",
       "       '주문자ID', '쿠폰 할인금액', '품목번호'],\n",
       "      dtype='object')"
      ]
     },
     "execution_count": 7,
     "metadata": {},
     "output_type": "execute_result"
    }
   ],
   "source": [
    "df10 = df9.drop(['Unnamed: 0','카드사'], axis=1)\n",
    "# df10 = df9.drop(['Unnamed: 0','카드사']) #  axis=1 없어도 됨\n",
    "df10.columns"
   ]
  },
  {
   "cell_type": "markdown",
   "id": "9bb6cc31-60f1-44f9-8b94-393acaddb5eb",
   "metadata": {},
   "source": [
    "## 2. df10의 구조와 타입을 확인하시오"
   ]
  },
  {
   "cell_type": "code",
   "execution_count": 8,
   "id": "2e5f3313-5cd6-4792-817b-402a2cc0725c",
   "metadata": {},
   "outputs": [
    {
     "name": "stdout",
     "output_type": "stream",
     "text": [
      "<class 'pandas.core.frame.DataFrame'>\n",
      "RangeIndex: 46749 entries, 0 to 46748\n",
      "Data columns (total 18 columns):\n",
      " #   Column      Non-Null Count  Dtype  \n",
      "---  ------      --------------  -----  \n",
      " 0   결제수단        46749 non-null  object \n",
      " 1   교환구분        46749 non-null  object \n",
      " 2   배송번호        46749 non-null  object \n",
      " 3   배송시작일       46749 non-null  object \n",
      " 4   배송완료일       46749 non-null  object \n",
      " 5   사용한 적립금액    46749 non-null  int64  \n",
      " 6   상품구매금액      46749 non-null  int64  \n",
      " 7   상품명         46661 non-null  object \n",
      " 8   상품번호        46661 non-null  float64\n",
      " 9   상품별 추가할인금액  46749 non-null  int64  \n",
      " 10  수량          46749 non-null  int64  \n",
      " 11  주문 시 회원등급   43644 non-null  object \n",
      " 12  주문경로        46749 non-null  object \n",
      " 13  주문번호        46749 non-null  object \n",
      " 14  주문일시        46749 non-null  object \n",
      " 15  주문자ID       46749 non-null  object \n",
      " 16  쿠폰 할인금액     46749 non-null  int64  \n",
      " 17  품목번호        46749 non-null  int64  \n",
      "dtypes: float64(1), int64(6), object(11)\n",
      "memory usage: 6.4+ MB\n"
     ]
    }
   ],
   "source": [
    "df10.info()"
   ]
  },
  {
   "cell_type": "markdown",
   "id": "7089d216-4067-41f4-8d75-8261ef33e598",
   "metadata": {},
   "source": [
    "## 3. df10의 결측치를 확인한 후, 결측치가 있는 행들을 제거하여 df10_clean으로 선언하고, df10_clean의 결측치 유무를 확인하시오."
   ]
  },
  {
   "cell_type": "code",
   "execution_count": 28,
   "id": "41cdb01a-abd6-49c1-81cf-3c2dd108cde2",
   "metadata": {},
   "outputs": [
    {
     "data": {
      "text/plain": [
       "0"
      ]
     },
     "execution_count": 28,
     "metadata": {},
     "output_type": "execute_result"
    }
   ],
   "source": [
    "df10.isnull().sum() \n",
    "# 상품명             88\n",
    "# 상품번호            88 \n",
    "# 주문 시 회원등급     3105\n",
    "df10_clean = df10.dropna(axis=0)\n",
    "df10_clean.isnull().sum()\n",
    "# df10_clean.isnull().sum().sum() 벨류 합만 보여줌"
   ]
  },
  {
   "cell_type": "markdown",
   "id": "6f45c6e9-414a-4507-8e69-8cb186351d42",
   "metadata": {},
   "source": [
    "## 4. df10_clean의 결제수단에는 어떤 항목이 있는지 확인한 후, 그중 '적립금'이 포함된 값들만 추출하여 df_point로 선언하시오."
   ]
  },
  {
   "cell_type": "code",
   "execution_count": 37,
   "id": "bca15250-5860-4cc7-82ff-d1082fa5653c",
   "metadata": {
    "scrolled": true
   },
   "outputs": [
    {
     "data": {
      "text/plain": [
       "array(['무통장입금', '적립금,무통장입금', '카드', '적립금,가상계좌', '적립금,카드', '가상계좌', '쿠폰,카드',\n",
       "       '예치금', '예치금,적립금,무통장입금', '쿠폰,무통장입금', '페이나우(실시간 계좌이체)', '예치금,무통장입금',\n",
       "       '페이나우(카드)', '실시간계좌이체', '카드,무통장입금', '예치금,쿠폰,무통장입금', '예치금,카드',\n",
       "       '카카오페이(카드)', '카카오페이(카카오머니)', '적립금,카카오페이(카카오머니)', '쿠폰,예치금',\n",
       "       '적립금,카카오페이(카드)', '쿠폰,가상계좌', '적립금,페이나우(카드)', '적립금,카드,무통장입금',\n",
       "       '적립금,페이나우(실시간 계좌이체)', '예치금,적립금,카드', '휴대폰', '에스크로(실시간계좌이체)',\n",
       "       '쿠폰,휴대폰', '적립금,휴대폰', '쿠폰,페이나우(카드)', '쿠폰,에스크로(실시간계좌이체)',\n",
       "       '쿠폰,카드,무통장입금', '무통장입금,휴대폰', '페이나우(카드),무통장입금', '쿠폰,카카오페이(카드)',\n",
       "       '예치금,쿠폰,카드', '무통장입금,실시간계좌이체', '예치금,휴대폰', '적립금,실시간계좌이체',\n",
       "       '예치금,실시간계좌이체'], dtype=object)"
      ]
     },
     "execution_count": 37,
     "metadata": {},
     "output_type": "execute_result"
    }
   ],
   "source": [
    "df10_clean['결제수단'].unique()"
   ]
  },
  {
   "cell_type": "code",
   "execution_count": 55,
   "id": "c6bfeb39-869d-41f8-98e5-93dbcdcda831",
   "metadata": {
    "scrolled": true
   },
   "outputs": [
    {
     "data": {
      "text/plain": [
       "array(['적립금,무통장입금', '적립금,가상계좌', '적립금,카드', '예치금,적립금,무통장입금',\n",
       "       '적립금,카카오페이(카카오머니)', '적립금,카카오페이(카드)', '적립금,페이나우(카드)',\n",
       "       '적립금,카드,무통장입금', '적립금,페이나우(실시간 계좌이체)', '예치금,적립금,카드', '적립금,휴대폰',\n",
       "       '적립금,실시간계좌이체'], dtype=object)"
      ]
     },
     "execution_count": 55,
     "metadata": {},
     "output_type": "execute_result"
    }
   ],
   "source": [
    "cond = (df10_clean['결제수단'].str.contains('적립금'))\n",
    "\n",
    "df_point = df10_clean[cond]\n",
    "df_point['결제수단'].unique()"
   ]
  },
  {
   "cell_type": "code",
   "execution_count": 53,
   "id": "17dc95d5-9ea9-4a85-902b-a5f7efff5d4c",
   "metadata": {
    "scrolled": true
   },
   "outputs": [
    {
     "data": {
      "text/plain": [
       "array(['적립금,무통장입금', '적립금,가상계좌', '적립금,카드', '예치금,적립금,무통장입금',\n",
       "       '적립금,카카오페이(카카오머니)', '적립금,카카오페이(카드)', '적립금,페이나우(카드)',\n",
       "       '적립금,카드,무통장입금', '적립금,페이나우(실시간 계좌이체)', '예치금,적립금,카드', '적립금,휴대폰',\n",
       "       '적립금,실시간계좌이체'], dtype=object)"
      ]
     },
     "execution_count": 53,
     "metadata": {},
     "output_type": "execute_result"
    }
   ],
   "source": [
    "def find_char(row):\n",
    "    if '적립금' in row:\n",
    "        return True\n",
    "    else:\n",
    "        return False\n",
    "\n",
    "cond1 = df10_clean['결제수단'].apply(find_char) # 함수만든거 apply함 - for문처럼 쓰였다.\n",
    "df_point = df10_clean.loc[cond1]\n",
    "df_point['결제수단'].unique()\n"
   ]
  },
  {
   "cell_type": "markdown",
   "id": "e56fc8a3-e5cb-4e12-964f-9b718f25edb3",
   "metadata": {},
   "source": [
    "## 5. df10_celan 중 주문 시 회원등급의 항목과 빈도수를 확인하시오"
   ]
  },
  {
   "cell_type": "code",
   "execution_count": 21,
   "id": "d4ee09b1-cf69-4794-b892-aa7fa7aedc3d",
   "metadata": {},
   "outputs": [
    {
     "name": "stdout",
     "output_type": "stream",
     "text": [
      "항목 : 8, 빈도 : 15921\n"
     ]
    }
   ],
   "source": [
    "df10_ch = df10_clean['주문 시 회원등급'].describe(include='object')\n",
    "uniq = df10_ch['unique']\n",
    "freq = df10_ch['freq']\n",
    "print(f\"항목 : {uniq}, 빈도 : {freq}\")"
   ]
  },
  {
   "cell_type": "code",
   "execution_count": 30,
   "id": "05226aff-8a4a-46dc-8364-5ec3fc5610ae",
   "metadata": {},
   "outputs": [
    {
     "data": {
      "text/plain": [
       "array(['전화주문 고객', '일반', '사업자', '특별회원', '딜러 유치 회원', '관리자', 'VIP', '딜러'],\n",
       "      dtype=object)"
      ]
     },
     "execution_count": 30,
     "metadata": {},
     "output_type": "execute_result"
    }
   ],
   "source": [
    "u = df10_clean['주문 시 회원등급'].unique()\n",
    "u"
   ]
  },
  {
   "cell_type": "code",
   "execution_count": 31,
   "id": "8fedef6a-21f1-4f11-86f1-0969ecaa69b0",
   "metadata": {},
   "outputs": [
    {
     "data": {
      "text/plain": [
       "주문 시 회원등급\n",
       "사업자         15921\n",
       "일반          15137\n",
       "전화주문 고객     11860\n",
       "딜러 유치 회원      463\n",
       "특별회원          111\n",
       "관리자            75\n",
       "딜러             30\n",
       "VIP             1\n",
       "Name: count, dtype: int64"
      ]
     },
     "execution_count": 31,
     "metadata": {},
     "output_type": "execute_result"
    }
   ],
   "source": [
    "f = df10_clean['주문 시 회원등급'].value_counts() # 항목이랑 값\n",
    "f"
   ]
  },
  {
   "cell_type": "markdown",
   "id": "60a1e902-c60f-48f4-b8cc-45733fae3f9d",
   "metadata": {},
   "source": [
    "## 6. df10_clean 중 '주문시 회원 등급' 별 주문한 수량 (수량)의 합과 평균을 확인하시오"
   ]
  },
  {
   "cell_type": "code",
   "execution_count": 27,
   "id": "ce6f1d49-375b-460c-9e53-123b095fafb0",
   "metadata": {},
   "outputs": [
    {
     "data": {
      "text/html": [
       "<div>\n",
       "<style scoped>\n",
       "    .dataframe tbody tr th:only-of-type {\n",
       "        vertical-align: middle;\n",
       "    }\n",
       "\n",
       "    .dataframe tbody tr th {\n",
       "        vertical-align: top;\n",
       "    }\n",
       "\n",
       "    .dataframe thead tr th {\n",
       "        text-align: left;\n",
       "    }\n",
       "\n",
       "    .dataframe thead tr:last-of-type th {\n",
       "        text-align: right;\n",
       "    }\n",
       "</style>\n",
       "<table border=\"1\" class=\"dataframe\">\n",
       "  <thead>\n",
       "    <tr>\n",
       "      <th></th>\n",
       "      <th>sum</th>\n",
       "      <th>mean</th>\n",
       "    </tr>\n",
       "    <tr>\n",
       "      <th></th>\n",
       "      <th>수량</th>\n",
       "      <th>수량</th>\n",
       "    </tr>\n",
       "    <tr>\n",
       "      <th>주문 시 회원등급</th>\n",
       "      <th></th>\n",
       "      <th></th>\n",
       "    </tr>\n",
       "  </thead>\n",
       "  <tbody>\n",
       "    <tr>\n",
       "      <th>VIP</th>\n",
       "      <td>1</td>\n",
       "      <td>1.000000</td>\n",
       "    </tr>\n",
       "    <tr>\n",
       "      <th>관리자</th>\n",
       "      <td>137</td>\n",
       "      <td>1.826667</td>\n",
       "    </tr>\n",
       "    <tr>\n",
       "      <th>딜러</th>\n",
       "      <td>33</td>\n",
       "      <td>1.100000</td>\n",
       "    </tr>\n",
       "    <tr>\n",
       "      <th>딜러 유치 회원</th>\n",
       "      <td>575</td>\n",
       "      <td>1.241901</td>\n",
       "    </tr>\n",
       "    <tr>\n",
       "      <th>사업자</th>\n",
       "      <td>19180</td>\n",
       "      <td>1.204698</td>\n",
       "    </tr>\n",
       "    <tr>\n",
       "      <th>일반</th>\n",
       "      <td>17472</td>\n",
       "      <td>1.154258</td>\n",
       "    </tr>\n",
       "    <tr>\n",
       "      <th>전화주문 고객</th>\n",
       "      <td>13760</td>\n",
       "      <td>1.160202</td>\n",
       "    </tr>\n",
       "    <tr>\n",
       "      <th>특별회원</th>\n",
       "      <td>123</td>\n",
       "      <td>1.108108</td>\n",
       "    </tr>\n",
       "  </tbody>\n",
       "</table>\n",
       "</div>"
      ],
      "text/plain": [
       "             sum      mean\n",
       "              수량        수량\n",
       "주문 시 회원등급                 \n",
       "VIP            1  1.000000\n",
       "관리자          137  1.826667\n",
       "딜러            33  1.100000\n",
       "딜러 유치 회원     575  1.241901\n",
       "사업자        19180  1.204698\n",
       "일반         17472  1.154258\n",
       "전화주문 고객    13760  1.160202\n",
       "특별회원         123  1.108108"
      ]
     },
     "execution_count": 27,
     "metadata": {},
     "output_type": "execute_result"
    }
   ],
   "source": [
    "p1 = df10_clean.pivot_table(index = '주문 시 회원등급', values = '수량', aggfunc=['sum','mean'])\n",
    "p1"
   ]
  },
  {
   "cell_type": "code",
   "execution_count": 32,
   "id": "80303555-4a5c-4a5b-879f-94ea52fbc001",
   "metadata": {},
   "outputs": [
    {
     "data": {
      "text/plain": [
       "MultiIndex([( 'sum', '수량'),\n",
       "            ('mean', '수량')],\n",
       "           )"
      ]
     },
     "execution_count": 32,
     "metadata": {},
     "output_type": "execute_result"
    }
   ],
   "source": [
    "p1.columns\n",
    "# ('mean', '수량') -> 특별회원 가져와서 보고 싶은데 "
   ]
  },
  {
   "cell_type": "code",
   "execution_count": 33,
   "id": "ed378a37-b7d7-4bf7-96c4-b2f93a1a29a0",
   "metadata": {},
   "outputs": [
    {
     "data": {
      "text/plain": [
       "sum   수량    123.000000\n",
       "mean  수량      1.108108\n",
       "Name: 특별회원, dtype: float64"
      ]
     },
     "execution_count": 33,
     "metadata": {},
     "output_type": "execute_result"
    }
   ],
   "source": [
    "p1.loc['특별회원']"
   ]
  },
  {
   "cell_type": "code",
   "execution_count": 34,
   "id": "811afe12-200b-40be-b14d-1b0215bf2e21",
   "metadata": {},
   "outputs": [
    {
     "data": {
      "text/html": [
       "<div>\n",
       "<style scoped>\n",
       "    .dataframe tbody tr th:only-of-type {\n",
       "        vertical-align: middle;\n",
       "    }\n",
       "\n",
       "    .dataframe tbody tr th {\n",
       "        vertical-align: top;\n",
       "    }\n",
       "\n",
       "    .dataframe thead th {\n",
       "        text-align: right;\n",
       "    }\n",
       "</style>\n",
       "<table border=\"1\" class=\"dataframe\">\n",
       "  <thead>\n",
       "    <tr style=\"text-align: right;\">\n",
       "      <th></th>\n",
       "      <th>sum</th>\n",
       "      <th>mean</th>\n",
       "    </tr>\n",
       "    <tr>\n",
       "      <th>주문 시 회원등급</th>\n",
       "      <th></th>\n",
       "      <th></th>\n",
       "    </tr>\n",
       "  </thead>\n",
       "  <tbody>\n",
       "    <tr>\n",
       "      <th>VIP</th>\n",
       "      <td>1</td>\n",
       "      <td>1.000000</td>\n",
       "    </tr>\n",
       "    <tr>\n",
       "      <th>관리자</th>\n",
       "      <td>137</td>\n",
       "      <td>1.826667</td>\n",
       "    </tr>\n",
       "    <tr>\n",
       "      <th>딜러</th>\n",
       "      <td>33</td>\n",
       "      <td>1.100000</td>\n",
       "    </tr>\n",
       "    <tr>\n",
       "      <th>딜러 유치 회원</th>\n",
       "      <td>575</td>\n",
       "      <td>1.241901</td>\n",
       "    </tr>\n",
       "    <tr>\n",
       "      <th>사업자</th>\n",
       "      <td>19180</td>\n",
       "      <td>1.204698</td>\n",
       "    </tr>\n",
       "    <tr>\n",
       "      <th>일반</th>\n",
       "      <td>17472</td>\n",
       "      <td>1.154258</td>\n",
       "    </tr>\n",
       "    <tr>\n",
       "      <th>전화주문 고객</th>\n",
       "      <td>13760</td>\n",
       "      <td>1.160202</td>\n",
       "    </tr>\n",
       "    <tr>\n",
       "      <th>특별회원</th>\n",
       "      <td>123</td>\n",
       "      <td>1.108108</td>\n",
       "    </tr>\n",
       "  </tbody>\n",
       "</table>\n",
       "</div>"
      ],
      "text/plain": [
       "             sum      mean\n",
       "주문 시 회원등급                 \n",
       "VIP            1  1.000000\n",
       "관리자          137  1.826667\n",
       "딜러            33  1.100000\n",
       "딜러 유치 회원     575  1.241901\n",
       "사업자        19180  1.204698\n",
       "일반         17472  1.154258\n",
       "전화주문 고객    13760  1.160202\n",
       "특별회원         123  1.108108"
      ]
     },
     "execution_count": 34,
     "metadata": {},
     "output_type": "execute_result"
    }
   ],
   "source": [
    "p1.columns = p1.columns.droplevel(1) # 이중칼럼이 사라짐\n",
    "p1"
   ]
  },
  {
   "cell_type": "code",
   "execution_count": 35,
   "id": "32dfa5e3-10e3-4c06-8518-43d1c39e9e94",
   "metadata": {},
   "outputs": [
    {
     "data": {
      "text/plain": [
       "sum     123.000000\n",
       "mean      1.108108\n",
       "Name: 특별회원, dtype: float64"
      ]
     },
     "execution_count": 35,
     "metadata": {},
     "output_type": "execute_result"
    }
   ],
   "source": [
    "p1.loc['특별회원'] # 수량 부분 사라지고 값만 잘 나오는 것 확인"
   ]
  },
  {
   "cell_type": "markdown",
   "id": "ad375c16-1d6d-4211-918c-feb293960f19",
   "metadata": {},
   "source": [
    "# 7.사업자와 일반 고객의 사용한 적립금액의 합과 평균을 계산한 후 각각의 차를 계산하시오"
   ]
  },
  {
   "cell_type": "code",
   "execution_count": 70,
   "id": "ca3e93e4-c3f1-44e2-8914-7efe885d2e9e",
   "metadata": {},
   "outputs": [
    {
     "data": {
      "text/html": [
       "<div>\n",
       "<style scoped>\n",
       "    .dataframe tbody tr th:only-of-type {\n",
       "        vertical-align: middle;\n",
       "    }\n",
       "\n",
       "    .dataframe tbody tr th {\n",
       "        vertical-align: top;\n",
       "    }\n",
       "\n",
       "    .dataframe thead tr th {\n",
       "        text-align: left;\n",
       "    }\n",
       "\n",
       "    .dataframe thead tr:last-of-type th {\n",
       "        text-align: right;\n",
       "    }\n",
       "</style>\n",
       "<table border=\"1\" class=\"dataframe\">\n",
       "  <thead>\n",
       "    <tr>\n",
       "      <th></th>\n",
       "      <th>sum</th>\n",
       "      <th>mean</th>\n",
       "    </tr>\n",
       "    <tr>\n",
       "      <th></th>\n",
       "      <th>사용한 적립금액</th>\n",
       "      <th>사용한 적립금액</th>\n",
       "    </tr>\n",
       "    <tr>\n",
       "      <th>주문 시 회원등급</th>\n",
       "      <th></th>\n",
       "      <th></th>\n",
       "    </tr>\n",
       "  </thead>\n",
       "  <tbody>\n",
       "    <tr>\n",
       "      <th>사업자</th>\n",
       "      <td>29141940</td>\n",
       "      <td>1829.719345</td>\n",
       "    </tr>\n",
       "    <tr>\n",
       "      <th>일반</th>\n",
       "      <td>8339041</td>\n",
       "      <td>549.452527</td>\n",
       "    </tr>\n",
       "  </tbody>\n",
       "</table>\n",
       "</div>"
      ],
      "text/plain": [
       "                sum         mean\n",
       "           사용한 적립금액     사용한 적립금액\n",
       "주문 시 회원등급                       \n",
       "사업자        29141940  1829.719345\n",
       "일반          8339041   549.452527"
      ]
     },
     "execution_count": 70,
     "metadata": {},
     "output_type": "execute_result"
    }
   ],
   "source": [
    "df10['주문 시 회원등급'].unique()\n",
    "cond1 = (df10['주문 시 회원등급'].isin(['사업자','일반']))\n",
    "p = df10.loc[cond1]\n",
    "\n",
    "p.pivot_table(index='주문 시 회원등급',\n",
    "               values='사용한 적립금액',\n",
    "               aggfunc=['sum','mean'])"
   ]
  },
  {
   "cell_type": "markdown",
   "id": "f52eeac6-8eb9-4c39-8362-73f6a25cfe71",
   "metadata": {},
   "source": [
    "# 8.주문 시 회원등급을 입력하면 사용한 적립금액의 기술통계량을 반환하는 함수를 만드시오"
   ]
  },
  {
   "cell_type": "code",
   "execution_count": 72,
   "id": "4e7da290-9e14-46c9-922b-9e7f08ea72bf",
   "metadata": {},
   "outputs": [
    {
     "name": "stdout",
     "output_type": "stream",
     "text": [
      "['일반' '사업자' '딜러 유치 회원' '전화주문 고객' '특별회원' '관리자' '딜러']\n"
     ]
    },
    {
     "name": "stdin",
     "output_type": "stream",
     "text": [
      "회원 등급을 입력하시오 딜러\n"
     ]
    },
    {
     "data": {
      "text/plain": [
       "count        6.0\n",
       "mean     14640.0\n",
       "std          0.0\n",
       "min      14640.0\n",
       "25%      14640.0\n",
       "50%      14640.0\n",
       "75%      14640.0\n",
       "max      14640.0\n",
       "Name: 사용한 적립금액, dtype: float64"
      ]
     },
     "execution_count": 72,
     "metadata": {},
     "output_type": "execute_result"
    }
   ],
   "source": [
    "print(df_point['주문 시 회원등급'].unique())\n",
    "input_rank = input('회원 등급을 입력하시오')\n",
    "cond1 = (df_point['주문 시 회원등급'] == input_rank)\n",
    "p1 = df_point.loc[cond1]\n",
    "p1['사용한 적립금액'].describe() # 기술통계량"
   ]
  },
  {
   "cell_type": "code",
   "execution_count": 77,
   "id": "fe30d57c-8143-4a74-9277-38d6f46f424e",
   "metadata": {},
   "outputs": [
    {
     "name": "stdout",
     "output_type": "stream",
     "text": [
      "['일반' '사업자' '딜러 유치 회원' '전화주문 고객' '특별회원' '관리자' '딜러']\n"
     ]
    },
    {
     "name": "stdin",
     "output_type": "stream",
     "text": [
      "회원 등급을 입력하시오 딜러\n"
     ]
    },
    {
     "data": {
      "text/plain": [
       "count        6.0\n",
       "mean     14640.0\n",
       "std          0.0\n",
       "min      14640.0\n",
       "25%      14640.0\n",
       "50%      14640.0\n",
       "75%      14640.0\n",
       "max      14640.0\n",
       "Name: 사용한 적립금액, dtype: float64"
      ]
     },
     "execution_count": 77,
     "metadata": {},
     "output_type": "execute_result"
    }
   ],
   "source": [
    "def func3():\n",
    "    print(df_point['주문 시 회원등급'].unique())\n",
    "    input_rank = input('회원 등급을 입력하시오')\n",
    "    \n",
    "    if input_rank in df_point['주문 시 회원등급'].unique():\n",
    "        cond1 = (df_point['주문 시 회원등급'] == input_rank)\n",
    "        p1 = df_point.loc[cond1]\n",
    "        return p1['사용한 적립금액'].describe() # 기술통계량\n",
    "    else:\n",
    "        return '다시 입력하시오'\n",
    "\n",
    "func3()"
   ]
  }
 ],
 "metadata": {
  "kernelspec": {
   "display_name": "Python 3 (ipykernel)",
   "language": "python",
   "name": "python3"
  },
  "language_info": {
   "codemirror_mode": {
    "name": "ipython",
    "version": 3
   },
   "file_extension": ".py",
   "mimetype": "text/x-python",
   "name": "python",
   "nbconvert_exporter": "python",
   "pygments_lexer": "ipython3",
   "version": "3.11.7"
  }
 },
 "nbformat": 4,
 "nbformat_minor": 5
}
