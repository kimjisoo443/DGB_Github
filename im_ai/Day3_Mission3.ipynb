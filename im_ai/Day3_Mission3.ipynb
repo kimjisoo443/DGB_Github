{
 "cells": [
  {
   "cell_type": "markdown",
   "metadata": {},
   "source": [
    "# 미션\n",
    "- 01_Data.csv 사용"
   ]
  },
  {
   "cell_type": "code",
   "execution_count": 47,
   "metadata": {},
   "outputs": [],
   "source": [
    "import pandas as pd\n",
    "import numpy as np\n",
    "df1 = pd.read_csv('01_Data.csv')"
   ]
  },
  {
   "cell_type": "markdown",
   "metadata": {},
   "source": [
    "## 1. 데이터에서 고객들의 유입경로(Channel)을 분석하고자 한다. 유입경로(Channel)중 가장 많은 고객이 유입된 경로를 확인하시오."
   ]
  },
  {
   "cell_type": "code",
   "execution_count": 3,
   "metadata": {},
   "outputs": [
    {
     "data": {
      "text/plain": [
       "Index(['Index', 'Member_ID', 'Sales_Type', 'Contract_Type', 'Channel',\n",
       "       'Datetime', 'Term', 'Payment_Type', 'Product_Type', 'Amount_Month',\n",
       "       'Customer_Type', 'Age', 'Address1', 'Address2', 'State',\n",
       "       'Overdue_count', 'Overdue_Type', 'Gender', 'Credit_Rank', 'Bank'],\n",
       "      dtype='object')"
      ]
     },
     "execution_count": 3,
     "metadata": {},
     "output_type": "execute_result"
    }
   ],
   "source": [
    "df1.columns"
   ]
  },
  {
   "cell_type": "code",
   "execution_count": 12,
   "metadata": {},
   "outputs": [
    {
     "data": {
      "text/plain": [
       "'영업방판'"
      ]
     },
     "execution_count": 12,
     "metadata": {},
     "output_type": "execute_result"
    }
   ],
   "source": [
    "df1['Channel'].value_counts().index[0]"
   ]
  },
  {
   "cell_type": "code",
   "execution_count": 9,
   "metadata": {},
   "outputs": [],
   "source": [
    "df1['Channel'].describe(include = 'object') # 기술통계값 나옴\n",
    "ct = df1['Channel'].describe(include = 'object').top"
   ]
  },
  {
   "cell_type": "markdown",
   "metadata": {},
   "source": [
    "## 2. 가장 많이 유입된 경로(Channel)에 계약된 월랜탈비용(Amount_Month)의 평균을 계산하시오. "
   ]
  },
  {
   "cell_type": "code",
   "execution_count": 10,
   "metadata": {},
   "outputs": [
    {
     "data": {
      "text/html": [
       "<div>\n",
       "<style scoped>\n",
       "    .dataframe tbody tr th:only-of-type {\n",
       "        vertical-align: middle;\n",
       "    }\n",
       "\n",
       "    .dataframe tbody tr th {\n",
       "        vertical-align: top;\n",
       "    }\n",
       "\n",
       "    .dataframe thead th {\n",
       "        text-align: right;\n",
       "    }\n",
       "</style>\n",
       "<table border=\"1\" class=\"dataframe\">\n",
       "  <thead>\n",
       "    <tr style=\"text-align: right;\">\n",
       "      <th></th>\n",
       "      <th>Amount_Month</th>\n",
       "    </tr>\n",
       "    <tr>\n",
       "      <th>Channel</th>\n",
       "      <th></th>\n",
       "    </tr>\n",
       "  </thead>\n",
       "  <tbody>\n",
       "    <tr>\n",
       "      <th>영업방판</th>\n",
       "      <td>100322.794631</td>\n",
       "    </tr>\n",
       "  </tbody>\n",
       "</table>\n",
       "</div>"
      ],
      "text/plain": [
       "          Amount_Month\n",
       "Channel               \n",
       "영업방판     100322.794631"
      ]
     },
     "execution_count": 10,
     "metadata": {},
     "output_type": "execute_result"
    }
   ],
   "source": [
    "cond1 = (df1['Channel']==ct)\n",
    "p = df1.loc[cond1]\n",
    "\n",
    "p.pivot_table(index='Channel',\n",
    "               values='Amount_Month',\n",
    "               aggfunc='mean')"
   ]
  },
  {
   "cell_type": "code",
   "execution_count": 16,
   "metadata": {},
   "outputs": [
    {
     "data": {
      "text/plain": [
       "100322.79463121135"
      ]
     },
     "execution_count": 16,
     "metadata": {},
     "output_type": "execute_result"
    }
   ],
   "source": [
    "cond1 = (df1['Channel']==ct)\n",
    "p = df1.loc[cond1]\n",
    "p['Amount_Month'].mean()"
   ]
  },
  {
   "cell_type": "markdown",
   "metadata": {},
   "source": [
    "## 3. 유입경로(Channel)에서 '대형마트A'로 유입된 고객들 중, 연체건수(Overdue_count)가 높은 상위 30명의 계약 명단을 추출하여 result4.xlsx 저장하시오."
   ]
  },
  {
   "cell_type": "code",
   "execution_count": 67,
   "metadata": {},
   "outputs": [
    {
     "name": "stderr",
     "output_type": "stream",
     "text": [
      "<ipython-input-67-aecdad7ac1ba>:6: UserWarning: Pandas requires version '1.4.3' or newer of 'xlsxwriter' (version '1.2.9' currently installed).\n",
      "  a.to_excel('result4.xlsx')\n"
     ]
    }
   ],
   "source": [
    "cond2 = (df1['Channel']=='대형마트A')\n",
    "p = df1.loc[cond2]\n",
    "\n",
    "a=p.sort_values(by='Overdue_count',ascending=0).head(30)\n",
    "a\n",
    "a.to_excel('result4.xlsx')"
   ]
  },
  {
   "cell_type": "markdown",
   "metadata": {},
   "source": [
    "## 4. 유입 경로가 가장 많은 5개의 채널에 대해 데이터를 추출 "
   ]
  },
  {
   "cell_type": "code",
   "execution_count": 69,
   "metadata": {},
   "outputs": [],
   "source": [
    "top5 = df1['Channel'].value_counts().head(5).index"
   ]
  },
  {
   "cell_type": "code",
   "execution_count": 71,
   "metadata": {
    "collapsed": true
   },
   "outputs": [
    {
     "name": "stdout",
     "output_type": "stream",
     "text": [
      "['영업방판' '홈쇼핑/방송' '재계약' '전문매장H' '대형마트A']\n"
     ]
    },
    {
     "data": {
      "text/html": [
       "<div>\n",
       "<style scoped>\n",
       "    .dataframe tbody tr th:only-of-type {\n",
       "        vertical-align: middle;\n",
       "    }\n",
       "\n",
       "    .dataframe tbody tr th {\n",
       "        vertical-align: top;\n",
       "    }\n",
       "\n",
       "    .dataframe thead th {\n",
       "        text-align: right;\n",
       "    }\n",
       "</style>\n",
       "<table border=\"1\" class=\"dataframe\">\n",
       "  <thead>\n",
       "    <tr style=\"text-align: right;\">\n",
       "      <th></th>\n",
       "      <th>Index</th>\n",
       "      <th>Member_ID</th>\n",
       "      <th>Sales_Type</th>\n",
       "      <th>Contract_Type</th>\n",
       "      <th>Channel</th>\n",
       "      <th>Datetime</th>\n",
       "      <th>Term</th>\n",
       "      <th>Payment_Type</th>\n",
       "      <th>Product_Type</th>\n",
       "      <th>Amount_Month</th>\n",
       "      <th>...</th>\n",
       "      <th>Address2</th>\n",
       "      <th>State</th>\n",
       "      <th>Overdue_count</th>\n",
       "      <th>Overdue_Type</th>\n",
       "      <th>Gender</th>\n",
       "      <th>Credit_Rank</th>\n",
       "      <th>Bank</th>\n",
       "      <th>Datetime_dt</th>\n",
       "      <th>Year</th>\n",
       "      <th>Week</th>\n",
       "    </tr>\n",
       "  </thead>\n",
       "  <tbody>\n",
       "    <tr>\n",
       "      <th>0</th>\n",
       "      <td>1</td>\n",
       "      <td>66758234</td>\n",
       "      <td>렌탈</td>\n",
       "      <td>일반계약</td>\n",
       "      <td>영업방판</td>\n",
       "      <td>2022-05-05</td>\n",
       "      <td>60</td>\n",
       "      <td>CMS</td>\n",
       "      <td>DES-1</td>\n",
       "      <td>96900</td>\n",
       "      <td>...</td>\n",
       "      <td>경기도</td>\n",
       "      <td>계약확정</td>\n",
       "      <td>0</td>\n",
       "      <td>없음</td>\n",
       "      <td>여자</td>\n",
       "      <td>9.0</td>\n",
       "      <td>새마을금고</td>\n",
       "      <td>2022-05-05</td>\n",
       "      <td>2022</td>\n",
       "      <td>18</td>\n",
       "    </tr>\n",
       "    <tr>\n",
       "      <th>1</th>\n",
       "      <td>2</td>\n",
       "      <td>66755948</td>\n",
       "      <td>렌탈</td>\n",
       "      <td>교체계약</td>\n",
       "      <td>영업방판</td>\n",
       "      <td>2023-02-19</td>\n",
       "      <td>60</td>\n",
       "      <td>카드이체</td>\n",
       "      <td>DES-1</td>\n",
       "      <td>102900</td>\n",
       "      <td>...</td>\n",
       "      <td>경기도</td>\n",
       "      <td>계약확정</td>\n",
       "      <td>0</td>\n",
       "      <td>없음</td>\n",
       "      <td>남자</td>\n",
       "      <td>2.0</td>\n",
       "      <td>현대카드</td>\n",
       "      <td>2023-02-19</td>\n",
       "      <td>2023</td>\n",
       "      <td>7</td>\n",
       "    </tr>\n",
       "    <tr>\n",
       "      <th>2</th>\n",
       "      <td>3</td>\n",
       "      <td>66756657</td>\n",
       "      <td>렌탈</td>\n",
       "      <td>일반계약</td>\n",
       "      <td>홈쇼핑/방송</td>\n",
       "      <td>2022-02-27</td>\n",
       "      <td>60</td>\n",
       "      <td>CMS</td>\n",
       "      <td>DES-1</td>\n",
       "      <td>96900</td>\n",
       "      <td>...</td>\n",
       "      <td>경기도</td>\n",
       "      <td>계약확정</td>\n",
       "      <td>0</td>\n",
       "      <td>없음</td>\n",
       "      <td>여자</td>\n",
       "      <td>8.0</td>\n",
       "      <td>우리은행</td>\n",
       "      <td>2022-02-27</td>\n",
       "      <td>2022</td>\n",
       "      <td>8</td>\n",
       "    </tr>\n",
       "    <tr>\n",
       "      <th>3</th>\n",
       "      <td>4</td>\n",
       "      <td>66423450</td>\n",
       "      <td>멤버십</td>\n",
       "      <td>멤버십3유형</td>\n",
       "      <td>재계약</td>\n",
       "      <td>2022-05-12</td>\n",
       "      <td>12</td>\n",
       "      <td>CMS</td>\n",
       "      <td>DES-1</td>\n",
       "      <td>66900</td>\n",
       "      <td>...</td>\n",
       "      <td>경기도</td>\n",
       "      <td>계약확정</td>\n",
       "      <td>0</td>\n",
       "      <td>없음</td>\n",
       "      <td>남자</td>\n",
       "      <td>5.0</td>\n",
       "      <td>농협회원조합</td>\n",
       "      <td>2022-05-12</td>\n",
       "      <td>2022</td>\n",
       "      <td>19</td>\n",
       "    </tr>\n",
       "    <tr>\n",
       "      <th>4</th>\n",
       "      <td>5</td>\n",
       "      <td>66423204</td>\n",
       "      <td>멤버십</td>\n",
       "      <td>멤버십3유형</td>\n",
       "      <td>재계약</td>\n",
       "      <td>2022-05-09</td>\n",
       "      <td>12</td>\n",
       "      <td>CMS</td>\n",
       "      <td>DES-1</td>\n",
       "      <td>66900</td>\n",
       "      <td>...</td>\n",
       "      <td>경기도</td>\n",
       "      <td>기간만료</td>\n",
       "      <td>12</td>\n",
       "      <td>있음</td>\n",
       "      <td>남자</td>\n",
       "      <td>8.0</td>\n",
       "      <td>농협회원조합</td>\n",
       "      <td>2022-05-09</td>\n",
       "      <td>2022</td>\n",
       "      <td>19</td>\n",
       "    </tr>\n",
       "    <tr>\n",
       "      <th>...</th>\n",
       "      <td>...</td>\n",
       "      <td>...</td>\n",
       "      <td>...</td>\n",
       "      <td>...</td>\n",
       "      <td>...</td>\n",
       "      <td>...</td>\n",
       "      <td>...</td>\n",
       "      <td>...</td>\n",
       "      <td>...</td>\n",
       "      <td>...</td>\n",
       "      <td>...</td>\n",
       "      <td>...</td>\n",
       "      <td>...</td>\n",
       "      <td>...</td>\n",
       "      <td>...</td>\n",
       "      <td>...</td>\n",
       "      <td>...</td>\n",
       "      <td>...</td>\n",
       "      <td>...</td>\n",
       "      <td>...</td>\n",
       "      <td>...</td>\n",
       "    </tr>\n",
       "    <tr>\n",
       "      <th>51296</th>\n",
       "      <td>51298</td>\n",
       "      <td>66579515</td>\n",
       "      <td>렌탈</td>\n",
       "      <td>프로모션계약</td>\n",
       "      <td>대형마트A</td>\n",
       "      <td>2022-02-28</td>\n",
       "      <td>60</td>\n",
       "      <td>CMS</td>\n",
       "      <td>DES-3A</td>\n",
       "      <td>96900</td>\n",
       "      <td>...</td>\n",
       "      <td>경기도</td>\n",
       "      <td>계약확정</td>\n",
       "      <td>0</td>\n",
       "      <td>없음</td>\n",
       "      <td>남자</td>\n",
       "      <td>NaN</td>\n",
       "      <td>기업은행</td>\n",
       "      <td>2022-02-28</td>\n",
       "      <td>2022</td>\n",
       "      <td>9</td>\n",
       "    </tr>\n",
       "    <tr>\n",
       "      <th>51297</th>\n",
       "      <td>51299</td>\n",
       "      <td>66799558</td>\n",
       "      <td>렌탈</td>\n",
       "      <td>일반계약</td>\n",
       "      <td>대형마트A</td>\n",
       "      <td>2022-03-31</td>\n",
       "      <td>60</td>\n",
       "      <td>CMS</td>\n",
       "      <td>DES-1</td>\n",
       "      <td>96900</td>\n",
       "      <td>...</td>\n",
       "      <td>경기도</td>\n",
       "      <td>계약확정</td>\n",
       "      <td>0</td>\n",
       "      <td>없음</td>\n",
       "      <td>여자</td>\n",
       "      <td>8.0</td>\n",
       "      <td>새마을금고</td>\n",
       "      <td>2022-03-31</td>\n",
       "      <td>2022</td>\n",
       "      <td>13</td>\n",
       "    </tr>\n",
       "    <tr>\n",
       "      <th>51298</th>\n",
       "      <td>51300</td>\n",
       "      <td>66799197</td>\n",
       "      <td>렌탈</td>\n",
       "      <td>프로모션계약</td>\n",
       "      <td>영업방판</td>\n",
       "      <td>2022-03-31</td>\n",
       "      <td>39</td>\n",
       "      <td>카드이체</td>\n",
       "      <td>ERA</td>\n",
       "      <td>120900</td>\n",
       "      <td>...</td>\n",
       "      <td>서울특별시</td>\n",
       "      <td>계약확정</td>\n",
       "      <td>0</td>\n",
       "      <td>없음</td>\n",
       "      <td>여자</td>\n",
       "      <td>1.0</td>\n",
       "      <td>롯데카드</td>\n",
       "      <td>2022-03-31</td>\n",
       "      <td>2022</td>\n",
       "      <td>13</td>\n",
       "    </tr>\n",
       "    <tr>\n",
       "      <th>51299</th>\n",
       "      <td>51301</td>\n",
       "      <td>66792778</td>\n",
       "      <td>렌탈</td>\n",
       "      <td>일반계약</td>\n",
       "      <td>홈쇼핑/방송</td>\n",
       "      <td>2023-02-05</td>\n",
       "      <td>60</td>\n",
       "      <td>카드이체</td>\n",
       "      <td>DES-1</td>\n",
       "      <td>96900</td>\n",
       "      <td>...</td>\n",
       "      <td>서울특별시</td>\n",
       "      <td>계약확정</td>\n",
       "      <td>0</td>\n",
       "      <td>없음</td>\n",
       "      <td>여자</td>\n",
       "      <td>2.0</td>\n",
       "      <td>롯데카드</td>\n",
       "      <td>2023-02-05</td>\n",
       "      <td>2023</td>\n",
       "      <td>5</td>\n",
       "    </tr>\n",
       "    <tr>\n",
       "      <th>51300</th>\n",
       "      <td>51302</td>\n",
       "      <td>66799607</td>\n",
       "      <td>렌탈</td>\n",
       "      <td>일반계약</td>\n",
       "      <td>홈쇼핑/방송</td>\n",
       "      <td>2022-04-23</td>\n",
       "      <td>60</td>\n",
       "      <td>CMS</td>\n",
       "      <td>DES-1</td>\n",
       "      <td>96900</td>\n",
       "      <td>...</td>\n",
       "      <td>서울특별시</td>\n",
       "      <td>계약확정</td>\n",
       "      <td>0</td>\n",
       "      <td>없음</td>\n",
       "      <td>여자</td>\n",
       "      <td>8.0</td>\n",
       "      <td>신한은행</td>\n",
       "      <td>2022-04-23</td>\n",
       "      <td>2022</td>\n",
       "      <td>16</td>\n",
       "    </tr>\n",
       "  </tbody>\n",
       "</table>\n",
       "<p>46889 rows × 23 columns</p>\n",
       "</div>"
      ],
      "text/plain": [
       "       Index  Member_ID Sales_Type Contract_Type Channel    Datetime  Term  \\\n",
       "0          1   66758234         렌탈          일반계약    영업방판  2022-05-05    60   \n",
       "1          2   66755948         렌탈          교체계약    영업방판  2023-02-19    60   \n",
       "2          3   66756657         렌탈          일반계약  홈쇼핑/방송  2022-02-27    60   \n",
       "3          4   66423450        멤버십        멤버십3유형     재계약  2022-05-12    12   \n",
       "4          5   66423204        멤버십        멤버십3유형     재계약  2022-05-09    12   \n",
       "...      ...        ...        ...           ...     ...         ...   ...   \n",
       "51296  51298   66579515         렌탈        프로모션계약   대형마트A  2022-02-28    60   \n",
       "51297  51299   66799558         렌탈          일반계약   대형마트A  2022-03-31    60   \n",
       "51298  51300   66799197         렌탈        프로모션계약    영업방판  2022-03-31    39   \n",
       "51299  51301   66792778         렌탈          일반계약  홈쇼핑/방송  2023-02-05    60   \n",
       "51300  51302   66799607         렌탈          일반계약  홈쇼핑/방송  2022-04-23    60   \n",
       "\n",
       "      Payment_Type Product_Type  Amount_Month  ... Address2  State  \\\n",
       "0              CMS        DES-1         96900  ...      경기도   계약확정   \n",
       "1             카드이체        DES-1        102900  ...      경기도   계약확정   \n",
       "2              CMS        DES-1         96900  ...      경기도   계약확정   \n",
       "3              CMS        DES-1         66900  ...      경기도   계약확정   \n",
       "4              CMS        DES-1         66900  ...      경기도   기간만료   \n",
       "...            ...          ...           ...  ...      ...    ...   \n",
       "51296          CMS       DES-3A         96900  ...      경기도   계약확정   \n",
       "51297          CMS        DES-1         96900  ...      경기도   계약확정   \n",
       "51298         카드이체          ERA        120900  ...    서울특별시   계약확정   \n",
       "51299         카드이체        DES-1         96900  ...    서울특별시   계약확정   \n",
       "51300          CMS        DES-1         96900  ...    서울특별시   계약확정   \n",
       "\n",
       "      Overdue_count Overdue_Type Gender  Credit_Rank    Bank Datetime_dt  \\\n",
       "0                 0           없음     여자          9.0   새마을금고  2022-05-05   \n",
       "1                 0           없음     남자          2.0    현대카드  2023-02-19   \n",
       "2                 0           없음     여자          8.0    우리은행  2022-02-27   \n",
       "3                 0           없음     남자          5.0  농협회원조합  2022-05-12   \n",
       "4                12           있음     남자          8.0  농협회원조합  2022-05-09   \n",
       "...             ...          ...    ...          ...     ...         ...   \n",
       "51296             0           없음     남자          NaN    기업은행  2022-02-28   \n",
       "51297             0           없음     여자          8.0   새마을금고  2022-03-31   \n",
       "51298             0           없음     여자          1.0    롯데카드  2022-03-31   \n",
       "51299             0           없음     여자          2.0    롯데카드  2023-02-05   \n",
       "51300             0           없음     여자          8.0    신한은행  2022-04-23   \n",
       "\n",
       "       Year Week  \n",
       "0      2022   18  \n",
       "1      2023    7  \n",
       "2      2022    8  \n",
       "3      2022   19  \n",
       "4      2022   19  \n",
       "...     ...  ...  \n",
       "51296  2022    9  \n",
       "51297  2022   13  \n",
       "51298  2022   13  \n",
       "51299  2023    5  \n",
       "51300  2022   16  \n",
       "\n",
       "[46889 rows x 23 columns]"
      ]
     },
     "execution_count": 71,
     "metadata": {},
     "output_type": "execute_result"
    }
   ],
   "source": [
    "cond1 = df1['Channel'].isin(top5)\n",
    "cond1\n",
    "p = df1.loc[cond1]\n",
    "print(p['Channel'].unique())\n",
    "p"
   ]
  },
  {
   "cell_type": "markdown",
   "metadata": {},
   "source": [
    "## 5. 데이터에서 고객들이 가장 많이 계약한 제품군(Product_Type)을 분석하고자 한다. 제품군(Product_Type)에는 어떤 데이터가 있는지 확인하시오."
   ]
  },
  {
   "cell_type": "code",
   "execution_count": 11,
   "metadata": {
    "collapsed": true
   },
   "outputs": [
    {
     "data": {
      "text/plain": [
       "array(['DES-1', 'DES-3A', 'DES-2', 'DES-R4', 'MMC', 'ERA'], dtype=object)"
      ]
     },
     "execution_count": 11,
     "metadata": {},
     "output_type": "execute_result"
    }
   ],
   "source": [
    "df1['Product_Type'].unique() # 옆에 숫자는 항목의 개수"
   ]
  },
  {
   "cell_type": "markdown",
   "metadata": {},
   "source": [
    "## 6. 제품군(Product_Type)중 계약을 가장 많이한, 빈도수가 가장 높은 상위 3개의 항목을 추출하여, df2로 선언한 뒤, 계약일자(Datetime)에 따른 월렌탈비용(Amount_Month)의 합을 계산해 result5.xlsx파일로 저장하시오."
   ]
  },
  {
   "cell_type": "code",
   "execution_count": 85,
   "metadata": {},
   "outputs": [
    {
     "data": {
      "text/plain": [
       "array(['DES-1', 'DES-3A', 'DES-2'], dtype=object)"
      ]
     },
     "execution_count": 85,
     "metadata": {},
     "output_type": "execute_result"
    }
   ],
   "source": [
    "top3 = df1['Product_Type'].value_counts().index[0:3]\n",
    "cond1 = df1['Product_Type'].isin(top3)\n",
    "df2 = df1.loc[cond1]\n",
    "# df2['Product_Type'].unique()"
   ]
  },
  {
   "cell_type": "code",
   "execution_count": 89,
   "metadata": {
    "collapsed": true
   },
   "outputs": [
    {
     "name": "stderr",
     "output_type": "stream",
     "text": [
      "<ipython-input-89-025256f83bb8>:1: SettingWithCopyWarning: \n",
      "A value is trying to be set on a copy of a slice from a DataFrame.\n",
      "Try using .loc[row_indexer,col_indexer] = value instead\n",
      "\n",
      "See the caveats in the documentation: https://pandas.pydata.org/pandas-docs/stable/user_guide/indexing.html#returning-a-view-versus-a-copy\n",
      "  df2['Datetime_dt'] = pd.to_datetime(df1['Datetime'])\n",
      "<ipython-input-89-025256f83bb8>:3: SettingWithCopyWarning: \n",
      "A value is trying to be set on a copy of a slice from a DataFrame.\n",
      "Try using .loc[row_indexer,col_indexer] = value instead\n",
      "\n",
      "See the caveats in the documentation: https://pandas.pydata.org/pandas-docs/stable/user_guide/indexing.html#returning-a-view-versus-a-copy\n",
      "  df2['Year'] = df2['Datetime_dt'].dt.year\n",
      "<ipython-input-89-025256f83bb8>:4: SettingWithCopyWarning: \n",
      "A value is trying to be set on a copy of a slice from a DataFrame.\n",
      "Try using .loc[row_indexer,col_indexer] = value instead\n",
      "\n",
      "See the caveats in the documentation: https://pandas.pydata.org/pandas-docs/stable/user_guide/indexing.html#returning-a-view-versus-a-copy\n",
      "  df2['Month'] =df2['Datetime_dt'].dt.month\n",
      "<ipython-input-89-025256f83bb8>:10: UserWarning: Pandas requires version '1.4.3' or newer of 'xlsxwriter' (version '1.2.9' currently installed).\n",
      "  result5.to_excel(\"result5.xlsx\")\n"
     ]
    }
   ],
   "source": [
    "df2['Datetime_dt'] = pd.to_datetime(df1['Datetime'])\n",
    "# 형식 str이 아니라 날짜로 변경해 높으면 월,년도 쉽게 뽑을 수 있음\n",
    "df2['Year'] = df2['Datetime_dt'].dt.year\n",
    "df2['Month'] =df2['Datetime_dt'].dt.month\n",
    "\n",
    "result5 = df2.pivot_table(index = 'Product_Type',\n",
    "               values = 'Amount_Month',\n",
    "               aggfunc = 'sum',b\n",
    "               columns=['Year','Month']).T\n",
    "result5.to_excel(\"result5.xlsx\")"
   ]
  },
  {
   "cell_type": "code",
   "execution_count": null,
   "metadata": {},
   "outputs": [],
   "source": [
    "# 선생님"
   ]
  },
  {
   "cell_type": "code",
   "execution_count": 26,
   "metadata": {
    "scrolled": true
   },
   "outputs": [],
   "source": [
    "df2 = df1['Product_Type'].value_counts().index[0:3]"
   ]
  },
  {
   "cell_type": "code",
   "execution_count": 31,
   "metadata": {},
   "outputs": [],
   "source": [
    "cond1 = df1['Product_Type'].isin(df2)\n",
    "df1 = df1.loc[cond1]"
   ]
  },
  {
   "cell_type": "code",
   "execution_count": 32,
   "metadata": {},
   "outputs": [
    {
     "name": "stderr",
     "output_type": "stream",
     "text": [
      "<ipython-input-32-a72b8053f87d>:7: UserWarning: Pandas requires version '1.4.3' or newer of 'xlsxwriter' (version '1.2.9' currently installed).\n",
      "  df1.pivot_table(index = 'Product_Type',\n"
     ]
    }
   ],
   "source": [
    "df1['Datetime_dt'] = pd.to_datetime(df1['Datetime'])\n",
    "\n",
    "df1['Year'] = df1['Datetime_dt'].dt.year\n",
    "df1['Month'] = df1['Datetime_dt'].dt.month\n",
    "\n",
    "# 주차 별 제품군에 따른 월렌탈비용의 합\n",
    "df1.pivot_table(index = 'Product_Type',\n",
    "               values='Amount_Month',\n",
    "               aggfunc='sum',\n",
    "               columns=['Year','Month']).T.to_excel('result5.xlsx')"
   ]
  },
  {
   "cell_type": "markdown",
   "metadata": {},
   "source": [
    "## 7. 제품군(Product_Type)중 계약을 가장 많이한, 빈도수가 가장 높은 상위 2개의 항목의 월랜탈비용('Amount_Month')의 평균의 차이를 계산하시오."
   ]
  },
  {
   "cell_type": "code",
   "execution_count": 95,
   "metadata": {},
   "outputs": [
    {
     "data": {
      "text/plain": [
       "6868.154548431063"
      ]
     },
     "execution_count": 95,
     "metadata": {},
     "output_type": "execute_result"
    }
   ],
   "source": [
    "top2 = df1['Product_Type'].value_counts().index[0:2]\n",
    "\n",
    "cond1 = df1['Product_Type']==top2[0]\n",
    "cond2 = df1['Product_Type']==top2[1]\n",
    "\n",
    "a=df1.loc[cond1]\n",
    "b=df1.loc[cond2]\n",
    "abs(a['Amount_Month'].mean() - b['Amount_Month'].mean())"
   ]
  },
  {
   "cell_type": "code",
   "execution_count": 96,
   "metadata": {},
   "outputs": [],
   "source": [
    "# 선생님"
   ]
  },
  {
   "cell_type": "code",
   "execution_count": 59,
   "metadata": {},
   "outputs": [
    {
     "data": {
      "text/plain": [
       "6868.154548431063"
      ]
     },
     "execution_count": 59,
     "metadata": {},
     "output_type": "execute_result"
    }
   ],
   "source": [
    "top2 = df1['Product_Type'].value_counts().index[0:2]\n",
    "\n",
    "cond1 = (df1['Product_Type']==top2[0])\n",
    "cond2 = (df1['Product_Type']==top2[1])\n",
    "\n",
    "p1 = df1.loc[cond1]\n",
    "p2 = df1.loc[cond2]\n",
    "\n",
    "abs(p1['Amount_Month'].mean() - p2['Amount_Month'].mean())"
   ]
  },
  {
   "cell_type": "markdown",
   "metadata": {},
   "source": [
    "## 8. 데이터에서 고객들이 결제하는 은행(Bank)를 확인하고자 한다. 결제은행(Bank)항목에서 '신한카드'로 결제하는 고객들의 수를 확인하시오"
   ]
  },
  {
   "cell_type": "code",
   "execution_count": 110,
   "metadata": {},
   "outputs": [
    {
     "name": "stdout",
     "output_type": "stream",
     "text": [
      "<class 'pandas.core.frame.DataFrame'>\n",
      "RangeIndex: 51301 entries, 0 to 51300\n",
      "Data columns (total 24 columns):\n",
      " #   Column         Non-Null Count  Dtype         \n",
      "---  ------         --------------  -----         \n",
      " 0   Index          51301 non-null  int64         \n",
      " 1   Member_ID      51301 non-null  int64         \n",
      " 2   Sales_Type     51301 non-null  object        \n",
      " 3   Contract_Type  51301 non-null  object        \n",
      " 4   Channel        51301 non-null  object        \n",
      " 5   Datetime       51301 non-null  object        \n",
      " 6   Term           51301 non-null  int64         \n",
      " 7   Payment_Type   51301 non-null  object        \n",
      " 8   Product_Type   51301 non-null  object        \n",
      " 9   Amount_Month   51301 non-null  int64         \n",
      " 10  Customer_Type  51299 non-null  object        \n",
      " 11  Age            44329 non-null  float64       \n",
      " 12  Address1       51299 non-null  object        \n",
      " 13  Address2       51299 non-null  object        \n",
      " 14  State          51301 non-null  object        \n",
      " 15  Overdue_count  51301 non-null  int64         \n",
      " 16  Overdue_Type   51301 non-null  object        \n",
      " 17  Gender         51301 non-null  object        \n",
      " 18  Credit_Rank    42520 non-null  float64       \n",
      " 19  Bank           48542 non-null  object        \n",
      " 20  Datetime_dt    51301 non-null  datetime64[ns]\n",
      " 21  Year           51301 non-null  int32         \n",
      " 22  Week           51301 non-null  UInt32        \n",
      " 23  Month          51301 non-null  int32         \n",
      "dtypes: UInt32(1), datetime64[ns](1), float64(2), int32(2), int64(5), object(13)\n",
      "memory usage: 8.9+ MB\n"
     ]
    }
   ],
   "source": [
    "df1.info()"
   ]
  },
  {
   "cell_type": "code",
   "execution_count": 107,
   "metadata": {
    "scrolled": false
   },
   "outputs": [
    {
     "data": {
      "text/plain": [
       "array(['새마을금고', '현대카드', '우리은행', '농협회원조합', '농협중앙회', '롯데카드', '신한은행', '국민카드',\n",
       "       '부산은행', '우체국', '국민은행', '기업은행', 'SC제일은행', nan, '대구은행', '하나은행',\n",
       "       '신한카드', '삼성카드', '광주은행', '외환은행', 'BC카드', '씨티은행', '신협중앙회', '경남은행',\n",
       "       '미래에셋증권', '외환카드', '수협중앙회', '유안타증권', '전북은행', '상호저축은행', '대신증권',\n",
       "       '산업은행', '현대증권', '산림조합중앙회', '제주은행', '삼성증권', '하나대투증권', 'SK증권',\n",
       "       '수협카드', '한국투자증권', '신한금융투자', '하나SK', 'NH농협카드', '메리츠종합금융증권',\n",
       "       '하이투자증권', '우리카드', '대우증권', '씨티카드'], dtype=object)"
      ]
     },
     "execution_count": 107,
     "metadata": {},
     "output_type": "execute_result"
    }
   ],
   "source": [
    "df1['Bank'].unique()"
   ]
  },
  {
   "cell_type": "code",
   "execution_count": 108,
   "metadata": {},
   "outputs": [
    {
     "data": {
      "text/plain": [
       "1532"
      ]
     },
     "execution_count": 108,
     "metadata": {},
     "output_type": "execute_result"
    }
   ],
   "source": [
    "cond1 = (df1['Bank'] == '신한카드')\n",
    "a = df1.loc[cond1]\n",
    "a.shape[0]"
   ]
  },
  {
   "cell_type": "code",
   "execution_count": 147,
   "metadata": {
    "scrolled": true
   },
   "outputs": [
    {
     "data": {
      "text/plain": [
       "5058"
      ]
     },
     "execution_count": 147,
     "metadata": {},
     "output_type": "execute_result"
    }
   ],
   "source": [
    "def find(x):\n",
    "#     print(type(x))\n",
    "    if '신한' in x:\n",
    "        return True\n",
    "    else:\n",
    "        return False\n",
    "\n",
    "p1 = df1.dropna()\n",
    "p1 = df1.dropna(subset=['Bank'])\n",
    "# nan은 str이 아니라서 오류가 난다 \n",
    "# 해결방법 \n",
    "# 1. 함수에서 x를 str(x)처리하기\n",
    "# 2. nan 결측치 처리 -> 불완전한 방법임 이유 : dropna는 bank뿐만 아니라 모든 항목에서 nan을 다 없앰\n",
    "# 즉, 신한인 행도 nan값이 있으면 없어져서 수가 정답과 다른것\n",
    "# p1 = df1.dropna(subset=['Bank']) 이렇게 하면 정상화\n",
    "cond1 = p1['Bank'].apply(find)\n",
    "a = p1.loc[cond1]\n",
    "a.shape[0]"
   ]
  },
  {
   "cell_type": "code",
   "execution_count": null,
   "metadata": {},
   "outputs": [],
   "source": [
    "# 선생님"
   ]
  },
  {
   "cell_type": "code",
   "execution_count": 48,
   "metadata": {
    "collapsed": true
   },
   "outputs": [
    {
     "data": {
      "text/plain": [
       "Bank\n",
       "롯데카드         9516\n",
       "농협회원조합       6277\n",
       "국민은행         6002\n",
       "농협중앙회        3899\n",
       "신한은행         3522\n",
       "우리은행         3386\n",
       "기업은행         1963\n",
       "신한카드         1532\n",
       "하나은행         1446\n",
       "국민카드         1311\n",
       "BC카드         1264\n",
       "새마을금고         964\n",
       "부산은행          889\n",
       "삼성카드          884\n",
       "현대카드          876\n",
       "대구은행          746\n",
       "우체국           718\n",
       "외환은행          586\n",
       "외환카드          530\n",
       "경남은행          442\n",
       "SC제일은행        439\n",
       "광주은행          347\n",
       "신협중앙회         341\n",
       "전북은행          195\n",
       "씨티은행          162\n",
       "수협중앙회         160\n",
       "제주은행           40\n",
       "유안타증권          27\n",
       "산업은행           23\n",
       "현대증권           11\n",
       "삼성증권            7\n",
       "하나SK            6\n",
       "미래에셋증권          5\n",
       "한국투자증권          4\n",
       "신한금융투자          4\n",
       "NH농협카드          4\n",
       "우리카드            3\n",
       "대우증권            2\n",
       "산림조합중앙회         1\n",
       "대신증권            1\n",
       "하나대투증권          1\n",
       "SK증권            1\n",
       "수협카드            1\n",
       "상호저축은행          1\n",
       "메리츠종합금융증권       1\n",
       "하이투자증권          1\n",
       "씨티카드            1\n",
       "Name: count, dtype: int64"
      ]
     },
     "execution_count": 48,
     "metadata": {},
     "output_type": "execute_result"
    }
   ],
   "source": [
    "df1['Bank'].value_counts()"
   ]
  },
  {
   "cell_type": "code",
   "execution_count": 49,
   "metadata": {
    "scrolled": false
   },
   "outputs": [
    {
     "data": {
      "text/plain": [
       "5058"
      ]
     },
     "execution_count": 49,
     "metadata": {},
     "output_type": "execute_result"
    }
   ],
   "source": [
    "def bank(row):\n",
    "    if '신한' in str(row):\n",
    "        return True\n",
    "    else:\n",
    "        return False\n",
    "    \n",
    "cond1 = df1['Bank'].apply(bank)\n",
    "df1.loc[cond1].shape[0]"
   ]
  },
  {
   "cell_type": "markdown",
   "metadata": {},
   "source": [
    "## 9. 월랜탈비용(Amount_Month)이 15만원 이상인 고객들 중 판매유형(Sales_Type)이 '렌탈'에 해당하는 고객만 추출하여, 해당 데이터의 행(index) 개수를 확인하시오."
   ]
  },
  {
   "cell_type": "code",
   "execution_count": 116,
   "metadata": {},
   "outputs": [
    {
     "data": {
      "text/plain": [
       "141"
      ]
     },
     "execution_count": 116,
     "metadata": {},
     "output_type": "execute_result"
    }
   ],
   "source": [
    "cond1 = (df1['Amount_Month']>=150000)\n",
    "cond2 = (df1['Sales_Type']=='렌탈')\n",
    "\n",
    "df1.loc[cond1&cond2].shape[0]"
   ]
  },
  {
   "cell_type": "code",
   "execution_count": 117,
   "metadata": {},
   "outputs": [],
   "source": [
    "# 선생님"
   ]
  },
  {
   "cell_type": "code",
   "execution_count": 51,
   "metadata": {},
   "outputs": [
    {
     "data": {
      "text/plain": [
       "141"
      ]
     },
     "execution_count": 51,
     "metadata": {},
     "output_type": "execute_result"
    }
   ],
   "source": [
    "cond1 = (df1['Amount_Month']) >= 150000\n",
    "cond2= (df1['Sales_Type'] == '렌탈')\n",
    "\n",
    "df1.loc[cond1&cond2].shape[0]"
   ]
  },
  {
   "cell_type": "markdown",
   "metadata": {},
   "source": [
    "## 10. 계약일자(Datetime)에서 계약연도(Year)파생변수를 생성하고, 연도 별, 각 제품군(Product_Type)의 월랜탈비용(Amount_Month) 합을 계산하시오."
   ]
  },
  {
   "cell_type": "code",
   "execution_count": 122,
   "metadata": {
    "collapsed": true
   },
   "outputs": [
    {
     "data": {
      "text/html": [
       "<div>\n",
       "<style scoped>\n",
       "    .dataframe tbody tr th:only-of-type {\n",
       "        vertical-align: middle;\n",
       "    }\n",
       "\n",
       "    .dataframe tbody tr th {\n",
       "        vertical-align: top;\n",
       "    }\n",
       "\n",
       "    .dataframe thead th {\n",
       "        text-align: right;\n",
       "    }\n",
       "</style>\n",
       "<table border=\"1\" class=\"dataframe\">\n",
       "  <thead>\n",
       "    <tr style=\"text-align: right;\">\n",
       "      <th>Year</th>\n",
       "      <th>2021</th>\n",
       "      <th>2022</th>\n",
       "      <th>2023</th>\n",
       "    </tr>\n",
       "    <tr>\n",
       "      <th>Product_Type</th>\n",
       "      <th></th>\n",
       "      <th></th>\n",
       "      <th></th>\n",
       "    </tr>\n",
       "  </thead>\n",
       "  <tbody>\n",
       "    <tr>\n",
       "      <th>DES-1</th>\n",
       "      <td>3201600</td>\n",
       "      <td>2945729313</td>\n",
       "      <td>746184813</td>\n",
       "    </tr>\n",
       "    <tr>\n",
       "      <th>DES-2</th>\n",
       "      <td>1082100</td>\n",
       "      <td>631794330</td>\n",
       "      <td>154780860</td>\n",
       "    </tr>\n",
       "    <tr>\n",
       "      <th>DES-3A</th>\n",
       "      <td>272700</td>\n",
       "      <td>157173060</td>\n",
       "      <td>39639300</td>\n",
       "    </tr>\n",
       "    <tr>\n",
       "      <th>DES-R4</th>\n",
       "      <td>0</td>\n",
       "      <td>33891300</td>\n",
       "      <td>8437200</td>\n",
       "    </tr>\n",
       "    <tr>\n",
       "      <th>ERA</th>\n",
       "      <td>0</td>\n",
       "      <td>62944500</td>\n",
       "      <td>14171100</td>\n",
       "    </tr>\n",
       "    <tr>\n",
       "      <th>MMC</th>\n",
       "      <td>0</td>\n",
       "      <td>17540100</td>\n",
       "      <td>5193900</td>\n",
       "    </tr>\n",
       "  </tbody>\n",
       "</table>\n",
       "</div>"
      ],
      "text/plain": [
       "Year             2021        2022       2023\n",
       "Product_Type                                \n",
       "DES-1         3201600  2945729313  746184813\n",
       "DES-2         1082100   631794330  154780860\n",
       "DES-3A         272700   157173060   39639300\n",
       "DES-R4              0    33891300    8437200\n",
       "ERA                 0    62944500   14171100\n",
       "MMC                 0    17540100    5193900"
      ]
     },
     "execution_count": 122,
     "metadata": {},
     "output_type": "execute_result"
    }
   ],
   "source": [
    "df1['Datetime_dt'] = pd.to_datetime(df1['Datetime'])\n",
    "df1['Year'] = df1['Datetime_dt'].dt.year\n",
    "\n",
    "df1.pivot_table(index = 'Product_Type',\n",
    "               values = 'Amount_Month',\n",
    "               aggfunc = 'sum',\n",
    "               columns='Year',\n",
    "               fill_value = 0)"
   ]
  },
  {
   "cell_type": "code",
   "execution_count": null,
   "metadata": {},
   "outputs": [],
   "source": [
    "# 선생님"
   ]
  },
  {
   "cell_type": "code",
   "execution_count": 52,
   "metadata": {},
   "outputs": [],
   "source": [
    "df1['Datetime_dt'] = pd.to_datetime(df1['Datetime'])\n",
    "df1['Year'] = df1['Datetime_dt'].dt.year"
   ]
  },
  {
   "cell_type": "code",
   "execution_count": 53,
   "metadata": {
    "collapsed": true
   },
   "outputs": [
    {
     "data": {
      "text/html": [
       "<div>\n",
       "<style scoped>\n",
       "    .dataframe tbody tr th:only-of-type {\n",
       "        vertical-align: middle;\n",
       "    }\n",
       "\n",
       "    .dataframe tbody tr th {\n",
       "        vertical-align: top;\n",
       "    }\n",
       "\n",
       "    .dataframe thead th {\n",
       "        text-align: right;\n",
       "    }\n",
       "</style>\n",
       "<table border=\"1\" class=\"dataframe\">\n",
       "  <thead>\n",
       "    <tr style=\"text-align: right;\">\n",
       "      <th>Year</th>\n",
       "      <th>2021</th>\n",
       "      <th>2022</th>\n",
       "      <th>2023</th>\n",
       "    </tr>\n",
       "    <tr>\n",
       "      <th>Product_Type</th>\n",
       "      <th></th>\n",
       "      <th></th>\n",
       "      <th></th>\n",
       "    </tr>\n",
       "  </thead>\n",
       "  <tbody>\n",
       "    <tr>\n",
       "      <th>DES-1</th>\n",
       "      <td>3201600</td>\n",
       "      <td>2945729313</td>\n",
       "      <td>746184813</td>\n",
       "    </tr>\n",
       "    <tr>\n",
       "      <th>DES-2</th>\n",
       "      <td>1082100</td>\n",
       "      <td>631794330</td>\n",
       "      <td>154780860</td>\n",
       "    </tr>\n",
       "    <tr>\n",
       "      <th>DES-3A</th>\n",
       "      <td>272700</td>\n",
       "      <td>157173060</td>\n",
       "      <td>39639300</td>\n",
       "    </tr>\n",
       "    <tr>\n",
       "      <th>DES-R4</th>\n",
       "      <td>0</td>\n",
       "      <td>33891300</td>\n",
       "      <td>8437200</td>\n",
       "    </tr>\n",
       "    <tr>\n",
       "      <th>ERA</th>\n",
       "      <td>0</td>\n",
       "      <td>62944500</td>\n",
       "      <td>14171100</td>\n",
       "    </tr>\n",
       "    <tr>\n",
       "      <th>MMC</th>\n",
       "      <td>0</td>\n",
       "      <td>17540100</td>\n",
       "      <td>5193900</td>\n",
       "    </tr>\n",
       "  </tbody>\n",
       "</table>\n",
       "</div>"
      ],
      "text/plain": [
       "Year             2021        2022       2023\n",
       "Product_Type                                \n",
       "DES-1         3201600  2945729313  746184813\n",
       "DES-2         1082100   631794330  154780860\n",
       "DES-3A         272700   157173060   39639300\n",
       "DES-R4              0    33891300    8437200\n",
       "ERA                 0    62944500   14171100\n",
       "MMC                 0    17540100    5193900"
      ]
     },
     "execution_count": 53,
     "metadata": {},
     "output_type": "execute_result"
    }
   ],
   "source": [
    "df1.pivot_table(index='Product_Type',\n",
    "               values='Amount_Month',\n",
    "               aggfunc='sum',\n",
    "               columns='Year',\n",
    "               fill_value=0)"
   ]
  },
  {
   "cell_type": "markdown",
   "metadata": {},
   "source": [
    "## 11. 22년 대비 23년 제품군(Product_Type)별 월랜탈비용(Amount_Month) 합의 증감율을 계산하시오. \n",
    "- 증감율 : ( (22년 월랜탈비용 총합) - (23년 월랜탈비용 총합) ) / (22년 월랜탈비용 총합)"
   ]
  },
  {
   "cell_type": "code",
   "execution_count": 131,
   "metadata": {
    "scrolled": true
   },
   "outputs": [
    {
     "data": {
      "text/html": [
       "<div>\n",
       "<style scoped>\n",
       "    .dataframe tbody tr th:only-of-type {\n",
       "        vertical-align: middle;\n",
       "    }\n",
       "\n",
       "    .dataframe tbody tr th {\n",
       "        vertical-align: top;\n",
       "    }\n",
       "\n",
       "    .dataframe thead th {\n",
       "        text-align: right;\n",
       "    }\n",
       "</style>\n",
       "<table border=\"1\" class=\"dataframe\">\n",
       "  <thead>\n",
       "    <tr style=\"text-align: right;\">\n",
       "      <th>Year</th>\n",
       "      <th>2021</th>\n",
       "      <th>2022</th>\n",
       "      <th>2023</th>\n",
       "      <th>증감률</th>\n",
       "    </tr>\n",
       "    <tr>\n",
       "      <th>Product_Type</th>\n",
       "      <th></th>\n",
       "      <th></th>\n",
       "      <th></th>\n",
       "      <th></th>\n",
       "    </tr>\n",
       "  </thead>\n",
       "  <tbody>\n",
       "    <tr>\n",
       "      <th>DES-1</th>\n",
       "      <td>3201600</td>\n",
       "      <td>2945729313</td>\n",
       "      <td>746184813</td>\n",
       "      <td>74.668928</td>\n",
       "    </tr>\n",
       "    <tr>\n",
       "      <th>DES-2</th>\n",
       "      <td>1082100</td>\n",
       "      <td>631794330</td>\n",
       "      <td>154780860</td>\n",
       "      <td>75.501385</td>\n",
       "    </tr>\n",
       "    <tr>\n",
       "      <th>DES-3A</th>\n",
       "      <td>272700</td>\n",
       "      <td>157173060</td>\n",
       "      <td>39639300</td>\n",
       "      <td>74.779838</td>\n",
       "    </tr>\n",
       "    <tr>\n",
       "      <th>DES-R4</th>\n",
       "      <td>0</td>\n",
       "      <td>33891300</td>\n",
       "      <td>8437200</td>\n",
       "      <td>75.105115</td>\n",
       "    </tr>\n",
       "    <tr>\n",
       "      <th>ERA</th>\n",
       "      <td>0</td>\n",
       "      <td>62944500</td>\n",
       "      <td>14171100</td>\n",
       "      <td>77.486357</td>\n",
       "    </tr>\n",
       "    <tr>\n",
       "      <th>MMC</th>\n",
       "      <td>0</td>\n",
       "      <td>17540100</td>\n",
       "      <td>5193900</td>\n",
       "      <td>70.388424</td>\n",
       "    </tr>\n",
       "  </tbody>\n",
       "</table>\n",
       "</div>"
      ],
      "text/plain": [
       "Year             2021        2022       2023        증감률\n",
       "Product_Type                                           \n",
       "DES-1         3201600  2945729313  746184813  74.668928\n",
       "DES-2         1082100   631794330  154780860  75.501385\n",
       "DES-3A         272700   157173060   39639300  74.779838\n",
       "DES-R4              0    33891300    8437200  75.105115\n",
       "ERA                 0    62944500   14171100  77.486357\n",
       "MMC                 0    17540100    5193900  70.388424"
      ]
     },
     "execution_count": 131,
     "metadata": {},
     "output_type": "execute_result"
    }
   ],
   "source": [
    "a = df1.pivot_table(index='Product_Type',\n",
    "               values='Amount_Month',\n",
    "               aggfunc='sum',\n",
    "               columns='Year',\n",
    "               fill_value=0)\n",
    "a['증감률'] = (a[2022] - a[2023])/a[2022]*100\n",
    "# 22년 대비 23년 제품군(Product_Type)별 월랜탈비용(Amount_Month) 합의 증감율 \n",
    "# a 피벗테이블은 이미 년도에 따른 월 렌탈비용에 대한 값임\n",
    "# 증감률을 계산하려면 바로 값에 접근해서 계산하면 된다.\n",
    "a"
   ]
  },
  {
   "cell_type": "code",
   "execution_count": null,
   "metadata": {},
   "outputs": [],
   "source": [
    "# 선생님"
   ]
  },
  {
   "cell_type": "code",
   "execution_count": 54,
   "metadata": {
    "scrolled": true
   },
   "outputs": [
    {
     "data": {
      "text/html": [
       "<div>\n",
       "<style scoped>\n",
       "    .dataframe tbody tr th:only-of-type {\n",
       "        vertical-align: middle;\n",
       "    }\n",
       "\n",
       "    .dataframe tbody tr th {\n",
       "        vertical-align: top;\n",
       "    }\n",
       "\n",
       "    .dataframe thead th {\n",
       "        text-align: right;\n",
       "    }\n",
       "</style>\n",
       "<table border=\"1\" class=\"dataframe\">\n",
       "  <thead>\n",
       "    <tr style=\"text-align: right;\">\n",
       "      <th>Year</th>\n",
       "      <th>2021</th>\n",
       "      <th>2022</th>\n",
       "      <th>2023</th>\n",
       "    </tr>\n",
       "    <tr>\n",
       "      <th>Product_Type</th>\n",
       "      <th></th>\n",
       "      <th></th>\n",
       "      <th></th>\n",
       "    </tr>\n",
       "  </thead>\n",
       "  <tbody>\n",
       "    <tr>\n",
       "      <th>DES-1</th>\n",
       "      <td>3201600</td>\n",
       "      <td>2945729313</td>\n",
       "      <td>746184813</td>\n",
       "    </tr>\n",
       "    <tr>\n",
       "      <th>DES-2</th>\n",
       "      <td>1082100</td>\n",
       "      <td>631794330</td>\n",
       "      <td>154780860</td>\n",
       "    </tr>\n",
       "    <tr>\n",
       "      <th>DES-3A</th>\n",
       "      <td>272700</td>\n",
       "      <td>157173060</td>\n",
       "      <td>39639300</td>\n",
       "    </tr>\n",
       "    <tr>\n",
       "      <th>DES-R4</th>\n",
       "      <td>0</td>\n",
       "      <td>33891300</td>\n",
       "      <td>8437200</td>\n",
       "    </tr>\n",
       "    <tr>\n",
       "      <th>ERA</th>\n",
       "      <td>0</td>\n",
       "      <td>62944500</td>\n",
       "      <td>14171100</td>\n",
       "    </tr>\n",
       "    <tr>\n",
       "      <th>MMC</th>\n",
       "      <td>0</td>\n",
       "      <td>17540100</td>\n",
       "      <td>5193900</td>\n",
       "    </tr>\n",
       "  </tbody>\n",
       "</table>\n",
       "</div>"
      ],
      "text/plain": [
       "Year             2021        2022       2023\n",
       "Product_Type                                \n",
       "DES-1         3201600  2945729313  746184813\n",
       "DES-2         1082100   631794330  154780860\n",
       "DES-3A         272700   157173060   39639300\n",
       "DES-R4              0    33891300    8437200\n",
       "ERA                 0    62944500   14171100\n",
       "MMC                 0    17540100    5193900"
      ]
     },
     "execution_count": 54,
     "metadata": {},
     "output_type": "execute_result"
    }
   ],
   "source": [
    "p1 = df1.pivot_table(index='Product_Type',\n",
    "               values='Amount_Month',\n",
    "               aggfunc='sum',\n",
    "               columns='Year',\n",
    "               fill_value=0)\n",
    "p1"
   ]
  },
  {
   "cell_type": "code",
   "execution_count": 55,
   "metadata": {
    "scrolled": true
   },
   "outputs": [
    {
     "data": {
      "text/html": [
       "<div>\n",
       "<style scoped>\n",
       "    .dataframe tbody tr th:only-of-type {\n",
       "        vertical-align: middle;\n",
       "    }\n",
       "\n",
       "    .dataframe tbody tr th {\n",
       "        vertical-align: top;\n",
       "    }\n",
       "\n",
       "    .dataframe thead th {\n",
       "        text-align: right;\n",
       "    }\n",
       "</style>\n",
       "<table border=\"1\" class=\"dataframe\">\n",
       "  <thead>\n",
       "    <tr style=\"text-align: right;\">\n",
       "      <th>Year</th>\n",
       "      <th>2021</th>\n",
       "      <th>2022</th>\n",
       "      <th>2023</th>\n",
       "      <th>증감율</th>\n",
       "    </tr>\n",
       "    <tr>\n",
       "      <th>Product_Type</th>\n",
       "      <th></th>\n",
       "      <th></th>\n",
       "      <th></th>\n",
       "      <th></th>\n",
       "    </tr>\n",
       "  </thead>\n",
       "  <tbody>\n",
       "    <tr>\n",
       "      <th>DES-1</th>\n",
       "      <td>3201600</td>\n",
       "      <td>2945729313</td>\n",
       "      <td>746184813</td>\n",
       "      <td>74.668928</td>\n",
       "    </tr>\n",
       "    <tr>\n",
       "      <th>DES-2</th>\n",
       "      <td>1082100</td>\n",
       "      <td>631794330</td>\n",
       "      <td>154780860</td>\n",
       "      <td>75.501385</td>\n",
       "    </tr>\n",
       "    <tr>\n",
       "      <th>DES-3A</th>\n",
       "      <td>272700</td>\n",
       "      <td>157173060</td>\n",
       "      <td>39639300</td>\n",
       "      <td>74.779838</td>\n",
       "    </tr>\n",
       "    <tr>\n",
       "      <th>DES-R4</th>\n",
       "      <td>0</td>\n",
       "      <td>33891300</td>\n",
       "      <td>8437200</td>\n",
       "      <td>75.105115</td>\n",
       "    </tr>\n",
       "    <tr>\n",
       "      <th>ERA</th>\n",
       "      <td>0</td>\n",
       "      <td>62944500</td>\n",
       "      <td>14171100</td>\n",
       "      <td>77.486357</td>\n",
       "    </tr>\n",
       "    <tr>\n",
       "      <th>MMC</th>\n",
       "      <td>0</td>\n",
       "      <td>17540100</td>\n",
       "      <td>5193900</td>\n",
       "      <td>70.388424</td>\n",
       "    </tr>\n",
       "  </tbody>\n",
       "</table>\n",
       "</div>"
      ],
      "text/plain": [
       "Year             2021        2022       2023        증감율\n",
       "Product_Type                                           \n",
       "DES-1         3201600  2945729313  746184813  74.668928\n",
       "DES-2         1082100   631794330  154780860  75.501385\n",
       "DES-3A         272700   157173060   39639300  74.779838\n",
       "DES-R4              0    33891300    8437200  75.105115\n",
       "ERA                 0    62944500   14171100  77.486357\n",
       "MMC                 0    17540100    5193900  70.388424"
      ]
     },
     "execution_count": 55,
     "metadata": {},
     "output_type": "execute_result"
    }
   ],
   "source": [
    "# 증감률\n",
    "p1['증감율'] = (p1[2022]-p1[2023])/p1[2022]*100\n",
    "p1"
   ]
  },
  {
   "cell_type": "code",
   "execution_count": 57,
   "metadata": {},
   "outputs": [
    {
     "data": {
      "text/html": [
       "<div>\n",
       "<style scoped>\n",
       "    .dataframe tbody tr th:only-of-type {\n",
       "        vertical-align: middle;\n",
       "    }\n",
       "\n",
       "    .dataframe tbody tr th {\n",
       "        vertical-align: top;\n",
       "    }\n",
       "\n",
       "    .dataframe thead th {\n",
       "        text-align: right;\n",
       "    }\n",
       "</style>\n",
       "<table border=\"1\" class=\"dataframe\">\n",
       "  <thead>\n",
       "    <tr style=\"text-align: right;\">\n",
       "      <th>Year</th>\n",
       "      <th>2021</th>\n",
       "      <th>2023</th>\n",
       "      <th>증감율</th>\n",
       "    </tr>\n",
       "    <tr>\n",
       "      <th>Product_Type</th>\n",
       "      <th></th>\n",
       "      <th></th>\n",
       "      <th></th>\n",
       "    </tr>\n",
       "  </thead>\n",
       "  <tbody>\n",
       "    <tr>\n",
       "      <th>DES-1</th>\n",
       "      <td>3201600</td>\n",
       "      <td>746184813</td>\n",
       "      <td>74.668928</td>\n",
       "    </tr>\n",
       "    <tr>\n",
       "      <th>DES-2</th>\n",
       "      <td>1082100</td>\n",
       "      <td>154780860</td>\n",
       "      <td>75.501385</td>\n",
       "    </tr>\n",
       "    <tr>\n",
       "      <th>DES-3A</th>\n",
       "      <td>272700</td>\n",
       "      <td>39639300</td>\n",
       "      <td>74.779838</td>\n",
       "    </tr>\n",
       "    <tr>\n",
       "      <th>DES-R4</th>\n",
       "      <td>0</td>\n",
       "      <td>8437200</td>\n",
       "      <td>75.105115</td>\n",
       "    </tr>\n",
       "    <tr>\n",
       "      <th>ERA</th>\n",
       "      <td>0</td>\n",
       "      <td>14171100</td>\n",
       "      <td>77.486357</td>\n",
       "    </tr>\n",
       "    <tr>\n",
       "      <th>MMC</th>\n",
       "      <td>0</td>\n",
       "      <td>5193900</td>\n",
       "      <td>70.388424</td>\n",
       "    </tr>\n",
       "  </tbody>\n",
       "</table>\n",
       "</div>"
      ],
      "text/plain": [
       "Year             2021       2023        증감율\n",
       "Product_Type                               \n",
       "DES-1         3201600  746184813  74.668928\n",
       "DES-2         1082100  154780860  75.501385\n",
       "DES-3A         272700   39639300  74.779838\n",
       "DES-R4              0    8437200  75.105115\n",
       "ERA                 0   14171100  77.486357\n",
       "MMC                 0    5193900  70.388424"
      ]
     },
     "execution_count": 57,
     "metadata": {},
     "output_type": "execute_result"
    }
   ],
   "source": [
    "p1[[2021,2023,'증감율']]"
   ]
  },
  {
   "cell_type": "markdown",
   "metadata": {},
   "source": [
    "## 12. 판매 유형(Sales_Type)에서 '렌탈'계약과 '멤버십' 계약의 월랜탈비용(Amount_Month)의 평균의 차이를 계산하시오."
   ]
  },
  {
   "cell_type": "code",
   "execution_count": 132,
   "metadata": {},
   "outputs": [
    {
     "data": {
      "text/plain": [
       "34122.413318100276"
      ]
     },
     "execution_count": 132,
     "metadata": {},
     "output_type": "execute_result"
    }
   ],
   "source": [
    "cond1 = (df1['Sales_Type']=='렌탈')\n",
    "cond2 = (df1['Sales_Type']=='멤버십')\n",
    "\n",
    "df11 = df1.loc[cond1]\n",
    "df12 = df1.loc[cond2]\n",
    "\n",
    "abs(df11['Amount_Month'].mean() - df12['Amount_Month'].mean())"
   ]
  },
  {
   "cell_type": "code",
   "execution_count": 134,
   "metadata": {},
   "outputs": [],
   "source": [
    "# 선생님"
   ]
  },
  {
   "cell_type": "code",
   "execution_count": 133,
   "metadata": {},
   "outputs": [
    {
     "data": {
      "text/plain": [
       "34122.413318100276"
      ]
     },
     "execution_count": 133,
     "metadata": {},
     "output_type": "execute_result"
    }
   ],
   "source": [
    "cond1 = (df1['Sales_Type']=='렌탈')\n",
    "cond2 = (df1['Sales_Type']=='멤버십')\n",
    "\n",
    "p1 = df1.loc[cond1]\n",
    "p2 = df1.loc[cond2]\n",
    "\n",
    "abs(p1['Amount_Month'].mean() - p2['Amount_Month'].mean())"
   ]
  },
  {
   "cell_type": "markdown",
   "metadata": {},
   "source": [
    "## 13. 계약 데이터를 주기적으로 정리하는 업무자동화 프로그램을 만들고자 한다. 데이터에서 주차(Work Week)를 입력 해, 해당 주차의 제품 군(Product_Type)별 월랜탈비용(Amount_Month)의 합과 평균을 엑셀로 출력하는 함수를 생성하시오. \n",
    "- 파일이 저장 될 때, 아래와 같은 이름으로 저장 되어야 합니다. \n",
    "- 1주차 입력시 -> '1week_Product_Contract.xlsx'\n",
    "- 3주차 입력시 -> '3week_Product_Contract.xlsx'"
   ]
  },
  {
   "cell_type": "code",
   "execution_count": 142,
   "metadata": {},
   "outputs": [
    {
     "data": {
      "text/html": [
       "<div>\n",
       "<style scoped>\n",
       "    .dataframe tbody tr th:only-of-type {\n",
       "        vertical-align: middle;\n",
       "    }\n",
       "\n",
       "    .dataframe tbody tr th {\n",
       "        vertical-align: top;\n",
       "    }\n",
       "\n",
       "    .dataframe thead tr th {\n",
       "        text-align: left;\n",
       "    }\n",
       "\n",
       "    .dataframe thead tr:last-of-type th {\n",
       "        text-align: right;\n",
       "    }\n",
       "</style>\n",
       "<table border=\"1\" class=\"dataframe\">\n",
       "  <thead>\n",
       "    <tr>\n",
       "      <th></th>\n",
       "      <th>sum</th>\n",
       "      <th>mean</th>\n",
       "    </tr>\n",
       "    <tr>\n",
       "      <th></th>\n",
       "      <th>Amount_Month</th>\n",
       "      <th>Amount_Month</th>\n",
       "    </tr>\n",
       "    <tr>\n",
       "      <th>Product_Type</th>\n",
       "      <th></th>\n",
       "      <th></th>\n",
       "    </tr>\n",
       "  </thead>\n",
       "  <tbody>\n",
       "    <tr>\n",
       "      <th>DES-1</th>\n",
       "      <td>3695115726</td>\n",
       "      <td>94424.545166</td>\n",
       "    </tr>\n",
       "    <tr>\n",
       "      <th>DES-2</th>\n",
       "      <td>787657290</td>\n",
       "      <td>87556.390618</td>\n",
       "    </tr>\n",
       "    <tr>\n",
       "      <th>DES-3A</th>\n",
       "      <td>197085060</td>\n",
       "      <td>94706.900529</td>\n",
       "    </tr>\n",
       "    <tr>\n",
       "      <th>DES-R4</th>\n",
       "      <td>42328500</td>\n",
       "      <td>129444.954128</td>\n",
       "    </tr>\n",
       "    <tr>\n",
       "      <th>ERA</th>\n",
       "      <td>77115600</td>\n",
       "      <td>119744.720497</td>\n",
       "    </tr>\n",
       "    <tr>\n",
       "      <th>MMC</th>\n",
       "      <td>22734000</td>\n",
       "      <td>189450.000000</td>\n",
       "    </tr>\n",
       "  </tbody>\n",
       "</table>\n",
       "</div>"
      ],
      "text/plain": [
       "                      sum           mean\n",
       "             Amount_Month   Amount_Month\n",
       "Product_Type                            \n",
       "DES-1          3695115726   94424.545166\n",
       "DES-2           787657290   87556.390618\n",
       "DES-3A          197085060   94706.900529\n",
       "DES-R4           42328500  129444.954128\n",
       "ERA              77115600  119744.720497\n",
       "MMC              22734000  189450.000000"
      ]
     },
     "execution_count": 142,
     "metadata": {},
     "output_type": "execute_result"
    }
   ],
   "source": [
    "df1['Work Week'] = df1['Datetime_dt'].dt.isocalendar().week\n",
    "df1\n",
    "\n",
    "df1.pivot_table(index = 'Product_Type',\n",
    "               values = 'Amount_Month',\n",
    "               aggfunc = ['sum','mean'])"
   ]
  },
  {
   "cell_type": "code",
   "execution_count": null,
   "metadata": {},
   "outputs": [],
   "source": []
  },
  {
   "cell_type": "code",
   "execution_count": null,
   "metadata": {},
   "outputs": [],
   "source": []
  },
  {
   "cell_type": "code",
   "execution_count": null,
   "metadata": {},
   "outputs": [],
   "source": []
  },
  {
   "cell_type": "code",
   "execution_count": 62,
   "metadata": {
    "scrolled": true
   },
   "outputs": [],
   "source": [
    "df1['Week'] = df1['Datetime_dt'].dt.isocalendar().week"
   ]
  },
  {
   "cell_type": "code",
   "execution_count": 63,
   "metadata": {
    "collapsed": true
   },
   "outputs": [
    {
     "name": "stdout",
     "output_type": "stream",
     "text": [
      "주차를 입력하시오a\n"
     ]
    },
    {
     "ename": "ValueError",
     "evalue": "invalid literal for int() with base 10: 'a'",
     "output_type": "error",
     "traceback": [
      "\u001b[1;31m---------------------------------------------------------------------------\u001b[0m",
      "\u001b[1;31mValueError\u001b[0m                                Traceback (most recent call last)",
      "\u001b[1;32m<ipython-input-63-80171bc0ffb7>\u001b[0m in \u001b[0;36m<module>\u001b[1;34m\u001b[0m\n\u001b[1;32m----> 1\u001b[1;33m \u001b[0mweek_input\u001b[0m \u001b[1;33m=\u001b[0m \u001b[0mint\u001b[0m\u001b[1;33m(\u001b[0m\u001b[0minput\u001b[0m\u001b[1;33m(\u001b[0m\u001b[1;34m'주차를 입력하시오'\u001b[0m\u001b[1;33m)\u001b[0m\u001b[1;33m)\u001b[0m\u001b[1;33m\u001b[0m\u001b[1;33m\u001b[0m\u001b[0m\n\u001b[0m\u001b[0;32m      2\u001b[0m \u001b[0mcond1\u001b[0m \u001b[1;33m=\u001b[0m \u001b[1;33m(\u001b[0m\u001b[0mdf1\u001b[0m\u001b[1;33m[\u001b[0m\u001b[1;34m'Week'\u001b[0m\u001b[1;33m]\u001b[0m \u001b[1;33m==\u001b[0m \u001b[0mweek_input\u001b[0m\u001b[1;33m)\u001b[0m\u001b[1;33m\u001b[0m\u001b[1;33m\u001b[0m\u001b[0m\n\u001b[0;32m      3\u001b[0m \u001b[0mp1\u001b[0m \u001b[1;33m=\u001b[0m \u001b[0mdf1\u001b[0m\u001b[1;33m.\u001b[0m\u001b[0mloc\u001b[0m\u001b[1;33m[\u001b[0m\u001b[0mcond1\u001b[0m\u001b[1;33m]\u001b[0m\u001b[1;33m\u001b[0m\u001b[1;33m\u001b[0m\u001b[0m\n\u001b[0;32m      4\u001b[0m p1.pivot_table(index = 'Product_Type',values='Amount_Month',\n\u001b[0;32m      5\u001b[0m               aggfunc=['sum','mean'])\n",
      "\u001b[1;31mValueError\u001b[0m: invalid literal for int() with base 10: 'a'"
     ]
    }
   ],
   "source": [
    "week_input = int(input('주차를 입력하시오'))\n",
    "cond1 = (df1['Week'] == week_input)\n",
    "p1 = df1.loc[cond1]\n",
    "p1.pivot_table(index = 'Product_Type',values='Amount_Month',\n",
    "              aggfunc=['sum','mean'])"
   ]
  },
  {
   "cell_type": "code",
   "execution_count": 64,
   "metadata": {},
   "outputs": [],
   "source": [
    "def func13():\n",
    "    week_input = int(input('주차를 입력하시오'))\n",
    "    cond1 = (df1['Week'] == week_input)\n",
    "    p1 = df1.loc[cond1]\n",
    "    p2 = p1.pivot_table(index = 'Product_Type',values='Amount_Month',\n",
    "                  aggfunc=['sum','mean'])\n",
    "    p2.to_excel(f\"{week_input}week_Product_Contract.xlsx\")\n",
    "    return p2"
   ]
  },
  {
   "cell_type": "code",
   "execution_count": 65,
   "metadata": {},
   "outputs": [
    {
     "name": "stdout",
     "output_type": "stream",
     "text": [
      "주차를 입력하시오13\n"
     ]
    },
    {
     "name": "stderr",
     "output_type": "stream",
     "text": [
      "<ipython-input-64-4d188ffbe0a9>:7: UserWarning: Pandas requires version '1.4.3' or newer of 'xlsxwriter' (version '1.2.9' currently installed).\n",
      "  p2.to_excel(f\"{week_input}week_Product_Contract.xlsx\")\n"
     ]
    },
    {
     "data": {
      "text/html": [
       "<div>\n",
       "<style scoped>\n",
       "    .dataframe tbody tr th:only-of-type {\n",
       "        vertical-align: middle;\n",
       "    }\n",
       "\n",
       "    .dataframe tbody tr th {\n",
       "        vertical-align: top;\n",
       "    }\n",
       "\n",
       "    .dataframe thead tr th {\n",
       "        text-align: left;\n",
       "    }\n",
       "\n",
       "    .dataframe thead tr:last-of-type th {\n",
       "        text-align: right;\n",
       "    }\n",
       "</style>\n",
       "<table border=\"1\" class=\"dataframe\">\n",
       "  <thead>\n",
       "    <tr>\n",
       "      <th></th>\n",
       "      <th>sum</th>\n",
       "      <th>mean</th>\n",
       "    </tr>\n",
       "    <tr>\n",
       "      <th></th>\n",
       "      <th>Amount_Month</th>\n",
       "      <th>Amount_Month</th>\n",
       "    </tr>\n",
       "    <tr>\n",
       "      <th>Product_Type</th>\n",
       "      <th></th>\n",
       "      <th></th>\n",
       "    </tr>\n",
       "  </thead>\n",
       "  <tbody>\n",
       "    <tr>\n",
       "      <th>DES-1</th>\n",
       "      <td>141616683</td>\n",
       "      <td>94600.322645</td>\n",
       "    </tr>\n",
       "    <tr>\n",
       "      <th>DES-2</th>\n",
       "      <td>27120840</td>\n",
       "      <td>88630.196078</td>\n",
       "    </tr>\n",
       "    <tr>\n",
       "      <th>DES-3A</th>\n",
       "      <td>6261000</td>\n",
       "      <td>94863.636364</td>\n",
       "    </tr>\n",
       "    <tr>\n",
       "      <th>DES-R4</th>\n",
       "      <td>2092800</td>\n",
       "      <td>130800.000000</td>\n",
       "    </tr>\n",
       "    <tr>\n",
       "      <th>ERA</th>\n",
       "      <td>2950500</td>\n",
       "      <td>118020.000000</td>\n",
       "    </tr>\n",
       "    <tr>\n",
       "      <th>MMC</th>\n",
       "      <td>742800</td>\n",
       "      <td>185700.000000</td>\n",
       "    </tr>\n",
       "  </tbody>\n",
       "</table>\n",
       "</div>"
      ],
      "text/plain": [
       "                      sum           mean\n",
       "             Amount_Month   Amount_Month\n",
       "Product_Type                            \n",
       "DES-1           141616683   94600.322645\n",
       "DES-2            27120840   88630.196078\n",
       "DES-3A            6261000   94863.636364\n",
       "DES-R4            2092800  130800.000000\n",
       "ERA               2950500  118020.000000\n",
       "MMC                742800  185700.000000"
      ]
     },
     "execution_count": 65,
     "metadata": {},
     "output_type": "execute_result"
    }
   ],
   "source": [
    "func13()"
   ]
  },
  {
   "cell_type": "code",
   "execution_count": 100,
   "metadata": {},
   "outputs": [
    {
     "name": "stdout",
     "output_type": "stream",
     "text": [
      "연도를 입력하시오2022\n",
      "주차를 입력하시오13\n"
     ]
    },
    {
     "name": "stderr",
     "output_type": "stream",
     "text": [
      "<ipython-input-100-7cde3dd41fd7>:12: UserWarning: Pandas requires version '1.4.3' or newer of 'xlsxwriter' (version '1.2.9' currently installed).\n",
      "  p2.to_excel(f\"{year_input}_{week_input}week_Product_Contract.xlsx\")\n"
     ]
    },
    {
     "data": {
      "text/html": [
       "<div>\n",
       "<style scoped>\n",
       "    .dataframe tbody tr th:only-of-type {\n",
       "        vertical-align: middle;\n",
       "    }\n",
       "\n",
       "    .dataframe tbody tr th {\n",
       "        vertical-align: top;\n",
       "    }\n",
       "\n",
       "    .dataframe thead tr th {\n",
       "        text-align: left;\n",
       "    }\n",
       "\n",
       "    .dataframe thead tr:last-of-type th {\n",
       "        text-align: right;\n",
       "    }\n",
       "</style>\n",
       "<table border=\"1\" class=\"dataframe\">\n",
       "  <thead>\n",
       "    <tr>\n",
       "      <th></th>\n",
       "      <th>sum</th>\n",
       "      <th>mean</th>\n",
       "    </tr>\n",
       "    <tr>\n",
       "      <th></th>\n",
       "      <th>Amount_Month</th>\n",
       "      <th>Amount_Month</th>\n",
       "    </tr>\n",
       "    <tr>\n",
       "      <th>Product_Type</th>\n",
       "      <th></th>\n",
       "      <th></th>\n",
       "    </tr>\n",
       "  </thead>\n",
       "  <tbody>\n",
       "    <tr>\n",
       "      <th>DES-2</th>\n",
       "      <td>27120840</td>\n",
       "      <td>88630.196078</td>\n",
       "    </tr>\n",
       "  </tbody>\n",
       "</table>\n",
       "</div>"
      ],
      "text/plain": [
       "                      sum          mean\n",
       "             Amount_Month  Amount_Month\n",
       "Product_Type                           \n",
       "DES-2            27120840  88630.196078"
      ]
     },
     "execution_count": 100,
     "metadata": {},
     "output_type": "execute_result"
    }
   ],
   "source": [
    "def func14():\n",
    "    year_input = int(input('연도를 입력하시오'))\n",
    "    week_input = int(input('주차를 입력하시오'))\n",
    "    \n",
    "    cond1 = (df1['Year'] == year_input)\n",
    "    cond1 = (df1['Week'] == week_input)\n",
    "    \n",
    "    p1 = df1.loc[cond1 & cond2]\n",
    "    \n",
    "    p2 = p1.pivot_table(index = 'Product_Type',values='Amount_Month',\n",
    "                  aggfunc=['sum','mean'])\n",
    "    p2.to_excel(f\"{year_input}_{week_input}week_Product_Contract.xlsx\")\n",
    "    return p2\n",
    "\n",
    "func14()"
   ]
  },
  {
   "cell_type": "code",
   "execution_count": null,
   "metadata": {},
   "outputs": [],
   "source": []
  }
 ],
 "metadata": {
  "kernelspec": {
   "display_name": "Python 3",
   "language": "python",
   "name": "python3"
  },
  "language_info": {
   "codemirror_mode": {
    "name": "ipython",
    "version": 3
   },
   "file_extension": ".py",
   "mimetype": "text/x-python",
   "name": "python",
   "nbconvert_exporter": "python",
   "pygments_lexer": "ipython3",
   "version": "3.8.3"
  }
 },
 "nbformat": 4,
 "nbformat_minor": 5
}
