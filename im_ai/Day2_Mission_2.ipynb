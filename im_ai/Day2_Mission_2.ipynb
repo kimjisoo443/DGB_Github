{
 "cells": [
  {
   "cell_type": "markdown",
   "id": "3777c079-79ac-4816-9f80-83192ccdb9b2",
   "metadata": {},
   "source": [
    "# 미션 2 (2일차)\n",
    "- 아래의 미션을 Jupyter Notebook으로 푼 후 [File] - [Download as] - [HTML] 저장 제출\n",
    "- birdland1903@gmail.com\n",
    "- 제출양식 : Day2_Mission_홍길동\n",
    "- 처음 풀이 시, 30분 정도 구글링이나 Chat GPT 없이 풀이"
   ]
  },
  {
   "cell_type": "markdown",
   "id": "90c6176a-74aa-4c5b-8de0-ec799843183e",
   "metadata": {},
   "source": [
    "## 1. 5의 배수로 구성된 9개의 값을 생성한 후, Numpy Matrix 3x3 행렬로 만든 후, 첫번째 행의 합과 평균을 구하는 함수를 생성\n",
    "\n",
    "|  |  |  |\n",
    "|--|--|--|\n",
    "|5 |10|15|\n",
    "|20|25|30|\n",
    "|35|40|45|"
   ]
  },
  {
   "cell_type": "code",
   "execution_count": 2,
   "id": "52ba6c21-eece-4a00-8935-79ce4912c53e",
   "metadata": {},
   "outputs": [
    {
     "name": "stdout",
     "output_type": "stream",
     "text": [
      "첫 번째 행의 합은 30, 평균은 10.0입니다.\n"
     ]
    }
   ],
   "source": [
    "import numpy as np\n",
    "\n",
    "def cal_mat(m):\n",
    "    sum=0\n",
    "    for i in range(len(m[0])):\n",
    "        sum+=m[0][i]\n",
    "    # print(sum)\n",
    "\n",
    "    mean = sum/len(m[0])\n",
    "    # print(mean)\n",
    "    print(f\"첫 번째 행의 합은 {sum}, 평균은 {mean}입니다.\")\n",
    "\n",
    "\n",
    "mat = np.array([x for x in range(1,46) if x%5==0])\n",
    "mat = mat.reshape(3,3)\n",
    "\n",
    "cal_mat(mat)"
   ]
  },
  {
   "cell_type": "code",
   "execution_count": 6,
   "id": "72cd4e48-337e-48f7-b830-e69714547635",
   "metadata": {},
   "outputs": [
    {
     "name": "stdout",
     "output_type": "stream",
     "text": [
      "첫 번째 행의 합은 30, 평균은 10.0입니다.\n"
     ]
    }
   ],
   "source": [
    "# 선생님\n",
    "def func1():\n",
    "    mat = np.array([x for x in range(1,46) if x%5==0])\n",
    "    mat = mat.reshape(3,3)\n",
    "    sum = mat[0].sum()\n",
    "    mean = mat[0].mean()\n",
    "    print(f\"첫 번째 행의 합은 {sum}, 평균은 {mean}입니다.\")\n",
    "\n",
    "func1()"
   ]
  },
  {
   "cell_type": "markdown",
   "id": "0975ded1-a69d-43f4-a97c-ddf502cdf485",
   "metadata": {},
   "source": [
    "## 2. 두 개의 값을 입력받아 두 값 사이의 10개의 데이터를 일정 간격으로 생성해, Vector형태로 출력하는 함수를 생성 "
   ]
  },
  {
   "cell_type": "code",
   "execution_count": 3,
   "id": "b00c0846-6e07-47d2-9d7f-2906fd7526cb",
   "metadata": {},
   "outputs": [
    {
     "name": "stdin",
     "output_type": "stream",
     "text": [
      " 1 11\n"
     ]
    },
    {
     "data": {
      "text/plain": [
       "[1.0, 2.111, 3.222, 4.333, 5.444, 6.556, 7.667, 8.778, 9.889, 11.0]"
      ]
     },
     "execution_count": 3,
     "metadata": {},
     "output_type": "execute_result"
    }
   ],
   "source": [
    "def get_vector():\n",
    "    a,b = map(int,input().split())\n",
    "    if a==b:\n",
    "        print(\"다시입력하세요\")\n",
    "        a,b = map(int,input().split())\n",
    "        \n",
    "    data = np.linspace(a,b,10)\n",
    "    return [round(x,3) for x in data]\n",
    "\n",
    "l = get_vector()\n",
    "l"
   ]
  },
  {
   "cell_type": "markdown",
   "id": "85cf5143-f4ad-40d4-ad1b-528761bc7c30",
   "metadata": {},
   "source": [
    "## 3. 학생의 이름과 국어점수, 영어점수, 수학점수를 입력받아 Pandas의 DataFrame형태로 구성하는 함수를 생성 "
   ]
  },
  {
   "cell_type": "code",
   "execution_count": 8,
   "id": "d93e784b-db5b-4c31-991b-835dc7d7f885",
   "metadata": {},
   "outputs": [
    {
     "name": "stdin",
     "output_type": "stream",
     "text": [
      "이름 :  rla\n",
      "국어점수 :  01\n",
      "영어점수 :  20\n",
      "수학점수 :  304\n"
     ]
    },
    {
     "data": {
      "text/html": [
       "<div>\n",
       "<style scoped>\n",
       "    .dataframe tbody tr th:only-of-type {\n",
       "        vertical-align: middle;\n",
       "    }\n",
       "\n",
       "    .dataframe tbody tr th {\n",
       "        vertical-align: top;\n",
       "    }\n",
       "\n",
       "    .dataframe thead th {\n",
       "        text-align: right;\n",
       "    }\n",
       "</style>\n",
       "<table border=\"1\" class=\"dataframe\">\n",
       "  <thead>\n",
       "    <tr style=\"text-align: right;\">\n",
       "      <th></th>\n",
       "      <th>name</th>\n",
       "      <th>국어점수</th>\n",
       "      <th>영어점수</th>\n",
       "      <th>수학점수</th>\n",
       "    </tr>\n",
       "  </thead>\n",
       "  <tbody>\n",
       "    <tr>\n",
       "      <th>0</th>\n",
       "      <td>rla</td>\n",
       "      <td>01</td>\n",
       "      <td>20</td>\n",
       "      <td>304</td>\n",
       "    </tr>\n",
       "  </tbody>\n",
       "</table>\n",
       "</div>"
      ],
      "text/plain": [
       "  name 국어점수 영어점수 수학점수\n",
       "0  rla   01   20  304"
      ]
     },
     "execution_count": 8,
     "metadata": {},
     "output_type": "execute_result"
    }
   ],
   "source": [
    "import pandas as pd\n",
    "\n",
    "def get_df():\n",
    "    name = input('이름 : ')\n",
    "    sc1 = input('국어점수 : ')\n",
    "    sc2 = input('영어점수 : ')\n",
    "    sc3 = input('수학점수 : ')\n",
    "    # 키 -> 컬럼명, 벨류 -> 컬럼의 값\n",
    "    \n",
    "    l_n = []\n",
    "    l_sc1 = []\n",
    "    l_sc2 = []\n",
    "    l_sc3 = []\n",
    "\n",
    "    l_n.append(name)\n",
    "    l_sc1.append(sc1)\n",
    "    l_sc2.append(sc2)\n",
    "    l_sc3.append(sc3)\n",
    "    \n",
    "    dict_sc = {'name':l_n,'국어점수':l_sc1,'영어점수':l_sc2,'수학점수':l_sc3}\n",
    "    return dict_sc\n",
    "    \n",
    "dict_sc = get_df()\n",
    "d=pd.DataFrame(dict_sc)\n",
    "d"
   ]
  },
  {
   "cell_type": "code",
   "execution_count": 33,
   "id": "5fd9d903-2b9e-4704-8552-f9ae0a39bba3",
   "metadata": {},
   "outputs": [
    {
     "name": "stdin",
     "output_type": "stream",
     "text": [
      "횟수를 입력하세요 3\n",
      " 1 2 3 4\n",
      " 1 2 3 4\n",
      " 1 2 3 4\n"
     ]
    },
    {
     "data": {
      "text/html": [
       "<div>\n",
       "<style scoped>\n",
       "    .dataframe tbody tr th:only-of-type {\n",
       "        vertical-align: middle;\n",
       "    }\n",
       "\n",
       "    .dataframe tbody tr th {\n",
       "        vertical-align: top;\n",
       "    }\n",
       "\n",
       "    .dataframe thead th {\n",
       "        text-align: right;\n",
       "    }\n",
       "</style>\n",
       "<table border=\"1\" class=\"dataframe\">\n",
       "  <thead>\n",
       "    <tr style=\"text-align: right;\">\n",
       "      <th></th>\n",
       "      <th>name</th>\n",
       "      <th>국어점수</th>\n",
       "      <th>영어점수</th>\n",
       "      <th>수학점수</th>\n",
       "    </tr>\n",
       "  </thead>\n",
       "  <tbody>\n",
       "    <tr>\n",
       "      <th>0</th>\n",
       "      <td>1</td>\n",
       "      <td>2</td>\n",
       "      <td>3</td>\n",
       "      <td>4</td>\n",
       "    </tr>\n",
       "    <tr>\n",
       "      <th>1</th>\n",
       "      <td>1</td>\n",
       "      <td>2</td>\n",
       "      <td>3</td>\n",
       "      <td>4</td>\n",
       "    </tr>\n",
       "    <tr>\n",
       "      <th>2</th>\n",
       "      <td>1</td>\n",
       "      <td>2</td>\n",
       "      <td>3</td>\n",
       "      <td>4</td>\n",
       "    </tr>\n",
       "  </tbody>\n",
       "</table>\n",
       "</div>"
      ],
      "text/plain": [
       "  name 국어점수 영어점수 수학점수\n",
       "0    1    2    3    4\n",
       "1    1    2    3    4\n",
       "2    1    2    3    4"
      ]
     },
     "execution_count": 33,
     "metadata": {},
     "output_type": "execute_result"
    }
   ],
   "source": [
    "import pandas as pd\n",
    "l_n = []\n",
    "l_sc1 = []\n",
    "l_sc2 = []\n",
    "l_sc3 = []\n",
    "\n",
    "def get_df():\n",
    "    data = list(input().split()) #[1,2,3,4]\n",
    "    \n",
    "    l_n.append(data[0])\n",
    "    l_sc1.append(data[1])\n",
    "    l_sc2.append(data[2])\n",
    "    l_sc3.append(data[3])\n",
    "    \n",
    "    dict_sc = {'name':l_n,'국어점수':l_sc1,'영어점수':l_sc2,'수학점수':l_sc3}\n",
    "    \n",
    "    return dict_sc\n",
    "\n",
    "count = int(input('횟수를 입력하세요'))\n",
    "for x in range(count):\n",
    "    dict_sc = get_df()\n",
    "d=pd.DataFrame(dict_sc)\n",
    "d"
   ]
  },
  {
   "cell_type": "code",
   "execution_count": 7,
   "id": "dbe5f1a9-a075-4113-b3f5-00e91aee4992",
   "metadata": {},
   "outputs": [
    {
     "name": "stdin",
     "output_type": "stream",
     "text": [
      " 1 1 1 1\n"
     ]
    },
    {
     "data": {
      "text/html": [
       "<div>\n",
       "<style scoped>\n",
       "    .dataframe tbody tr th:only-of-type {\n",
       "        vertical-align: middle;\n",
       "    }\n",
       "\n",
       "    .dataframe tbody tr th {\n",
       "        vertical-align: top;\n",
       "    }\n",
       "\n",
       "    .dataframe thead th {\n",
       "        text-align: right;\n",
       "    }\n",
       "</style>\n",
       "<table border=\"1\" class=\"dataframe\">\n",
       "  <thead>\n",
       "    <tr style=\"text-align: right;\">\n",
       "      <th></th>\n",
       "      <th>이름</th>\n",
       "      <th>국어</th>\n",
       "      <th>영어</th>\n",
       "      <th>수학</th>\n",
       "    </tr>\n",
       "  </thead>\n",
       "  <tbody>\n",
       "    <tr>\n",
       "      <th>0</th>\n",
       "      <td>1</td>\n",
       "      <td>1</td>\n",
       "      <td>1</td>\n",
       "      <td>1</td>\n",
       "    </tr>\n",
       "  </tbody>\n",
       "</table>\n",
       "</div>"
      ],
      "text/plain": [
       "  이름 국어 영어 수학\n",
       "0  1  1  1  1"
      ]
     },
     "execution_count": 7,
     "metadata": {},
     "output_type": "execute_result"
    }
   ],
   "source": [
    "lst = list(input().split())\n",
    "df1 = pd.DataFrame(data =[lst], columns = ['이름','국어','영어','수학'])\n",
    "df1\n"
   ]
  },
  {
   "cell_type": "markdown",
   "id": "b3e4abf3-198b-442a-b89f-0e1d69a7c153",
   "metadata": {},
   "source": [
    "# 01_Data.csv 파일을 가져와 df1으로 선언하고, 아래의 미션을 수행"
   ]
  },
  {
   "cell_type": "code",
   "execution_count": 10,
   "id": "9294d06d-f9d9-4a0a-94e6-9c0c98b135bb",
   "metadata": {},
   "outputs": [
    {
     "data": {
      "text/html": [
       "<div>\n",
       "<style scoped>\n",
       "    .dataframe tbody tr th:only-of-type {\n",
       "        vertical-align: middle;\n",
       "    }\n",
       "\n",
       "    .dataframe tbody tr th {\n",
       "        vertical-align: top;\n",
       "    }\n",
       "\n",
       "    .dataframe thead th {\n",
       "        text-align: right;\n",
       "    }\n",
       "</style>\n",
       "<table border=\"1\" class=\"dataframe\">\n",
       "  <thead>\n",
       "    <tr style=\"text-align: right;\">\n",
       "      <th></th>\n",
       "      <th>Index</th>\n",
       "      <th>Member_ID</th>\n",
       "      <th>Sales_Type</th>\n",
       "      <th>Contract_Type</th>\n",
       "      <th>Channel</th>\n",
       "      <th>Datetime</th>\n",
       "      <th>Term</th>\n",
       "      <th>Payment_Type</th>\n",
       "      <th>Product_Type</th>\n",
       "      <th>Amount_Month</th>\n",
       "      <th>Customer_Type</th>\n",
       "      <th>Age</th>\n",
       "      <th>Address1</th>\n",
       "      <th>Address2</th>\n",
       "      <th>State</th>\n",
       "      <th>Overdue_count</th>\n",
       "      <th>Overdue_Type</th>\n",
       "      <th>Gender</th>\n",
       "      <th>Credit_Rank</th>\n",
       "      <th>Bank</th>\n",
       "    </tr>\n",
       "  </thead>\n",
       "  <tbody>\n",
       "    <tr>\n",
       "      <th>0</th>\n",
       "      <td>1</td>\n",
       "      <td>66758234</td>\n",
       "      <td>렌탈</td>\n",
       "      <td>일반계약</td>\n",
       "      <td>영업방판</td>\n",
       "      <td>2022-05-05</td>\n",
       "      <td>60</td>\n",
       "      <td>CMS</td>\n",
       "      <td>DES-1</td>\n",
       "      <td>96900</td>\n",
       "      <td>개인</td>\n",
       "      <td>42.0</td>\n",
       "      <td>경기도</td>\n",
       "      <td>경기도</td>\n",
       "      <td>계약확정</td>\n",
       "      <td>0</td>\n",
       "      <td>없음</td>\n",
       "      <td>여자</td>\n",
       "      <td>9.0</td>\n",
       "      <td>새마을금고</td>\n",
       "    </tr>\n",
       "    <tr>\n",
       "      <th>1</th>\n",
       "      <td>2</td>\n",
       "      <td>66755948</td>\n",
       "      <td>렌탈</td>\n",
       "      <td>교체계약</td>\n",
       "      <td>영업방판</td>\n",
       "      <td>2023-02-19</td>\n",
       "      <td>60</td>\n",
       "      <td>카드이체</td>\n",
       "      <td>DES-1</td>\n",
       "      <td>102900</td>\n",
       "      <td>개인</td>\n",
       "      <td>39.0</td>\n",
       "      <td>경기도</td>\n",
       "      <td>경기도</td>\n",
       "      <td>계약확정</td>\n",
       "      <td>0</td>\n",
       "      <td>없음</td>\n",
       "      <td>남자</td>\n",
       "      <td>2.0</td>\n",
       "      <td>현대카드</td>\n",
       "    </tr>\n",
       "    <tr>\n",
       "      <th>2</th>\n",
       "      <td>3</td>\n",
       "      <td>66756657</td>\n",
       "      <td>렌탈</td>\n",
       "      <td>일반계약</td>\n",
       "      <td>홈쇼핑/방송</td>\n",
       "      <td>2022-02-27</td>\n",
       "      <td>60</td>\n",
       "      <td>CMS</td>\n",
       "      <td>DES-1</td>\n",
       "      <td>96900</td>\n",
       "      <td>개인</td>\n",
       "      <td>48.0</td>\n",
       "      <td>경기도</td>\n",
       "      <td>경기도</td>\n",
       "      <td>계약확정</td>\n",
       "      <td>0</td>\n",
       "      <td>없음</td>\n",
       "      <td>여자</td>\n",
       "      <td>8.0</td>\n",
       "      <td>우리은행</td>\n",
       "    </tr>\n",
       "    <tr>\n",
       "      <th>3</th>\n",
       "      <td>4</td>\n",
       "      <td>66423450</td>\n",
       "      <td>멤버십</td>\n",
       "      <td>멤버십3유형</td>\n",
       "      <td>재계약</td>\n",
       "      <td>2022-05-12</td>\n",
       "      <td>12</td>\n",
       "      <td>CMS</td>\n",
       "      <td>DES-1</td>\n",
       "      <td>66900</td>\n",
       "      <td>개인</td>\n",
       "      <td>39.0</td>\n",
       "      <td>경기도</td>\n",
       "      <td>경기도</td>\n",
       "      <td>계약확정</td>\n",
       "      <td>0</td>\n",
       "      <td>없음</td>\n",
       "      <td>남자</td>\n",
       "      <td>5.0</td>\n",
       "      <td>농협회원조합</td>\n",
       "    </tr>\n",
       "    <tr>\n",
       "      <th>4</th>\n",
       "      <td>5</td>\n",
       "      <td>66423204</td>\n",
       "      <td>멤버십</td>\n",
       "      <td>멤버십3유형</td>\n",
       "      <td>재계약</td>\n",
       "      <td>2022-05-09</td>\n",
       "      <td>12</td>\n",
       "      <td>CMS</td>\n",
       "      <td>DES-1</td>\n",
       "      <td>66900</td>\n",
       "      <td>개인</td>\n",
       "      <td>60.0</td>\n",
       "      <td>경기도</td>\n",
       "      <td>경기도</td>\n",
       "      <td>기간만료</td>\n",
       "      <td>12</td>\n",
       "      <td>있음</td>\n",
       "      <td>남자</td>\n",
       "      <td>8.0</td>\n",
       "      <td>농협회원조합</td>\n",
       "    </tr>\n",
       "    <tr>\n",
       "      <th>...</th>\n",
       "      <td>...</td>\n",
       "      <td>...</td>\n",
       "      <td>...</td>\n",
       "      <td>...</td>\n",
       "      <td>...</td>\n",
       "      <td>...</td>\n",
       "      <td>...</td>\n",
       "      <td>...</td>\n",
       "      <td>...</td>\n",
       "      <td>...</td>\n",
       "      <td>...</td>\n",
       "      <td>...</td>\n",
       "      <td>...</td>\n",
       "      <td>...</td>\n",
       "      <td>...</td>\n",
       "      <td>...</td>\n",
       "      <td>...</td>\n",
       "      <td>...</td>\n",
       "      <td>...</td>\n",
       "      <td>...</td>\n",
       "    </tr>\n",
       "    <tr>\n",
       "      <th>51296</th>\n",
       "      <td>51298</td>\n",
       "      <td>66579515</td>\n",
       "      <td>렌탈</td>\n",
       "      <td>프로모션계약</td>\n",
       "      <td>대형마트A</td>\n",
       "      <td>2022-02-28</td>\n",
       "      <td>60</td>\n",
       "      <td>CMS</td>\n",
       "      <td>DES-3A</td>\n",
       "      <td>96900</td>\n",
       "      <td>개인</td>\n",
       "      <td>47.0</td>\n",
       "      <td>경기도</td>\n",
       "      <td>경기도</td>\n",
       "      <td>계약확정</td>\n",
       "      <td>0</td>\n",
       "      <td>없음</td>\n",
       "      <td>남자</td>\n",
       "      <td>NaN</td>\n",
       "      <td>기업은행</td>\n",
       "    </tr>\n",
       "    <tr>\n",
       "      <th>51297</th>\n",
       "      <td>51299</td>\n",
       "      <td>66799558</td>\n",
       "      <td>렌탈</td>\n",
       "      <td>일반계약</td>\n",
       "      <td>대형마트A</td>\n",
       "      <td>2022-03-31</td>\n",
       "      <td>60</td>\n",
       "      <td>CMS</td>\n",
       "      <td>DES-1</td>\n",
       "      <td>96900</td>\n",
       "      <td>개인</td>\n",
       "      <td>42.0</td>\n",
       "      <td>경기도</td>\n",
       "      <td>경기도</td>\n",
       "      <td>계약확정</td>\n",
       "      <td>0</td>\n",
       "      <td>없음</td>\n",
       "      <td>여자</td>\n",
       "      <td>8.0</td>\n",
       "      <td>새마을금고</td>\n",
       "    </tr>\n",
       "    <tr>\n",
       "      <th>51298</th>\n",
       "      <td>51300</td>\n",
       "      <td>66799197</td>\n",
       "      <td>렌탈</td>\n",
       "      <td>프로모션계약</td>\n",
       "      <td>영업방판</td>\n",
       "      <td>2022-03-31</td>\n",
       "      <td>39</td>\n",
       "      <td>카드이체</td>\n",
       "      <td>ERA</td>\n",
       "      <td>120900</td>\n",
       "      <td>개인</td>\n",
       "      <td>65.0</td>\n",
       "      <td>서울특별시</td>\n",
       "      <td>서울특별시</td>\n",
       "      <td>계약확정</td>\n",
       "      <td>0</td>\n",
       "      <td>없음</td>\n",
       "      <td>여자</td>\n",
       "      <td>1.0</td>\n",
       "      <td>롯데카드</td>\n",
       "    </tr>\n",
       "    <tr>\n",
       "      <th>51299</th>\n",
       "      <td>51301</td>\n",
       "      <td>66792778</td>\n",
       "      <td>렌탈</td>\n",
       "      <td>일반계약</td>\n",
       "      <td>홈쇼핑/방송</td>\n",
       "      <td>2023-02-05</td>\n",
       "      <td>60</td>\n",
       "      <td>카드이체</td>\n",
       "      <td>DES-1</td>\n",
       "      <td>96900</td>\n",
       "      <td>개인</td>\n",
       "      <td>54.0</td>\n",
       "      <td>서울특별시</td>\n",
       "      <td>서울특별시</td>\n",
       "      <td>계약확정</td>\n",
       "      <td>0</td>\n",
       "      <td>없음</td>\n",
       "      <td>여자</td>\n",
       "      <td>2.0</td>\n",
       "      <td>롯데카드</td>\n",
       "    </tr>\n",
       "    <tr>\n",
       "      <th>51300</th>\n",
       "      <td>51302</td>\n",
       "      <td>66799607</td>\n",
       "      <td>렌탈</td>\n",
       "      <td>일반계약</td>\n",
       "      <td>홈쇼핑/방송</td>\n",
       "      <td>2022-04-23</td>\n",
       "      <td>60</td>\n",
       "      <td>CMS</td>\n",
       "      <td>DES-1</td>\n",
       "      <td>96900</td>\n",
       "      <td>개인</td>\n",
       "      <td>53.0</td>\n",
       "      <td>서울특별시</td>\n",
       "      <td>서울특별시</td>\n",
       "      <td>계약확정</td>\n",
       "      <td>0</td>\n",
       "      <td>없음</td>\n",
       "      <td>여자</td>\n",
       "      <td>8.0</td>\n",
       "      <td>신한은행</td>\n",
       "    </tr>\n",
       "  </tbody>\n",
       "</table>\n",
       "<p>51301 rows × 20 columns</p>\n",
       "</div>"
      ],
      "text/plain": [
       "       Index  Member_ID Sales_Type Contract_Type Channel    Datetime  Term  \\\n",
       "0          1   66758234         렌탈          일반계약    영업방판  2022-05-05    60   \n",
       "1          2   66755948         렌탈          교체계약    영업방판  2023-02-19    60   \n",
       "2          3   66756657         렌탈          일반계약  홈쇼핑/방송  2022-02-27    60   \n",
       "3          4   66423450        멤버십        멤버십3유형     재계약  2022-05-12    12   \n",
       "4          5   66423204        멤버십        멤버십3유형     재계약  2022-05-09    12   \n",
       "...      ...        ...        ...           ...     ...         ...   ...   \n",
       "51296  51298   66579515         렌탈        프로모션계약   대형마트A  2022-02-28    60   \n",
       "51297  51299   66799558         렌탈          일반계약   대형마트A  2022-03-31    60   \n",
       "51298  51300   66799197         렌탈        프로모션계약    영업방판  2022-03-31    39   \n",
       "51299  51301   66792778         렌탈          일반계약  홈쇼핑/방송  2023-02-05    60   \n",
       "51300  51302   66799607         렌탈          일반계약  홈쇼핑/방송  2022-04-23    60   \n",
       "\n",
       "      Payment_Type Product_Type  Amount_Month Customer_Type   Age Address1  \\\n",
       "0              CMS        DES-1         96900            개인  42.0      경기도   \n",
       "1             카드이체        DES-1        102900            개인  39.0      경기도   \n",
       "2              CMS        DES-1         96900            개인  48.0      경기도   \n",
       "3              CMS        DES-1         66900            개인  39.0      경기도   \n",
       "4              CMS        DES-1         66900            개인  60.0      경기도   \n",
       "...            ...          ...           ...           ...   ...      ...   \n",
       "51296          CMS       DES-3A         96900            개인  47.0      경기도   \n",
       "51297          CMS        DES-1         96900            개인  42.0      경기도   \n",
       "51298         카드이체          ERA        120900            개인  65.0    서울특별시   \n",
       "51299         카드이체        DES-1         96900            개인  54.0    서울특별시   \n",
       "51300          CMS        DES-1         96900            개인  53.0    서울특별시   \n",
       "\n",
       "      Address2 State  Overdue_count Overdue_Type Gender  Credit_Rank    Bank  \n",
       "0          경기도  계약확정              0           없음     여자          9.0   새마을금고  \n",
       "1          경기도  계약확정              0           없음     남자          2.0    현대카드  \n",
       "2          경기도  계약확정              0           없음     여자          8.0    우리은행  \n",
       "3          경기도  계약확정              0           없음     남자          5.0  농협회원조합  \n",
       "4          경기도  기간만료             12           있음     남자          8.0  농협회원조합  \n",
       "...        ...   ...            ...          ...    ...          ...     ...  \n",
       "51296      경기도  계약확정              0           없음     남자          NaN    기업은행  \n",
       "51297      경기도  계약확정              0           없음     여자          8.0   새마을금고  \n",
       "51298    서울특별시  계약확정              0           없음     여자          1.0    롯데카드  \n",
       "51299    서울특별시  계약확정              0           없음     여자          2.0    롯데카드  \n",
       "51300    서울특별시  계약확정              0           없음     여자          8.0    신한은행  \n",
       "\n",
       "[51301 rows x 20 columns]"
      ]
     },
     "execution_count": 10,
     "metadata": {},
     "output_type": "execute_result"
    }
   ],
   "source": [
    "df1 = pd.read_csv('01_Data.csv')\n",
    "df1"
   ]
  },
  {
   "cell_type": "markdown",
   "id": "ed64de4d-d228-440e-93bf-492d6f78168d",
   "metadata": {},
   "source": [
    "## 4. 해당 데이터에서 고객의 계약명단 중 우수 고객을 찾고자 한다. df1 데이터에서 월랜탈비용(Amount_Month)가 높고, 연령이 낮은(Age) 상위 50명의 고객 계약명단을 추출해 result3.xlsx저장 "
   ]
  },
  {
   "cell_type": "code",
   "execution_count": 60,
   "id": "f756521b-70a4-42a5-a221-024fa2d95a62",
   "metadata": {
    "scrolled": true
   },
   "outputs": [],
   "source": [
    "df2 = df1.sort_values(by=['Amount_Month','Age'],\n",
    "               ascending=[0,1])\n",
    "df2.head(50).to_excel('result3.xlsx')"
   ]
  },
  {
   "cell_type": "code",
   "execution_count": 11,
   "id": "886027a3-78ac-445f-b6c0-d88bc5ad597b",
   "metadata": {},
   "outputs": [],
   "source": [
    "df2 = df1.sort_values(by=['Amount_Month','Age'],\n",
    "               ascending=[0,1]).head(50).to_excel('result3.xlsx')"
   ]
  },
  {
   "cell_type": "markdown",
   "id": "481e0a96-1844-4bf9-b4ce-933d4a28ba02",
   "metadata": {},
   "source": [
    "## 5.젊은 고객들을 대상으로 마케팅 전략을 수립하기 위해. 연령이 낮은 100명의 계약 명단을 추출하여, df1_young 변수로 선언하고 데이터의 구조와 타입을 확인 "
   ]
  },
  {
   "cell_type": "code",
   "execution_count": 12,
   "id": "23d7236c-1c59-43eb-9562-ea86922f6de7",
   "metadata": {},
   "outputs": [
    {
     "name": "stdout",
     "output_type": "stream",
     "text": [
      "<class 'pandas.core.frame.DataFrame'>\n",
      "Index: 100 entries, 46706 to 5846\n",
      "Data columns (total 20 columns):\n",
      " #   Column         Non-Null Count  Dtype  \n",
      "---  ------         --------------  -----  \n",
      " 0   Index          100 non-null    int64  \n",
      " 1   Member_ID      100 non-null    int64  \n",
      " 2   Sales_Type     100 non-null    object \n",
      " 3   Contract_Type  100 non-null    object \n",
      " 4   Channel        100 non-null    object \n",
      " 5   Datetime       100 non-null    object \n",
      " 6   Term           100 non-null    int64  \n",
      " 7   Payment_Type   100 non-null    object \n",
      " 8   Product_Type   100 non-null    object \n",
      " 9   Amount_Month   100 non-null    int64  \n",
      " 10  Customer_Type  100 non-null    object \n",
      " 11  Age            100 non-null    float64\n",
      " 12  Address1       100 non-null    object \n",
      " 13  Address2       100 non-null    object \n",
      " 14  State          100 non-null    object \n",
      " 15  Overdue_count  100 non-null    int64  \n",
      " 16  Overdue_Type   100 non-null    object \n",
      " 17  Gender         100 non-null    object \n",
      " 18  Credit_Rank    88 non-null     float64\n",
      " 19  Bank           100 non-null    object \n",
      "dtypes: float64(2), int64(5), object(13)\n",
      "memory usage: 16.4+ KB\n"
     ]
    }
   ],
   "source": [
    "df1_young = df1.sort_values(by='Age',ascending=1).head(100)\n",
    "df1_young.info()\n",
    "# 데이터 타입 : float64, 구조: 18개의 컬럼 존재\n",
    "#  18  Credit_Rank    88 non-null     float64 에 결측치가 있다"
   ]
  },
  {
   "cell_type": "code",
   "execution_count": 14,
   "id": "80aca6c9-1e27-49ea-a58a-ee6842824319",
   "metadata": {},
   "outputs": [
    {
     "data": {
      "text/plain": [
       "Index               0\n",
       "Member_ID           0\n",
       "Sales_Type          0\n",
       "Contract_Type       0\n",
       "Channel             0\n",
       "Datetime            0\n",
       "Term                0\n",
       "Payment_Type        0\n",
       "Product_Type        0\n",
       "Amount_Month        0\n",
       "Customer_Type       2\n",
       "Age              6972\n",
       "Address1            2\n",
       "Address2            2\n",
       "State               0\n",
       "Overdue_count       0\n",
       "Overdue_Type        0\n",
       "Gender              0\n",
       "Credit_Rank      8781\n",
       "Bank             2759\n",
       "dtype: int64"
      ]
     },
     "execution_count": 14,
     "metadata": {},
     "output_type": "execute_result"
    }
   ],
   "source": [
    "# 결측치 확인\n",
    "df1.isnull().sum()"
   ]
  },
  {
   "cell_type": "code",
   "execution_count": 18,
   "id": "2cc35108-d0de-4c36-a993-407ab8dfd887",
   "metadata": {},
   "outputs": [
    {
     "data": {
      "text/plain": [
       "0"
      ]
     },
     "execution_count": 18,
     "metadata": {},
     "output_type": "execute_result"
    }
   ],
   "source": [
    "# 결측치 제거\n",
    "p1 = df1.dropna()\n",
    "p1\n",
    "(p1.isnull().sum().values).sum()"
   ]
  },
  {
   "cell_type": "markdown",
   "id": "92fd4289-b515-471c-967b-f61ef3465109",
   "metadata": {},
   "source": [
    "## 6. df1_young 데이터와 df1 데이터의 월랜탈비용(Amount_Month)의 평균을 계산하고, 두 값의 차이를 계산 "
   ]
  },
  {
   "cell_type": "code",
   "execution_count": 102,
   "id": "906c4d26-b9e0-4abd-b10e-6a3de02d2bc5",
   "metadata": {},
   "outputs": [
    {
     "name": "stdout",
     "output_type": "stream",
     "text": [
      "df1_young 데이터의 월랜탈비용 평균은 94191.0이고, df1 데이터의 평균은 93994.97428900021입니다.\n",
      "두 값의 차이는 196.03입니다.\n"
     ]
    }
   ],
   "source": [
    "dy = df1_young['Amount_Month'].values\n",
    "d = df1['Amount_Month'].values\n",
    "dy_m = np.sum(d_y)/100\n",
    "d = np.sum(d)/len(d)\n",
    "\n",
    "print(f\"df1_young 데이터의 월랜탈비용 평균은 {dy_m}이고, df1 데이터의 평균은 {d}입니다.\")\n",
    "print(f\"두 값의 차이는 {round(abs(dy_m-d),2)}입니다.\")"
   ]
  },
  {
   "cell_type": "code",
   "execution_count": 20,
   "id": "f372c533-6f68-4584-aca5-17c919e371f1",
   "metadata": {},
   "outputs": [
    {
     "data": {
      "text/plain": [
       "94191.0"
      ]
     },
     "execution_count": 20,
     "metadata": {},
     "output_type": "execute_result"
    }
   ],
   "source": [
    "abs(df1_young['Amount_Month'].mean())"
   ]
  },
  {
   "cell_type": "markdown",
   "id": "b708f4a9-009a-4913-be75-ca628aeb58d3",
   "metadata": {},
   "source": [
    "## 7. df1_young에서 월랜탈비용이 높고 연체건수(Overdue_Count)가 낮은 순서대로 정렬해, result_young.xlsx로 저장하시오."
   ]
  },
  {
   "cell_type": "code",
   "execution_count": 22,
   "id": "0e54f829-b533-439a-909b-e336be4c6849",
   "metadata": {},
   "outputs": [
    {
     "data": {
      "text/html": [
       "<div>\n",
       "<style scoped>\n",
       "    .dataframe tbody tr th:only-of-type {\n",
       "        vertical-align: middle;\n",
       "    }\n",
       "\n",
       "    .dataframe tbody tr th {\n",
       "        vertical-align: top;\n",
       "    }\n",
       "\n",
       "    .dataframe thead th {\n",
       "        text-align: right;\n",
       "    }\n",
       "</style>\n",
       "<table border=\"1\" class=\"dataframe\">\n",
       "  <thead>\n",
       "    <tr style=\"text-align: right;\">\n",
       "      <th></th>\n",
       "      <th>Amount_Month</th>\n",
       "      <th>Overdue_count</th>\n",
       "    </tr>\n",
       "  </thead>\n",
       "  <tbody>\n",
       "    <tr>\n",
       "      <th>19412</th>\n",
       "      <td>215700</td>\n",
       "      <td>0</td>\n",
       "    </tr>\n",
       "    <tr>\n",
       "      <th>19413</th>\n",
       "      <td>215700</td>\n",
       "      <td>0</td>\n",
       "    </tr>\n",
       "    <tr>\n",
       "      <th>19773</th>\n",
       "      <td>215700</td>\n",
       "      <td>0</td>\n",
       "    </tr>\n",
       "    <tr>\n",
       "      <th>19774</th>\n",
       "      <td>215700</td>\n",
       "      <td>0</td>\n",
       "    </tr>\n",
       "    <tr>\n",
       "      <th>28147</th>\n",
       "      <td>215700</td>\n",
       "      <td>0</td>\n",
       "    </tr>\n",
       "    <tr>\n",
       "      <th>...</th>\n",
       "      <td>...</td>\n",
       "      <td>...</td>\n",
       "    </tr>\n",
       "    <tr>\n",
       "      <th>51277</th>\n",
       "      <td>54603</td>\n",
       "      <td>0</td>\n",
       "    </tr>\n",
       "    <tr>\n",
       "      <th>51280</th>\n",
       "      <td>54603</td>\n",
       "      <td>0</td>\n",
       "    </tr>\n",
       "    <tr>\n",
       "      <th>51284</th>\n",
       "      <td>54603</td>\n",
       "      <td>0</td>\n",
       "    </tr>\n",
       "    <tr>\n",
       "      <th>51290</th>\n",
       "      <td>54603</td>\n",
       "      <td>0</td>\n",
       "    </tr>\n",
       "    <tr>\n",
       "      <th>42145</th>\n",
       "      <td>54603</td>\n",
       "      <td>1</td>\n",
       "    </tr>\n",
       "  </tbody>\n",
       "</table>\n",
       "<p>51301 rows × 2 columns</p>\n",
       "</div>"
      ],
      "text/plain": [
       "       Amount_Month  Overdue_count\n",
       "19412        215700              0\n",
       "19413        215700              0\n",
       "19773        215700              0\n",
       "19774        215700              0\n",
       "28147        215700              0\n",
       "...             ...            ...\n",
       "51277         54603              0\n",
       "51280         54603              0\n",
       "51284         54603              0\n",
       "51290         54603              0\n",
       "42145         54603              1\n",
       "\n",
       "[51301 rows x 2 columns]"
      ]
     },
     "execution_count": 22,
     "metadata": {},
     "output_type": "execute_result"
    }
   ],
   "source": [
    "d_ao = df1.sort_values(by=['Amount_Month','Overdue_count'],\n",
    "               ascending=[0,1])[['Amount_Month','Overdue_count']] # 2개 항목만 볼 수 있따.\n",
    "d_ao\n",
    "# d_ao.to_excel('result_young.xlsx')"
   ]
  },
  {
   "cell_type": "markdown",
   "id": "705f7018-3ab2-418a-aa05-101fe7f0f315",
   "metadata": {},
   "source": [
    "## 8. 본사에서 매출관리를 위해 연체가 높은 고객들을 확인하여 관리하고자 한다. 연체건수가 높은 순서대로 정렬하고, 상위 100명의 고객의 연령(Age)의 최대값과 최소값을 확인, 신용등급(Credit_Rank)의 평균을 계산 "
   ]
  },
  {
   "cell_type": "code",
   "execution_count": 124,
   "id": "52c43431-a39b-4d76-b39b-143f98a88232",
   "metadata": {},
   "outputs": [
    {
     "name": "stdout",
     "output_type": "stream",
     "text": [
      "가장 많은 나이 : 85.0, 가장 적은 나이 : 26.0, 신용등급의 평균 : 5.07\n"
     ]
    }
   ],
   "source": [
    "do = df1.sort_values(by='Overdue_count',ascending=0).head(100)\n",
    "do_c = do['Credit_Rank'].values\n",
    "do_c = np.nan_to_num(do_c) # 결측치 0으로 처리\n",
    "\n",
    "do_c_mean = np.sum(do_c)/len(do_c)\n",
    "\n",
    "do_a_max = do['Age'].max()\n",
    "do_a_min = do['Age'].min()\n",
    "\n",
    "print(f\"가장 많은 나이 : {do_a_max}, 가장 적은 나이 : {do_a_min}, 신용등급의 평균 : {do_c_mean}\")"
   ]
  },
  {
   "cell_type": "code",
   "execution_count": 23,
   "id": "8cc49c87-30ad-4b2b-9b12-6969cfb372d9",
   "metadata": {},
   "outputs": [
    {
     "data": {
      "text/plain": [
       "6.945205479452055"
      ]
     },
     "execution_count": 23,
     "metadata": {},
     "output_type": "execute_result"
    }
   ],
   "source": [
    "do = df1.sort_values(by='Overdue_count',ascending=0).head(100)\n",
    "do_a_max = do['Age'].max()\n",
    "do_a_min = do['Age'].min()\n",
    "\n",
    "# 평균\n",
    "do['Credit_Rank'].mean() # 벨류가져와서 넘파이 연산할 필요 없음 이미 연산 지원해줌 시리즈 형태니까 넘파이 형태임"
   ]
  },
  {
   "cell_type": "markdown",
   "id": "45fc7df7-22a4-4299-aafe-27ed3e525e36",
   "metadata": {},
   "source": [
    "## 9. 매출관리 부서 A씨는 매주 해당 데이터를 받아 계약금액이 높은 1000개의 계약명단의 평균값을 계산하고 있다. 이 업무를 자동화 하기 위해, 월랜탈비용이 높은 1000갸의 데이터를 추출하여, 해당 데이터의 월랜탈비용의 평균을 계산하는 함수를 만드시오. "
   ]
  },
  {
   "cell_type": "code",
   "execution_count": 25,
   "id": "f6d81ad7-8ef9-48a1-b4bb-710fe3d1463e",
   "metadata": {},
   "outputs": [
    {
     "name": "stdin",
     "output_type": "stream",
     "text": [
      "csv파일 이름 입력하세요 01_Data.csv\n"
     ]
    },
    {
     "name": "stdout",
     "output_type": "stream",
     "text": [
      "104109.0\n"
     ]
    }
   ],
   "source": [
    "def get_mean():\n",
    "    \n",
    "    data = input('csv파일 이름 입력하세요')\n",
    "    df = pd.read_csv(data)\n",
    "    \n",
    "    df_acc = df.sort_values(by='Amount_Month',ascending=0).head(1000)\n",
    "    # acc_val = do['Amount_Month'].values\n",
    "    # acc_mean = np.sum(acc_val)/len(acc_val) # 이거 결과값이 다름 뭔가 이상함\n",
    "    acc_mean = df_acc['Amount_Month'].mean()\n",
    "    \n",
    "    return acc_mean\n",
    "    \n",
    "mean = get_mean()\n",
    "print(mean)"
   ]
  }
 ],
 "metadata": {
  "kernelspec": {
   "display_name": "Python 3 (ipykernel)",
   "language": "python",
   "name": "python3"
  },
  "language_info": {
   "codemirror_mode": {
    "name": "ipython",
    "version": 3
   },
   "file_extension": ".py",
   "mimetype": "text/x-python",
   "name": "python",
   "nbconvert_exporter": "python",
   "pygments_lexer": "ipython3",
   "version": "3.11.7"
  }
 },
 "nbformat": 4,
 "nbformat_minor": 5
}
