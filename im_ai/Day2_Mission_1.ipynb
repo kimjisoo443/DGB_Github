{
 "cells": [
  {
   "cell_type": "markdown",
   "id": "2c27da38-82b0-4c2f-8295-bd6dd1045b8c",
   "metadata": {},
   "source": [
    "# Day2 오전미션\n",
    "- 아래의 미션을 Jupyter Notebook으로 푼 후 [File] - [Download as] - [HTML] 저장 제출\n",
    "- birdland1903@gmail.com\n",
    "- 제출양식 : Day1_Mission_반복문_홍길동\n",
    "- 처음 풀이 시, 30분 정도 구글링이나 Chat GPT 없이 풀이"
   ]
  },
  {
   "cell_type": "markdown",
   "id": "ea9526f3-d858-4e5d-ab3c-fd1ddbad1e0c",
   "metadata": {},
   "source": [
    "## 1. 하나의 리스트를 입력받았을 때, 중복값을 제거하고 출력하는 함수를 만드시오."
   ]
  },
  {
   "cell_type": "code",
   "execution_count": 47,
   "id": "9dd43221-ecea-4370-8420-64f09eba91c5",
   "metadata": {},
   "outputs": [
    {
     "name": "stdin",
     "output_type": "stream",
     "text": [
      " 1 2 2 3\n"
     ]
    },
    {
     "name": "stdout",
     "output_type": "stream",
     "text": [
      "입력 리스트 : [1, 2, 2, 3]\n",
      "결과 리스트 : [1, 2, 3]\n"
     ]
    },
    {
     "data": {
      "text/plain": [
       "[1, 2, 3]"
      ]
     },
     "execution_count": 47,
     "metadata": {},
     "output_type": "execute_result"
    }
   ],
   "source": [
    "def make_uniq2(arr):\n",
    "    lst = np.array(arr)\n",
    "    result = np.unique(lst)\n",
    "    result = result.tolist()\n",
    "    print(f\"입력 리스트 : {arr}\\n결과 리스트 : {result}\")\n",
    "    return result\n",
    "\n",
    "lst_input = list(map(int,input().split()))\n",
    "make_uniq2(lst_input)"
   ]
  },
  {
   "cell_type": "code",
   "execution_count": 3,
   "id": "66298f9f-b926-482c-879d-56b39abdf3ef",
   "metadata": {},
   "outputs": [
    {
     "name": "stdin",
     "output_type": "stream",
     "text": [
      " 1 1 2 3 \n"
     ]
    },
    {
     "name": "stdout",
     "output_type": "stream",
     "text": [
      "입력 리스트 : [1, 1, 2, 3]\n",
      " 결과 리스트 : [1, 2, 3]\n"
     ]
    }
   ],
   "source": [
    "# set으로 풀기\n",
    "def make_uniq(lst):\n",
    "    lst = set(lst)\n",
    "    lst = list(lst)\n",
    "    return lst\n",
    "\n",
    "lst_input = list(map(int,input().split()))\n",
    "print(f\"입력 리스트 : {lst_input}\\n 결과 리스트 : {make_uniq(lst_input)}\")"
   ]
  },
  {
   "cell_type": "markdown",
   "id": "df9a4300-2328-4052-8e60-8944eaa86d30",
   "metadata": {},
   "source": [
    "## 2. 입력받은 튜플을 오름차순으로 정렬하는 함수를 만드시오."
   ]
  },
  {
   "cell_type": "code",
   "execution_count": 16,
   "id": "ea04e2d5-bbde-460a-8b01-238d85896a2f",
   "metadata": {},
   "outputs": [
    {
     "name": "stdin",
     "output_type": "stream",
     "text": [
      " 3 2 1\n"
     ]
    },
    {
     "name": "stdout",
     "output_type": "stream",
     "text": [
      "입력 튜플 : (3, 2, 1)\n",
      " 결과 리스트 : (1, 2, 3)\n"
     ]
    }
   ],
   "source": [
    "def sort(tu):\n",
    "    arr = np.array(tu)\n",
    "    result=np.sort(arr)\n",
    "    result=tuple(result)\n",
    "    return result\n",
    "\n",
    "\n",
    "tuple_input = tuple(map(int,input().split()))\n",
    "sort(tuple_input)\n",
    "print(f\"입력 튜플 : {tuple_input}\\n 결과 리스트 : {sort(tuple_input)}\")"
   ]
  },
  {
   "cell_type": "code",
   "execution_count": 2,
   "id": "7fc61331-749e-484d-b6d4-37299596e272",
   "metadata": {},
   "outputs": [
    {
     "data": {
      "text/plain": [
       "[1, 2, 3]"
      ]
     },
     "execution_count": 2,
     "metadata": {},
     "output_type": "execute_result"
    }
   ],
   "source": [
    "# sorted 써서 튜플 정렬 바로 해도 됨\n",
    "tup = (3,2,1)\n",
    "sorted(tup)"
   ]
  },
  {
   "cell_type": "markdown",
   "id": "885e83b8-f72a-4932-a7f7-7e3bbaf56383",
   "metadata": {},
   "source": [
    "## 3. 1부터 100까지의 숫자 중 6개의 숫자를 중복없이 임의로 생성하는 함수를 만드시오."
   ]
  },
  {
   "cell_type": "code",
   "execution_count": 19,
   "id": "6208a870-494b-4d39-883f-ac8d84b809c0",
   "metadata": {},
   "outputs": [
    {
     "name": "stdout",
     "output_type": "stream",
     "text": [
      "[47 10 11 15 68 56]\n"
     ]
    }
   ],
   "source": [
    "def get_rand():\n",
    "    a = np.random.randint(1,101,6)\n",
    "    return a\n",
    "\n",
    "print(get_rand())"
   ]
  },
  {
   "cell_type": "code",
   "execution_count": 2,
   "id": "68be4834-7047-4897-8973-c7ff002a5275",
   "metadata": {},
   "outputs": [
    {
     "name": "stdout",
     "output_type": "stream",
     "text": [
      "[74, 49, 48, 27, 87, 99]\n"
     ]
    }
   ],
   "source": [
    "import random\n",
    "\n",
    "def func3():\n",
    "    result1 = []\n",
    "    while len(result1)<6: # 여기로 다시 돌아감 <반복문의 조건 판단하는 곳으로>\n",
    "        num = random.randint(1,101)\n",
    "        if num in result1: # 중복 피할려고임 프린트 결과 안나오는게 정상\n",
    "            print(\"a\")\n",
    "            continue # 만나면 밑에 코드 실행 안하는 거임\n",
    "        else:\n",
    "            result1.append(num)\n",
    "    # return result1\n",
    "    print(result1)\n",
    "\n",
    "func3()"
   ]
  },
  {
   "cell_type": "markdown",
   "id": "b3c14d38-be5e-42e8-8580-36ff835375a4",
   "metadata": {},
   "source": [
    "## 4. 숫자를 입력받아 짝/홀수를 판별하는 프로그램을 if문 없이 만드시오. "
   ]
  },
  {
   "cell_type": "code",
   "execution_count": 22,
   "id": "2f4d3215-9476-4af0-85a0-d67fa6b6b10d",
   "metadata": {},
   "outputs": [
    {
     "name": "stdin",
     "output_type": "stream",
     "text": [
      "숫자를 입력해 주세요 :  1\n"
     ]
    },
    {
     "name": "stdout",
     "output_type": "stream",
     "text": [
      "1는 홀수입니다\n"
     ]
    }
   ],
   "source": [
    "ip = int(input('숫자를 입력해 주세요 : '))\n",
    "dict = {True:'짝수',False:'홀수'}\n",
    "is_ip = ip%2==0\n",
    "val = dict[is_ip]\n",
    "\n",
    "print(f\"{ip}는 {val}입니다\")"
   ]
  },
  {
   "cell_type": "markdown",
   "id": "58891279-b2f9-41ff-b4cd-cb1273f2bf9b",
   "metadata": {},
   "source": [
    "## 5. 1부터 30의 숫자 중 홀수만 갖는 리스트를 만드시오"
   ]
  },
  {
   "cell_type": "code",
   "execution_count": 24,
   "id": "8b81d5bd-1f2b-4ba5-9fb0-1f899950a187",
   "metadata": {},
   "outputs": [
    {
     "name": "stdout",
     "output_type": "stream",
     "text": [
      "[1, 3, 5, 7, 9, 11, 13, 15, 17, 19, 21, 23, 25, 27, 29]\n"
     ]
    }
   ],
   "source": [
    "lst = []\n",
    "for x in range(1,31):\n",
    "    if x%2==0:\n",
    "        pass\n",
    "    else:\n",
    "        lst.append(x)\n",
    "\n",
    "print(lst)"
   ]
  },
  {
   "cell_type": "code",
   "execution_count": 10,
   "id": "8a73e1d6-c2e2-464b-a542-40b67b7f99b1",
   "metadata": {},
   "outputs": [
    {
     "data": {
      "text/plain": [
       "[1, 3, 5, 7, 9, 11, 13, 15, 17, 19, 21, 23, 25, 27, 29]"
      ]
     },
     "execution_count": 10,
     "metadata": {},
     "output_type": "execute_result"
    }
   ],
   "source": [
    "[x for x in range(1,31) if x%2!=0 ]"
   ]
  },
  {
   "cell_type": "code",
   "execution_count": 13,
   "id": "08f4007e-be09-4d3a-ae49-8098332e9ec7",
   "metadata": {},
   "outputs": [
    {
     "data": {
      "text/plain": [
       "array([ 1,  3,  5,  7,  9, 11, 13, 15, 17, 19, 21, 23, 25, 27, 29])"
      ]
     },
     "execution_count": 13,
     "metadata": {},
     "output_type": "execute_result"
    }
   ],
   "source": [
    "import numpy as np\n",
    "np.arange(1,30,2)"
   ]
  },
  {
   "cell_type": "markdown",
   "id": "6d152605-34b6-406a-8eaa-74e34423faa7",
   "metadata": {},
   "source": [
    "## 6. 1부터 30의 숫자 중 3의 배수이지만 4의 배수는 아닌 숫자를 출력하시오"
   ]
  },
  {
   "cell_type": "code",
   "execution_count": 25,
   "id": "2027529d-e933-4ed4-92c1-db2cb7b3d0b1",
   "metadata": {},
   "outputs": [
    {
     "name": "stdout",
     "output_type": "stream",
     "text": [
      "[3, 6, 9, 15, 18, 21, 27, 30]\n"
     ]
    }
   ],
   "source": [
    "lst = []\n",
    "for x in range(1,31):\n",
    "    if x%3==0 and x%4!=0:\n",
    "        lst.append(x)\n",
    "\n",
    "print(lst)"
   ]
  },
  {
   "cell_type": "code",
   "execution_count": 14,
   "id": "f4cbc3db-9c0e-47fa-86b9-d401b9c482f8",
   "metadata": {},
   "outputs": [
    {
     "data": {
      "text/plain": [
       "[3, 6, 9, 15, 18, 21, 27, 30]"
      ]
     },
     "execution_count": 14,
     "metadata": {},
     "output_type": "execute_result"
    }
   ],
   "source": [
    "[x for x in range(1,31) if x%3==0 and x%4!=0]"
   ]
  },
  {
   "cell_type": "markdown",
   "id": "94cc1735-0737-4444-a958-c2d7ab88b549",
   "metadata": {},
   "source": [
    "## 7. 아래 두 리스트의 중복값을 제거한 후 오름차순으로 하나의 리스트로 출력하는 함수를 만드시오\n",
    "- list1 = [100,200,500,600,700]\n",
    "- list2 = [500,600,700,800,900]"
   ]
  },
  {
   "cell_type": "code",
   "execution_count": 33,
   "id": "406e4b45-5d01-4f8e-8708-12387223f680",
   "metadata": {},
   "outputs": [
    {
     "name": "stdout",
     "output_type": "stream",
     "text": [
      "[100, 200, 800, 900]\n"
     ]
    }
   ],
   "source": [
    "ist1 = [100,200,500,600,700]\n",
    "list2 = [500,600,700,800,900]\n",
    "result = []\n",
    "\n",
    "def get_uniq_list(list1,list2):\n",
    "    for x in list1:\n",
    "        if x not in list2:\n",
    "            result.append(x)\n",
    "    for y in list2:\n",
    "        if y not in list1:\n",
    "            result.append(y)\n",
    "    result.sort()\n",
    "\n",
    "get_uniq_list(list1,list2)\n",
    "print(result)"
   ]
  },
  {
   "cell_type": "code",
   "execution_count": 18,
   "id": "277719a4-55aa-4d65-a73f-2e81949fcd57",
   "metadata": {},
   "outputs": [
    {
     "name": "stdout",
     "output_type": "stream",
     "text": [
      "[100, 200, 800, 900]\n"
     ]
    }
   ],
   "source": [
    "list1 = [100,200,500,600,700]\n",
    "list2 = [500,600,700,800,900]\n",
    "\n",
    "def get_uniq_list2(list1,list2):\n",
    "    result1 = list(set(list2) - set(list1))\n",
    "    result2 = list(set(list1) - set(list2))\n",
    "    result = result1+ result2\n",
    "    result.sort()\n",
    "    print(result)\n",
    "\n",
    "get_uniq_list2(list1,list2)"
   ]
  },
  {
   "cell_type": "code",
   "execution_count": 20,
   "id": "9b373c7a-32ba-4dec-af0d-8977d5f404e7",
   "metadata": {},
   "outputs": [
    {
     "data": {
      "text/plain": [
       "[100, 200, 500, 600, 700, 800, 900]"
      ]
     },
     "execution_count": 20,
     "metadata": {},
     "output_type": "execute_result"
    }
   ],
   "source": [
    "sorted(list(set(list1+list2)))"
   ]
  },
  {
   "cell_type": "markdown",
   "id": "c1d4e7d8-a798-4099-ae6e-dbc997b79f1a",
   "metadata": {},
   "source": [
    "## 8. 1~50 사이의 숫자를 랜덤으로 생성한 후, 숫자를 맞출 때까지 값을 입력해서 맞추는 프로그램을 생성. (업다운 게임)\n",
    "\n",
    "- 숙련자 : 시도한 횟수도 표시"
   ]
  },
  {
   "cell_type": "code",
   "execution_count": 59,
   "id": "f8fc5f8b-eabd-4e05-bf93-10f4b6083729",
   "metadata": {},
   "outputs": [
    {
     "name": "stdout",
     "output_type": "stream",
     "text": [
      "36\n",
      "숫자를 맞춰주세요\n",
      "\n"
     ]
    },
    {
     "name": "stdin",
     "output_type": "stream",
     "text": [
      " 1\n"
     ]
    },
    {
     "name": "stdout",
     "output_type": "stream",
     "text": [
      "up\n",
      "\n"
     ]
    },
    {
     "name": "stdin",
     "output_type": "stream",
     "text": [
      " 2\n"
     ]
    },
    {
     "name": "stdout",
     "output_type": "stream",
     "text": [
      "up\n",
      "\n"
     ]
    },
    {
     "name": "stdin",
     "output_type": "stream",
     "text": [
      " 36\n"
     ]
    },
    {
     "name": "stdout",
     "output_type": "stream",
     "text": [
      "\n",
      "3번 만에 맞췄습니다.\n"
     ]
    }
   ],
   "source": [
    "a = np.random.randint(1,51)\n",
    "print(a)\n",
    "count = 0\n",
    "print('숫자를 맞춰주세요\\n')\n",
    "while True:\n",
    "    ip = int(input())\n",
    "    \n",
    "    if ip==a:\n",
    "        print(f'\\n{count+1}번 만에 맞췄습니다.')\n",
    "        break\n",
    "    else:\n",
    "        count+=1\n",
    "        if ip>a:\n",
    "            print('down\\n')\n",
    "        else:\n",
    "            print('up\\n')"
   ]
  }
 ],
 "metadata": {
  "kernelspec": {
   "display_name": "Python 3 (ipykernel)",
   "language": "python",
   "name": "python3"
  },
  "language_info": {
   "codemirror_mode": {
    "name": "ipython",
    "version": 3
   },
   "file_extension": ".py",
   "mimetype": "text/x-python",
   "name": "python",
   "nbconvert_exporter": "python",
   "pygments_lexer": "ipython3",
   "version": "3.11.7"
  }
 },
 "nbformat": 4,
 "nbformat_minor": 5
}
