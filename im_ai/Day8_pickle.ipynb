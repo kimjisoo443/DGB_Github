{
 "cells": [
  {
   "cell_type": "code",
   "execution_count": 1,
   "id": "71c4d4e3-a04b-4483-a078-26219f99fe95",
   "metadata": {},
   "outputs": [],
   "source": [
    "import pickle\n",
    "import pandas as pd"
   ]
  },
  {
   "cell_type": "code",
   "execution_count": 3,
   "id": "1e4225e2-3cf8-46d6-a8db-195b3f9c18ff",
   "metadata": {},
   "outputs": [],
   "source": [
    "# 불러오기\n",
    "model = pickle.load(open ('model.sav','rb'))"
   ]
  },
  {
   "cell_type": "code",
   "execution_count": 4,
   "id": "479508ce-1b10-40f3-946f-7b207926eb59",
   "metadata": {},
   "outputs": [
    {
     "name": "stdin",
     "output_type": "stream",
     "text": [
      "Term 12\n",
      "Amount_Month 100000\n",
      "Age 45\n",
      "Credit_Rank 3\n"
     ]
    }
   ],
   "source": [
    "# 새로운 값 입력\n",
    "x1 = input('Term')\n",
    "x2 = input('Amount_Month')\n",
    "x3 = input('Age')\n",
    "x4 = input('Credit_Rank')\n",
    "\n",
    "input_data = [x1,x2,x3,x4]"
   ]
  },
  {
   "cell_type": "code",
   "execution_count": 5,
   "id": "c87537e5-f516-4179-b887-ec484c8d12a1",
   "metadata": {},
   "outputs": [],
   "source": [
    "# 입력받은 정보를 가지고 이사람이 해약할지 안할지 예측"
   ]
  },
  {
   "cell_type": "code",
   "execution_count": 6,
   "id": "5c13a7d3-4a1c-4ce3-8f8f-3b13806c8572",
   "metadata": {},
   "outputs": [],
   "source": [
    "input_df = pd.DataFrame(data = [input_data])\n",
    "# 리스트 안하면 세로로 들어감"
   ]
  },
  {
   "cell_type": "code",
   "execution_count": 7,
   "id": "9d645fa3-f9cb-47b9-acb0-b65f129998dc",
   "metadata": {},
   "outputs": [
    {
     "data": {
      "text/html": [
       "<div>\n",
       "<style scoped>\n",
       "    .dataframe tbody tr th:only-of-type {\n",
       "        vertical-align: middle;\n",
       "    }\n",
       "\n",
       "    .dataframe tbody tr th {\n",
       "        vertical-align: top;\n",
       "    }\n",
       "\n",
       "    .dataframe thead th {\n",
       "        text-align: right;\n",
       "    }\n",
       "</style>\n",
       "<table border=\"1\" class=\"dataframe\">\n",
       "  <thead>\n",
       "    <tr style=\"text-align: right;\">\n",
       "      <th></th>\n",
       "      <th>0</th>\n",
       "      <th>1</th>\n",
       "      <th>2</th>\n",
       "      <th>3</th>\n",
       "    </tr>\n",
       "  </thead>\n",
       "  <tbody>\n",
       "    <tr>\n",
       "      <th>0</th>\n",
       "      <td>12</td>\n",
       "      <td>100000</td>\n",
       "      <td>45</td>\n",
       "      <td>3</td>\n",
       "    </tr>\n",
       "  </tbody>\n",
       "</table>\n",
       "</div>"
      ],
      "text/plain": [
       "    0       1   2  3\n",
       "0  12  100000  45  3"
      ]
     },
     "execution_count": 7,
     "metadata": {},
     "output_type": "execute_result"
    }
   ],
   "source": [
    "input_df"
   ]
  },
  {
   "cell_type": "code",
   "execution_count": 8,
   "id": "7aa2eb66-cd68-4d8b-8e7f-18b7594b96df",
   "metadata": {},
   "outputs": [
    {
     "name": "stderr",
     "output_type": "stream",
     "text": [
      "C:\\Users\\campus4D039\\anaconda3\\Lib\\site-packages\\sklearn\\base.py:439: UserWarning: X does not have valid feature names, but DecisionTreeClassifier was fitted with feature names\n",
      "  warnings.warn(\n"
     ]
    },
    {
     "data": {
      "text/plain": [
       "array([0], dtype=int64)"
      ]
     },
     "execution_count": 8,
     "metadata": {},
     "output_type": "execute_result"
    }
   ],
   "source": [
    "# 예측 \n",
    "model.predict(input_df)"
   ]
  },
  {
   "cell_type": "code",
   "execution_count": 9,
   "id": "fa1612ab-b878-46e6-9c99-1b55fd6d4ace",
   "metadata": {},
   "outputs": [],
   "source": [
    "# 예측결과\n",
    "# array([0], dtype=int64) -> 0이 나올 것이다 해약x"
   ]
  },
  {
   "cell_type": "code",
   "execution_count": 10,
   "id": "9216b84b-6216-4447-9637-7ab6117ec5a4",
   "metadata": {},
   "outputs": [],
   "source": [
    "input_df2 = pd.DataFrame(data= [input_data], \n",
    "                        columns = ['Term','Amount_Month','Age','Credit_Rank'])\n",
    "# 이렇게 하면 경고가 안나옴"
   ]
  },
  {
   "cell_type": "code",
   "execution_count": 11,
   "id": "f5f1d18e-4fd7-478f-a1cb-728ea4bc4904",
   "metadata": {
    "scrolled": true
   },
   "outputs": [
    {
     "data": {
      "text/plain": [
       "array([0], dtype=int64)"
      ]
     },
     "execution_count": 11,
     "metadata": {},
     "output_type": "execute_result"
    }
   ],
   "source": [
    "model.predict(input_df2)"
   ]
  },
  {
   "cell_type": "code",
   "execution_count": 17,
   "id": "53f62f3e-220f-4ce2-97c5-83efdcc77ee8",
   "metadata": {},
   "outputs": [
    {
     "data": {
      "text/plain": [
       "'이름'"
      ]
     },
     "execution_count": 17,
     "metadata": {},
     "output_type": "execute_result"
    }
   ],
   "source": [
    "a ='이름 국어 영어 수학'\n",
    "a = a.split()\n",
    "name = a[0]\n",
    "name"
   ]
  },
  {
   "cell_type": "code",
   "execution_count": null,
   "id": "bfac0ba9-4aee-4ba3-a3c3-c2ad4eb42c0c",
   "metadata": {},
   "outputs": [],
   "source": []
  },
  {
   "cell_type": "code",
   "execution_count": null,
   "id": "9f3f69cd-7ab1-44cc-bc26-f604a60a5ae5",
   "metadata": {},
   "outputs": [],
   "source": []
  },
  {
   "cell_type": "code",
   "execution_count": null,
   "id": "aa786522-ed30-4c2a-b4c6-6d2027092239",
   "metadata": {},
   "outputs": [],
   "source": []
  },
  {
   "cell_type": "code",
   "execution_count": null,
   "id": "11b705fe-cff4-4467-86d6-b95eef649f7e",
   "metadata": {},
   "outputs": [],
   "source": []
  }
 ],
 "metadata": {
  "kernelspec": {
   "display_name": "Python 3 (ipykernel)",
   "language": "python",
   "name": "python3"
  },
  "language_info": {
   "codemirror_mode": {
    "name": "ipython",
    "version": 3
   },
   "file_extension": ".py",
   "mimetype": "text/x-python",
   "name": "python",
   "nbconvert_exporter": "python",
   "pygments_lexer": "ipython3",
   "version": "3.11.7"
  }
 },
 "nbformat": 4,
 "nbformat_minor": 5
}
