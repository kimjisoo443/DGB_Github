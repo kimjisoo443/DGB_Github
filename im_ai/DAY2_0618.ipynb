{
 "cells": [
  {
   "cell_type": "markdown",
   "id": "97003ad8-5398-45fc-b017-50529b4058db",
   "metadata": {},
   "source": [
    "# 복습"
   ]
  },
  {
   "cell_type": "markdown",
   "id": "f40ede20-0d5c-499b-8442-f643c4157231",
   "metadata": {
    "jp-MarkdownHeadingCollapsed": true
   },
   "source": [
    "## 주피터 노트북 사용법\n",
    "\n",
    "cell : 코드 실행하는 하나의 작은 상자\n",
    "\n",
    "단축키\n",
    "- [shift] + [enter] : 셀 실행\n",
    "- [alt] + [enter] : 하단에 셀 추가하며 셀 실행\n",
    "- [esc] + [m] : 마크다운\n",
    "- [esc] + [y] : 코드모드\n",
    "- [ctrl] + [/] : 주석모드"
   ]
  },
  {
   "cell_type": "markdown",
   "id": "1648bd25-164c-47e7-baf4-655d2907860e",
   "metadata": {
    "jp-MarkdownHeadingCollapsed": true
   },
   "source": [
    "## 파이썬 기초 문법\n",
    "- 변수 : 데이터 담는 상자"
   ]
  },
  {
   "cell_type": "markdown",
   "id": "a49563f8-efe2-4198-a9c2-ba9587e226bf",
   "metadata": {},
   "source": [
    "## 자료구조\n",
    "- 리스트 : []\n",
    "- 튜플 : ()\n",
    "- 세트 : {}\n",
    "- 딕셔너리 : {키 : 벨류, 키2 : 벨류2, ...}"
   ]
  },
  {
   "cell_type": "code",
   "execution_count": 24,
   "id": "4b74bb9c-7d02-40f2-8905-5aef46060d98",
   "metadata": {},
   "outputs": [
    {
     "data": {
      "text/plain": [
       "{'이름': '홍길동', '나이': 25}"
      ]
     },
     "execution_count": 24,
     "metadata": {},
     "output_type": "execute_result"
    }
   ],
   "source": [
    "dict1 = {'이름':'홍길동','나이':25}\n",
    "dict1"
   ]
  },
  {
   "cell_type": "code",
   "execution_count": 3,
   "id": "ffff17a2-dad8-4525-9663-15d88ab73173",
   "metadata": {},
   "outputs": [
    {
     "data": {
      "text/plain": [
       "'홍길동'"
      ]
     },
     "execution_count": 3,
     "metadata": {},
     "output_type": "execute_result"
    }
   ],
   "source": [
    "dict1['이름']"
   ]
  },
  {
   "cell_type": "code",
   "execution_count": 4,
   "id": "b4bddf60-fcfc-441b-a771-12a2c23b5b5b",
   "metadata": {},
   "outputs": [
    {
     "name": "stdin",
     "output_type": "stream",
     "text": [
      " 45\n"
     ]
    },
    {
     "data": {
      "text/plain": [
       "'45'"
      ]
     },
     "execution_count": 4,
     "metadata": {},
     "output_type": "execute_result"
    }
   ],
   "source": [
    "input1 = input()\n",
    "input1"
   ]
  },
  {
   "cell_type": "code",
   "execution_count": 5,
   "id": "2648433f-6ef7-4200-b7e6-a6de2fb09458",
   "metadata": {},
   "outputs": [
    {
     "data": {
      "text/plain": [
       "str"
      ]
     },
     "execution_count": 5,
     "metadata": {},
     "output_type": "execute_result"
    }
   ],
   "source": [
    "type(input1) #기본적으로 스트링 형태로 받는다"
   ]
  },
  {
   "cell_type": "code",
   "execution_count": 6,
   "id": "6ab1f881-eacf-49c9-bcab-47aba85dc4b5",
   "metadata": {},
   "outputs": [
    {
     "name": "stdin",
     "output_type": "stream",
     "text": [
      "숫자를 입력하시오 34\n"
     ]
    },
    {
     "data": {
      "text/plain": [
       "int"
      ]
     },
     "execution_count": 6,
     "metadata": {},
     "output_type": "execute_result"
    }
   ],
   "source": [
    "input2 = int(input('숫자를 입력하시오'))\n",
    "type(input2)"
   ]
  },
  {
   "cell_type": "markdown",
   "id": "6218bbd5-42eb-47aa-8e46-c2e68315601d",
   "metadata": {},
   "source": [
    "## 조건문\n",
    "- if / else/ elif\n",
    "- in / not in\n",
    "- pass"
   ]
  },
  {
   "cell_type": "code",
   "execution_count": 7,
   "id": "8f745963-6910-4197-9491-70b992252a1c",
   "metadata": {},
   "outputs": [
    {
     "name": "stdin",
     "output_type": "stream",
     "text": [
      " 50\n"
     ]
    },
    {
     "name": "stdout",
     "output_type": "stream",
     "text": [
      "30보다 큽니다\n"
     ]
    }
   ],
   "source": [
    "data1 = int(input())\n",
    "if data1 > 20:\n",
    "    print('30보다 큽니다')\n",
    "else:\n",
    "    print('30보다 작습니다')"
   ]
  },
  {
   "cell_type": "code",
   "execution_count": 9,
   "id": "bdcaed63-10b2-4702-a3ec-316bf87cb43c",
   "metadata": {},
   "outputs": [
    {
     "name": "stdout",
     "output_type": "stream",
     "text": [
      "1\n",
      "2\n",
      "3\n",
      "4\n",
      "5\n",
      "6\n",
      "7\n",
      "8\n",
      "9\n",
      "10\n"
     ]
    }
   ],
   "source": [
    "data1 = 0\n",
    "while data1 < 10:\n",
    "    data1 = data1 + 1\n",
    "    print(data1)"
   ]
  },
  {
   "cell_type": "code",
   "execution_count": 10,
   "id": "d20a58f3-e4fc-41fb-be7e-f73f0f11c634",
   "metadata": {},
   "outputs": [
    {
     "name": "stdout",
     "output_type": "stream",
     "text": [
      "a\n",
      "b\n",
      "c\n"
     ]
    }
   ],
   "source": [
    "for i in ['a','b','c']:\n",
    "    print(i)"
   ]
  },
  {
   "cell_type": "code",
   "execution_count": 11,
   "id": "25298463-bd49-41a6-ad51-3edf34f1804c",
   "metadata": {},
   "outputs": [
    {
     "data": {
      "text/plain": [
       "[0, 1, 2, 3, 4, 5]"
      ]
     },
     "execution_count": 11,
     "metadata": {},
     "output_type": "execute_result"
    }
   ],
   "source": [
    "# 리스트 컴프리헨션\n",
    "[x for x in range(6)]"
   ]
  },
  {
   "cell_type": "code",
   "execution_count": 13,
   "id": "8560a1a9-0dea-4f0a-bd9c-fa366f8b0bcc",
   "metadata": {},
   "outputs": [
    {
     "name": "stdout",
     "output_type": "stream",
     "text": [
      "0 1 2 3 4 5 "
     ]
    }
   ],
   "source": [
    "# 똑같은 코드\n",
    "for i in range(6):\n",
    "    print(i,end=' ')"
   ]
  },
  {
   "cell_type": "markdown",
   "id": "0043cdbb-9bbf-4c79-bee0-68d894778a23",
   "metadata": {
    "jp-MarkdownHeadingCollapsed": true
   },
   "source": [
    "## 함수\n",
    "- def\n",
    "- return"
   ]
  },
  {
   "cell_type": "code",
   "execution_count": 14,
   "id": "a7870b4d-1cd0-4f5a-8dcb-6df3c5b06ad8",
   "metadata": {},
   "outputs": [
    {
     "data": {
      "text/plain": [
       "202"
      ]
     },
     "execution_count": 14,
     "metadata": {},
     "output_type": "execute_result"
    }
   ],
   "source": [
    "def func1(x):\n",
    "    return x+200\n",
    "func1(2)"
   ]
  },
  {
   "cell_type": "code",
   "execution_count": 15,
   "id": "4eb76ece-cc64-4169-a39e-d0795a80f2ca",
   "metadata": {},
   "outputs": [],
   "source": [
    "def func2(x1,x2,cond1=True):\n",
    "    if cond1 == True:\n",
    "        return x1+x2\n",
    "    else:\n",
    "        return x1-x2"
   ]
  },
  {
   "cell_type": "code",
   "execution_count": 17,
   "id": "4eaa2a32-79f8-4273-8426-3db1d98089a2",
   "metadata": {},
   "outputs": [
    {
     "data": {
      "text/plain": [
       "-100"
      ]
     },
     "execution_count": 17,
     "metadata": {},
     "output_type": "execute_result"
    }
   ],
   "source": [
    "func2(100,200,-1)"
   ]
  },
  {
   "cell_type": "markdown",
   "id": "f819f36e-6f54-4a3f-b382-5179732d76e3",
   "metadata": {},
   "source": [
    "## 예외처리\n",
    "- try : 시도 코드\n",
    "- except : 에러난 경우 실행\n",
    "- finally : 에러 상관 없이 최종 실행"
   ]
  },
  {
   "cell_type": "code",
   "execution_count": 23,
   "id": "630aad7d-1a7c-46da-959a-15e7d8a08c31",
   "metadata": {},
   "outputs": [
    {
     "name": "stdout",
     "output_type": "stream",
     "text": [
      "error :  list.remove(x): x not in list\n",
      "[]\n",
      "done\n"
     ]
    }
   ],
   "source": [
    "try:\n",
    "    data1 = []\n",
    "    for i in range(1,6):\n",
    "        data1.remove(1)\n",
    "        data1.append(i)\n",
    "    print('no error')\n",
    "except Exception as e:\n",
    "    print('error : ', e)\n",
    "finally:\n",
    "    print(data1)\n",
    "    print('done')"
   ]
  },
  {
   "cell_type": "markdown",
   "id": "dc76fc8b-1d5f-4eb5-8aa1-13b0271522f8",
   "metadata": {},
   "source": [
    "# 미션풀이"
   ]
  },
  {
   "cell_type": "markdown",
   "id": "2d1d1c94-4abb-4af7-a740-583c11464315",
   "metadata": {},
   "source": [
    "## 1. for 반복문으로 특정 리스트 내의 모든 숫자 합을 계산하는 함수를 구성하시오\n",
    "\n",
    "- 숙련자 : input 함수를 이용하고, 함수로 구성"
   ]
  },
  {
   "cell_type": "code",
   "execution_count": 27,
   "id": "48ebc630-31cf-42fb-8bf9-e12bb4c26840",
   "metadata": {},
   "outputs": [
    {
     "name": "stdout",
     "output_type": "stream",
     "text": [
      "5050\n"
     ]
    }
   ],
   "source": [
    "lst = [x for x in range(101)]\n",
    "sum = 0\n",
    "\n",
    "for i in lst:\n",
    "    sum += i\n",
    "print(sum)"
   ]
  },
  {
   "cell_type": "code",
   "execution_count": 36,
   "id": "19a0d0fe-2b95-492f-9195-392ab27228c7",
   "metadata": {},
   "outputs": [
    {
     "name": "stdin",
     "output_type": "stream",
     "text": [
      " 1 2 3 4 5\n"
     ]
    },
    {
     "data": {
      "text/plain": [
       "['1', '2', '3', '4', '5']"
      ]
     },
     "execution_count": 36,
     "metadata": {},
     "output_type": "execute_result"
    }
   ],
   "source": [
    "input_number = input()\n",
    "input_lst = input_number.split()\n",
    "input_lst"
   ]
  },
  {
   "cell_type": "code",
   "execution_count": 37,
   "id": "4d68ff76-4b03-413b-90b7-15313665701e",
   "metadata": {},
   "outputs": [],
   "source": [
    "lst2 =[int(x) for x in input_lst]"
   ]
  },
  {
   "cell_type": "code",
   "execution_count": 38,
   "id": "b736b2aa-7bdd-43c5-b47f-fd90bd9e0369",
   "metadata": {},
   "outputs": [],
   "source": [
    "def sum_lst(lst):\n",
    "    sum = 0\n",
    "    for i in range(len(lst)):\n",
    "        sum += lst[i]\n",
    "    return sum"
   ]
  },
  {
   "cell_type": "code",
   "execution_count": 39,
   "id": "6956cb30-a7ee-4028-98ef-bb748c327186",
   "metadata": {},
   "outputs": [
    {
     "data": {
      "text/plain": [
       "15"
      ]
     },
     "execution_count": 39,
     "metadata": {},
     "output_type": "execute_result"
    }
   ],
   "source": [
    "sum_lst(lst2)"
   ]
  },
  {
   "cell_type": "markdown",
   "id": "c763246d-bea4-4733-b11e-60cc08377c29",
   "metadata": {},
   "source": [
    "## 2. for 반복문으로 특정 리스트 안에 있는 모든 숫자의 평균을 계산하는 함수를 구성하시오\n",
    "- 숙련자 : input 함수를 이용하고 함수로 구성"
   ]
  },
  {
   "cell_type": "code",
   "execution_count": 46,
   "id": "6cc4e616-db04-494b-b0e2-52344ea84882",
   "metadata": {},
   "outputs": [
    {
     "data": {
      "text/plain": [
       "50.0"
      ]
     },
     "execution_count": 46,
     "metadata": {},
     "output_type": "execute_result"
    }
   ],
   "source": [
    "lst = [x for x in range(101)]\n",
    "sum_lst(lst)/len(lst)"
   ]
  },
  {
   "cell_type": "code",
   "execution_count": 48,
   "id": "101ae91f-d488-4fe1-85ab-d05aa992ba38",
   "metadata": {},
   "outputs": [
    {
     "name": "stdin",
     "output_type": "stream",
     "text": [
      " 1 2 3\n"
     ]
    },
    {
     "name": "stdout",
     "output_type": "stream",
     "text": [
      "2.0\n"
     ]
    }
   ],
   "source": [
    "input_number = input()\n",
    "lst1 = input_number.split()\n",
    "lst2 = [int(x) for x in lst1]\n",
    "\n",
    "print(sum_lst(lst2) / len(lst2))"
   ]
  },
  {
   "cell_type": "markdown",
   "id": "bb04cb36-d3df-42d5-ad34-5b05ab784b2d",
   "metadata": {},
   "source": [
    "## 3. 성적처리 함수를 만들고자 한다.\n",
    "- 학생이 입력한 값의 평균을 계산해서 90점 이상이면 A / 80점 이상이면 B / 70점 이상이면 C / 나머지는 D 를 출력하는 함수를 구성\n",
    "    - 입력값 (input) / 5개의 숫자 값을 입력 / 띄어쓰기로 구분하여 입력\n",
    "    - 입력값에 학생이름도 포함\n",
    "        - ex) 홍길동 100 90 54 90 34\n",
    "    - 출력 : 홍길동 학생의 평균은 00 입니다. 학점은 00입니다."
   ]
  },
  {
   "cell_type": "code",
   "execution_count": 52,
   "id": "88d4e4b8-548b-4f2b-a722-c8291734d8da",
   "metadata": {},
   "outputs": [
    {
     "name": "stdin",
     "output_type": "stream",
     "text": [
      "이름과 성적 5개를 입력하시오 :  김지수 40 50 80 90 100\n"
     ]
    },
    {
     "name": "stdout",
     "output_type": "stream",
     "text": [
      "김지수학생의 평균은 72.0 입니다. 학점은 C입니다.\n"
     ]
    }
   ],
   "source": [
    "input_data = input('이름과 성적 5개를 입력하시오 : ')\n",
    "input_lst = input_data.split()\n",
    "\n",
    "name = input_lst[0]\n",
    "scores = input_lst[1:] \n",
    "\n",
    "scores = [int(x) for x in scores]\n",
    "\n",
    "avg = sum_lst(scores) / len(scores)\n",
    "\n",
    "if avg>=90:\n",
    "    score = \"A\"\n",
    "elif avg>=80:\n",
    "    score = \"B\"\n",
    "elif avg>=70:\n",
    "    score = \"C\"\n",
    "else:\n",
    "    score = \"D\"\n",
    "\n",
    "print(f\"{name}학생의 평균은 {avg} 입니다. 학점은 {score}입니다.\")"
   ]
  },
  {
   "cell_type": "markdown",
   "id": "ab0c7b99-8ccb-4346-950d-016876b16508",
   "metadata": {},
   "source": [
    "## 2. for 반복문으로 특정 리스트 안에 있는 모든 숫자의 평균을 계산하는 함수를 구성하시오\n",
    "- 숙련자 : input 함수를 이용하고 함수로 구성"
   ]
  },
  {
   "cell_type": "code",
   "execution_count": 54,
   "id": "cb04d6af-1a93-4db2-b0c9-1479abd61b66",
   "metadata": {},
   "outputs": [
    {
     "name": "stdin",
     "output_type": "stream",
     "text": [
      "년도를 입력하시오  2020\n"
     ]
    },
    {
     "name": "stdout",
     "output_type": "stream",
     "text": [
      "2020은 윤년입니다\n"
     ]
    }
   ],
   "source": [
    "input_year = int(input('년도를 입력하시오 '))\n",
    "if ((input_year%4==0)&(input_year%100!=0)) | (input_year%400==0):\n",
    "    info = '윤년'\n",
    "else:\n",
    "    info = '평년'\n",
    "print(f\"{input_year}은 {info}입니다\")"
   ]
  },
  {
   "cell_type": "code",
   "execution_count": 56,
   "id": "256a93be-afa2-488c-991f-e9af9b83678d",
   "metadata": {},
   "outputs": [
    {
     "name": "stdin",
     "output_type": "stream",
     "text": [
      "연도를 입력하시오 2030\n"
     ]
    },
    {
     "name": "stdout",
     "output_type": "stream",
     "text": [
      "2030은 평년입니다\n"
     ]
    }
   ],
   "source": [
    "input_year = int(input(\"연도를 입력하시오\"))\n",
    "dict1 = {True:'윤년',False :'평년'}\n",
    "bool1 = (input_year%4==0 and input_year%100!=0) or input_year%400==0 # bool\n",
    "info = dict1[bool1]\n",
    "\n",
    "print(f\"{input_year}은 {info}입니다\")"
   ]
  },
  {
   "cell_type": "markdown",
   "id": "18a71a78-408b-422f-9be3-046467e22c22",
   "metadata": {
    "jp-MarkdownHeadingCollapsed": true
   },
   "source": [
    "## numpy\n",
    "- 정형데이터의 기본이 되는 형태\n",
    "- 초기 데이터 분석에 많이 쓰였지만, 지금은 비정형 데이터에 주로 쓰인다."
   ]
  },
  {
   "cell_type": "markdown",
   "id": "7cf577ff-e165-44af-a988-d9e8b0924516",
   "metadata": {},
   "source": [
    "# 데이터 분석 라이브러리\n",
    "- numpy(numeric + python) : 연속형, 수치형 자료의 과학/통계/수학 연산을 수행하는 라이브러리, 고차원 배열 다룰 수 있음.\n",
    "  딥러닝, 비정형 데이터를 다루는데 많이 쓰임\n",
    "\n",
    "- pandas(panel + dataset) : 정형데이터 (exel, csv, rdb, sql, .... )를 다루는 라이브러리\n",
    "\n",
    "- matplot(matlab + plot) : 요즘은 많이 안 씀, 연속형 데이터 그래프 시각화 라이브러리\n",
    "\n",
    "#### 요즘 많이 쓰는 시각화 라이브러리\n",
    "- seaborn : 정형데이터 통계분석 시각화 라이브러리\n",
    "- plotly : 정형데이터 동적 시각화 라이브러리\n",
    "- missingno : 결측치 패턴, 수 시각화 라이브러리\n",
    "- scipy(science + python) : 응용통계(가설검정/회귀분석/시계열/...) 라이브러리\n",
    "\n",
    "- scikit-learn(science + python + toolkit + learning) : 정형 데이터를 이용한 데이터 마이닝, 머신러닝 라이블러리\n",
    "\n",
    "#### 딥러닝 라이브러리\n",
    "- tensorflow : 비정형 데이터 라이브러리\n",
    "- keras : tensorflow 기반 딥러닝 학습 라이브러리\n",
    "- pytorch : 비정형 데이터 관련 라이브러리\n",
    "- konlpy(korean natural language processiong pyhton) : 한국어 자연어 처리 라이브러리"
   ]
  },
  {
   "cell_type": "code",
   "execution_count": 60,
   "id": "e83ee7f1-bbde-46a2-9664-2f3c4619a537",
   "metadata": {
    "scrolled": true
   },
   "outputs": [],
   "source": [
    "import numpy as np\n",
    "\n",
    "lst1 = [1,3,5]\n",
    "# list1.mean() # 오류 : 리스트의 계산은 할 수 없음"
   ]
  },
  {
   "cell_type": "code",
   "execution_count": 61,
   "id": "fe6ef227-94af-4464-b90e-b04e5a97e87e",
   "metadata": {},
   "outputs": [
    {
     "data": {
      "text/plain": [
       "numpy.ndarray"
      ]
     },
     "execution_count": 61,
     "metadata": {},
     "output_type": "execute_result"
    }
   ],
   "source": [
    "data1 = np.array([1,2,3]) # 넘파이 형태로 지정하면 계산 쉽게 할 수 있다.\n",
    "type(data1)"
   ]
  },
  {
   "cell_type": "code",
   "execution_count": 63,
   "id": "565d4c05-bead-4bf9-81e6-cc3e37be8eb6",
   "metadata": {},
   "outputs": [
    {
     "data": {
      "text/plain": [
       "2.0"
      ]
     },
     "execution_count": 63,
     "metadata": {},
     "output_type": "execute_result"
    }
   ],
   "source": [
    "data1.mean() # 넘파이는 수치 연산 바로 된다 "
   ]
  },
  {
   "cell_type": "code",
   "execution_count": 64,
   "id": "e76ad319-7e85-48a8-838e-96ca2818127c",
   "metadata": {},
   "outputs": [
    {
     "data": {
      "text/plain": [
       "3"
      ]
     },
     "execution_count": 64,
     "metadata": {},
     "output_type": "execute_result"
    }
   ],
   "source": [
    "data1.max()"
   ]
  },
  {
   "cell_type": "code",
   "execution_count": 65,
   "id": "a0346494-38d6-429c-9b9f-ca93df1628f3",
   "metadata": {},
   "outputs": [
    {
     "data": {
      "text/plain": [
       "[0, 1, 2, 3, 4, 5, 6, 7, 8, 9]"
      ]
     },
     "execution_count": 65,
     "metadata": {},
     "output_type": "execute_result"
    }
   ],
   "source": [
    "[x for x in range(0,10)]"
   ]
  },
  {
   "cell_type": "code",
   "execution_count": 66,
   "id": "4747c7e2-0ea1-42e5-a1dd-dca227590abc",
   "metadata": {},
   "outputs": [
    {
     "data": {
      "text/plain": [
       "array([0, 1, 2, 3, 4, 5, 6, 7, 8, 9])"
      ]
     },
     "execution_count": 66,
     "metadata": {},
     "output_type": "execute_result"
    }
   ],
   "source": [
    "np.arange(10) # range랑 비슷함"
   ]
  },
  {
   "cell_type": "code",
   "execution_count": 67,
   "id": "8a989154-b988-49f6-a94b-2af7f1bad5cf",
   "metadata": {},
   "outputs": [
    {
     "data": {
      "text/plain": [
       "array([ 1,  4,  7, 10, 13, 16, 19])"
      ]
     },
     "execution_count": 67,
     "metadata": {},
     "output_type": "execute_result"
    }
   ],
   "source": [
    "np.arange(1,20,3) "
   ]
  },
  {
   "cell_type": "code",
   "execution_count": 69,
   "id": "54f90c7a-c132-4ad5-a76e-450b9132f5a4",
   "metadata": {},
   "outputs": [
    {
     "data": {
      "text/plain": [
       "array([ 1. ,  2.5,  4. ,  5.5,  7. ,  8.5, 10. ])"
      ]
     },
     "execution_count": 69,
     "metadata": {},
     "output_type": "execute_result"
    }
   ],
   "source": [
    "np.linspace(1,10,7) # 1 - 10까지 7로 쪼개서 냄"
   ]
  },
  {
   "cell_type": "code",
   "execution_count": 70,
   "id": "9390a646-71fc-4308-8f98-9ca08ac12435",
   "metadata": {},
   "outputs": [
    {
     "data": {
      "text/plain": [
       "1"
      ]
     },
     "execution_count": 70,
     "metadata": {},
     "output_type": "execute_result"
    }
   ],
   "source": [
    "data1.ndim # 배열의 차원 수"
   ]
  },
  {
   "cell_type": "code",
   "execution_count": 1,
   "id": "61e23cf9-22e6-42df-a1cc-ad178b9acea4",
   "metadata": {},
   "outputs": [],
   "source": [
    "# 0 : scalar\n",
    "# 1 : vector\n",
    "# 2 : matrix\n",
    "# 3: tensor"
   ]
  },
  {
   "cell_type": "code",
   "execution_count": 2,
   "id": "7a5150f4-0465-4106-a659-ff0d412ed90f",
   "metadata": {},
   "outputs": [],
   "source": [
    "# 행렬 \n",
    "# 행 : 행거 - 가로\n",
    "# 열 : 열쇠 - 세로"
   ]
  },
  {
   "cell_type": "code",
   "execution_count": 3,
   "id": "b9cf6357-16ec-4835-b09f-bf24de93a36b",
   "metadata": {},
   "outputs": [
    {
     "data": {
      "text/plain": [
       "[[0, 0, 1], [0, 1, 0], [1, 0, 0]]"
      ]
     },
     "execution_count": 3,
     "metadata": {},
     "output_type": "execute_result"
    }
   ],
   "source": [
    "m1 = [ [0,0,1], [0,1,0], [1,0,0] ]\n",
    "m1"
   ]
  },
  {
   "cell_type": "code",
   "execution_count": 5,
   "id": "9343e394-f10f-414b-bb3c-b178ed6c9fb5",
   "metadata": {},
   "outputs": [
    {
     "data": {
      "text/plain": [
       "array([[0, 0, 1],\n",
       "       [0, 1, 0],\n",
       "       [1, 0, 0]])"
      ]
     },
     "execution_count": 5,
     "metadata": {},
     "output_type": "execute_result"
    }
   ],
   "source": [
    "import numpy as np \n",
    "\n",
    "data1 = np.array(m1)\n",
    "data1"
   ]
  },
  {
   "cell_type": "code",
   "execution_count": 6,
   "id": "2fcd7b92-07d4-4710-b75d-7f4c6c0aa692",
   "metadata": {},
   "outputs": [
    {
     "data": {
      "text/plain": [
       "numpy.ndarray"
      ]
     },
     "execution_count": 6,
     "metadata": {},
     "output_type": "execute_result"
    }
   ],
   "source": [
    "type(data1)"
   ]
  },
  {
   "cell_type": "code",
   "execution_count": 7,
   "id": "d97a00d3-3a32-4256-97de-dc0eb16cf4bf",
   "metadata": {},
   "outputs": [
    {
     "data": {
      "text/plain": [
       "2"
      ]
     },
     "execution_count": 7,
     "metadata": {},
     "output_type": "execute_result"
    }
   ],
   "source": [
    "data1.ndim"
   ]
  },
  {
   "cell_type": "code",
   "execution_count": 9,
   "id": "30b9b935-a893-435a-9afb-95588a771092",
   "metadata": {},
   "outputs": [
    {
     "data": {
      "text/plain": [
       "array([[ 2,  4],\n",
       "       [ 6,  8],\n",
       "       [10, 12]])"
      ]
     },
     "execution_count": 9,
     "metadata": {},
     "output_type": "execute_result"
    }
   ],
   "source": [
    "# 행렬 연산\n",
    "data4 = np.array( [[1,2],[3,4],[5,6]] ) # 3*2\n",
    "data5 = np.array( [[1,2],[3,4],[5,6]] ) # 3*2\n",
    "data4 + data5"
   ]
  },
  {
   "cell_type": "code",
   "execution_count": 11,
   "id": "430d320c-1e8c-4f90-8780-205ea34ec228",
   "metadata": {},
   "outputs": [],
   "source": [
    "# 행렬 곱 : 앞의 행, 뒤의 열 같아야 곱해진다\n",
    "\n",
    "data6 = np.array([[1,2],[3,4],[5,6]])\n",
    "data7 = np.array([[1,2,3],[4,5,6]])"
   ]
  },
  {
   "cell_type": "code",
   "execution_count": 14,
   "id": "81188722-b720-447b-b13a-501177f00104",
   "metadata": {},
   "outputs": [
    {
     "data": {
      "text/plain": [
       "array([[ 9, 12, 15],\n",
       "       [19, 26, 33],\n",
       "       [29, 40, 51]])"
      ]
     },
     "execution_count": 14,
     "metadata": {},
     "output_type": "execute_result"
    }
   ],
   "source": [
    "data6@data7 # 곱연산 @"
   ]
  },
  {
   "cell_type": "code",
   "execution_count": 15,
   "id": "32a3a66b-d3c7-46c1-b165-51845035b60c",
   "metadata": {},
   "outputs": [
    {
     "data": {
      "text/plain": [
       "array([['a', 'b', 'c'],\n",
       "       ['d', 'e', 'f'],\n",
       "       ['g', 'h', 'i']], dtype='<U1')"
      ]
     },
     "execution_count": 15,
     "metadata": {},
     "output_type": "execute_result"
    }
   ],
   "source": [
    "# 매트릭스 인덱싱\n",
    "data5 = np.array([['a','b','c'],['d','e','f'],['g','h','i']])\n",
    "data5"
   ]
  },
  {
   "cell_type": "code",
   "execution_count": 16,
   "id": "6eb9ce31-2563-44cd-a584-c2765059c26e",
   "metadata": {},
   "outputs": [
    {
     "data": {
      "text/plain": [
       "array(['a', 'b', 'c'], dtype='<U1')"
      ]
     },
     "execution_count": 16,
     "metadata": {},
     "output_type": "execute_result"
    }
   ],
   "source": [
    "data5[0]"
   ]
  },
  {
   "cell_type": "code",
   "execution_count": 19,
   "id": "eab0a6e3-37da-44ef-ad90-422eb08c91fa",
   "metadata": {},
   "outputs": [
    {
     "data": {
      "text/plain": [
       "array(['a', 'd', 'g'], dtype='<U1')"
      ]
     },
     "execution_count": 19,
     "metadata": {},
     "output_type": "execute_result"
    }
   ],
   "source": [
    "data5[:,0] # : 모든행, 0 : 첫번째 열"
   ]
  },
  {
   "cell_type": "code",
   "execution_count": 20,
   "id": "69ecced5-8ddc-4bf4-8239-e435a95f85a1",
   "metadata": {},
   "outputs": [
    {
     "data": {
      "text/plain": [
       "array([['z', 'b', 'c'],\n",
       "       ['d', 'e', 'f'],\n",
       "       ['g', 'h', 'i']], dtype='<U1')"
      ]
     },
     "execution_count": 20,
     "metadata": {},
     "output_type": "execute_result"
    }
   ],
   "source": [
    "data5[0,0]='z'\n",
    "data5"
   ]
  },
  {
   "cell_type": "code",
   "execution_count": 21,
   "id": "3b3597c1-9621-4e4c-8ca4-6d40ce7db23b",
   "metadata": {},
   "outputs": [
    {
     "data": {
      "text/plain": [
       "array([['z', 'b', 'c'],\n",
       "       ['x', 'y', 'z'],\n",
       "       ['g', 'h', 'i']], dtype='<U1')"
      ]
     },
     "execution_count": 21,
     "metadata": {},
     "output_type": "execute_result"
    }
   ],
   "source": [
    "data5[1]=['x','y','z']\n",
    "data5"
   ]
  },
  {
   "cell_type": "code",
   "execution_count": 24,
   "id": "edb2542b-2ab9-4cff-91bd-854a0d4c4999",
   "metadata": {},
   "outputs": [
    {
     "data": {
      "text/plain": [
       "array([['a', 'b', 'c'],\n",
       "       ['x', 'y', 'z'],\n",
       "       ['g', 'h', 'i']], dtype='<U1')"
      ]
     },
     "execution_count": 24,
     "metadata": {},
     "output_type": "execute_result"
    }
   ],
   "source": [
    "# 두 글자 넣어놔도 한글자밖에 출력을 못한다\n",
    "data5[0,0] = 'a1'\n",
    "data5"
   ]
  },
  {
   "cell_type": "code",
   "execution_count": 28,
   "id": "094dce54-da1a-483d-a6e8-271126c942ef",
   "metadata": {},
   "outputs": [
    {
     "data": {
      "text/plain": [
       "array([['a1', 'b', 'c'],\n",
       "       ['x', 'y', 'z'],\n",
       "       ['g', 'h', 'i']], dtype='<U2')"
      ]
     },
     "execution_count": 28,
     "metadata": {},
     "output_type": "execute_result"
    }
   ],
   "source": [
    "data6 = np.array(data5,dtype='<U2')\n",
    "data6[0,0] = 'a1'\n",
    "data6"
   ]
  },
  {
   "cell_type": "code",
   "execution_count": 29,
   "id": "74a9bb69-283a-4f69-8422-c54abefa6a44",
   "metadata": {},
   "outputs": [
    {
     "data": {
      "text/plain": [
       "array([[1, 2, 3],\n",
       "       [4, 5, 6]])"
      ]
     },
     "execution_count": 29,
     "metadata": {},
     "output_type": "execute_result"
    }
   ],
   "source": [
    "data7"
   ]
  },
  {
   "cell_type": "code",
   "execution_count": 32,
   "id": "b925b887-9f22-43bd-9f60-6e3d4b117add",
   "metadata": {},
   "outputs": [
    {
     "data": {
      "text/plain": [
       "array([[1, 2, 3],\n",
       "       [4, 5, 6],\n",
       "       [1, 2, 3]])"
      ]
     },
     "execution_count": 32,
     "metadata": {},
     "output_type": "execute_result"
    }
   ],
   "source": [
    "np.vstack( [data7,[1,2,3]] ) # 열에 추가됨"
   ]
  },
  {
   "cell_type": "code",
   "execution_count": 35,
   "id": "101efd2f-d3ba-47e9-977a-61174bae860b",
   "metadata": {},
   "outputs": [
    {
     "data": {
      "text/plain": [
       "array([[1, 2, 3, 1],\n",
       "       [4, 5, 6, 2]])"
      ]
     },
     "execution_count": 35,
     "metadata": {},
     "output_type": "execute_result"
    }
   ],
   "source": [
    "np.hstack([data7,[[1],[2]]]) # 행에 추가됨"
   ]
  },
  {
   "cell_type": "code",
   "execution_count": 36,
   "id": "2e677697-3bae-411e-b094-0722be8249b1",
   "metadata": {},
   "outputs": [
    {
     "data": {
      "text/plain": [
       "array([ 1, 25, 25,  1])"
      ]
     },
     "execution_count": 36,
     "metadata": {},
     "output_type": "execute_result"
    }
   ],
   "source": [
    "# 재구조화\n",
    "data8 = np.array([1,25,25,1])\n",
    "data8"
   ]
  },
  {
   "cell_type": "code",
   "execution_count": 38,
   "id": "63e5e01b-2981-400a-bf14-fc3c8ba41f83",
   "metadata": {},
   "outputs": [
    {
     "data": {
      "text/plain": [
       "array([[ 1, 25],\n",
       "       [25,  1]])"
      ]
     },
     "execution_count": 38,
     "metadata": {},
     "output_type": "execute_result"
    }
   ],
   "source": [
    "data8.reshape(2,2) # 벡터 형태가 행렬형태가 됬음"
   ]
  },
  {
   "cell_type": "code",
   "execution_count": 39,
   "id": "a272b073-7d82-429c-9cb5-5853cbbaa51e",
   "metadata": {},
   "outputs": [
    {
     "data": {
      "text/plain": [
       "array([ 1.,  4.,  7., 10., 13., 16., 19., 22., 25.])"
      ]
     },
     "execution_count": 39,
     "metadata": {},
     "output_type": "execute_result"
    }
   ],
   "source": [
    "data9 = np.linspace(1,25,9) # 1-25 9개\n",
    "data9"
   ]
  },
  {
   "cell_type": "code",
   "execution_count": 40,
   "id": "e5a60fd5-56a6-4bbd-8679-7f0dbcb2441e",
   "metadata": {},
   "outputs": [
    {
     "data": {
      "text/plain": [
       "array([[ 1.,  4.,  7.],\n",
       "       [10., 13., 16.],\n",
       "       [19., 22., 25.]])"
      ]
     },
     "execution_count": 40,
     "metadata": {},
     "output_type": "execute_result"
    }
   ],
   "source": [
    "data9.reshape(3,3)"
   ]
  },
  {
   "cell_type": "code",
   "execution_count": 44,
   "id": "9b9b42b5-5b4b-4587-9fee-4f58874578fb",
   "metadata": {},
   "outputs": [
    {
     "data": {
      "text/plain": [
       "array([[0.67369994, 0.64699309, 0.72384574],\n",
       "       [0.88611801, 0.53031141, 0.67463873]])"
      ]
     },
     "execution_count": 44,
     "metadata": {},
     "output_type": "execute_result"
    }
   ],
   "source": [
    "data11 = np.random.rand(2,3) # 랜덤으로도 매트릭스 생성가능\n",
    "data11"
   ]
  },
  {
   "cell_type": "code",
   "execution_count": 45,
   "id": "fa54f96d-82bb-4213-a5d9-c936ac33cf97",
   "metadata": {},
   "outputs": [
    {
     "data": {
      "text/plain": [
       "4.135606914401948"
      ]
     },
     "execution_count": 45,
     "metadata": {},
     "output_type": "execute_result"
    }
   ],
   "source": [
    "data11.sum()"
   ]
  },
  {
   "cell_type": "code",
   "execution_count": 46,
   "id": "5efcdeee-6e0a-4eb3-a76c-7823d06e73bc",
   "metadata": {},
   "outputs": [
    {
     "data": {
      "text/plain": [
       "0.6892678190669913"
      ]
     },
     "execution_count": 46,
     "metadata": {},
     "output_type": "execute_result"
    }
   ],
   "source": [
    "data11.mean()"
   ]
  },
  {
   "cell_type": "code",
   "execution_count": 47,
   "id": "c41b9e04-0840-46a7-bf10-07dda152d150",
   "metadata": {},
   "outputs": [
    {
     "data": {
      "text/plain": [
       "array([1.55981795, 1.1773045 , 1.39848447])"
      ]
     },
     "execution_count": 47,
     "metadata": {},
     "output_type": "execute_result"
    }
   ],
   "source": [
    "# 열, 행 별로의 연산\n",
    "data11.sum(axis = 0) # 열단위로 합"
   ]
  },
  {
   "cell_type": "code",
   "execution_count": 48,
   "id": "97666f4c-885b-455a-b88b-2135e2bffa0d",
   "metadata": {},
   "outputs": [
    {
     "data": {
      "text/plain": [
       "array([2.04453877, 2.09106814])"
      ]
     },
     "execution_count": 48,
     "metadata": {},
     "output_type": "execute_result"
    }
   ],
   "source": [
    "data11.sum(axis = 1) # 행단위로 합"
   ]
  },
  {
   "cell_type": "code",
   "execution_count": 49,
   "id": "e0994e3f-50ad-4af7-8e2b-94b86cfb77cb",
   "metadata": {},
   "outputs": [
    {
     "data": {
      "text/plain": [
       "array([0.77990897, 0.58865225, 0.69924223])"
      ]
     },
     "execution_count": 49,
     "metadata": {},
     "output_type": "execute_result"
    }
   ],
   "source": [
    "data11.mean(axis = 0) # 열단위로 합"
   ]
  },
  {
   "cell_type": "code",
   "execution_count": 50,
   "id": "0196e7a8-c851-43ca-8895-852ea8b9ee08",
   "metadata": {},
   "outputs": [
    {
     "data": {
      "text/plain": [
       "0.8861180093169545"
      ]
     },
     "execution_count": 50,
     "metadata": {},
     "output_type": "execute_result"
    }
   ],
   "source": [
    "data11.max()"
   ]
  },
  {
   "cell_type": "code",
   "execution_count": 51,
   "id": "06517592-8d8b-4f8c-a3bc-fbd4d5ac7603",
   "metadata": {},
   "outputs": [
    {
     "data": {
      "text/plain": [
       "array([0.88611801, 0.64699309, 0.72384574])"
      ]
     },
     "execution_count": 51,
     "metadata": {},
     "output_type": "execute_result"
    }
   ],
   "source": [
    "data11.max(axis=0)"
   ]
  },
  {
   "cell_type": "code",
   "execution_count": 52,
   "id": "0d5228cd-e7ad-4f52-880c-3005628628ff",
   "metadata": {},
   "outputs": [
    {
     "data": {
      "text/plain": [
       "0.5303114054231919"
      ]
     },
     "execution_count": 52,
     "metadata": {},
     "output_type": "execute_result"
    }
   ],
   "source": [
    "data11.min()"
   ]
  },
  {
   "cell_type": "markdown",
   "id": "57548191-4462-4f34-b7a9-2300e8724ab9",
   "metadata": {},
   "source": [
    "## pandas\n",
    "- series : 데이터 타입, numpy의 array기반으로 만들어진 정형데이터분석을 위해 구성된 index-value형식의 자료구조\n",
    "- dataframe : 이차원 자료구조를 위한 자료구조"
   ]
  },
  {
   "cell_type": "code",
   "execution_count": 85,
   "id": "902fc73a-c6e8-4b3e-a413-5c36626d0b71",
   "metadata": {},
   "outputs": [
    {
     "data": {
      "text/plain": [
       "0    1\n",
       "1    2\n",
       "2    3\n",
       "dtype: int64"
      ]
     },
     "execution_count": 85,
     "metadata": {},
     "output_type": "execute_result"
    }
   ],
   "source": [
    "import pandas as pd\n",
    "\n",
    "s1 = pd.Series([1,2,3]) # 0,1,2에 대응하는 값\n",
    "s1"
   ]
  },
  {
   "cell_type": "code",
   "execution_count": 60,
   "id": "1b92ec9c-f1bc-420a-85ad-4fb91b45a530",
   "metadata": {},
   "outputs": [
    {
     "data": {
      "text/plain": [
       "0    a\n",
       "1    b\n",
       "2    c\n",
       "3    4\n",
       "dtype: object"
      ]
     },
     "execution_count": 60,
     "metadata": {},
     "output_type": "execute_result"
    }
   ],
   "source": [
    "s2 = pd.Series(['a','b','c',4])\n",
    "s2\n",
    "# 숫자형 : int,float\n",
    "# 문자형 : object, str\n",
    "# object : 집단이 문자열이다, 4 또한 문자열로 인식하고 있다\n",
    "\n",
    "# 시리즈는 하나의 데이터 타입만 올 수 있다"
   ]
  },
  {
   "cell_type": "code",
   "execution_count": 62,
   "id": "3a64252f-ebcd-4878-8619-300d40d6be34",
   "metadata": {},
   "outputs": [
    {
     "data": {
      "text/plain": [
       "RangeIndex(start=0, stop=4, step=1)"
      ]
     },
     "execution_count": 62,
     "metadata": {},
     "output_type": "execute_result"
    }
   ],
   "source": [
    "s2.index # 0부터 4까지 상승하고 있습니다."
   ]
  },
  {
   "cell_type": "code",
   "execution_count": 63,
   "id": "bc037110-827c-4545-b36a-2be1c5a6e0e5",
   "metadata": {},
   "outputs": [
    {
     "data": {
      "text/plain": [
       "array(['a', 'b', 'c', 4], dtype=object)"
      ]
     },
     "execution_count": 63,
     "metadata": {},
     "output_type": "execute_result"
    }
   ],
   "source": [
    "s2.values"
   ]
  },
  {
   "cell_type": "code",
   "execution_count": 65,
   "id": "d27c27df-d625-4273-9c73-9988c5a3dd78",
   "metadata": {},
   "outputs": [
    {
     "data": {
      "text/plain": [
       "pandas.core.series.Series"
      ]
     },
     "execution_count": 65,
     "metadata": {},
     "output_type": "execute_result"
    }
   ],
   "source": [
    "type(s2) # 데이터 타입을 자주 확인하는 것이 좋다"
   ]
  },
  {
   "cell_type": "code",
   "execution_count": 67,
   "id": "75e48b18-9eb3-4ae2-8940-ec0114fbe472",
   "metadata": {},
   "outputs": [
    {
     "data": {
      "text/plain": [
       "numpy.ndarray"
      ]
     },
     "execution_count": 67,
     "metadata": {},
     "output_type": "execute_result"
    }
   ],
   "source": [
    "type(s1.values) # 시리즈 데이터는 넘파이 어레이 기반으로 되어 있구나!"
   ]
  },
  {
   "cell_type": "code",
   "execution_count": 68,
   "id": "00b006e0-f6c4-469a-b87d-fba043566d0c",
   "metadata": {},
   "outputs": [
    {
     "data": {
      "text/plain": [
       "0    a\n",
       "1    b\n",
       "2    c\n",
       "3    4\n",
       "dtype: object"
      ]
     },
     "execution_count": 68,
     "metadata": {},
     "output_type": "execute_result"
    }
   ],
   "source": [
    "# 시리즈의 인덱싱과 슬라이스\n",
    "s2\n"
   ]
  },
  {
   "cell_type": "code",
   "execution_count": 69,
   "id": "64fddbe6-749c-472c-91f2-4e17c45f7c26",
   "metadata": {},
   "outputs": [
    {
     "data": {
      "text/plain": [
       "'a'"
      ]
     },
     "execution_count": 69,
     "metadata": {},
     "output_type": "execute_result"
    }
   ],
   "source": [
    "s2[0]"
   ]
  },
  {
   "cell_type": "code",
   "execution_count": 71,
   "id": "3367f12a-d92f-4ddc-8fcd-205aa284a4b0",
   "metadata": {},
   "outputs": [
    {
     "data": {
      "text/plain": [
       "0    a\n",
       "1    b\n",
       "dtype: object"
      ]
     },
     "execution_count": 71,
     "metadata": {},
     "output_type": "execute_result"
    }
   ],
   "source": [
    "s2[0:2] # [n:m] : n부터 m-1까지만 호출된다"
   ]
  },
  {
   "cell_type": "code",
   "execution_count": 75,
   "id": "482a3453-f15a-44c9-9084-3ace5d80c020",
   "metadata": {},
   "outputs": [
    {
     "data": {
      "text/plain": [
       "0    99\n",
       "1     2\n",
       "2     3\n",
       "dtype: int64"
      ]
     },
     "execution_count": 75,
     "metadata": {},
     "output_type": "execute_result"
    }
   ],
   "source": [
    "s1[0] = 99\n",
    "s1"
   ]
  },
  {
   "cell_type": "code",
   "execution_count": 78,
   "id": "53677d04-3a24-453e-94bc-cdb85d31c56a",
   "metadata": {},
   "outputs": [
    {
     "data": {
      "text/plain": [
       "1    2\n",
       "2    3\n",
       "dtype: int64"
      ]
     },
     "execution_count": 78,
     "metadata": {},
     "output_type": "execute_result"
    }
   ],
   "source": [
    "s1.drop(0) # 삭제 - but 원본을 삭제해주는게 아니라 카피본의 첫번째 삭제해줌"
   ]
  },
  {
   "cell_type": "code",
   "execution_count": 86,
   "id": "f74d720c-41d3-4f42-a458-4e8335966302",
   "metadata": {},
   "outputs": [],
   "source": [
    "s3 = s1.drop(0,inplace=True) # 인플레이스 옵션 사용시, 원본 변수에 수정을 함"
   ]
  },
  {
   "cell_type": "code",
   "execution_count": 88,
   "id": "d849b904-4e83-4396-a0dc-fefd9df92226",
   "metadata": {},
   "outputs": [
    {
     "data": {
      "text/plain": [
       "1    2\n",
       "2    3\n",
       "dtype: int64"
      ]
     },
     "execution_count": 88,
     "metadata": {},
     "output_type": "execute_result"
    }
   ],
   "source": [
    "s1"
   ]
  },
  {
   "cell_type": "code",
   "execution_count": 90,
   "id": "841b1862-0801-4b25-af37-0e73cc7bad79",
   "metadata": {},
   "outputs": [],
   "source": [
    "# 인덱스 지정\n",
    "s4 = pd.Series([1,2,3,4,5],index=['a','b','c','d','e'])"
   ]
  },
  {
   "cell_type": "code",
   "execution_count": 91,
   "id": "9d21f9fa-1d00-4eb5-81bc-a07608dc186f",
   "metadata": {},
   "outputs": [
    {
     "data": {
      "text/plain": [
       "a    1\n",
       "b    2\n",
       "c    3\n",
       "d    4\n",
       "e    5\n",
       "dtype: int64"
      ]
     },
     "execution_count": 91,
     "metadata": {},
     "output_type": "execute_result"
    }
   ],
   "source": [
    "s4"
   ]
  },
  {
   "cell_type": "code",
   "execution_count": 94,
   "id": "4d2791d5-50e1-4019-9bf3-2e7b269ff4d4",
   "metadata": {},
   "outputs": [
    {
     "data": {
      "text/plain": [
       "1"
      ]
     },
     "execution_count": 94,
     "metadata": {},
     "output_type": "execute_result"
    }
   ],
   "source": [
    "#인덱싱\n",
    "s4['a'] # 인덱스의 이름으로 값 보기"
   ]
  },
  {
   "cell_type": "code",
   "execution_count": 95,
   "id": "75c928dd-fd33-4b51-992f-38825fa8f5f2",
   "metadata": {},
   "outputs": [
    {
     "data": {
      "text/plain": [
       "name    둘리\n",
       "age      5\n",
       "area    서울\n",
       "dtype: object"
      ]
     },
     "execution_count": 95,
     "metadata": {},
     "output_type": "execute_result"
    }
   ],
   "source": [
    "# 딕셔너리로 시리즈 구성\n",
    "s5 = pd.Series({'name':'둘리','age':5,'area':'서울'})\n",
    "s5"
   ]
  },
  {
   "cell_type": "code",
   "execution_count": 96,
   "id": "d6cadcf0-dc13-4faf-baac-4a44a4d57170",
   "metadata": {},
   "outputs": [
    {
     "data": {
      "text/plain": [
       "이름      둘리\n",
       "age      5\n",
       "area    서울\n",
       "dtype: object"
      ]
     },
     "execution_count": 96,
     "metadata": {},
     "output_type": "execute_result"
    }
   ],
   "source": [
    "# 인덱스 이름 변경\n",
    "s6 = s5.rename(index = {'name':'이름'})\n",
    "s6 "
   ]
  },
  {
   "cell_type": "code",
   "execution_count": 97,
   "id": "4f5edbb0-e243-4db0-bc4d-ca6741e8f6d6",
   "metadata": {},
   "outputs": [],
   "source": [
    "s5.rename(index = {'name':'이름'}, inplace=True)"
   ]
  },
  {
   "cell_type": "code",
   "execution_count": 98,
   "id": "6d0df311-a0fa-4ed6-ad2f-65c3623acdc6",
   "metadata": {},
   "outputs": [
    {
     "data": {
      "text/plain": [
       "이름      둘리\n",
       "age      5\n",
       "area    서울\n",
       "dtype: object"
      ]
     },
     "execution_count": 98,
     "metadata": {},
     "output_type": "execute_result"
    }
   ],
   "source": [
    "s5"
   ]
  },
  {
   "cell_type": "code",
   "execution_count": 99,
   "id": "bfe152f6-0bf7-4b81-acc6-0bea6b9b6d4c",
   "metadata": {},
   "outputs": [
    {
     "data": {
      "text/plain": [
       "이름       둘리\n",
       "age       5\n",
       "area     서울\n",
       "친구      희동이\n",
       "dtype: object"
      ]
     },
     "execution_count": 99,
     "metadata": {},
     "output_type": "execute_result"
    }
   ],
   "source": [
    "# 새로운 값 추가\n",
    "s5['친구'] = '희동이'\n",
    "s5"
   ]
  },
  {
   "cell_type": "code",
   "execution_count": 103,
   "id": "37aaa046-b162-4045-a141-2b9a678e951d",
   "metadata": {},
   "outputs": [
    {
     "data": {
      "text/html": [
       "<div>\n",
       "<style scoped>\n",
       "    .dataframe tbody tr th:only-of-type {\n",
       "        vertical-align: middle;\n",
       "    }\n",
       "\n",
       "    .dataframe tbody tr th {\n",
       "        vertical-align: top;\n",
       "    }\n",
       "\n",
       "    .dataframe thead th {\n",
       "        text-align: right;\n",
       "    }\n",
       "</style>\n",
       "<table border=\"1\" class=\"dataframe\">\n",
       "  <thead>\n",
       "    <tr style=\"text-align: right;\">\n",
       "      <th></th>\n",
       "      <th>0</th>\n",
       "    </tr>\n",
       "  </thead>\n",
       "  <tbody>\n",
       "    <tr>\n",
       "      <th>0</th>\n",
       "      <td>100</td>\n",
       "    </tr>\n",
       "    <tr>\n",
       "      <th>1</th>\n",
       "      <td>200</td>\n",
       "    </tr>\n",
       "    <tr>\n",
       "      <th>2</th>\n",
       "      <td>300</td>\n",
       "    </tr>\n",
       "    <tr>\n",
       "      <th>3</th>\n",
       "      <td>400</td>\n",
       "    </tr>\n",
       "  </tbody>\n",
       "</table>\n",
       "</div>"
      ],
      "text/plain": [
       "     0\n",
       "0  100\n",
       "1  200\n",
       "2  300\n",
       "3  400"
      ]
     },
     "execution_count": 103,
     "metadata": {},
     "output_type": "execute_result"
    }
   ],
   "source": [
    "df = pd.DataFrame([100,200,300,400])\n",
    "df"
   ]
  },
  {
   "cell_type": "code",
   "execution_count": 101,
   "id": "ee77f480-6b11-4a47-b53f-9b873b455a27",
   "metadata": {},
   "outputs": [
    {
     "data": {
      "text/plain": [
       "RangeIndex(start=0, stop=4, step=1)"
      ]
     },
     "execution_count": 101,
     "metadata": {},
     "output_type": "execute_result"
    }
   ],
   "source": [
    "df.index"
   ]
  },
  {
   "cell_type": "code",
   "execution_count": 105,
   "id": "1c7b4547-f04d-4326-9aa5-01f8c3ce3af4",
   "metadata": {},
   "outputs": [
    {
     "data": {
      "text/plain": [
       "RangeIndex(start=0, stop=1, step=1)"
      ]
     },
     "execution_count": 105,
     "metadata": {},
     "output_type": "execute_result"
    }
   ],
   "source": [
    "# 컬럼이라는 개념이 있음 시리즈 여러개 -> 컬럼\n",
    "df.columns"
   ]
  },
  {
   "cell_type": "code",
   "execution_count": 106,
   "id": "2138cbc5-3ad4-4bdb-b087-fc097489173b",
   "metadata": {},
   "outputs": [
    {
     "data": {
      "text/plain": [
       "array([[100],\n",
       "       [200],\n",
       "       [300],\n",
       "       [400]], dtype=int64)"
      ]
     },
     "execution_count": 106,
     "metadata": {},
     "output_type": "execute_result"
    }
   ],
   "source": [
    "df.values"
   ]
  },
  {
   "cell_type": "code",
   "execution_count": 108,
   "id": "e96881d5-36a1-4ced-ad8f-d6e28db4e61d",
   "metadata": {},
   "outputs": [
    {
     "data": {
      "text/html": [
       "<div>\n",
       "<style scoped>\n",
       "    .dataframe tbody tr th:only-of-type {\n",
       "        vertical-align: middle;\n",
       "    }\n",
       "\n",
       "    .dataframe tbody tr th {\n",
       "        vertical-align: top;\n",
       "    }\n",
       "\n",
       "    .dataframe thead th {\n",
       "        text-align: right;\n",
       "    }\n",
       "</style>\n",
       "<table border=\"1\" class=\"dataframe\">\n",
       "  <thead>\n",
       "    <tr style=\"text-align: right;\">\n",
       "      <th></th>\n",
       "      <th>A</th>\n",
       "      <th>B</th>\n",
       "      <th>C</th>\n",
       "      <th>D</th>\n",
       "      <th>E</th>\n",
       "    </tr>\n",
       "  </thead>\n",
       "  <tbody>\n",
       "    <tr>\n",
       "      <th>0</th>\n",
       "      <td>100</td>\n",
       "      <td>200</td>\n",
       "      <td>300</td>\n",
       "      <td>400</td>\n",
       "      <td>500</td>\n",
       "    </tr>\n",
       "    <tr>\n",
       "      <th>1</th>\n",
       "      <td>40</td>\n",
       "      <td>200</td>\n",
       "      <td>22</td>\n",
       "      <td>22</td>\n",
       "      <td>23</td>\n",
       "    </tr>\n",
       "  </tbody>\n",
       "</table>\n",
       "</div>"
      ],
      "text/plain": [
       "     A    B    C    D    E\n",
       "0  100  200  300  400  500\n",
       "1   40  200   22   22   23"
      ]
     },
     "execution_count": 108,
     "metadata": {},
     "output_type": "execute_result"
    }
   ],
   "source": [
    "# column을 지정하여 데이터 프레임을 구성\n",
    "df1 = pd.DataFrame(data=[[100,200,300,400,500], # 이중 리스트로 받으면 누워서 받게 됨\n",
    "                         [40,200,22,22,23]],\n",
    "                   columns=['A','B','C','D','E'])\n",
    "df1         "
   ]
  },
  {
   "cell_type": "code",
   "execution_count": 109,
   "id": "7ffaaae4-bb0b-44f7-b9fa-ef412562f520",
   "metadata": {},
   "outputs": [
    {
     "data": {
      "text/plain": [
       "RangeIndex(start=0, stop=2, step=1)"
      ]
     },
     "execution_count": 109,
     "metadata": {},
     "output_type": "execute_result"
    }
   ],
   "source": [
    "df1.index"
   ]
  },
  {
   "cell_type": "code",
   "execution_count": 110,
   "id": "2aea63b0-0250-47d0-9fd0-b4b37297eb0c",
   "metadata": {},
   "outputs": [
    {
     "data": {
      "text/plain": [
       "Index(['A', 'B', 'C', 'D', 'E'], dtype='object')"
      ]
     },
     "execution_count": 110,
     "metadata": {},
     "output_type": "execute_result"
    }
   ],
   "source": [
    "df1.columns"
   ]
  },
  {
   "cell_type": "code",
   "execution_count": 111,
   "id": "98af7a00-27d7-4a0c-98af-d6e8415aab4d",
   "metadata": {},
   "outputs": [
    {
     "data": {
      "text/plain": [
       "0    100\n",
       "1     40\n",
       "Name: A, dtype: int64"
      ]
     },
     "execution_count": 111,
     "metadata": {},
     "output_type": "execute_result"
    }
   ],
   "source": [
    "df1['A']"
   ]
  },
  {
   "cell_type": "code",
   "execution_count": 112,
   "id": "e483061b-19f7-4a2d-b04b-b9d2de844afd",
   "metadata": {},
   "outputs": [
    {
     "data": {
      "text/plain": [
       "pandas.core.series.Series"
      ]
     },
     "execution_count": 112,
     "metadata": {},
     "output_type": "execute_result"
    }
   ],
   "source": [
    "type(df1['A'])"
   ]
  },
  {
   "cell_type": "code",
   "execution_count": 113,
   "id": "c487af15-9c1e-4e7a-b681-dce10c36c5b7",
   "metadata": {},
   "outputs": [
    {
     "data": {
      "text/plain": [
       "RangeIndex(start=0, stop=2, step=1)"
      ]
     },
     "execution_count": 113,
     "metadata": {},
     "output_type": "execute_result"
    }
   ],
   "source": [
    "df1['A'].index"
   ]
  },
  {
   "cell_type": "code",
   "execution_count": 114,
   "id": "697717b6-e2b2-4d1d-a444-3243dda432c2",
   "metadata": {},
   "outputs": [
    {
     "data": {
      "text/plain": [
       "array([100,  40], dtype=int64)"
      ]
     },
     "execution_count": 114,
     "metadata": {},
     "output_type": "execute_result"
    }
   ],
   "source": [
    "df1['A'].values"
   ]
  },
  {
   "cell_type": "code",
   "execution_count": 115,
   "id": "9887753b-6cf7-47fc-aea4-c3074167d167",
   "metadata": {},
   "outputs": [
    {
     "data": {
      "text/html": [
       "<div>\n",
       "<style scoped>\n",
       "    .dataframe tbody tr th:only-of-type {\n",
       "        vertical-align: middle;\n",
       "    }\n",
       "\n",
       "    .dataframe tbody tr th {\n",
       "        vertical-align: top;\n",
       "    }\n",
       "\n",
       "    .dataframe thead th {\n",
       "        text-align: right;\n",
       "    }\n",
       "</style>\n",
       "<table border=\"1\" class=\"dataframe\">\n",
       "  <thead>\n",
       "    <tr style=\"text-align: right;\">\n",
       "      <th></th>\n",
       "      <th>A</th>\n",
       "      <th>B</th>\n",
       "    </tr>\n",
       "  </thead>\n",
       "  <tbody>\n",
       "    <tr>\n",
       "      <th>0</th>\n",
       "      <td>100</td>\n",
       "      <td>200</td>\n",
       "    </tr>\n",
       "    <tr>\n",
       "      <th>1</th>\n",
       "      <td>40</td>\n",
       "      <td>200</td>\n",
       "    </tr>\n",
       "  </tbody>\n",
       "</table>\n",
       "</div>"
      ],
      "text/plain": [
       "     A    B\n",
       "0  100  200\n",
       "1   40  200"
      ]
     },
     "execution_count": 115,
     "metadata": {},
     "output_type": "execute_result"
    }
   ],
   "source": [
    "df1[['A','B']]"
   ]
  },
  {
   "cell_type": "code",
   "execution_count": 117,
   "id": "9556cff6-a022-47c1-99e6-ed549106508b",
   "metadata": {},
   "outputs": [
    {
     "data": {
      "text/html": [
       "<div>\n",
       "<style scoped>\n",
       "    .dataframe tbody tr th:only-of-type {\n",
       "        vertical-align: middle;\n",
       "    }\n",
       "\n",
       "    .dataframe tbody tr th {\n",
       "        vertical-align: top;\n",
       "    }\n",
       "\n",
       "    .dataframe thead th {\n",
       "        text-align: right;\n",
       "    }\n",
       "</style>\n",
       "<table border=\"1\" class=\"dataframe\">\n",
       "  <thead>\n",
       "    <tr style=\"text-align: right;\">\n",
       "      <th></th>\n",
       "      <th>A</th>\n",
       "    </tr>\n",
       "  </thead>\n",
       "  <tbody>\n",
       "    <tr>\n",
       "      <th>0</th>\n",
       "      <td>100</td>\n",
       "    </tr>\n",
       "    <tr>\n",
       "      <th>1</th>\n",
       "      <td>40</td>\n",
       "    </tr>\n",
       "  </tbody>\n",
       "</table>\n",
       "</div>"
      ],
      "text/plain": [
       "     A\n",
       "0  100\n",
       "1   40"
      ]
     },
     "execution_count": 117,
     "metadata": {},
     "output_type": "execute_result"
    }
   ],
   "source": [
    "df1[['A']] \n",
    "# 이중리스트로 하나의 컬럼을 호출하는 경우\n",
    "# 데이터 프레임 형태로 호출해준다"
   ]
  },
  {
   "cell_type": "code",
   "execution_count": 121,
   "id": "2facea4f-4adb-4245-b72d-31afef2513de",
   "metadata": {},
   "outputs": [
    {
     "data": {
      "text/html": [
       "<div>\n",
       "<style scoped>\n",
       "    .dataframe tbody tr th:only-of-type {\n",
       "        vertical-align: middle;\n",
       "    }\n",
       "\n",
       "    .dataframe tbody tr th {\n",
       "        vertical-align: top;\n",
       "    }\n",
       "\n",
       "    .dataframe thead th {\n",
       "        text-align: right;\n",
       "    }\n",
       "</style>\n",
       "<table border=\"1\" class=\"dataframe\">\n",
       "  <thead>\n",
       "    <tr style=\"text-align: right;\">\n",
       "      <th></th>\n",
       "      <th>이름</th>\n",
       "      <th>국어</th>\n",
       "      <th>수학</th>\n",
       "      <th>체육</th>\n",
       "    </tr>\n",
       "  </thead>\n",
       "  <tbody>\n",
       "    <tr>\n",
       "      <th>0</th>\n",
       "      <td>오덕이</td>\n",
       "      <td>100</td>\n",
       "      <td>80</td>\n",
       "      <td>70</td>\n",
       "    </tr>\n",
       "    <tr>\n",
       "      <th>1</th>\n",
       "      <td>이기영</td>\n",
       "      <td>70</td>\n",
       "      <td>60</td>\n",
       "      <td>70</td>\n",
       "    </tr>\n",
       "    <tr>\n",
       "      <th>2</th>\n",
       "      <td>이기철</td>\n",
       "      <td>60</td>\n",
       "      <td>70</td>\n",
       "      <td>80</td>\n",
       "    </tr>\n",
       "  </tbody>\n",
       "</table>\n",
       "</div>"
      ],
      "text/plain": [
       "    이름   국어  수학  체육\n",
       "0  오덕이  100  80  70\n",
       "1  이기영   70  60  70\n",
       "2  이기철   60  70  80"
      ]
     },
     "execution_count": 121,
     "metadata": {},
     "output_type": "execute_result"
    }
   ],
   "source": [
    "# column을 지정하여 데이터 프레임을 구성\n",
    "df2 = pd.DataFrame(data=[['오덕이',100,80,70], # 이중 리스트로 받으면 누워서 받게 됨\n",
    "                         ['이기영',70,60,70],\n",
    "                        ['이기철',60,70,80]],\n",
    "                   columns=['이름','국어','수학','체육'])\n",
    "df2         "
   ]
  },
  {
   "cell_type": "code",
   "execution_count": 122,
   "id": "0c6607b2-7a46-4a70-8f9d-aa7488b6e49f",
   "metadata": {},
   "outputs": [
    {
     "data": {
      "text/plain": [
       "RangeIndex(start=0, stop=2, step=1)"
      ]
     },
     "execution_count": 122,
     "metadata": {},
     "output_type": "execute_result"
    }
   ],
   "source": [
    "df1.index"
   ]
  },
  {
   "cell_type": "code",
   "execution_count": 124,
   "id": "89acf6f4-962c-48d2-816d-2f3c488d350a",
   "metadata": {},
   "outputs": [
    {
     "data": {
      "text/plain": [
       "array([['오덕이', 100, 80, 70],\n",
       "       ['이기영', 70, 60, 70],\n",
       "       ['이기철', 60, 70, 80]], dtype=object)"
      ]
     },
     "execution_count": 124,
     "metadata": {},
     "output_type": "execute_result"
    }
   ],
   "source": [
    "df2.values # 각각의 시리즈 출력"
   ]
  },
  {
   "cell_type": "code",
   "execution_count": 125,
   "id": "79363f0b-ef87-462a-9bab-14f3f67e9df6",
   "metadata": {},
   "outputs": [
    {
     "data": {
      "text/plain": [
       "Index(['이름', '국어', '수학', '체육'], dtype='object')"
      ]
     },
     "execution_count": 125,
     "metadata": {},
     "output_type": "execute_result"
    }
   ],
   "source": [
    "df2.columns"
   ]
  },
  {
   "cell_type": "code",
   "execution_count": 126,
   "id": "bb48b904-dd01-443c-b0c1-cb7da729dee7",
   "metadata": {},
   "outputs": [
    {
     "data": {
      "text/plain": [
       "0    오덕이\n",
       "1    이기영\n",
       "2    이기철\n",
       "Name: 이름, dtype: object"
      ]
     },
     "execution_count": 126,
     "metadata": {},
     "output_type": "execute_result"
    }
   ],
   "source": [
    "df2['이름']"
   ]
  },
  {
   "cell_type": "code",
   "execution_count": 127,
   "id": "7f5f4b8b-77b2-4f09-94da-a503e516fd96",
   "metadata": {},
   "outputs": [
    {
     "data": {
      "text/plain": [
       "이름    오덕이\n",
       "국어    100\n",
       "수학     80\n",
       "체육     70\n",
       "Name: 0, dtype: object"
      ]
     },
     "execution_count": 127,
     "metadata": {},
     "output_type": "execute_result"
    }
   ],
   "source": [
    "df2.iloc[0] # index location"
   ]
  },
  {
   "cell_type": "code",
   "execution_count": 131,
   "id": "a82a8f63-846f-4aeb-b1f6-879d646e8350",
   "metadata": {},
   "outputs": [
    {
     "data": {
      "text/plain": [
       "array(['이기철', 60, 70, 80], dtype=object)"
      ]
     },
     "execution_count": 131,
     "metadata": {},
     "output_type": "execute_result"
    }
   ],
   "source": [
    "df2.iloc[2].values"
   ]
  },
  {
   "cell_type": "code",
   "execution_count": 133,
   "id": "2dfdad73-8889-4d34-87a2-10255e45037e",
   "metadata": {},
   "outputs": [],
   "source": [
    "df2.set_index('이름',inplace=True)"
   ]
  },
  {
   "cell_type": "code",
   "execution_count": 137,
   "id": "7c5629cc-28f3-47e1-a1f1-f9793529470b",
   "metadata": {},
   "outputs": [
    {
     "data": {
      "text/plain": [
       "국어    100\n",
       "수학     80\n",
       "체육     70\n",
       "Name: 오덕이, dtype: int64"
      ]
     },
     "execution_count": 137,
     "metadata": {},
     "output_type": "execute_result"
    }
   ],
   "source": [
    "df2.iloc[0] # 숫자만 입력 가능 , iloc : 행 빼주는거"
   ]
  },
  {
   "cell_type": "code",
   "execution_count": 136,
   "id": "19093f21-3b1a-428d-ac2d-f775f6423f6c",
   "metadata": {},
   "outputs": [
    {
     "data": {
      "text/plain": [
       "국어    100\n",
       "수학     80\n",
       "체육     70\n",
       "Name: 오덕이, dtype: int64"
      ]
     },
     "execution_count": 136,
     "metadata": {},
     "output_type": "execute_result"
    }
   ],
   "source": [
    "df2.loc['오덕이'] # loc: 문자도 입력 가능함, 행 추출"
   ]
  },
  {
   "cell_type": "code",
   "execution_count": 138,
   "id": "60afd04b-3cad-4245-9d07-968474801d18",
   "metadata": {},
   "outputs": [
    {
     "data": {
      "text/html": [
       "<div>\n",
       "<style scoped>\n",
       "    .dataframe tbody tr th:only-of-type {\n",
       "        vertical-align: middle;\n",
       "    }\n",
       "\n",
       "    .dataframe tbody tr th {\n",
       "        vertical-align: top;\n",
       "    }\n",
       "\n",
       "    .dataframe thead th {\n",
       "        text-align: right;\n",
       "    }\n",
       "</style>\n",
       "<table border=\"1\" class=\"dataframe\">\n",
       "  <thead>\n",
       "    <tr style=\"text-align: right;\">\n",
       "      <th></th>\n",
       "      <th>장르</th>\n",
       "      <th>아티스트</th>\n",
       "      <th>곡</th>\n",
       "    </tr>\n",
       "  </thead>\n",
       "  <tbody>\n",
       "    <tr>\n",
       "      <th>0</th>\n",
       "      <td>팝</td>\n",
       "      <td>마잭</td>\n",
       "      <td>rock with you</td>\n",
       "    </tr>\n",
       "    <tr>\n",
       "      <th>1</th>\n",
       "      <td>록</td>\n",
       "      <td>비틀즈</td>\n",
       "      <td>julia</td>\n",
       "    </tr>\n",
       "  </tbody>\n",
       "</table>\n",
       "</div>"
      ],
      "text/plain": [
       "  장르 아티스트              곡\n",
       "0  팝   마잭  rock with you\n",
       "1  록  비틀즈          julia"
      ]
     },
     "execution_count": 138,
     "metadata": {},
     "output_type": "execute_result"
    }
   ],
   "source": [
    "# 딕셔너리로 데이터 프레임 생성\n",
    "# 키값이 컬럼명으로 들어가고\n",
    "# 벨류값은 컬럼의 값들로 채워진다\n",
    "\n",
    "df3 = pd.DataFrame(data = {'장르':['팝','록'],\n",
    "                          '아티스트':['마잭','비틀즈'],\n",
    "                          '곡':['rock with you','julia']})\n",
    "df3"
   ]
  },
  {
   "cell_type": "markdown",
   "id": "b442c12a-6902-4217-8ee4-84aa5012c34c",
   "metadata": {},
   "source": [
    "# DDA\n",
    "- 기술적 데이터 분석 (descriptive data analysis)\n",
    "- 비즈니스 목표에 부합하는 변수 확인\n",
    "- 목표변수 Y (target, label, output, ....)\n",
    "- 설명변수 X (feature, input, ....)\n",
    "- 기술통계량 확인 (평균 / 중위수 / 분산 / ..)"
   ]
  },
  {
   "cell_type": "markdown",
   "id": "01a5039c-28b2-403e-960f-bb7dc43e6091",
   "metadata": {},
   "source": [
    "## 01_Data.csv\n",
    "- 사무용품을 렌탈해주는 업체의 고객 데이터"
   ]
  },
  {
   "cell_type": "code",
   "execution_count": 141,
   "id": "10543dd5-0b72-4fd3-8aa6-11f41be04925",
   "metadata": {},
   "outputs": [],
   "source": [
    "df1 = pd.read_csv('01_Data.csv')"
   ]
  },
  {
   "cell_type": "markdown",
   "id": "782e3606-cb71-4e64-955c-9794cf17417c",
   "metadata": {},
   "source": [
    "# 데이터의 구조와 타입을 확인 \n",
    "- index - column - value를 확인\n",
    "- index : 데이터의 개수를 확인 \n",
    "    - 데이터의 개수에 따라 분석 방법이 달라짐\n",
    "- column : 데이터의 열 / 데이터의 항목\n",
    "    - 각 항목별(열) 데이터 타입을 확인\n",
    "        - 연속형 : int/float\n",
    "        - 범주형 : object\n",
    "        - 순서형 : 날짜 / 시간 데이터 (datetime)\n",
    "- value : 값 \n",
    "    - 데이터의 형식 (format) 확인\n",
    "    - 원시자료설명서 / DB설계서 / 변수정의서 확인 (데이터가 의미하는 바 알 수 O)\n",
    "    - 결측값(missing value) : 데이터 수집 중 오류나 누락으로 인해 비어있는 값 \n",
    "                              ex) None/NaN(not a number)/Na(not available)/null/inf ..."
   ]
  },
  {
   "cell_type": "code",
   "execution_count": 143,
   "id": "4fc212b3-967e-452e-899a-3c4ee0af48c7",
   "metadata": {},
   "outputs": [
    {
     "data": {
      "text/plain": [
       "RangeIndex(start=0, stop=51301, step=1)"
      ]
     },
     "execution_count": 143,
     "metadata": {},
     "output_type": "execute_result"
    }
   ],
   "source": [
    "df1.index"
   ]
  },
  {
   "cell_type": "code",
   "execution_count": 145,
   "id": "b91eb743-fa17-4531-aad2-a2ea5b3360e2",
   "metadata": {},
   "outputs": [
    {
     "data": {
      "text/plain": [
       "(51301, 20)"
      ]
     },
     "execution_count": 145,
     "metadata": {},
     "output_type": "execute_result"
    }
   ],
   "source": [
    "df1.shape # 행렬확인"
   ]
  },
  {
   "cell_type": "code",
   "execution_count": 146,
   "id": "22435ebd-7ded-42f1-9983-80a7396b3e0f",
   "metadata": {},
   "outputs": [
    {
     "data": {
      "text/plain": [
       "Index(['Index', 'Member_ID', 'Sales_Type', 'Contract_Type', 'Channel',\n",
       "       'Datetime', 'Term', 'Payment_Type', 'Product_Type', 'Amount_Month',\n",
       "       'Customer_Type', 'Age', 'Address1', 'Address2', 'State',\n",
       "       'Overdue_count', 'Overdue_Type', 'Gender', 'Credit_Rank', 'Bank'],\n",
       "      dtype='object')"
      ]
     },
     "execution_count": 146,
     "metadata": {},
     "output_type": "execute_result"
    }
   ],
   "source": [
    "df1.columns # 항목확인"
   ]
  },
  {
   "cell_type": "code",
   "execution_count": 147,
   "id": "74232f40-a827-4903-a3f0-ccecd624556c",
   "metadata": {},
   "outputs": [
    {
     "data": {
      "text/plain": [
       "51301"
      ]
     },
     "execution_count": 147,
     "metadata": {},
     "output_type": "execute_result"
    }
   ],
   "source": [
    "len(df1) # index 확인 가능"
   ]
  },
  {
   "cell_type": "code",
   "execution_count": 151,
   "id": "483cc6c9-630b-4f02-b40f-36f389086536",
   "metadata": {},
   "outputs": [
    {
     "name": "stdout",
     "output_type": "stream",
     "text": [
      "<class 'pandas.core.frame.DataFrame'>\n",
      "RangeIndex: 51301 entries, 0 to 51300\n",
      "Data columns (total 20 columns):\n",
      " #   Column         Non-Null Count  Dtype  \n",
      "---  ------         --------------  -----  \n",
      " 0   Index          51301 non-null  int64  \n",
      " 1   Member_ID      51301 non-null  int64  \n",
      " 2   Sales_Type     51301 non-null  object \n",
      " 3   Contract_Type  51301 non-null  object \n",
      " 4   Channel        51301 non-null  object \n",
      " 5   Datetime       51301 non-null  object \n",
      " 6   Term           51301 non-null  int64  \n",
      " 7   Payment_Type   51301 non-null  object \n",
      " 8   Product_Type   51301 non-null  object \n",
      " 9   Amount_Month   51301 non-null  int64  \n",
      " 10  Customer_Type  51299 non-null  object \n",
      " 11  Age            44329 non-null  float64\n",
      " 12  Address1       51299 non-null  object \n",
      " 13  Address2       51299 non-null  object \n",
      " 14  State          51301 non-null  object \n",
      " 15  Overdue_count  51301 non-null  int64  \n",
      " 16  Overdue_Type   51301 non-null  object \n",
      " 17  Gender         51301 non-null  object \n",
      " 18  Credit_Rank    42520 non-null  float64\n",
      " 19  Bank           48542 non-null  object \n",
      "dtypes: float64(2), int64(5), object(13)\n",
      "memory usage: 7.8+ MB\n"
     ]
    }
   ],
   "source": [
    "df1.info() # 결측치, 데이터 항목, 데이터 자료형 확인 가능"
   ]
  },
  {
   "cell_type": "code",
   "execution_count": 155,
   "id": "11978147-e4a0-44ee-a8e3-327c5cde26c4",
   "metadata": {},
   "outputs": [
    {
     "data": {
      "text/plain": [
       "Index               0\n",
       "Member_ID           0\n",
       "Sales_Type          0\n",
       "Contract_Type       0\n",
       "Channel             0\n",
       "Datetime            0\n",
       "Term                0\n",
       "Payment_Type        0\n",
       "Product_Type        0\n",
       "Amount_Month        0\n",
       "Customer_Type       2\n",
       "Age              6972\n",
       "Address1            2\n",
       "Address2            2\n",
       "State               0\n",
       "Overdue_count       0\n",
       "Overdue_Type        0\n",
       "Gender              0\n",
       "Credit_Rank      8781\n",
       "Bank             2759\n",
       "dtype: int64"
      ]
     },
     "execution_count": 155,
     "metadata": {},
     "output_type": "execute_result"
    }
   ],
   "source": [
    "# 결측치 확인\n",
    "df1.isnull().sum() # isnull : 참 거짓으로 나옴, sum() : null값 개수 확인"
   ]
  },
  {
   "cell_type": "code",
   "execution_count": 156,
   "id": "8146c870-976f-460e-bfd0-09216841fa69",
   "metadata": {},
   "outputs": [
    {
     "data": {
      "text/html": [
       "<div>\n",
       "<style scoped>\n",
       "    .dataframe tbody tr th:only-of-type {\n",
       "        vertical-align: middle;\n",
       "    }\n",
       "\n",
       "    .dataframe tbody tr th {\n",
       "        vertical-align: top;\n",
       "    }\n",
       "\n",
       "    .dataframe thead th {\n",
       "        text-align: right;\n",
       "    }\n",
       "</style>\n",
       "<table border=\"1\" class=\"dataframe\">\n",
       "  <thead>\n",
       "    <tr style=\"text-align: right;\">\n",
       "      <th></th>\n",
       "      <th>Index</th>\n",
       "      <th>Member_ID</th>\n",
       "      <th>Sales_Type</th>\n",
       "      <th>Contract_Type</th>\n",
       "      <th>Channel</th>\n",
       "      <th>Datetime</th>\n",
       "      <th>Term</th>\n",
       "      <th>Payment_Type</th>\n",
       "      <th>Product_Type</th>\n",
       "      <th>Amount_Month</th>\n",
       "      <th>Customer_Type</th>\n",
       "      <th>Age</th>\n",
       "      <th>Address1</th>\n",
       "      <th>Address2</th>\n",
       "      <th>State</th>\n",
       "      <th>Overdue_count</th>\n",
       "      <th>Overdue_Type</th>\n",
       "      <th>Gender</th>\n",
       "      <th>Credit_Rank</th>\n",
       "      <th>Bank</th>\n",
       "    </tr>\n",
       "  </thead>\n",
       "  <tbody>\n",
       "    <tr>\n",
       "      <th>0</th>\n",
       "      <td>1</td>\n",
       "      <td>66758234</td>\n",
       "      <td>렌탈</td>\n",
       "      <td>일반계약</td>\n",
       "      <td>영업방판</td>\n",
       "      <td>2022-05-05</td>\n",
       "      <td>60</td>\n",
       "      <td>CMS</td>\n",
       "      <td>DES-1</td>\n",
       "      <td>96900</td>\n",
       "      <td>개인</td>\n",
       "      <td>42.0</td>\n",
       "      <td>경기도</td>\n",
       "      <td>경기도</td>\n",
       "      <td>계약확정</td>\n",
       "      <td>0</td>\n",
       "      <td>없음</td>\n",
       "      <td>여자</td>\n",
       "      <td>9.0</td>\n",
       "      <td>새마을금고</td>\n",
       "    </tr>\n",
       "    <tr>\n",
       "      <th>1</th>\n",
       "      <td>2</td>\n",
       "      <td>66755948</td>\n",
       "      <td>렌탈</td>\n",
       "      <td>교체계약</td>\n",
       "      <td>영업방판</td>\n",
       "      <td>2023-02-19</td>\n",
       "      <td>60</td>\n",
       "      <td>카드이체</td>\n",
       "      <td>DES-1</td>\n",
       "      <td>102900</td>\n",
       "      <td>개인</td>\n",
       "      <td>39.0</td>\n",
       "      <td>경기도</td>\n",
       "      <td>경기도</td>\n",
       "      <td>계약확정</td>\n",
       "      <td>0</td>\n",
       "      <td>없음</td>\n",
       "      <td>남자</td>\n",
       "      <td>2.0</td>\n",
       "      <td>현대카드</td>\n",
       "    </tr>\n",
       "    <tr>\n",
       "      <th>2</th>\n",
       "      <td>3</td>\n",
       "      <td>66756657</td>\n",
       "      <td>렌탈</td>\n",
       "      <td>일반계약</td>\n",
       "      <td>홈쇼핑/방송</td>\n",
       "      <td>2022-02-27</td>\n",
       "      <td>60</td>\n",
       "      <td>CMS</td>\n",
       "      <td>DES-1</td>\n",
       "      <td>96900</td>\n",
       "      <td>개인</td>\n",
       "      <td>48.0</td>\n",
       "      <td>경기도</td>\n",
       "      <td>경기도</td>\n",
       "      <td>계약확정</td>\n",
       "      <td>0</td>\n",
       "      <td>없음</td>\n",
       "      <td>여자</td>\n",
       "      <td>8.0</td>\n",
       "      <td>우리은행</td>\n",
       "    </tr>\n",
       "    <tr>\n",
       "      <th>3</th>\n",
       "      <td>4</td>\n",
       "      <td>66423450</td>\n",
       "      <td>멤버십</td>\n",
       "      <td>멤버십3유형</td>\n",
       "      <td>재계약</td>\n",
       "      <td>2022-05-12</td>\n",
       "      <td>12</td>\n",
       "      <td>CMS</td>\n",
       "      <td>DES-1</td>\n",
       "      <td>66900</td>\n",
       "      <td>개인</td>\n",
       "      <td>39.0</td>\n",
       "      <td>경기도</td>\n",
       "      <td>경기도</td>\n",
       "      <td>계약확정</td>\n",
       "      <td>0</td>\n",
       "      <td>없음</td>\n",
       "      <td>남자</td>\n",
       "      <td>5.0</td>\n",
       "      <td>농협회원조합</td>\n",
       "    </tr>\n",
       "    <tr>\n",
       "      <th>4</th>\n",
       "      <td>5</td>\n",
       "      <td>66423204</td>\n",
       "      <td>멤버십</td>\n",
       "      <td>멤버십3유형</td>\n",
       "      <td>재계약</td>\n",
       "      <td>2022-05-09</td>\n",
       "      <td>12</td>\n",
       "      <td>CMS</td>\n",
       "      <td>DES-1</td>\n",
       "      <td>66900</td>\n",
       "      <td>개인</td>\n",
       "      <td>60.0</td>\n",
       "      <td>경기도</td>\n",
       "      <td>경기도</td>\n",
       "      <td>기간만료</td>\n",
       "      <td>12</td>\n",
       "      <td>있음</td>\n",
       "      <td>남자</td>\n",
       "      <td>8.0</td>\n",
       "      <td>농협회원조합</td>\n",
       "    </tr>\n",
       "  </tbody>\n",
       "</table>\n",
       "</div>"
      ],
      "text/plain": [
       "   Index  Member_ID Sales_Type Contract_Type Channel    Datetime  Term  \\\n",
       "0      1   66758234         렌탈          일반계약    영업방판  2022-05-05    60   \n",
       "1      2   66755948         렌탈          교체계약    영업방판  2023-02-19    60   \n",
       "2      3   66756657         렌탈          일반계약  홈쇼핑/방송  2022-02-27    60   \n",
       "3      4   66423450        멤버십        멤버십3유형     재계약  2022-05-12    12   \n",
       "4      5   66423204        멤버십        멤버십3유형     재계약  2022-05-09    12   \n",
       "\n",
       "  Payment_Type Product_Type  Amount_Month Customer_Type   Age Address1  \\\n",
       "0          CMS        DES-1         96900            개인  42.0      경기도   \n",
       "1         카드이체        DES-1        102900            개인  39.0      경기도   \n",
       "2          CMS        DES-1         96900            개인  48.0      경기도   \n",
       "3          CMS        DES-1         66900            개인  39.0      경기도   \n",
       "4          CMS        DES-1         66900            개인  60.0      경기도   \n",
       "\n",
       "  Address2 State  Overdue_count Overdue_Type Gender  Credit_Rank    Bank  \n",
       "0      경기도  계약확정              0           없음     여자          9.0   새마을금고  \n",
       "1      경기도  계약확정              0           없음     남자          2.0    현대카드  \n",
       "2      경기도  계약확정              0           없음     여자          8.0    우리은행  \n",
       "3      경기도  계약확정              0           없음     남자          5.0  농협회원조합  \n",
       "4      경기도  기간만료             12           있음     남자          8.0  농협회원조합  "
      ]
     },
     "execution_count": 156,
     "metadata": {},
     "output_type": "execute_result"
    }
   ],
   "source": [
    "# 데이터 추출\n",
    "df1.head()\n",
    "#head : 대표로 앞에서 5줄만 보여준다 기본값이 5 \n"
   ]
  },
  {
   "cell_type": "code",
   "execution_count": 157,
   "id": "ae9a1724-c5b4-485d-9c1a-5e9d0f655608",
   "metadata": {},
   "outputs": [
    {
     "data": {
      "text/html": [
       "<div>\n",
       "<style scoped>\n",
       "    .dataframe tbody tr th:only-of-type {\n",
       "        vertical-align: middle;\n",
       "    }\n",
       "\n",
       "    .dataframe tbody tr th {\n",
       "        vertical-align: top;\n",
       "    }\n",
       "\n",
       "    .dataframe thead th {\n",
       "        text-align: right;\n",
       "    }\n",
       "</style>\n",
       "<table border=\"1\" class=\"dataframe\">\n",
       "  <thead>\n",
       "    <tr style=\"text-align: right;\">\n",
       "      <th></th>\n",
       "      <th>Index</th>\n",
       "      <th>Member_ID</th>\n",
       "      <th>Sales_Type</th>\n",
       "      <th>Contract_Type</th>\n",
       "      <th>Channel</th>\n",
       "      <th>Datetime</th>\n",
       "      <th>Term</th>\n",
       "      <th>Payment_Type</th>\n",
       "      <th>Product_Type</th>\n",
       "      <th>Amount_Month</th>\n",
       "      <th>Customer_Type</th>\n",
       "      <th>Age</th>\n",
       "      <th>Address1</th>\n",
       "      <th>Address2</th>\n",
       "      <th>State</th>\n",
       "      <th>Overdue_count</th>\n",
       "      <th>Overdue_Type</th>\n",
       "      <th>Gender</th>\n",
       "      <th>Credit_Rank</th>\n",
       "      <th>Bank</th>\n",
       "    </tr>\n",
       "  </thead>\n",
       "  <tbody>\n",
       "    <tr>\n",
       "      <th>0</th>\n",
       "      <td>1</td>\n",
       "      <td>66758234</td>\n",
       "      <td>렌탈</td>\n",
       "      <td>일반계약</td>\n",
       "      <td>영업방판</td>\n",
       "      <td>2022-05-05</td>\n",
       "      <td>60</td>\n",
       "      <td>CMS</td>\n",
       "      <td>DES-1</td>\n",
       "      <td>96900</td>\n",
       "      <td>개인</td>\n",
       "      <td>42.0</td>\n",
       "      <td>경기도</td>\n",
       "      <td>경기도</td>\n",
       "      <td>계약확정</td>\n",
       "      <td>0</td>\n",
       "      <td>없음</td>\n",
       "      <td>여자</td>\n",
       "      <td>9.0</td>\n",
       "      <td>새마을금고</td>\n",
       "    </tr>\n",
       "    <tr>\n",
       "      <th>1</th>\n",
       "      <td>2</td>\n",
       "      <td>66755948</td>\n",
       "      <td>렌탈</td>\n",
       "      <td>교체계약</td>\n",
       "      <td>영업방판</td>\n",
       "      <td>2023-02-19</td>\n",
       "      <td>60</td>\n",
       "      <td>카드이체</td>\n",
       "      <td>DES-1</td>\n",
       "      <td>102900</td>\n",
       "      <td>개인</td>\n",
       "      <td>39.0</td>\n",
       "      <td>경기도</td>\n",
       "      <td>경기도</td>\n",
       "      <td>계약확정</td>\n",
       "      <td>0</td>\n",
       "      <td>없음</td>\n",
       "      <td>남자</td>\n",
       "      <td>2.0</td>\n",
       "      <td>현대카드</td>\n",
       "    </tr>\n",
       "    <tr>\n",
       "      <th>2</th>\n",
       "      <td>3</td>\n",
       "      <td>66756657</td>\n",
       "      <td>렌탈</td>\n",
       "      <td>일반계약</td>\n",
       "      <td>홈쇼핑/방송</td>\n",
       "      <td>2022-02-27</td>\n",
       "      <td>60</td>\n",
       "      <td>CMS</td>\n",
       "      <td>DES-1</td>\n",
       "      <td>96900</td>\n",
       "      <td>개인</td>\n",
       "      <td>48.0</td>\n",
       "      <td>경기도</td>\n",
       "      <td>경기도</td>\n",
       "      <td>계약확정</td>\n",
       "      <td>0</td>\n",
       "      <td>없음</td>\n",
       "      <td>여자</td>\n",
       "      <td>8.0</td>\n",
       "      <td>우리은행</td>\n",
       "    </tr>\n",
       "    <tr>\n",
       "      <th>3</th>\n",
       "      <td>4</td>\n",
       "      <td>66423450</td>\n",
       "      <td>멤버십</td>\n",
       "      <td>멤버십3유형</td>\n",
       "      <td>재계약</td>\n",
       "      <td>2022-05-12</td>\n",
       "      <td>12</td>\n",
       "      <td>CMS</td>\n",
       "      <td>DES-1</td>\n",
       "      <td>66900</td>\n",
       "      <td>개인</td>\n",
       "      <td>39.0</td>\n",
       "      <td>경기도</td>\n",
       "      <td>경기도</td>\n",
       "      <td>계약확정</td>\n",
       "      <td>0</td>\n",
       "      <td>없음</td>\n",
       "      <td>남자</td>\n",
       "      <td>5.0</td>\n",
       "      <td>농협회원조합</td>\n",
       "    </tr>\n",
       "    <tr>\n",
       "      <th>4</th>\n",
       "      <td>5</td>\n",
       "      <td>66423204</td>\n",
       "      <td>멤버십</td>\n",
       "      <td>멤버십3유형</td>\n",
       "      <td>재계약</td>\n",
       "      <td>2022-05-09</td>\n",
       "      <td>12</td>\n",
       "      <td>CMS</td>\n",
       "      <td>DES-1</td>\n",
       "      <td>66900</td>\n",
       "      <td>개인</td>\n",
       "      <td>60.0</td>\n",
       "      <td>경기도</td>\n",
       "      <td>경기도</td>\n",
       "      <td>기간만료</td>\n",
       "      <td>12</td>\n",
       "      <td>있음</td>\n",
       "      <td>남자</td>\n",
       "      <td>8.0</td>\n",
       "      <td>농협회원조합</td>\n",
       "    </tr>\n",
       "    <tr>\n",
       "      <th>5</th>\n",
       "      <td>6</td>\n",
       "      <td>66165241</td>\n",
       "      <td>렌탈</td>\n",
       "      <td>프로모션계약</td>\n",
       "      <td>영업방판</td>\n",
       "      <td>2022-07-28</td>\n",
       "      <td>60</td>\n",
       "      <td>CMS</td>\n",
       "      <td>DES-3A</td>\n",
       "      <td>90900</td>\n",
       "      <td>개인</td>\n",
       "      <td>53.0</td>\n",
       "      <td>경상도</td>\n",
       "      <td>경상도</td>\n",
       "      <td>계약확정</td>\n",
       "      <td>0</td>\n",
       "      <td>없음</td>\n",
       "      <td>여자</td>\n",
       "      <td>5.0</td>\n",
       "      <td>농협중앙회</td>\n",
       "    </tr>\n",
       "    <tr>\n",
       "      <th>6</th>\n",
       "      <td>7</td>\n",
       "      <td>66751017</td>\n",
       "      <td>렌탈</td>\n",
       "      <td>패키지계약</td>\n",
       "      <td>홈쇼핑/방송</td>\n",
       "      <td>2022-01-29</td>\n",
       "      <td>60</td>\n",
       "      <td>카드이체</td>\n",
       "      <td>DES-1</td>\n",
       "      <td>98400</td>\n",
       "      <td>개인</td>\n",
       "      <td>66.0</td>\n",
       "      <td>경상도</td>\n",
       "      <td>경상도</td>\n",
       "      <td>계약확정</td>\n",
       "      <td>0</td>\n",
       "      <td>없음</td>\n",
       "      <td>남자</td>\n",
       "      <td>1.0</td>\n",
       "      <td>롯데카드</td>\n",
       "    </tr>\n",
       "    <tr>\n",
       "      <th>7</th>\n",
       "      <td>8</td>\n",
       "      <td>66751017</td>\n",
       "      <td>렌탈</td>\n",
       "      <td>패키지계약</td>\n",
       "      <td>홈쇼핑/방송</td>\n",
       "      <td>2022-01-16</td>\n",
       "      <td>60</td>\n",
       "      <td>카드이체</td>\n",
       "      <td>DES-2</td>\n",
       "      <td>80400</td>\n",
       "      <td>개인</td>\n",
       "      <td>66.0</td>\n",
       "      <td>경상도</td>\n",
       "      <td>경상도</td>\n",
       "      <td>계약확정</td>\n",
       "      <td>0</td>\n",
       "      <td>없음</td>\n",
       "      <td>남자</td>\n",
       "      <td>1.0</td>\n",
       "      <td>롯데카드</td>\n",
       "    </tr>\n",
       "    <tr>\n",
       "      <th>8</th>\n",
       "      <td>9</td>\n",
       "      <td>66758007</td>\n",
       "      <td>렌탈</td>\n",
       "      <td>일반계약</td>\n",
       "      <td>영업방판</td>\n",
       "      <td>2022-06-29</td>\n",
       "      <td>60</td>\n",
       "      <td>카드이체</td>\n",
       "      <td>DES-3A</td>\n",
       "      <td>102900</td>\n",
       "      <td>개인</td>\n",
       "      <td>62.0</td>\n",
       "      <td>경상도</td>\n",
       "      <td>경상도</td>\n",
       "      <td>계약확정</td>\n",
       "      <td>0</td>\n",
       "      <td>없음</td>\n",
       "      <td>여자</td>\n",
       "      <td>2.0</td>\n",
       "      <td>롯데카드</td>\n",
       "    </tr>\n",
       "    <tr>\n",
       "      <th>9</th>\n",
       "      <td>10</td>\n",
       "      <td>66756702</td>\n",
       "      <td>렌탈</td>\n",
       "      <td>프로모션계약</td>\n",
       "      <td>영업방판</td>\n",
       "      <td>2022-06-29</td>\n",
       "      <td>60</td>\n",
       "      <td>CMS</td>\n",
       "      <td>DES-1</td>\n",
       "      <td>105900</td>\n",
       "      <td>개인</td>\n",
       "      <td>51.0</td>\n",
       "      <td>경상도</td>\n",
       "      <td>경상도</td>\n",
       "      <td>계약확정</td>\n",
       "      <td>0</td>\n",
       "      <td>없음</td>\n",
       "      <td>여자</td>\n",
       "      <td>1.0</td>\n",
       "      <td>신한은행</td>\n",
       "    </tr>\n",
       "  </tbody>\n",
       "</table>\n",
       "</div>"
      ],
      "text/plain": [
       "   Index  Member_ID Sales_Type Contract_Type Channel    Datetime  Term  \\\n",
       "0      1   66758234         렌탈          일반계약    영업방판  2022-05-05    60   \n",
       "1      2   66755948         렌탈          교체계약    영업방판  2023-02-19    60   \n",
       "2      3   66756657         렌탈          일반계약  홈쇼핑/방송  2022-02-27    60   \n",
       "3      4   66423450        멤버십        멤버십3유형     재계약  2022-05-12    12   \n",
       "4      5   66423204        멤버십        멤버십3유형     재계약  2022-05-09    12   \n",
       "5      6   66165241         렌탈        프로모션계약    영업방판  2022-07-28    60   \n",
       "6      7   66751017         렌탈         패키지계약  홈쇼핑/방송  2022-01-29    60   \n",
       "7      8   66751017         렌탈         패키지계약  홈쇼핑/방송  2022-01-16    60   \n",
       "8      9   66758007         렌탈          일반계약    영업방판  2022-06-29    60   \n",
       "9     10   66756702         렌탈        프로모션계약    영업방판  2022-06-29    60   \n",
       "\n",
       "  Payment_Type Product_Type  Amount_Month Customer_Type   Age Address1  \\\n",
       "0          CMS        DES-1         96900            개인  42.0      경기도   \n",
       "1         카드이체        DES-1        102900            개인  39.0      경기도   \n",
       "2          CMS        DES-1         96900            개인  48.0      경기도   \n",
       "3          CMS        DES-1         66900            개인  39.0      경기도   \n",
       "4          CMS        DES-1         66900            개인  60.0      경기도   \n",
       "5          CMS       DES-3A         90900            개인  53.0      경상도   \n",
       "6         카드이체        DES-1         98400            개인  66.0      경상도   \n",
       "7         카드이체        DES-2         80400            개인  66.0      경상도   \n",
       "8         카드이체       DES-3A        102900            개인  62.0      경상도   \n",
       "9          CMS        DES-1        105900            개인  51.0      경상도   \n",
       "\n",
       "  Address2 State  Overdue_count Overdue_Type Gender  Credit_Rank    Bank  \n",
       "0      경기도  계약확정              0           없음     여자          9.0   새마을금고  \n",
       "1      경기도  계약확정              0           없음     남자          2.0    현대카드  \n",
       "2      경기도  계약확정              0           없음     여자          8.0    우리은행  \n",
       "3      경기도  계약확정              0           없음     남자          5.0  농협회원조합  \n",
       "4      경기도  기간만료             12           있음     남자          8.0  농협회원조합  \n",
       "5      경상도  계약확정              0           없음     여자          5.0   농협중앙회  \n",
       "6      경상도  계약확정              0           없음     남자          1.0    롯데카드  \n",
       "7      경상도  계약확정              0           없음     남자          1.0    롯데카드  \n",
       "8      경상도  계약확정              0           없음     여자          2.0    롯데카드  \n",
       "9      경상도  계약확정              0           없음     여자          1.0    신한은행  "
      ]
     },
     "execution_count": 157,
     "metadata": {},
     "output_type": "execute_result"
    }
   ],
   "source": [
    "df1.head(10)"
   ]
  },
  {
   "cell_type": "code",
   "execution_count": 158,
   "id": "485c2201-37c6-4938-9a13-54226878aaea",
   "metadata": {},
   "outputs": [
    {
     "data": {
      "text/html": [
       "<div>\n",
       "<style scoped>\n",
       "    .dataframe tbody tr th:only-of-type {\n",
       "        vertical-align: middle;\n",
       "    }\n",
       "\n",
       "    .dataframe tbody tr th {\n",
       "        vertical-align: top;\n",
       "    }\n",
       "\n",
       "    .dataframe thead th {\n",
       "        text-align: right;\n",
       "    }\n",
       "</style>\n",
       "<table border=\"1\" class=\"dataframe\">\n",
       "  <thead>\n",
       "    <tr style=\"text-align: right;\">\n",
       "      <th></th>\n",
       "      <th>Index</th>\n",
       "      <th>Member_ID</th>\n",
       "      <th>Sales_Type</th>\n",
       "      <th>Contract_Type</th>\n",
       "      <th>Channel</th>\n",
       "      <th>Datetime</th>\n",
       "      <th>Term</th>\n",
       "      <th>Payment_Type</th>\n",
       "      <th>Product_Type</th>\n",
       "      <th>Amount_Month</th>\n",
       "      <th>Customer_Type</th>\n",
       "      <th>Age</th>\n",
       "      <th>Address1</th>\n",
       "      <th>Address2</th>\n",
       "      <th>State</th>\n",
       "      <th>Overdue_count</th>\n",
       "      <th>Overdue_Type</th>\n",
       "      <th>Gender</th>\n",
       "      <th>Credit_Rank</th>\n",
       "      <th>Bank</th>\n",
       "    </tr>\n",
       "  </thead>\n",
       "  <tbody>\n",
       "    <tr>\n",
       "      <th>51296</th>\n",
       "      <td>51298</td>\n",
       "      <td>66579515</td>\n",
       "      <td>렌탈</td>\n",
       "      <td>프로모션계약</td>\n",
       "      <td>대형마트A</td>\n",
       "      <td>2022-02-28</td>\n",
       "      <td>60</td>\n",
       "      <td>CMS</td>\n",
       "      <td>DES-3A</td>\n",
       "      <td>96900</td>\n",
       "      <td>개인</td>\n",
       "      <td>47.0</td>\n",
       "      <td>경기도</td>\n",
       "      <td>경기도</td>\n",
       "      <td>계약확정</td>\n",
       "      <td>0</td>\n",
       "      <td>없음</td>\n",
       "      <td>남자</td>\n",
       "      <td>NaN</td>\n",
       "      <td>기업은행</td>\n",
       "    </tr>\n",
       "    <tr>\n",
       "      <th>51297</th>\n",
       "      <td>51299</td>\n",
       "      <td>66799558</td>\n",
       "      <td>렌탈</td>\n",
       "      <td>일반계약</td>\n",
       "      <td>대형마트A</td>\n",
       "      <td>2022-03-31</td>\n",
       "      <td>60</td>\n",
       "      <td>CMS</td>\n",
       "      <td>DES-1</td>\n",
       "      <td>96900</td>\n",
       "      <td>개인</td>\n",
       "      <td>42.0</td>\n",
       "      <td>경기도</td>\n",
       "      <td>경기도</td>\n",
       "      <td>계약확정</td>\n",
       "      <td>0</td>\n",
       "      <td>없음</td>\n",
       "      <td>여자</td>\n",
       "      <td>8.0</td>\n",
       "      <td>새마을금고</td>\n",
       "    </tr>\n",
       "    <tr>\n",
       "      <th>51298</th>\n",
       "      <td>51300</td>\n",
       "      <td>66799197</td>\n",
       "      <td>렌탈</td>\n",
       "      <td>프로모션계약</td>\n",
       "      <td>영업방판</td>\n",
       "      <td>2022-03-31</td>\n",
       "      <td>39</td>\n",
       "      <td>카드이체</td>\n",
       "      <td>ERA</td>\n",
       "      <td>120900</td>\n",
       "      <td>개인</td>\n",
       "      <td>65.0</td>\n",
       "      <td>서울특별시</td>\n",
       "      <td>서울특별시</td>\n",
       "      <td>계약확정</td>\n",
       "      <td>0</td>\n",
       "      <td>없음</td>\n",
       "      <td>여자</td>\n",
       "      <td>1.0</td>\n",
       "      <td>롯데카드</td>\n",
       "    </tr>\n",
       "    <tr>\n",
       "      <th>51299</th>\n",
       "      <td>51301</td>\n",
       "      <td>66792778</td>\n",
       "      <td>렌탈</td>\n",
       "      <td>일반계약</td>\n",
       "      <td>홈쇼핑/방송</td>\n",
       "      <td>2023-02-05</td>\n",
       "      <td>60</td>\n",
       "      <td>카드이체</td>\n",
       "      <td>DES-1</td>\n",
       "      <td>96900</td>\n",
       "      <td>개인</td>\n",
       "      <td>54.0</td>\n",
       "      <td>서울특별시</td>\n",
       "      <td>서울특별시</td>\n",
       "      <td>계약확정</td>\n",
       "      <td>0</td>\n",
       "      <td>없음</td>\n",
       "      <td>여자</td>\n",
       "      <td>2.0</td>\n",
       "      <td>롯데카드</td>\n",
       "    </tr>\n",
       "    <tr>\n",
       "      <th>51300</th>\n",
       "      <td>51302</td>\n",
       "      <td>66799607</td>\n",
       "      <td>렌탈</td>\n",
       "      <td>일반계약</td>\n",
       "      <td>홈쇼핑/방송</td>\n",
       "      <td>2022-04-23</td>\n",
       "      <td>60</td>\n",
       "      <td>CMS</td>\n",
       "      <td>DES-1</td>\n",
       "      <td>96900</td>\n",
       "      <td>개인</td>\n",
       "      <td>53.0</td>\n",
       "      <td>서울특별시</td>\n",
       "      <td>서울특별시</td>\n",
       "      <td>계약확정</td>\n",
       "      <td>0</td>\n",
       "      <td>없음</td>\n",
       "      <td>여자</td>\n",
       "      <td>8.0</td>\n",
       "      <td>신한은행</td>\n",
       "    </tr>\n",
       "  </tbody>\n",
       "</table>\n",
       "</div>"
      ],
      "text/plain": [
       "       Index  Member_ID Sales_Type Contract_Type Channel    Datetime  Term  \\\n",
       "51296  51298   66579515         렌탈        프로모션계약   대형마트A  2022-02-28    60   \n",
       "51297  51299   66799558         렌탈          일반계약   대형마트A  2022-03-31    60   \n",
       "51298  51300   66799197         렌탈        프로모션계약    영업방판  2022-03-31    39   \n",
       "51299  51301   66792778         렌탈          일반계약  홈쇼핑/방송  2023-02-05    60   \n",
       "51300  51302   66799607         렌탈          일반계약  홈쇼핑/방송  2022-04-23    60   \n",
       "\n",
       "      Payment_Type Product_Type  Amount_Month Customer_Type   Age Address1  \\\n",
       "51296          CMS       DES-3A         96900            개인  47.0      경기도   \n",
       "51297          CMS        DES-1         96900            개인  42.0      경기도   \n",
       "51298         카드이체          ERA        120900            개인  65.0    서울특별시   \n",
       "51299         카드이체        DES-1         96900            개인  54.0    서울특별시   \n",
       "51300          CMS        DES-1         96900            개인  53.0    서울특별시   \n",
       "\n",
       "      Address2 State  Overdue_count Overdue_Type Gender  Credit_Rank   Bank  \n",
       "51296      경기도  계약확정              0           없음     남자          NaN   기업은행  \n",
       "51297      경기도  계약확정              0           없음     여자          8.0  새마을금고  \n",
       "51298    서울특별시  계약확정              0           없음     여자          1.0   롯데카드  \n",
       "51299    서울특별시  계약확정              0           없음     여자          2.0   롯데카드  \n",
       "51300    서울특별시  계약확정              0           없음     여자          8.0   신한은행  "
      ]
     },
     "execution_count": 158,
     "metadata": {},
     "output_type": "execute_result"
    }
   ],
   "source": [
    "# 뒤에서 부터 확인\n",
    "df1.tail()"
   ]
  },
  {
   "cell_type": "code",
   "execution_count": 164,
   "id": "76490f84-b6d5-49e2-81de-62f414806f4e",
   "metadata": {},
   "outputs": [
    {
     "data": {
      "text/html": [
       "<div>\n",
       "<style scoped>\n",
       "    .dataframe tbody tr th:only-of-type {\n",
       "        vertical-align: middle;\n",
       "    }\n",
       "\n",
       "    .dataframe tbody tr th {\n",
       "        vertical-align: top;\n",
       "    }\n",
       "\n",
       "    .dataframe thead th {\n",
       "        text-align: right;\n",
       "    }\n",
       "</style>\n",
       "<table border=\"1\" class=\"dataframe\">\n",
       "  <thead>\n",
       "    <tr style=\"text-align: right;\">\n",
       "      <th></th>\n",
       "      <th>Index</th>\n",
       "      <th>Member_ID</th>\n",
       "      <th>Sales_Type</th>\n",
       "      <th>Contract_Type</th>\n",
       "      <th>Channel</th>\n",
       "      <th>Datetime</th>\n",
       "      <th>Term</th>\n",
       "      <th>Payment_Type</th>\n",
       "      <th>Product_Type</th>\n",
       "      <th>Amount_Month</th>\n",
       "      <th>Customer_Type</th>\n",
       "      <th>Age</th>\n",
       "      <th>Address1</th>\n",
       "      <th>Address2</th>\n",
       "      <th>State</th>\n",
       "      <th>Overdue_count</th>\n",
       "      <th>Overdue_Type</th>\n",
       "      <th>Gender</th>\n",
       "      <th>Credit_Rank</th>\n",
       "      <th>Bank</th>\n",
       "    </tr>\n",
       "  </thead>\n",
       "  <tbody>\n",
       "    <tr>\n",
       "      <th>50</th>\n",
       "      <td>51</td>\n",
       "      <td>66758548</td>\n",
       "      <td>렌탈</td>\n",
       "      <td>일반계약</td>\n",
       "      <td>영업방판</td>\n",
       "      <td>2022-03-30</td>\n",
       "      <td>60</td>\n",
       "      <td>CMS</td>\n",
       "      <td>DES-1</td>\n",
       "      <td>96900</td>\n",
       "      <td>개인</td>\n",
       "      <td>57.0</td>\n",
       "      <td>서울특별시</td>\n",
       "      <td>서울특별시</td>\n",
       "      <td>계약확정</td>\n",
       "      <td>0</td>\n",
       "      <td>없음</td>\n",
       "      <td>남자</td>\n",
       "      <td>4.0</td>\n",
       "      <td>국민은행</td>\n",
       "    </tr>\n",
       "    <tr>\n",
       "      <th>51</th>\n",
       "      <td>52</td>\n",
       "      <td>66758162</td>\n",
       "      <td>렌탈</td>\n",
       "      <td>패키지계약</td>\n",
       "      <td>홈쇼핑/방송</td>\n",
       "      <td>2022-10-02</td>\n",
       "      <td>60</td>\n",
       "      <td>카드이체</td>\n",
       "      <td>DES-1</td>\n",
       "      <td>98400</td>\n",
       "      <td>개인</td>\n",
       "      <td>50.0</td>\n",
       "      <td>서울특별시</td>\n",
       "      <td>서울특별시</td>\n",
       "      <td>계약확정</td>\n",
       "      <td>0</td>\n",
       "      <td>없음</td>\n",
       "      <td>남자</td>\n",
       "      <td>5.0</td>\n",
       "      <td>국민카드</td>\n",
       "    </tr>\n",
       "    <tr>\n",
       "      <th>52</th>\n",
       "      <td>53</td>\n",
       "      <td>66758162</td>\n",
       "      <td>렌탈</td>\n",
       "      <td>패키지계약</td>\n",
       "      <td>홈쇼핑/방송</td>\n",
       "      <td>2022-05-03</td>\n",
       "      <td>60</td>\n",
       "      <td>카드이체</td>\n",
       "      <td>DES-2</td>\n",
       "      <td>80400</td>\n",
       "      <td>개인</td>\n",
       "      <td>50.0</td>\n",
       "      <td>서울특별시</td>\n",
       "      <td>서울특별시</td>\n",
       "      <td>계약확정</td>\n",
       "      <td>0</td>\n",
       "      <td>없음</td>\n",
       "      <td>남자</td>\n",
       "      <td>5.0</td>\n",
       "      <td>국민카드</td>\n",
       "    </tr>\n",
       "    <tr>\n",
       "      <th>53</th>\n",
       "      <td>54</td>\n",
       "      <td>66590304</td>\n",
       "      <td>렌탈</td>\n",
       "      <td>프로모션계약</td>\n",
       "      <td>영업방판</td>\n",
       "      <td>2021-12-31</td>\n",
       "      <td>60</td>\n",
       "      <td>CMS</td>\n",
       "      <td>DES-2</td>\n",
       "      <td>90900</td>\n",
       "      <td>개인</td>\n",
       "      <td>43.0</td>\n",
       "      <td>서울특별시</td>\n",
       "      <td>서울특별시</td>\n",
       "      <td>계약확정</td>\n",
       "      <td>0</td>\n",
       "      <td>없음</td>\n",
       "      <td>남자</td>\n",
       "      <td>4.0</td>\n",
       "      <td>신한은행</td>\n",
       "    </tr>\n",
       "    <tr>\n",
       "      <th>54</th>\n",
       "      <td>55</td>\n",
       "      <td>66670488</td>\n",
       "      <td>렌탈</td>\n",
       "      <td>프로모션계약</td>\n",
       "      <td>영업방판</td>\n",
       "      <td>2022-04-02</td>\n",
       "      <td>60</td>\n",
       "      <td>CMS</td>\n",
       "      <td>DES-1</td>\n",
       "      <td>96900</td>\n",
       "      <td>개인</td>\n",
       "      <td>34.0</td>\n",
       "      <td>서울특별시</td>\n",
       "      <td>서울특별시</td>\n",
       "      <td>계약확정</td>\n",
       "      <td>0</td>\n",
       "      <td>없음</td>\n",
       "      <td>여자</td>\n",
       "      <td>4.0</td>\n",
       "      <td>우리은행</td>\n",
       "    </tr>\n",
       "    <tr>\n",
       "      <th>55</th>\n",
       "      <td>56</td>\n",
       "      <td>25856039</td>\n",
       "      <td>렌탈</td>\n",
       "      <td>교체계약</td>\n",
       "      <td>영업방판</td>\n",
       "      <td>2022-04-30</td>\n",
       "      <td>60</td>\n",
       "      <td>CMS</td>\n",
       "      <td>DES-1</td>\n",
       "      <td>96900</td>\n",
       "      <td>사업자</td>\n",
       "      <td>NaN</td>\n",
       "      <td>경상도</td>\n",
       "      <td>부산광역시</td>\n",
       "      <td>계약확정</td>\n",
       "      <td>0</td>\n",
       "      <td>없음</td>\n",
       "      <td>여자</td>\n",
       "      <td>NaN</td>\n",
       "      <td>농협중앙회</td>\n",
       "    </tr>\n",
       "    <tr>\n",
       "      <th>56</th>\n",
       "      <td>57</td>\n",
       "      <td>25869517</td>\n",
       "      <td>렌탈</td>\n",
       "      <td>프로모션계약</td>\n",
       "      <td>영업방판</td>\n",
       "      <td>2022-07-21</td>\n",
       "      <td>60</td>\n",
       "      <td>가상계좌</td>\n",
       "      <td>DES-1</td>\n",
       "      <td>96900</td>\n",
       "      <td>사업자</td>\n",
       "      <td>NaN</td>\n",
       "      <td>경상도</td>\n",
       "      <td>부산광역시</td>\n",
       "      <td>계약확정</td>\n",
       "      <td>0</td>\n",
       "      <td>없음</td>\n",
       "      <td>여자</td>\n",
       "      <td>NaN</td>\n",
       "      <td>NaN</td>\n",
       "    </tr>\n",
       "    <tr>\n",
       "      <th>57</th>\n",
       "      <td>58</td>\n",
       "      <td>66757967</td>\n",
       "      <td>렌탈</td>\n",
       "      <td>프로모션계약</td>\n",
       "      <td>영업방판</td>\n",
       "      <td>2022-08-20</td>\n",
       "      <td>60</td>\n",
       "      <td>카드이체</td>\n",
       "      <td>DES-1</td>\n",
       "      <td>105900</td>\n",
       "      <td>개인</td>\n",
       "      <td>37.0</td>\n",
       "      <td>경상도</td>\n",
       "      <td>경상도</td>\n",
       "      <td>계약확정</td>\n",
       "      <td>0</td>\n",
       "      <td>없음</td>\n",
       "      <td>여자</td>\n",
       "      <td>5.0</td>\n",
       "      <td>롯데카드</td>\n",
       "    </tr>\n",
       "    <tr>\n",
       "      <th>58</th>\n",
       "      <td>59</td>\n",
       "      <td>66260467</td>\n",
       "      <td>렌탈</td>\n",
       "      <td>교체계약</td>\n",
       "      <td>영업방판</td>\n",
       "      <td>2022-02-15</td>\n",
       "      <td>60</td>\n",
       "      <td>CMS</td>\n",
       "      <td>DES-1</td>\n",
       "      <td>96900</td>\n",
       "      <td>개인</td>\n",
       "      <td>42.0</td>\n",
       "      <td>경상도</td>\n",
       "      <td>경상도</td>\n",
       "      <td>계약확정</td>\n",
       "      <td>0</td>\n",
       "      <td>없음</td>\n",
       "      <td>여자</td>\n",
       "      <td>1.0</td>\n",
       "      <td>우리은행</td>\n",
       "    </tr>\n",
       "    <tr>\n",
       "      <th>59</th>\n",
       "      <td>60</td>\n",
       "      <td>66758899</td>\n",
       "      <td>렌탈</td>\n",
       "      <td>패키지계약</td>\n",
       "      <td>전문매장H</td>\n",
       "      <td>2022-07-29</td>\n",
       "      <td>60</td>\n",
       "      <td>CMS</td>\n",
       "      <td>DES-1</td>\n",
       "      <td>81900</td>\n",
       "      <td>개인</td>\n",
       "      <td>67.0</td>\n",
       "      <td>경상도</td>\n",
       "      <td>경상도</td>\n",
       "      <td>계약확정</td>\n",
       "      <td>0</td>\n",
       "      <td>없음</td>\n",
       "      <td>남자</td>\n",
       "      <td>2.0</td>\n",
       "      <td>대구은행</td>\n",
       "    </tr>\n",
       "    <tr>\n",
       "      <th>60</th>\n",
       "      <td>61</td>\n",
       "      <td>66758899</td>\n",
       "      <td>렌탈</td>\n",
       "      <td>패키지계약</td>\n",
       "      <td>전문매장H</td>\n",
       "      <td>2023-01-21</td>\n",
       "      <td>60</td>\n",
       "      <td>CMS</td>\n",
       "      <td>DES-2</td>\n",
       "      <td>81900</td>\n",
       "      <td>개인</td>\n",
       "      <td>67.0</td>\n",
       "      <td>경상도</td>\n",
       "      <td>경상도</td>\n",
       "      <td>계약확정</td>\n",
       "      <td>0</td>\n",
       "      <td>없음</td>\n",
       "      <td>남자</td>\n",
       "      <td>2.0</td>\n",
       "      <td>대구은행</td>\n",
       "    </tr>\n",
       "  </tbody>\n",
       "</table>\n",
       "</div>"
      ],
      "text/plain": [
       "    Index  Member_ID Sales_Type Contract_Type Channel    Datetime  Term  \\\n",
       "50     51   66758548         렌탈          일반계약    영업방판  2022-03-30    60   \n",
       "51     52   66758162         렌탈         패키지계약  홈쇼핑/방송  2022-10-02    60   \n",
       "52     53   66758162         렌탈         패키지계약  홈쇼핑/방송  2022-05-03    60   \n",
       "53     54   66590304         렌탈        프로모션계약    영업방판  2021-12-31    60   \n",
       "54     55   66670488         렌탈        프로모션계약    영업방판  2022-04-02    60   \n",
       "55     56   25856039         렌탈          교체계약    영업방판  2022-04-30    60   \n",
       "56     57   25869517         렌탈        프로모션계약    영업방판  2022-07-21    60   \n",
       "57     58   66757967         렌탈        프로모션계약    영업방판  2022-08-20    60   \n",
       "58     59   66260467         렌탈          교체계약    영업방판  2022-02-15    60   \n",
       "59     60   66758899         렌탈         패키지계약   전문매장H  2022-07-29    60   \n",
       "60     61   66758899         렌탈         패키지계약   전문매장H  2023-01-21    60   \n",
       "\n",
       "   Payment_Type Product_Type  Amount_Month Customer_Type   Age Address1  \\\n",
       "50          CMS        DES-1         96900            개인  57.0    서울특별시   \n",
       "51         카드이체        DES-1         98400            개인  50.0    서울특별시   \n",
       "52         카드이체        DES-2         80400            개인  50.0    서울특별시   \n",
       "53          CMS        DES-2         90900            개인  43.0    서울특별시   \n",
       "54          CMS        DES-1         96900            개인  34.0    서울특별시   \n",
       "55          CMS        DES-1         96900           사업자   NaN      경상도   \n",
       "56         가상계좌        DES-1         96900           사업자   NaN      경상도   \n",
       "57         카드이체        DES-1        105900            개인  37.0      경상도   \n",
       "58          CMS        DES-1         96900            개인  42.0      경상도   \n",
       "59          CMS        DES-1         81900            개인  67.0      경상도   \n",
       "60          CMS        DES-2         81900            개인  67.0      경상도   \n",
       "\n",
       "   Address2 State  Overdue_count Overdue_Type Gender  Credit_Rank   Bank  \n",
       "50    서울특별시  계약확정              0           없음     남자          4.0   국민은행  \n",
       "51    서울특별시  계약확정              0           없음     남자          5.0   국민카드  \n",
       "52    서울특별시  계약확정              0           없음     남자          5.0   국민카드  \n",
       "53    서울특별시  계약확정              0           없음     남자          4.0   신한은행  \n",
       "54    서울특별시  계약확정              0           없음     여자          4.0   우리은행  \n",
       "55    부산광역시  계약확정              0           없음     여자          NaN  농협중앙회  \n",
       "56    부산광역시  계약확정              0           없음     여자          NaN    NaN  \n",
       "57      경상도  계약확정              0           없음     여자          5.0   롯데카드  \n",
       "58      경상도  계약확정              0           없음     여자          1.0   우리은행  \n",
       "59      경상도  계약확정              0           없음     남자          2.0   대구은행  \n",
       "60      경상도  계약확정              0           없음     남자          2.0   대구은행  "
      ]
     },
     "execution_count": 164,
     "metadata": {},
     "output_type": "execute_result"
    }
   ],
   "source": [
    "df1.iloc[50:61]"
   ]
  },
  {
   "cell_type": "code",
   "execution_count": 161,
   "id": "a8d1c2cc-d1ca-4151-9472-08e80b542943",
   "metadata": {},
   "outputs": [],
   "source": [
    "# 엑셀로 저장\n",
    "df1.iloc[50:61].to_excel('result.xlsx')"
   ]
  },
  {
   "cell_type": "code",
   "execution_count": 162,
   "id": "b01ac4c3-7794-4ced-a008-99c51424a3db",
   "metadata": {},
   "outputs": [],
   "source": [
    "df1.iloc[50:61].to_csv('result_1.xlsx')"
   ]
  },
  {
   "cell_type": "code",
   "execution_count": 165,
   "id": "c0866fb6-1c73-4507-ac52-a91746aed4de",
   "metadata": {},
   "outputs": [
    {
     "data": {
      "text/plain": [
       "0         96900\n",
       "1        102900\n",
       "2         96900\n",
       "3         66900\n",
       "4         66900\n",
       "          ...  \n",
       "51296     96900\n",
       "51297     96900\n",
       "51298    120900\n",
       "51299     96900\n",
       "51300     96900\n",
       "Name: Amount_Month, Length: 51301, dtype: int64"
      ]
     },
     "execution_count": 165,
     "metadata": {},
     "output_type": "execute_result"
    }
   ],
   "source": [
    "# 열 단위 추출\n",
    "df1['Amount_Month']"
   ]
  },
  {
   "cell_type": "code",
   "execution_count": 166,
   "id": "0cf47a6c-e13d-4ce9-8430-707d69fc77f2",
   "metadata": {},
   "outputs": [
    {
     "data": {
      "text/html": [
       "<div>\n",
       "<style scoped>\n",
       "    .dataframe tbody tr th:only-of-type {\n",
       "        vertical-align: middle;\n",
       "    }\n",
       "\n",
       "    .dataframe tbody tr th {\n",
       "        vertical-align: top;\n",
       "    }\n",
       "\n",
       "    .dataframe thead th {\n",
       "        text-align: right;\n",
       "    }\n",
       "</style>\n",
       "<table border=\"1\" class=\"dataframe\">\n",
       "  <thead>\n",
       "    <tr style=\"text-align: right;\">\n",
       "      <th></th>\n",
       "      <th>Amount_Month</th>\n",
       "    </tr>\n",
       "  </thead>\n",
       "  <tbody>\n",
       "    <tr>\n",
       "      <th>0</th>\n",
       "      <td>96900</td>\n",
       "    </tr>\n",
       "    <tr>\n",
       "      <th>1</th>\n",
       "      <td>102900</td>\n",
       "    </tr>\n",
       "    <tr>\n",
       "      <th>2</th>\n",
       "      <td>96900</td>\n",
       "    </tr>\n",
       "    <tr>\n",
       "      <th>3</th>\n",
       "      <td>66900</td>\n",
       "    </tr>\n",
       "    <tr>\n",
       "      <th>4</th>\n",
       "      <td>66900</td>\n",
       "    </tr>\n",
       "    <tr>\n",
       "      <th>...</th>\n",
       "      <td>...</td>\n",
       "    </tr>\n",
       "    <tr>\n",
       "      <th>51296</th>\n",
       "      <td>96900</td>\n",
       "    </tr>\n",
       "    <tr>\n",
       "      <th>51297</th>\n",
       "      <td>96900</td>\n",
       "    </tr>\n",
       "    <tr>\n",
       "      <th>51298</th>\n",
       "      <td>120900</td>\n",
       "    </tr>\n",
       "    <tr>\n",
       "      <th>51299</th>\n",
       "      <td>96900</td>\n",
       "    </tr>\n",
       "    <tr>\n",
       "      <th>51300</th>\n",
       "      <td>96900</td>\n",
       "    </tr>\n",
       "  </tbody>\n",
       "</table>\n",
       "<p>51301 rows × 1 columns</p>\n",
       "</div>"
      ],
      "text/plain": [
       "       Amount_Month\n",
       "0             96900\n",
       "1            102900\n",
       "2             96900\n",
       "3             66900\n",
       "4             66900\n",
       "...             ...\n",
       "51296         96900\n",
       "51297         96900\n",
       "51298        120900\n",
       "51299         96900\n",
       "51300         96900\n",
       "\n",
       "[51301 rows x 1 columns]"
      ]
     },
     "execution_count": 166,
     "metadata": {},
     "output_type": "execute_result"
    }
   ],
   "source": [
    "# 이중리스트 사용 시 데이터 프레임 형태로 출력\n",
    "# 여러 컬럼을 출력하는 경우에도 이중 리스트 사용\n",
    "df1[['Amount_Month']]"
   ]
  },
  {
   "cell_type": "code",
   "execution_count": 167,
   "id": "f43ba2a6-a846-4af9-9d1c-ce70c3e9097a",
   "metadata": {},
   "outputs": [
    {
     "data": {
      "text/html": [
       "<div>\n",
       "<style scoped>\n",
       "    .dataframe tbody tr th:only-of-type {\n",
       "        vertical-align: middle;\n",
       "    }\n",
       "\n",
       "    .dataframe tbody tr th {\n",
       "        vertical-align: top;\n",
       "    }\n",
       "\n",
       "    .dataframe thead th {\n",
       "        text-align: right;\n",
       "    }\n",
       "</style>\n",
       "<table border=\"1\" class=\"dataframe\">\n",
       "  <thead>\n",
       "    <tr style=\"text-align: right;\">\n",
       "      <th></th>\n",
       "      <th>Age</th>\n",
       "      <th>Amount_Month</th>\n",
       "    </tr>\n",
       "  </thead>\n",
       "  <tbody>\n",
       "    <tr>\n",
       "      <th>0</th>\n",
       "      <td>42.0</td>\n",
       "      <td>96900</td>\n",
       "    </tr>\n",
       "    <tr>\n",
       "      <th>1</th>\n",
       "      <td>39.0</td>\n",
       "      <td>102900</td>\n",
       "    </tr>\n",
       "    <tr>\n",
       "      <th>2</th>\n",
       "      <td>48.0</td>\n",
       "      <td>96900</td>\n",
       "    </tr>\n",
       "    <tr>\n",
       "      <th>3</th>\n",
       "      <td>39.0</td>\n",
       "      <td>66900</td>\n",
       "    </tr>\n",
       "    <tr>\n",
       "      <th>4</th>\n",
       "      <td>60.0</td>\n",
       "      <td>66900</td>\n",
       "    </tr>\n",
       "    <tr>\n",
       "      <th>...</th>\n",
       "      <td>...</td>\n",
       "      <td>...</td>\n",
       "    </tr>\n",
       "    <tr>\n",
       "      <th>51296</th>\n",
       "      <td>47.0</td>\n",
       "      <td>96900</td>\n",
       "    </tr>\n",
       "    <tr>\n",
       "      <th>51297</th>\n",
       "      <td>42.0</td>\n",
       "      <td>96900</td>\n",
       "    </tr>\n",
       "    <tr>\n",
       "      <th>51298</th>\n",
       "      <td>65.0</td>\n",
       "      <td>120900</td>\n",
       "    </tr>\n",
       "    <tr>\n",
       "      <th>51299</th>\n",
       "      <td>54.0</td>\n",
       "      <td>96900</td>\n",
       "    </tr>\n",
       "    <tr>\n",
       "      <th>51300</th>\n",
       "      <td>53.0</td>\n",
       "      <td>96900</td>\n",
       "    </tr>\n",
       "  </tbody>\n",
       "</table>\n",
       "<p>51301 rows × 2 columns</p>\n",
       "</div>"
      ],
      "text/plain": [
       "        Age  Amount_Month\n",
       "0      42.0         96900\n",
       "1      39.0        102900\n",
       "2      48.0         96900\n",
       "3      39.0         66900\n",
       "4      60.0         66900\n",
       "...     ...           ...\n",
       "51296  47.0         96900\n",
       "51297  42.0         96900\n",
       "51298  65.0        120900\n",
       "51299  54.0         96900\n",
       "51300  53.0         96900\n",
       "\n",
       "[51301 rows x 2 columns]"
      ]
     },
     "execution_count": 167,
     "metadata": {},
     "output_type": "execute_result"
    }
   ],
   "source": [
    "df1[['Age','Amount_Month']]"
   ]
  },
  {
   "cell_type": "code",
   "execution_count": 169,
   "id": "11c704c0-e39b-4fea-a8dd-1b7c7d8d236a",
   "metadata": {},
   "outputs": [],
   "source": [
    "# 열단위 추출 후 csv파일로 저장\n",
    "df1[['Age','Amount_Month']].head(100).to_csv('age_100.csv')"
   ]
  },
  {
   "cell_type": "markdown",
   "id": "45b29883-4c01-43fb-9c30-7eae5da7eec9",
   "metadata": {},
   "source": [
    "## 데이터 정렬\n",
    "- .sort_values(옵션 by=,ascending = False)"
   ]
  },
  {
   "cell_type": "code",
   "execution_count": 170,
   "id": "97ddd74e-4b38-4899-b9d1-0960fdec10f0",
   "metadata": {},
   "outputs": [
    {
     "data": {
      "text/html": [
       "<div>\n",
       "<style scoped>\n",
       "    .dataframe tbody tr th:only-of-type {\n",
       "        vertical-align: middle;\n",
       "    }\n",
       "\n",
       "    .dataframe tbody tr th {\n",
       "        vertical-align: top;\n",
       "    }\n",
       "\n",
       "    .dataframe thead th {\n",
       "        text-align: right;\n",
       "    }\n",
       "</style>\n",
       "<table border=\"1\" class=\"dataframe\">\n",
       "  <thead>\n",
       "    <tr style=\"text-align: right;\">\n",
       "      <th></th>\n",
       "      <th>Index</th>\n",
       "      <th>Member_ID</th>\n",
       "      <th>Sales_Type</th>\n",
       "      <th>Contract_Type</th>\n",
       "      <th>Channel</th>\n",
       "      <th>Datetime</th>\n",
       "      <th>Term</th>\n",
       "      <th>Payment_Type</th>\n",
       "      <th>Product_Type</th>\n",
       "      <th>Amount_Month</th>\n",
       "      <th>Customer_Type</th>\n",
       "      <th>Age</th>\n",
       "      <th>Address1</th>\n",
       "      <th>Address2</th>\n",
       "      <th>State</th>\n",
       "      <th>Overdue_count</th>\n",
       "      <th>Overdue_Type</th>\n",
       "      <th>Gender</th>\n",
       "      <th>Credit_Rank</th>\n",
       "      <th>Bank</th>\n",
       "    </tr>\n",
       "  </thead>\n",
       "  <tbody>\n",
       "    <tr>\n",
       "      <th>35768</th>\n",
       "      <td>35770</td>\n",
       "      <td>66784964</td>\n",
       "      <td>멤버십</td>\n",
       "      <td>멤버십2유형</td>\n",
       "      <td>전문매장H</td>\n",
       "      <td>2022-02-06</td>\n",
       "      <td>36</td>\n",
       "      <td>무통장</td>\n",
       "      <td>DES-1</td>\n",
       "      <td>54603</td>\n",
       "      <td>개인</td>\n",
       "      <td>NaN</td>\n",
       "      <td>경기도</td>\n",
       "      <td>경기도</td>\n",
       "      <td>계약확정</td>\n",
       "      <td>0</td>\n",
       "      <td>없음</td>\n",
       "      <td>여자</td>\n",
       "      <td>NaN</td>\n",
       "      <td>NaN</td>\n",
       "    </tr>\n",
       "    <tr>\n",
       "      <th>43022</th>\n",
       "      <td>43024</td>\n",
       "      <td>66792946</td>\n",
       "      <td>멤버십</td>\n",
       "      <td>멤버십2유형</td>\n",
       "      <td>전문매장H</td>\n",
       "      <td>2023-06-30</td>\n",
       "      <td>36</td>\n",
       "      <td>무통장</td>\n",
       "      <td>DES-1</td>\n",
       "      <td>54603</td>\n",
       "      <td>개인</td>\n",
       "      <td>NaN</td>\n",
       "      <td>전라도</td>\n",
       "      <td>광주광역시</td>\n",
       "      <td>계약확정</td>\n",
       "      <td>0</td>\n",
       "      <td>없음</td>\n",
       "      <td>여자</td>\n",
       "      <td>NaN</td>\n",
       "      <td>NaN</td>\n",
       "    </tr>\n",
       "    <tr>\n",
       "      <th>49993</th>\n",
       "      <td>49995</td>\n",
       "      <td>66796388</td>\n",
       "      <td>멤버십</td>\n",
       "      <td>멤버십2유형</td>\n",
       "      <td>전문매장H</td>\n",
       "      <td>2023-03-25</td>\n",
       "      <td>36</td>\n",
       "      <td>무통장</td>\n",
       "      <td>DES-1</td>\n",
       "      <td>54603</td>\n",
       "      <td>개인</td>\n",
       "      <td>NaN</td>\n",
       "      <td>서울특별시</td>\n",
       "      <td>서울특별시</td>\n",
       "      <td>계약확정</td>\n",
       "      <td>0</td>\n",
       "      <td>없음</td>\n",
       "      <td>여자</td>\n",
       "      <td>NaN</td>\n",
       "      <td>NaN</td>\n",
       "    </tr>\n",
       "    <tr>\n",
       "      <th>33803</th>\n",
       "      <td>33805</td>\n",
       "      <td>66783630</td>\n",
       "      <td>멤버십</td>\n",
       "      <td>멤버십2유형</td>\n",
       "      <td>전문매장H</td>\n",
       "      <td>2023-07-28</td>\n",
       "      <td>36</td>\n",
       "      <td>무통장</td>\n",
       "      <td>DES-1</td>\n",
       "      <td>54603</td>\n",
       "      <td>개인</td>\n",
       "      <td>NaN</td>\n",
       "      <td>경기도</td>\n",
       "      <td>인천광역시</td>\n",
       "      <td>계약확정</td>\n",
       "      <td>0</td>\n",
       "      <td>없음</td>\n",
       "      <td>여자</td>\n",
       "      <td>NaN</td>\n",
       "      <td>NaN</td>\n",
       "    </tr>\n",
       "    <tr>\n",
       "      <th>45246</th>\n",
       "      <td>45248</td>\n",
       "      <td>66793779</td>\n",
       "      <td>멤버십</td>\n",
       "      <td>멤버십2유형</td>\n",
       "      <td>전문매장H</td>\n",
       "      <td>2022-07-15</td>\n",
       "      <td>36</td>\n",
       "      <td>무통장</td>\n",
       "      <td>DES-1</td>\n",
       "      <td>54603</td>\n",
       "      <td>개인</td>\n",
       "      <td>NaN</td>\n",
       "      <td>서울특별시</td>\n",
       "      <td>서울특별시</td>\n",
       "      <td>계약확정</td>\n",
       "      <td>0</td>\n",
       "      <td>없음</td>\n",
       "      <td>여자</td>\n",
       "      <td>NaN</td>\n",
       "      <td>NaN</td>\n",
       "    </tr>\n",
       "    <tr>\n",
       "      <th>...</th>\n",
       "      <td>...</td>\n",
       "      <td>...</td>\n",
       "      <td>...</td>\n",
       "      <td>...</td>\n",
       "      <td>...</td>\n",
       "      <td>...</td>\n",
       "      <td>...</td>\n",
       "      <td>...</td>\n",
       "      <td>...</td>\n",
       "      <td>...</td>\n",
       "      <td>...</td>\n",
       "      <td>...</td>\n",
       "      <td>...</td>\n",
       "      <td>...</td>\n",
       "      <td>...</td>\n",
       "      <td>...</td>\n",
       "      <td>...</td>\n",
       "      <td>...</td>\n",
       "      <td>...</td>\n",
       "      <td>...</td>\n",
       "    </tr>\n",
       "    <tr>\n",
       "      <th>5399</th>\n",
       "      <td>5400</td>\n",
       "      <td>25742182</td>\n",
       "      <td>렌탈</td>\n",
       "      <td>프로모션계약</td>\n",
       "      <td>영업방판</td>\n",
       "      <td>2022-05-17</td>\n",
       "      <td>39</td>\n",
       "      <td>CMS</td>\n",
       "      <td>MMC</td>\n",
       "      <td>215700</td>\n",
       "      <td>사업자</td>\n",
       "      <td>NaN</td>\n",
       "      <td>경기도</td>\n",
       "      <td>경기도</td>\n",
       "      <td>계약확정</td>\n",
       "      <td>1</td>\n",
       "      <td>있음</td>\n",
       "      <td>여자</td>\n",
       "      <td>NaN</td>\n",
       "      <td>신한은행</td>\n",
       "    </tr>\n",
       "    <tr>\n",
       "      <th>49896</th>\n",
       "      <td>49898</td>\n",
       "      <td>25731710</td>\n",
       "      <td>렌탈</td>\n",
       "      <td>프로모션계약</td>\n",
       "      <td>영업방판</td>\n",
       "      <td>2022-09-29</td>\n",
       "      <td>39</td>\n",
       "      <td>가상계좌</td>\n",
       "      <td>MMC</td>\n",
       "      <td>215700</td>\n",
       "      <td>사업자</td>\n",
       "      <td>NaN</td>\n",
       "      <td>경기도</td>\n",
       "      <td>경기도</td>\n",
       "      <td>계약확정</td>\n",
       "      <td>0</td>\n",
       "      <td>없음</td>\n",
       "      <td>여자</td>\n",
       "      <td>NaN</td>\n",
       "      <td>NaN</td>\n",
       "    </tr>\n",
       "    <tr>\n",
       "      <th>49897</th>\n",
       "      <td>49899</td>\n",
       "      <td>25731710</td>\n",
       "      <td>렌탈</td>\n",
       "      <td>프로모션계약</td>\n",
       "      <td>영업방판</td>\n",
       "      <td>2022-12-05</td>\n",
       "      <td>39</td>\n",
       "      <td>가상계좌</td>\n",
       "      <td>MMC</td>\n",
       "      <td>215700</td>\n",
       "      <td>사업자</td>\n",
       "      <td>NaN</td>\n",
       "      <td>경기도</td>\n",
       "      <td>경기도</td>\n",
       "      <td>계약확정</td>\n",
       "      <td>0</td>\n",
       "      <td>없음</td>\n",
       "      <td>여자</td>\n",
       "      <td>NaN</td>\n",
       "      <td>NaN</td>\n",
       "    </tr>\n",
       "    <tr>\n",
       "      <th>28147</th>\n",
       "      <td>28149</td>\n",
       "      <td>25704137</td>\n",
       "      <td>렌탈</td>\n",
       "      <td>프로모션계약</td>\n",
       "      <td>전단홍보</td>\n",
       "      <td>2022-07-24</td>\n",
       "      <td>39</td>\n",
       "      <td>CMS</td>\n",
       "      <td>MMC</td>\n",
       "      <td>215700</td>\n",
       "      <td>사업자</td>\n",
       "      <td>NaN</td>\n",
       "      <td>경상도</td>\n",
       "      <td>경상도</td>\n",
       "      <td>계약확정</td>\n",
       "      <td>0</td>\n",
       "      <td>없음</td>\n",
       "      <td>여자</td>\n",
       "      <td>NaN</td>\n",
       "      <td>국민은행</td>\n",
       "    </tr>\n",
       "    <tr>\n",
       "      <th>38497</th>\n",
       "      <td>38499</td>\n",
       "      <td>25734005</td>\n",
       "      <td>렌탈</td>\n",
       "      <td>프로모션계약</td>\n",
       "      <td>영업방판</td>\n",
       "      <td>2022-06-04</td>\n",
       "      <td>39</td>\n",
       "      <td>CMS</td>\n",
       "      <td>MMC</td>\n",
       "      <td>215700</td>\n",
       "      <td>사업자</td>\n",
       "      <td>58.0</td>\n",
       "      <td>전라도</td>\n",
       "      <td>전라도</td>\n",
       "      <td>계약확정</td>\n",
       "      <td>0</td>\n",
       "      <td>없음</td>\n",
       "      <td>남자</td>\n",
       "      <td>1.0</td>\n",
       "      <td>농협중앙회</td>\n",
       "    </tr>\n",
       "  </tbody>\n",
       "</table>\n",
       "<p>51301 rows × 20 columns</p>\n",
       "</div>"
      ],
      "text/plain": [
       "       Index  Member_ID Sales_Type Contract_Type Channel    Datetime  Term  \\\n",
       "35768  35770   66784964        멤버십        멤버십2유형   전문매장H  2022-02-06    36   \n",
       "43022  43024   66792946        멤버십        멤버십2유형   전문매장H  2023-06-30    36   \n",
       "49993  49995   66796388        멤버십        멤버십2유형   전문매장H  2023-03-25    36   \n",
       "33803  33805   66783630        멤버십        멤버십2유형   전문매장H  2023-07-28    36   \n",
       "45246  45248   66793779        멤버십        멤버십2유형   전문매장H  2022-07-15    36   \n",
       "...      ...        ...        ...           ...     ...         ...   ...   \n",
       "5399    5400   25742182         렌탈        프로모션계약    영업방판  2022-05-17    39   \n",
       "49896  49898   25731710         렌탈        프로모션계약    영업방판  2022-09-29    39   \n",
       "49897  49899   25731710         렌탈        프로모션계약    영업방판  2022-12-05    39   \n",
       "28147  28149   25704137         렌탈        프로모션계약    전단홍보  2022-07-24    39   \n",
       "38497  38499   25734005         렌탈        프로모션계약    영업방판  2022-06-04    39   \n",
       "\n",
       "      Payment_Type Product_Type  Amount_Month Customer_Type   Age Address1  \\\n",
       "35768          무통장        DES-1         54603            개인   NaN      경기도   \n",
       "43022          무통장        DES-1         54603            개인   NaN      전라도   \n",
       "49993          무통장        DES-1         54603            개인   NaN    서울특별시   \n",
       "33803          무통장        DES-1         54603            개인   NaN      경기도   \n",
       "45246          무통장        DES-1         54603            개인   NaN    서울특별시   \n",
       "...            ...          ...           ...           ...   ...      ...   \n",
       "5399           CMS          MMC        215700           사업자   NaN      경기도   \n",
       "49896         가상계좌          MMC        215700           사업자   NaN      경기도   \n",
       "49897         가상계좌          MMC        215700           사업자   NaN      경기도   \n",
       "28147          CMS          MMC        215700           사업자   NaN      경상도   \n",
       "38497          CMS          MMC        215700           사업자  58.0      전라도   \n",
       "\n",
       "      Address2 State  Overdue_count Overdue_Type Gender  Credit_Rank   Bank  \n",
       "35768      경기도  계약확정              0           없음     여자          NaN    NaN  \n",
       "43022    광주광역시  계약확정              0           없음     여자          NaN    NaN  \n",
       "49993    서울특별시  계약확정              0           없음     여자          NaN    NaN  \n",
       "33803    인천광역시  계약확정              0           없음     여자          NaN    NaN  \n",
       "45246    서울특별시  계약확정              0           없음     여자          NaN    NaN  \n",
       "...        ...   ...            ...          ...    ...          ...    ...  \n",
       "5399       경기도  계약확정              1           있음     여자          NaN   신한은행  \n",
       "49896      경기도  계약확정              0           없음     여자          NaN    NaN  \n",
       "49897      경기도  계약확정              0           없음     여자          NaN    NaN  \n",
       "28147      경상도  계약확정              0           없음     여자          NaN   국민은행  \n",
       "38497      전라도  계약확정              0           없음     남자          1.0  농협중앙회  \n",
       "\n",
       "[51301 rows x 20 columns]"
      ]
     },
     "execution_count": 170,
     "metadata": {},
     "output_type": "execute_result"
    }
   ],
   "source": [
    "df1.sort_values(by='Amount_Month') # 디폴트 오름차순"
   ]
  },
  {
   "cell_type": "code",
   "execution_count": 171,
   "id": "64566f23-4f53-401c-907f-044e1518344d",
   "metadata": {},
   "outputs": [
    {
     "data": {
      "text/html": [
       "<div>\n",
       "<style scoped>\n",
       "    .dataframe tbody tr th:only-of-type {\n",
       "        vertical-align: middle;\n",
       "    }\n",
       "\n",
       "    .dataframe tbody tr th {\n",
       "        vertical-align: top;\n",
       "    }\n",
       "\n",
       "    .dataframe thead th {\n",
       "        text-align: right;\n",
       "    }\n",
       "</style>\n",
       "<table border=\"1\" class=\"dataframe\">\n",
       "  <thead>\n",
       "    <tr style=\"text-align: right;\">\n",
       "      <th></th>\n",
       "      <th>Index</th>\n",
       "      <th>Member_ID</th>\n",
       "      <th>Sales_Type</th>\n",
       "      <th>Contract_Type</th>\n",
       "      <th>Channel</th>\n",
       "      <th>Datetime</th>\n",
       "      <th>Term</th>\n",
       "      <th>Payment_Type</th>\n",
       "      <th>Product_Type</th>\n",
       "      <th>Amount_Month</th>\n",
       "      <th>Customer_Type</th>\n",
       "      <th>Age</th>\n",
       "      <th>Address1</th>\n",
       "      <th>Address2</th>\n",
       "      <th>State</th>\n",
       "      <th>Overdue_count</th>\n",
       "      <th>Overdue_Type</th>\n",
       "      <th>Gender</th>\n",
       "      <th>Credit_Rank</th>\n",
       "      <th>Bank</th>\n",
       "    </tr>\n",
       "  </thead>\n",
       "  <tbody>\n",
       "    <tr>\n",
       "      <th>19773</th>\n",
       "      <td>19775</td>\n",
       "      <td>25740247</td>\n",
       "      <td>렌탈</td>\n",
       "      <td>프로모션계약</td>\n",
       "      <td>전단홍보</td>\n",
       "      <td>2022-11-13</td>\n",
       "      <td>39</td>\n",
       "      <td>가상계좌</td>\n",
       "      <td>MMC</td>\n",
       "      <td>215700</td>\n",
       "      <td>사업자</td>\n",
       "      <td>NaN</td>\n",
       "      <td>경상도</td>\n",
       "      <td>경상도</td>\n",
       "      <td>계약확정</td>\n",
       "      <td>0</td>\n",
       "      <td>없음</td>\n",
       "      <td>여자</td>\n",
       "      <td>NaN</td>\n",
       "      <td>NaN</td>\n",
       "    </tr>\n",
       "    <tr>\n",
       "      <th>28147</th>\n",
       "      <td>28149</td>\n",
       "      <td>25704137</td>\n",
       "      <td>렌탈</td>\n",
       "      <td>프로모션계약</td>\n",
       "      <td>전단홍보</td>\n",
       "      <td>2022-07-24</td>\n",
       "      <td>39</td>\n",
       "      <td>CMS</td>\n",
       "      <td>MMC</td>\n",
       "      <td>215700</td>\n",
       "      <td>사업자</td>\n",
       "      <td>NaN</td>\n",
       "      <td>경상도</td>\n",
       "      <td>경상도</td>\n",
       "      <td>계약확정</td>\n",
       "      <td>0</td>\n",
       "      <td>없음</td>\n",
       "      <td>여자</td>\n",
       "      <td>NaN</td>\n",
       "      <td>국민은행</td>\n",
       "    </tr>\n",
       "    <tr>\n",
       "      <th>19413</th>\n",
       "      <td>19415</td>\n",
       "      <td>25710320</td>\n",
       "      <td>렌탈</td>\n",
       "      <td>프로모션계약</td>\n",
       "      <td>영업방판</td>\n",
       "      <td>2023-01-28</td>\n",
       "      <td>39</td>\n",
       "      <td>CMS</td>\n",
       "      <td>MMC</td>\n",
       "      <td>215700</td>\n",
       "      <td>사업자</td>\n",
       "      <td>NaN</td>\n",
       "      <td>경기도</td>\n",
       "      <td>경기도</td>\n",
       "      <td>계약확정</td>\n",
       "      <td>0</td>\n",
       "      <td>없음</td>\n",
       "      <td>여자</td>\n",
       "      <td>NaN</td>\n",
       "      <td>기업은행</td>\n",
       "    </tr>\n",
       "    <tr>\n",
       "      <th>19412</th>\n",
       "      <td>19414</td>\n",
       "      <td>25710321</td>\n",
       "      <td>렌탈</td>\n",
       "      <td>프로모션계약</td>\n",
       "      <td>영업방판</td>\n",
       "      <td>2022-09-14</td>\n",
       "      <td>39</td>\n",
       "      <td>CMS</td>\n",
       "      <td>MMC</td>\n",
       "      <td>215700</td>\n",
       "      <td>사업자</td>\n",
       "      <td>NaN</td>\n",
       "      <td>경기도</td>\n",
       "      <td>경기도</td>\n",
       "      <td>계약확정</td>\n",
       "      <td>0</td>\n",
       "      <td>없음</td>\n",
       "      <td>여자</td>\n",
       "      <td>NaN</td>\n",
       "      <td>기업은행</td>\n",
       "    </tr>\n",
       "    <tr>\n",
       "      <th>37522</th>\n",
       "      <td>37524</td>\n",
       "      <td>25733781</td>\n",
       "      <td>렌탈</td>\n",
       "      <td>프로모션계약</td>\n",
       "      <td>영업방판</td>\n",
       "      <td>2023-07-02</td>\n",
       "      <td>39</td>\n",
       "      <td>CMS</td>\n",
       "      <td>MMC</td>\n",
       "      <td>215700</td>\n",
       "      <td>사업자</td>\n",
       "      <td>NaN</td>\n",
       "      <td>경기도</td>\n",
       "      <td>경기도</td>\n",
       "      <td>계약확정</td>\n",
       "      <td>0</td>\n",
       "      <td>없음</td>\n",
       "      <td>여자</td>\n",
       "      <td>NaN</td>\n",
       "      <td>기업은행</td>\n",
       "    </tr>\n",
       "    <tr>\n",
       "      <th>...</th>\n",
       "      <td>...</td>\n",
       "      <td>...</td>\n",
       "      <td>...</td>\n",
       "      <td>...</td>\n",
       "      <td>...</td>\n",
       "      <td>...</td>\n",
       "      <td>...</td>\n",
       "      <td>...</td>\n",
       "      <td>...</td>\n",
       "      <td>...</td>\n",
       "      <td>...</td>\n",
       "      <td>...</td>\n",
       "      <td>...</td>\n",
       "      <td>...</td>\n",
       "      <td>...</td>\n",
       "      <td>...</td>\n",
       "      <td>...</td>\n",
       "      <td>...</td>\n",
       "      <td>...</td>\n",
       "      <td>...</td>\n",
       "    </tr>\n",
       "    <tr>\n",
       "      <th>45304</th>\n",
       "      <td>45306</td>\n",
       "      <td>66793756</td>\n",
       "      <td>멤버십</td>\n",
       "      <td>멤버십2유형</td>\n",
       "      <td>전문매장H</td>\n",
       "      <td>2022-10-06</td>\n",
       "      <td>36</td>\n",
       "      <td>무통장</td>\n",
       "      <td>DES-1</td>\n",
       "      <td>54603</td>\n",
       "      <td>개인</td>\n",
       "      <td>NaN</td>\n",
       "      <td>충청도</td>\n",
       "      <td>충청도</td>\n",
       "      <td>계약확정</td>\n",
       "      <td>0</td>\n",
       "      <td>없음</td>\n",
       "      <td>여자</td>\n",
       "      <td>NaN</td>\n",
       "      <td>NaN</td>\n",
       "    </tr>\n",
       "    <tr>\n",
       "      <th>50428</th>\n",
       "      <td>50430</td>\n",
       "      <td>66797402</td>\n",
       "      <td>멤버십</td>\n",
       "      <td>멤버십2유형</td>\n",
       "      <td>전문매장H</td>\n",
       "      <td>2022-12-26</td>\n",
       "      <td>36</td>\n",
       "      <td>무통장</td>\n",
       "      <td>DES-1</td>\n",
       "      <td>54603</td>\n",
       "      <td>개인</td>\n",
       "      <td>NaN</td>\n",
       "      <td>경기도</td>\n",
       "      <td>경기도</td>\n",
       "      <td>계약확정</td>\n",
       "      <td>0</td>\n",
       "      <td>없음</td>\n",
       "      <td>여자</td>\n",
       "      <td>NaN</td>\n",
       "      <td>NaN</td>\n",
       "    </tr>\n",
       "    <tr>\n",
       "      <th>45302</th>\n",
       "      <td>45304</td>\n",
       "      <td>66793342</td>\n",
       "      <td>멤버십</td>\n",
       "      <td>멤버십2유형</td>\n",
       "      <td>전문매장H</td>\n",
       "      <td>2022-04-02</td>\n",
       "      <td>36</td>\n",
       "      <td>무통장</td>\n",
       "      <td>DES-1</td>\n",
       "      <td>54603</td>\n",
       "      <td>개인</td>\n",
       "      <td>NaN</td>\n",
       "      <td>강원도</td>\n",
       "      <td>강원도</td>\n",
       "      <td>계약확정</td>\n",
       "      <td>0</td>\n",
       "      <td>없음</td>\n",
       "      <td>여자</td>\n",
       "      <td>NaN</td>\n",
       "      <td>NaN</td>\n",
       "    </tr>\n",
       "    <tr>\n",
       "      <th>41153</th>\n",
       "      <td>41155</td>\n",
       "      <td>66790864</td>\n",
       "      <td>멤버십</td>\n",
       "      <td>멤버십2유형</td>\n",
       "      <td>전문매장H</td>\n",
       "      <td>2022-02-15</td>\n",
       "      <td>36</td>\n",
       "      <td>무통장</td>\n",
       "      <td>DES-1</td>\n",
       "      <td>54603</td>\n",
       "      <td>개인</td>\n",
       "      <td>NaN</td>\n",
       "      <td>경기도</td>\n",
       "      <td>경기도</td>\n",
       "      <td>계약확정</td>\n",
       "      <td>0</td>\n",
       "      <td>없음</td>\n",
       "      <td>여자</td>\n",
       "      <td>NaN</td>\n",
       "      <td>NaN</td>\n",
       "    </tr>\n",
       "    <tr>\n",
       "      <th>39373</th>\n",
       "      <td>39375</td>\n",
       "      <td>66788207</td>\n",
       "      <td>멤버십</td>\n",
       "      <td>멤버십2유형</td>\n",
       "      <td>전문매장H</td>\n",
       "      <td>2023-05-11</td>\n",
       "      <td>36</td>\n",
       "      <td>무통장</td>\n",
       "      <td>DES-1</td>\n",
       "      <td>54603</td>\n",
       "      <td>개인</td>\n",
       "      <td>NaN</td>\n",
       "      <td>제주도</td>\n",
       "      <td>제주도</td>\n",
       "      <td>계약확정</td>\n",
       "      <td>0</td>\n",
       "      <td>없음</td>\n",
       "      <td>여자</td>\n",
       "      <td>NaN</td>\n",
       "      <td>NaN</td>\n",
       "    </tr>\n",
       "  </tbody>\n",
       "</table>\n",
       "<p>51301 rows × 20 columns</p>\n",
       "</div>"
      ],
      "text/plain": [
       "       Index  Member_ID Sales_Type Contract_Type Channel    Datetime  Term  \\\n",
       "19773  19775   25740247         렌탈        프로모션계약    전단홍보  2022-11-13    39   \n",
       "28147  28149   25704137         렌탈        프로모션계약    전단홍보  2022-07-24    39   \n",
       "19413  19415   25710320         렌탈        프로모션계약    영업방판  2023-01-28    39   \n",
       "19412  19414   25710321         렌탈        프로모션계약    영업방판  2022-09-14    39   \n",
       "37522  37524   25733781         렌탈        프로모션계약    영업방판  2023-07-02    39   \n",
       "...      ...        ...        ...           ...     ...         ...   ...   \n",
       "45304  45306   66793756        멤버십        멤버십2유형   전문매장H  2022-10-06    36   \n",
       "50428  50430   66797402        멤버십        멤버십2유형   전문매장H  2022-12-26    36   \n",
       "45302  45304   66793342        멤버십        멤버십2유형   전문매장H  2022-04-02    36   \n",
       "41153  41155   66790864        멤버십        멤버십2유형   전문매장H  2022-02-15    36   \n",
       "39373  39375   66788207        멤버십        멤버십2유형   전문매장H  2023-05-11    36   \n",
       "\n",
       "      Payment_Type Product_Type  Amount_Month Customer_Type  Age Address1  \\\n",
       "19773         가상계좌          MMC        215700           사업자  NaN      경상도   \n",
       "28147          CMS          MMC        215700           사업자  NaN      경상도   \n",
       "19413          CMS          MMC        215700           사업자  NaN      경기도   \n",
       "19412          CMS          MMC        215700           사업자  NaN      경기도   \n",
       "37522          CMS          MMC        215700           사업자  NaN      경기도   \n",
       "...            ...          ...           ...           ...  ...      ...   \n",
       "45304          무통장        DES-1         54603            개인  NaN      충청도   \n",
       "50428          무통장        DES-1         54603            개인  NaN      경기도   \n",
       "45302          무통장        DES-1         54603            개인  NaN      강원도   \n",
       "41153          무통장        DES-1         54603            개인  NaN      경기도   \n",
       "39373          무통장        DES-1         54603            개인  NaN      제주도   \n",
       "\n",
       "      Address2 State  Overdue_count Overdue_Type Gender  Credit_Rank  Bank  \n",
       "19773      경상도  계약확정              0           없음     여자          NaN   NaN  \n",
       "28147      경상도  계약확정              0           없음     여자          NaN  국민은행  \n",
       "19413      경기도  계약확정              0           없음     여자          NaN  기업은행  \n",
       "19412      경기도  계약확정              0           없음     여자          NaN  기업은행  \n",
       "37522      경기도  계약확정              0           없음     여자          NaN  기업은행  \n",
       "...        ...   ...            ...          ...    ...          ...   ...  \n",
       "45304      충청도  계약확정              0           없음     여자          NaN   NaN  \n",
       "50428      경기도  계약확정              0           없음     여자          NaN   NaN  \n",
       "45302      강원도  계약확정              0           없음     여자          NaN   NaN  \n",
       "41153      경기도  계약확정              0           없음     여자          NaN   NaN  \n",
       "39373      제주도  계약확정              0           없음     여자          NaN   NaN  \n",
       "\n",
       "[51301 rows x 20 columns]"
      ]
     },
     "execution_count": 171,
     "metadata": {},
     "output_type": "execute_result"
    }
   ],
   "source": [
    "# 내림차순 옵션 ascending = False\n",
    "df1.sort_values(by = 'Amount_Month',ascending=False)"
   ]
  },
  {
   "cell_type": "code",
   "execution_count": 173,
   "id": "6734b785-e01b-474b-b53a-91a2a65e2f38",
   "metadata": {},
   "outputs": [],
   "source": [
    "# 여러항목을 기준으로 정렬 \n",
    "# 월 구매금액 높으면서 연체를 적게 한 사람들 부터 보고자 함\n",
    "# amount_month, overdue_count 항목 참조\n",
    "df2 = df1.sort_values(by=['Amount_Month','Overdue_count'],\n",
    "               ascending=[False,1])"
   ]
  },
  {
   "cell_type": "code",
   "execution_count": 174,
   "id": "fee803d8-d2af-4529-bfdb-b14dadc6ebf7",
   "metadata": {},
   "outputs": [
    {
     "data": {
      "text/html": [
       "<div>\n",
       "<style scoped>\n",
       "    .dataframe tbody tr th:only-of-type {\n",
       "        vertical-align: middle;\n",
       "    }\n",
       "\n",
       "    .dataframe tbody tr th {\n",
       "        vertical-align: top;\n",
       "    }\n",
       "\n",
       "    .dataframe thead th {\n",
       "        text-align: right;\n",
       "    }\n",
       "</style>\n",
       "<table border=\"1\" class=\"dataframe\">\n",
       "  <thead>\n",
       "    <tr style=\"text-align: right;\">\n",
       "      <th></th>\n",
       "      <th>Amount_Month</th>\n",
       "      <th>Overdue_count</th>\n",
       "    </tr>\n",
       "  </thead>\n",
       "  <tbody>\n",
       "    <tr>\n",
       "      <th>19412</th>\n",
       "      <td>215700</td>\n",
       "      <td>0</td>\n",
       "    </tr>\n",
       "    <tr>\n",
       "      <th>19413</th>\n",
       "      <td>215700</td>\n",
       "      <td>0</td>\n",
       "    </tr>\n",
       "    <tr>\n",
       "      <th>19773</th>\n",
       "      <td>215700</td>\n",
       "      <td>0</td>\n",
       "    </tr>\n",
       "    <tr>\n",
       "      <th>19774</th>\n",
       "      <td>215700</td>\n",
       "      <td>0</td>\n",
       "    </tr>\n",
       "    <tr>\n",
       "      <th>28147</th>\n",
       "      <td>215700</td>\n",
       "      <td>0</td>\n",
       "    </tr>\n",
       "    <tr>\n",
       "      <th>...</th>\n",
       "      <td>...</td>\n",
       "      <td>...</td>\n",
       "    </tr>\n",
       "    <tr>\n",
       "      <th>51277</th>\n",
       "      <td>54603</td>\n",
       "      <td>0</td>\n",
       "    </tr>\n",
       "    <tr>\n",
       "      <th>51280</th>\n",
       "      <td>54603</td>\n",
       "      <td>0</td>\n",
       "    </tr>\n",
       "    <tr>\n",
       "      <th>51284</th>\n",
       "      <td>54603</td>\n",
       "      <td>0</td>\n",
       "    </tr>\n",
       "    <tr>\n",
       "      <th>51290</th>\n",
       "      <td>54603</td>\n",
       "      <td>0</td>\n",
       "    </tr>\n",
       "    <tr>\n",
       "      <th>42145</th>\n",
       "      <td>54603</td>\n",
       "      <td>1</td>\n",
       "    </tr>\n",
       "  </tbody>\n",
       "</table>\n",
       "<p>51301 rows × 2 columns</p>\n",
       "</div>"
      ],
      "text/plain": [
       "       Amount_Month  Overdue_count\n",
       "19412        215700              0\n",
       "19413        215700              0\n",
       "19773        215700              0\n",
       "19774        215700              0\n",
       "28147        215700              0\n",
       "...             ...            ...\n",
       "51277         54603              0\n",
       "51280         54603              0\n",
       "51284         54603              0\n",
       "51290         54603              0\n",
       "42145         54603              1\n",
       "\n",
       "[51301 rows x 2 columns]"
      ]
     },
     "execution_count": 174,
     "metadata": {},
     "output_type": "execute_result"
    }
   ],
   "source": [
    "df2[['Amount_Month','Overdue_count']]"
   ]
  },
  {
   "cell_type": "code",
   "execution_count": null,
   "id": "b8f3e7b2-bc22-4f17-9ec7-e94e781bfa8e",
   "metadata": {},
   "outputs": [],
   "source": []
  }
 ],
 "metadata": {
  "kernelspec": {
   "display_name": "Python 3 (ipykernel)",
   "language": "python",
   "name": "python3"
  },
  "language_info": {
   "codemirror_mode": {
    "name": "ipython",
    "version": 3
   },
   "file_extension": ".py",
   "mimetype": "text/x-python",
   "name": "python",
   "nbconvert_exporter": "python",
   "pygments_lexer": "ipython3",
   "version": "3.11.7"
  }
 },
 "nbformat": 4,
 "nbformat_minor": 5
}
